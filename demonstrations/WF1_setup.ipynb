{
 "metadata": {
  "language_info": {
   "codemirror_mode": {
    "name": "ipython",
    "version": 3
   },
   "file_extension": ".py",
   "mimetype": "text/x-python",
   "name": "python",
   "nbconvert_exporter": "python",
   "pygments_lexer": "ipython3",
   "version": "3.6.8"
  },
  "orig_nbformat": 2,
  "kernelspec": {
   "name": "python368jvsc74a57bd0102007e42dea7c281cbcddb9689e3156c625dffd0874bd635a4a6e9aca6dbbc8",
   "display_name": "Python 3.6.8 64-bit ('escalate': conda)"
  }
 },
 "nbformat": 4,
 "nbformat_minor": 2,
 "cells": [
  {
   "cell_type": "code",
   "execution_count": 1,
   "metadata": {},
   "outputs": [],
   "source": [
    "import json\n",
    "from pprint import pprint\n",
    "import requests  # requests library will send and receive data from the escalate server\n",
    "from requests.api import post\n",
    "import pandas as pd"
   ]
  },
  {
   "cell_type": "code",
   "execution_count": 2,
   "metadata": {},
   "outputs": [],
   "source": [
    "base_url = 'http://localhost:8000/api'  # local dev server\n",
    "login_data = {\n",
    "    'username': 'mtynes',\n",
    "    'password': 'hello1world2'\n",
    "}\n",
    "\n",
    "r_login = requests.post(f'{base_url}/login', data=login_data)\n",
    "token = r_login.json()['token']\n",
    "token_header = {'Authorization': f'Token {token}'}\n",
    "content_type_header = {'content-type': 'application/json'} # for most "
   ]
  },
  {
   "cell_type": "code",
   "execution_count": 3,
   "metadata": {},
   "outputs": [],
   "source": [
    "def patch_data(endpoint, data={}, headers={**token_header, **content_type_header}):\n",
    "    \"\"\"PATCH `data` to `endpoint`in ESCALATE API using `headers`\n",
    "    \n",
    "    return: (dict|requests.Response), bool\n",
    "    \"\"\"\n",
    "    r = requests.patch(f'{base_url}/{endpoint}/', \n",
    "                      data=json.dumps(data), \n",
    "                      headers=headers)\n",
    "    print(r)\n",
    "    if r.ok: \n",
    "        #print('POST: OK, returning new resource dict')\n",
    "        return r.json()\n",
    "    #print('POST: FAILED, returning response object')\n",
    "    return r\n",
    "\n",
    "def put_data(endpoint, data={}, headers={**token_header, **content_type_header}):\n",
    "    \"\"\"PATCH `data` to `endpoint`in ESCALATE API using `headers`\n",
    "    \n",
    "    return: (dict|requests.Response), bool\n",
    "    \"\"\"\n",
    "    r = requests.put(f'{base_url}/{endpoint}/', \n",
    "                      data=json.dumps(data), \n",
    "                      headers=headers)\n",
    "    print(r)\n",
    "    if r.ok: \n",
    "        #print('POST: OK, returning new resource dict')\n",
    "        return r.json()\n",
    "    #print('POST: FAILED, returning response object')\n",
    "    return r\n",
    "\n",
    "\n",
    "def post_data(endpoint, data={}, headers={**token_header, **content_type_header}):\n",
    "    \"\"\"POST `data` to `endpoint`in ESCALATE API using `headers`\n",
    "    \n",
    "    return: (dict|requests.Response), bool\n",
    "    \"\"\"\n",
    "    r = requests.post(f'{base_url}/{endpoint}/', \n",
    "                      data=json.dumps(data), \n",
    "                      headers=headers)\n",
    "    #print(r)\n",
    "    if r.ok: \n",
    "        #print('POST: OK, returning new resource dict')\n",
    "        return r.json()\n",
    "    else:\n",
    "        print(f'POST: FAILED, returning response object {r.reason}')\n",
    "        print(r.json())\n",
    "\n",
    "    return r\n",
    "\n",
    "\n",
    "def get_data(endpoint, data={}, headers={**token_header}):\n",
    "    \"\"\"Make GET request with `data` to `endpoint` in ESCALATE API using `headers`\n",
    "    \n",
    "    return: (dict|list|requests.Response), bool\n",
    "    \"\"\"\n",
    "    r = requests.get(f'{base_url}/{endpoint}/', params=data, headers=headers)\n",
    "    print(r)\n",
    "    if r.ok: \n",
    "        print('GET: OK')\n",
    "        \n",
    "        resp_json = r.json()        \n",
    "        \n",
    "        # handle cases: one vs many results\n",
    "        if resp_json.get('count') is None: # edge case: template edit\n",
    "            return r.json()\n",
    "        elif resp_json.get('count') >= 1: \n",
    "            print(f\"Found {resp_json['count']} resources, returning list of dicts)\")\n",
    "            return r.json()['results']\n",
    "        else:\n",
    "            print('GET: FAILED, returning response object')\n",
    "    return r"
   ]
  },
  {
   "cell_type": "code",
   "execution_count": 4,
   "metadata": {},
   "outputs": [
    {
     "output_type": "stream",
     "name": "stdout",
     "text": [
      "<Response [200]>\nGET: OK\nFound 1 resources, returning list of dicts)\n<Response [200]>\nGET: OK\nFound 1 resources, returning list of dicts)\n"
     ]
    }
   ],
   "source": [
    "val_type = {'num': get_data('type-def', {'category':'data', 'description': 'num'})[0],\n",
    "    'text': get_data('type-def', {'category':'data','description': 'text'})[0],\n",
    "            }"
   ]
  },
  {
   "cell_type": "code",
   "execution_count": 5,
   "metadata": {},
   "outputs": [],
   "source": [
    "prop_def_cols = ['description', 'short_description', 'val_type', 'val_unit', 'property_def_class']\n",
    "\n",
    "prop_def_data = [\n",
    "('plate well location', 'well_loc', val_type['text']['url'], None, 'intrinsic'), \n",
    "('plate well volume', 'well_vol', val_type['text']['url'], None, 'intrinsic'), \n",
    "('plate well ord', 'well_ord', val_type['num']['url'], None, 'intrinsic'),('molecular-weight', 'mw', val_type['text']['url'], 'g/mol', 'intrinsic'),\n",
    "('concentration_molarity', 'cm', val_type['num']['url'], 'M', 'extrinsic'),\n",
    "]\n",
    "property_defs= {}\n",
    "\n",
    "for values in prop_def_data:\n",
    "    data = dict(zip(prop_def_cols, values))\n",
    "    property_defs[data['short_description']] = post_data('property-def', data=data)\n"
   ]
  },
  {
   "cell_type": "code",
   "execution_count": 6,
   "metadata": {},
   "outputs": [],
   "source": [
    "well_plate_96 = post_data('material', {'description': 'Plate: 96 Well', 'material_class': 'template', 'consumable': False})\n"
   ]
  },
  {
   "cell_type": "code",
   "execution_count": 7,
   "metadata": {},
   "outputs": [
    {
     "output_type": "execute_result",
     "data": {
      "text/plain": [
       "{'url': 'http://localhost:8000/api/material/e345e274-9f09-4e35-874c-6d8cfa3a5aa8/',\n",
       " 'uuid': 'e345e274-9f09-4e35-874c-6d8cfa3a5aa8',\n",
       " 'edocs': [],\n",
       " 'tags': [],\n",
       " 'notes': [],\n",
       " 'property': [],\n",
       " 'add_date': '2021-06-07T23:23:38.814772Z',\n",
       " 'mod_date': '2021-06-07T23:23:38.814805Z',\n",
       " 'description': 'Plate: 96 Well',\n",
       " 'consumable': False,\n",
       " 'material_class': 'template',\n",
       " 'status': None,\n",
       " 'actor': None,\n",
       " 'identifier': [],\n",
       " 'material_type': []}"
      ]
     },
     "metadata": {},
     "execution_count": 7
    }
   ],
   "source": [
    "well_plate_96"
   ]
  },
  {
   "cell_type": "code",
   "execution_count": 8,
   "metadata": {
    "tags": []
   },
   "outputs": [],
   "source": [
    "# Create 96 well plate\n",
    "import itertools\n",
    "well_letters = list('ABCDEFGH')\n",
    "well_numbers = [1, 2, 3, 4, 5, 6, 7, 8 , 9, 10, 11, 12]\n",
    "wells = list(itertools.product(well_letters, well_numbers))\n",
    "wells = [f'{w[0]}{w[1]}' for w in wells]\n",
    "well_rest_data = {}\n",
    "for ord, well in enumerate(wells):\n",
    "    well_rest_data[well] = post_data('material', {'description': f'96 Well Plate well#: {well}', 'material_class': 'template', 'consumable': False})\n",
    "    post_data('composite-material', {'composite': well_plate_96['url'], 'component': well_rest_data[well]['url'], 'addressable': True})\n",
    "    post_data(f'material/{well_rest_data[well][\"uuid\"]}/property', {\n",
    "            \"property_val\": {\n",
    "                \"value\": str(ord),\n",
    "                \"type\": \"text\",\n",
    "                \"unit\": \"\"\n",
    "            },\n",
    "            \"property_def\": property_defs['well_ord']['url'],\n",
    "            \"property_class\": \"nominal\"\n",
    "        })\n",
    "    post_data(f'material/{well_rest_data[well][\"uuid\"]}/property', {\n",
    "            \"property_val\": {\n",
    "                \"value\": well,\n",
    "                \"type\": \"text\",\n",
    "                \"unit\": \"\"\n",
    "            },\n",
    "            \"property_def\": property_defs['well_loc']['url'],\n",
    "            \"property_class\": \"nominal\"\n",
    "        })\n",
    "    post_data(f'material/{well_rest_data[well][\"uuid\"]}/property', {\n",
    "            \"property_val\": {\n",
    "                \"value\": [0.5, 10],\n",
    "                \"type\": \"array_num\",\n",
    "                \"unit\": \"mL\"\n",
    "            },\n",
    "            \"property_def\": property_defs['well_vol']['url'],\n",
    "            \"property_class\": \"nominal\"\n",
    "        })"
   ]
  },
  {
   "cell_type": "code",
   "execution_count": 9,
   "metadata": {},
   "outputs": [],
   "source": [
    "# Material types\n",
    "material_types_rest_data = {}\n",
    "types = ['stock solution', 'human prepared', 'solute', 'solvent']\n",
    "for type in types:\n",
    "    material_types_rest_data[type] = post_data('material-type', data={'description': type})"
   ]
  },
  {
   "cell_type": "code",
   "execution_count": 10,
   "metadata": {},
   "outputs": [],
   "source": [
    "# Materials\n",
    "hc_inventory = post_data('inventory', {'description': 'HC Test Inventory'})\n",
    "material_cols = ['description', 'consumable', 'material_class', 'material_type']\n",
    "material_data = [('Water', False, 'template', []),\n",
    "                ('Gamma-Butyrolactone', False, 'template', []),\n",
    "                ('Formic Acid', False, 'template', []),\n",
    "                ('Lead Diiodide', False, 'template', []),\n",
    "                ('Ethylammonium Iodide', False, 'template', []),\n",
    "                ('Stock A', True, 'model', [material_types_rest_data['stock solution']['url'], material_types_rest_data['human prepared']['url']]),\n",
    "                ('Stock B', True, 'model', [material_types_rest_data['stock solution']['url'], material_types_rest_data['human prepared']['url']]),\n",
    "                ('Stock FAH', True, 'model'),]\n",
    "material_rest_data = {}\n",
    "\n",
    "for mat_data in material_data:\n",
    "    data = dict(zip(material_cols, mat_data))\n",
    "    material_rest_data[data['description']] = post_data('material', data=data)\n",
    "\n"
   ]
  },
  {
   "cell_type": "code",
   "execution_count": 11,
   "metadata": {},
   "outputs": [],
   "source": [
    "# Composite Material\n",
    "material_composite_columns = ['composite', 'component', 'addressable', 'material_type']\n",
    "solvent = material_types_rest_data['solvent']['url']\n",
    "solute = material_types_rest_data['solute']['url']\n",
    "\n",
    "\n",
    "material_composite_data = [\n",
    "    ('Stock A', 'Lead Diiodide', False, [solute]), \n",
    "    ('Stock A', 'Ethylammonium Iodide', False, [solute]), \n",
    "    ('Stock A', 'Gamma-Butyrolactone', False, [solvent]), \n",
    "    ('Stock B', 'Ethylammonium Iodide', False, [solute]), \n",
    "    ('Stock B', 'Gamma-Butyrolactone', False, [solvent]),\n",
    "    ('Stock FAH', 'Formic Acid', False, []),\n",
    "    ('Stock FAH', 'Water', False, [])]\n",
    "\n",
    "\n",
    "material_composite_rest_data = {}\n",
    "\n",
    "for mat_data in material_composite_data:\n",
    "    composite_name, component_name, addressable, material_type = mat_data \n",
    "    composite_url = material_rest_data[composite_name]['url']\n",
    "    component_url = material_rest_data[component_name]['url']\n",
    "    data = dict(zip(material_composite_columns, (composite_url, component_url, True, material_type)))\n",
    "    material_composite_rest_data[(composite_name, component_name)] = post_data('composite-material', data=data)"
   ]
  },
  {
   "cell_type": "code",
   "execution_count": 12,
   "metadata": {},
   "outputs": [],
   "source": [
    "# Adding properties to materials\n",
    "material_prop_data = [(('Stock A', 'Lead Diiodide'), 1.1),\n",
    "    (('Stock A', 'Ethylammonium Iodide'), 2.2),\n",
    "    (('Stock B', 'Ethylammonium Iodide'), 3.99),\n",
    "    (('Stock FAH', 'Formic Acid'), 23.6),]\n",
    "\n",
    "for composite_key, value in material_prop_data:\n",
    "    uuid = material_composite_rest_data[composite_key]['uuid']\n",
    "    post_data(f'composite-material/{uuid}/property', {\n",
    "                \"property_val\": {\n",
    "                    \"value\": value,\n",
    "                    \"type\": \"num\",\n",
    "                    \"unit\": \"M\"\n",
    "                },\n",
    "                \"property_def\": property_defs['cm']['url'],\n",
    "                \"property_class\": \"nominal\"\n",
    "            })\n"
   ]
  },
  {
   "cell_type": "code",
   "execution_count": 13,
   "metadata": {},
   "outputs": [],
   "source": [
    "# Adding materials to inventory\n",
    "inventory_mat_cols = [\"description\", \"inventory\", \"material\"]\n",
    "inventorty_mat_data = [('Wf1 Plate', hc_inventory['url'], well_plate_96['url']),\n",
    "('Stock A', hc_inventory['url'], material_rest_data['Stock A']['url']), \n",
    "('Stock B', hc_inventory['url'], material_rest_data['Stock B']['url']), \n",
    "('Stock FAH', hc_inventory['url'], material_rest_data['Stock FAH']['url']), \n",
    "('Neat GBL', hc_inventory['url'], material_rest_data['Gamma-Butyrolactone']['url'])]\n",
    "\n",
    "inventory_material_rest_data = {}\n",
    "\n",
    "for im_data in inventorty_mat_data:\n",
    "    data = dict(zip(inventory_mat_cols, im_data))\n",
    "    inventory_material_rest_data[data['description']] = post_data('inventory-material', data=data)\n"
   ]
  },
  {
   "cell_type": "code",
   "execution_count": 14,
   "metadata": {},
   "outputs": [],
   "source": [
    "# Create experiment template\n",
    "wf1_experiment = post_data('experiment-template', {\n",
    "    \"ref_uid\": \"test_wf_1\",\n",
    "    \"description\": \"test_wf_1\",\n",
    "})"
   ]
  },
  {
   "cell_type": "code",
   "execution_count": 15,
   "metadata": {},
   "outputs": [],
   "source": [
    "# Add bill of materials\n",
    "bom = post_data('bill-of-materials', data={'experiment': wf1_experiment[\"url\"], 'description': 'Test WF1 Materials'})\n"
   ]
  },
  {
   "cell_type": "code",
   "execution_count": 16,
   "metadata": {},
   "outputs": [],
   "source": [
    "# Add materials to bom\n",
    "bom_materials_cols = ['description', 'inventory_material']\n",
    "bom_materials_data = [('Acid', inventory_material_rest_data['Stock FAH']['url']),\n",
    "('Solvent', inventory_material_rest_data['Neat GBL']['url']),\n",
    "('Stock A', inventory_material_rest_data['Stock A']['url']),\n",
    "('Stock B', inventory_material_rest_data['Stock B']['url']),\n",
    "('Plate', inventory_material_rest_data['Wf1 Plate']['url']),]\n",
    "\n",
    "bom_materials_rest_data = {}\n",
    "\n",
    "for bom_mat in bom_materials_data:\n",
    "    data = dict(zip(bom_materials_cols, bom_mat))\n",
    "    data['bom'] = bom['url']\n",
    "    bom_materials_rest_data[data['description']] = post_data('bom-material', data=data)"
   ]
  },
  {
   "cell_type": "code",
   "execution_count": 17,
   "metadata": {},
   "outputs": [
    {
     "output_type": "stream",
     "name": "stdout",
     "text": [
      "{'description': 'template'}\n"
     ]
    }
   ],
   "source": [
    "# Adding workflow types\n",
    "workflow_types_cols = ['description']\n",
    "workflow_types_data = [['template']]\n",
    "\n",
    "workflow_types_rest_data = {}\n",
    "\n",
    "for wf_type in workflow_types_data:\n",
    "    data = dict(zip(workflow_types_cols, wf_type))\n",
    "    print(data)\n",
    "    workflow_types_rest_data[data['description']] = post_data('workflow-type', data)\n"
   ]
  },
  {
   "cell_type": "code",
   "execution_count": 18,
   "metadata": {},
   "outputs": [],
   "source": [
    "# Adding to workflow\n",
    "workflow_cols = ['workflow_type', 'description']\n",
    "template = workflow_types_rest_data['template']['url']\n",
    "workflow_data = [(template, 'Preheat Plate'),\n",
    "(template, 'Dispense Solvent'),\n",
    "(template, 'Dispense Stock A'),\n",
    "(template, 'Dispense Stock B'),\n",
    "(template, 'Dispense Acid Vol 1'),\n",
    "(template, 'Heat Stir 1'),\n",
    "(template, 'Dispense Acid Vol 2'),\n",
    "(template, 'Heat Stir 2'),\n",
    "(template, 'Heat'),]\n",
    "\n",
    "workflow_rest_data = {}\n",
    "\n",
    "for wf_data in workflow_data:\n",
    "    data = dict(zip(workflow_cols, wf_data))\n",
    "    #print(data)\n",
    "    workflow_rest_data[data['description']] = post_data('workflow', data)"
   ]
  },
  {
   "cell_type": "code",
   "execution_count": 19,
   "metadata": {},
   "outputs": [],
   "source": [
    "# Adding to experiment workflow\n",
    "\n",
    "exp_wf_cols = [\"experiment_workflow_seq\", \"experiment\", \"workflow\"]\n",
    "exp_wf_data = [\n",
    "    (1, wf1_experiment['url'], workflow_rest_data['Dispense Solvent'][\"url\"]),\n",
    "    (2, wf1_experiment['url'], workflow_rest_data['Dispense Stock A'][\"url\"]),\n",
    "    (3, wf1_experiment['url'], workflow_rest_data['Dispense Stock B'][\"url\"]),\n",
    "    (4, wf1_experiment['url'], workflow_rest_data['Dispense Acid Vol 1'][\"url\"]),\n",
    "    (5, wf1_experiment['url'], workflow_rest_data['Dispense Acid Vol 2'][\"url\"]),\n",
    "]\n",
    "\n",
    "for exp_wf in exp_wf_data:\n",
    "    data = dict(zip(exp_wf_cols, exp_wf))\n",
    "    post_data('experiment-workflow', data=data)"
   ]
  },
  {
   "cell_type": "code",
   "execution_count": 20,
   "metadata": {},
   "outputs": [],
   "source": [
    "param_def_cols = ['description', 'default_val', 'required', 'unit_type']\n",
    "param_def_data = [\n",
    "    ('volume', {'value':0, 'type':'num', 'unit':'mL'}, True, 'mL'),\n",
    "    ('heat', {'value':0, 'type':'num', 'unit':'degC'}, True, 'degC')]\n",
    "param_def_rest_data = {}\n",
    "for param_def in param_def_data:\n",
    "    data = dict(zip(param_def_cols, param_def))\n",
    "    param_def_rest_data[data['description']] = post_data('parameter-def', data)"
   ]
  },
  {
   "cell_type": "code",
   "execution_count": 21,
   "metadata": {},
   "outputs": [
    {
     "output_type": "stream",
     "name": "stdout",
     "text": [
      "{'description': 'dispense', 'parameter_def': ['http://localhost:8000/api/parameter-def/59099637-8a18-45dd-898d-59b16f04ee83/']}\n{'description': 'heat', 'parameter_def': ['http://localhost:8000/api/parameter-def/ce3ef44c-89b4-44af-b5b7-5de374ca9c83/']}\n{'description': 'heat_stir', 'parameter_def': ['http://localhost:8000/api/parameter-def/ce3ef44c-89b4-44af-b5b7-5de374ca9c83/']}\n"
     ]
    }
   ],
   "source": [
    "action_def_cols = ['description', 'parameter_def']\n",
    "action_def_data = [('dispense',[param_def_rest_data['volume']['url']] ), ('heat', [param_def_rest_data['heat']['url']]), ('heat_stir', [param_def_rest_data['heat']['url']])]\n",
    "action_def_rest_data = {}\n",
    "for action_def in action_def_data:\n",
    "    data = dict(zip(action_def_cols, action_def))\n",
    "    print(data)\n",
    "    action_def_rest_data[data['description']] = post_data('action-def', data)"
   ]
  },
  {
   "cell_type": "code",
   "execution_count": 22,
   "metadata": {},
   "outputs": [],
   "source": [
    "# Adding workflow action sets\n",
    "action_set_cols = [\"description\", \"workflow\", \"action_def\",   ]\n",
    "action_set_data = [\n",
    "    ('Dispense Solvent', workflow_rest_data['Dispense Solvent']['url'], action_def_rest_data['dispense']['url']),\n",
    "    ('Dispense Stock A', workflow_rest_data['Dispense Stock A']['url'], action_def_rest_data['dispense']['url']),\n",
    "    ('Dispense Stock B', workflow_rest_data['Dispense Stock B']['url'], action_def_rest_data['dispense']['url']),\n",
    "    ('Dispense Acid Vol 1', workflow_rest_data['Dispense Solvent']['url'], action_def_rest_data['dispense']['url']),\n",
    "    ('Dispense Acid Vol 2', workflow_rest_data['Dispense Solvent']['url'], action_def_rest_data['dispense']['url']),]\n",
    "\n",
    "action_set_rest_data = {}\n",
    "for action_set in action_set_data:\n",
    "    data = dict(zip(action_set_cols, action_set))\n",
    "    action_set_rest_data[data['description']] = post_data('action', data)"
   ]
  },
  {
   "cell_type": "code",
   "execution_count": 35,
   "metadata": {},
   "outputs": [
    {
     "output_type": "execute_result",
     "data": {
      "text/plain": [
       "{'start_date': ['This field is required.'],\n",
       " 'end_date': ['This field is required.']}"
      ]
     },
     "metadata": {},
     "execution_count": 35
    }
   ],
   "source": []
  },
  {
   "cell_type": "code",
   "execution_count": null,
   "metadata": {},
   "outputs": [],
   "source": []
  }
 ]
}