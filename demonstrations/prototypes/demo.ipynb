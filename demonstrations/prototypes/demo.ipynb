{
 "cells": [
  {
   "cell_type": "code",
   "execution_count": 1,
   "id": "94915ef1-acb7-4991-8f16-7ae080dcb6be",
   "metadata": {},
   "outputs": [],
   "source": [
    "%load_ext autoreload\n",
    "%autoreload 2"
   ]
  },
  {
   "cell_type": "code",
   "execution_count": 2,
   "id": "2b34520f-5016-4915-96c6-a10d17df9aec",
   "metadata": {},
   "outputs": [],
   "source": [
    "from demo_classes import workspace, Vessel"
   ]
  },
  {
   "cell_type": "markdown",
   "id": "5fd66b42-9afb-4eac-be72-dbcd45fe4bca",
   "metadata": {},
   "source": [
    "The workspace contains vessels. There is one workspace per experiment. "
   ]
  },
  {
   "cell_type": "code",
   "execution_count": 3,
   "id": "ce09d107-7e0d-4c56-a614-08225dc7536e",
   "metadata": {},
   "outputs": [
    {
     "data": {
      "text/plain": [
       "Workspace object containing vessels []"
      ]
     },
     "execution_count": 3,
     "metadata": {},
     "output_type": "execute_result"
    }
   ],
   "source": [
    "workspace"
   ]
  },
  {
   "cell_type": "markdown",
   "id": "2e132848-a320-4ede-b509-faa0858015ab",
   "metadata": {},
   "source": [
    "Lets start by creating some vessels to go in the workspace"
   ]
  },
  {
   "cell_type": "code",
   "execution_count": 4,
   "id": "38e69d7e-0f7e-497f-a9a5-2335274c8482",
   "metadata": {},
   "outputs": [],
   "source": [
    "GBL_vessel = Vessel(name=\"GBL_Vessel\")\n",
    "EthNH3I_vessel = Vessel(name=\"EthNH3I_Vessel\")\n",
    "PbI2_vessel = Vessel(name=\"PbI2_Vessel\")"
   ]
  },
  {
   "cell_type": "code",
   "execution_count": 5,
   "id": "b654c1b0-2ab5-4cbb-8c5e-dbd9c900bca5",
   "metadata": {},
   "outputs": [],
   "source": [
    "for v in GBL_vessel, EthNH3I_vessel, PbI2_vessel:\n",
    "    workspace.add(v)"
   ]
  },
  {
   "cell_type": "markdown",
   "id": "d586c511-cdad-427b-aee2-ecfdc7b2c068",
   "metadata": {},
   "source": [
    "Whats the state of our workspace now? \n",
    "\n",
    "This is just the contents of the vessels and their temperatures right now\n",
    "\n",
    "In an escalate experiment, this will take on different values after each action. "
   ]
  },
  {
   "cell_type": "code",
   "execution_count": 6,
   "id": "5b6c5bd9-bf8e-409f-abe5-4718f7a4efd1",
   "metadata": {},
   "outputs": [
    {
     "data": {
      "text/plain": [
       "{'GBL_Vessel': {'solvents': {}, 'solutes': {}, 'temp': None},\n",
       " 'EthNH3I_Vessel': {'solvents': {}, 'solutes': {}, 'temp': None},\n",
       " 'PbI2_Vessel': {'solvents': {}, 'solutes': {}, 'temp': None}}"
      ]
     },
     "execution_count": 6,
     "metadata": {},
     "output_type": "execute_result"
    }
   ],
   "source": [
    "workspace.state"
   ]
  },
  {
   "cell_type": "code",
   "execution_count": null,
   "id": "25b65417-d1f8-48b7-a09f-5d5c0394b627",
   "metadata": {},
   "outputs": [],
   "source": []
  },
  {
   "cell_type": "markdown",
   "id": "72ea0593-35f5-46f3-adfa-448c8d7f0684",
   "metadata": {},
   "source": [
    "Now lets create some materials! "
   ]
  },
  {
   "cell_type": "code",
   "execution_count": 7,
   "id": "65f08476-f30a-4d71-9592-ae6719d520e9",
   "metadata": {},
   "outputs": [],
   "source": [
    "from demo_classes import MaterialModel"
   ]
  },
  {
   "cell_type": "code",
   "execution_count": 8,
   "id": "7ba2bda0-9b04-427c-9706-7995aa429e92",
   "metadata": {},
   "outputs": [],
   "source": [
    "GBL = MaterialModel('GBL', \n",
    "                    {'molar_mass': 86.0891}, \n",
    "                   state='liquid')\n",
    "\n",
    "PbI2 = MaterialModel(name='PbI2', \n",
    "                     properties={'molecular_weight': 461.01}, \n",
    "                    state='solid')\n",
    "\n",
    "EthNH3I = MaterialModel(name='Ethylammonium Iodide', \n",
    "                        properties={'molecular_weight': 173}, \n",
    "                       state='solid')"
   ]
  },
  {
   "cell_type": "code",
   "execution_count": 9,
   "id": "1cd0d4c5-18d5-4790-8bdc-cd670beb9367",
   "metadata": {},
   "outputs": [],
   "source": [
    "GBL_vessel.add({GBL: 1}) # add one unit of GBL to it "
   ]
  },
  {
   "cell_type": "code",
   "execution_count": 10,
   "id": "f5467c5a-79d3-42c4-b3a6-63e4a7816ce3",
   "metadata": {},
   "outputs": [
    {
     "data": {
      "text/plain": [
       "{'GBL_Vessel': {'solvents': {MaterialModel of GBL: 1},\n",
       "  'solutes': {},\n",
       "  'temp': None},\n",
       " 'EthNH3I_Vessel': {'solvents': {}, 'solutes': {}, 'temp': None},\n",
       " 'PbI2_Vessel': {'solvents': {}, 'solutes': {}, 'temp': None}}"
      ]
     },
     "execution_count": 10,
     "metadata": {},
     "output_type": "execute_result"
    }
   ],
   "source": [
    "workspace.state"
   ]
  },
  {
   "cell_type": "code",
   "execution_count": 11,
   "id": "bd626767-c0e9-4fe1-9f4f-b8f6f2891b72",
   "metadata": {},
   "outputs": [],
   "source": [
    "EthNH3I_vessel.add({EthNH3I: 1})\n",
    "PbI2_vessel.add({PbI2: 1})"
   ]
  },
  {
   "cell_type": "markdown",
   "id": "b3e5e86c-21c5-4f76-8f95-c9c8d2194e85",
   "metadata": {},
   "source": [
    "We probably want all materials to have a state of matter so we can just call .add()\n",
    "rather than add_{solute,solvent}. Solids and liquids will be added to appropriate dict"
   ]
  },
  {
   "cell_type": "code",
   "execution_count": 12,
   "id": "e93618b1-4857-41b6-8a1b-61c5fdd2d313",
   "metadata": {},
   "outputs": [
    {
     "data": {
      "text/plain": [
       "{'GBL_Vessel': {'solvents': {MaterialModel of GBL: 1},\n",
       "  'solutes': {},\n",
       "  'temp': None},\n",
       " 'EthNH3I_Vessel': {'solvents': {},\n",
       "  'solutes': {MaterialModel of Ethylammonium Iodide: 1},\n",
       "  'temp': None},\n",
       " 'PbI2_Vessel': {'solvents': {},\n",
       "  'solutes': {MaterialModel of PbI2: 1},\n",
       "  'temp': None}}"
      ]
     },
     "execution_count": 12,
     "metadata": {},
     "output_type": "execute_result"
    }
   ],
   "source": [
    "workspace.state"
   ]
  },
  {
   "cell_type": "markdown",
   "id": "a1ffe9b4-83d2-462f-a196-d49958ac4f7e",
   "metadata": {},
   "source": [
    "An initial state for the experiment should be specified as part of the experiment setup  \n",
    "(i.e., I have x_i amount of material i in vessel j, for all i, j)\n",
    "\n",
    "Then the user defines a list of actions. After each action is executed, they mutate the state according to some rules. We store the list of mutated states, these are like a movie of the experiment."
   ]
  },
  {
   "cell_type": "markdown",
   "id": "90096733-a4f5-450a-a361-f0e6c85db70e",
   "metadata": {},
   "source": [
    "So lets define some actions"
   ]
  },
  {
   "cell_type": "code",
   "execution_count": 13,
   "id": "8489918e-0980-41d9-bf13-60e1769ea819",
   "metadata": {},
   "outputs": [],
   "source": [
    "from demo_classes import ActionBaseClass"
   ]
  },
  {
   "cell_type": "markdown",
   "id": "2d190ca1-912a-488e-86e7-3092698eab27",
   "metadata": {},
   "source": [
    "Shekar: Workflow can take a workspace as a parameter, workflow can be the state machine"
   ]
  },
  {
   "cell_type": "markdown",
   "id": "7eb7cdf0-3af1-4f09-864f-626a2f72b1cb",
   "metadata": {},
   "source": [
    "These class definitions are like action_defs, or action_templates if you prefer:"
   ]
  },
  {
   "cell_type": "code",
   "execution_count": 14,
   "id": "a664b9fa-341d-4544-849f-aa39452fedd6",
   "metadata": {},
   "outputs": [],
   "source": [
    "class Transfer(ActionBaseClass): \n",
    "    \n",
    "    \"\"\"We'll really want a liquid transfer and a solid transfer that take appropriate units\n",
    "    (volume, mass)\n",
    "    \"\"\"\n",
    "    \n",
    "    def __init__(self, source=None, dest=None,amount=0): \n",
    "        \"\"\"The action parameter is volume\n",
    "        All actions need a source and a dest, which are... Vessels? Materials? \n",
    "        Lets go with Vessels right now for convenience, can revisit\n",
    "        \"\"\"\n",
    "        \n",
    "        self.amount = amount\n",
    "        self.source = source\n",
    "        self.dest   = dest\n",
    "        \n",
    "    def do(self): \n",
    "        self.dest.add({self.source.remove(self.amount): self.amount})\n",
    "        \n",
    "    def undo(self): \n",
    "        \"\"\"Might not need this\"\"\"\n",
    "        self.source.add({self.dest.remove(self.amount): self.amount})"
   ]
  },
  {
   "cell_type": "code",
   "execution_count": 15,
   "id": "8388edfa-0830-4a57-b281-8e5527ccb2a2",
   "metadata": {},
   "outputs": [
    {
     "data": {
      "text/plain": [
       "{'GBL_Vessel': {'solvents': {MaterialModel of GBL: 1},\n",
       "  'solutes': {},\n",
       "  'temp': None},\n",
       " 'EthNH3I_Vessel': {'solvents': {},\n",
       "  'solutes': {MaterialModel of Ethylammonium Iodide: 1},\n",
       "  'temp': None},\n",
       " 'PbI2_Vessel': {'solvents': {},\n",
       "  'solutes': {MaterialModel of PbI2: 1},\n",
       "  'temp': None}}"
      ]
     },
     "execution_count": 15,
     "metadata": {},
     "output_type": "execute_result"
    }
   ],
   "source": [
    "workspace.state"
   ]
  },
  {
   "cell_type": "code",
   "execution_count": 16,
   "id": "2ce1568d-8e8d-4a8a-ad4b-1c7d732c9a24",
   "metadata": {},
   "outputs": [],
   "source": [
    "stockA_vessel = Vessel(name=\"Stock A Vessel\")"
   ]
  },
  {
   "cell_type": "code",
   "execution_count": 17,
   "id": "74a5fbdb-6f2c-4b58-8f9b-09a1cb1e7ce7",
   "metadata": {},
   "outputs": [],
   "source": [
    "workspace.add(stockA_vessel)"
   ]
  },
  {
   "cell_type": "code",
   "execution_count": 18,
   "id": "65cd2d03-f97c-4088-90cb-58757b1ad239",
   "metadata": {},
   "outputs": [
    {
     "data": {
      "text/plain": [
       "{'GBL_Vessel': {'solvents': {MaterialModel of GBL: 1},\n",
       "  'solutes': {},\n",
       "  'temp': None},\n",
       " 'EthNH3I_Vessel': {'solvents': {},\n",
       "  'solutes': {MaterialModel of Ethylammonium Iodide: 1},\n",
       "  'temp': None},\n",
       " 'PbI2_Vessel': {'solvents': {},\n",
       "  'solutes': {MaterialModel of PbI2: 1},\n",
       "  'temp': None},\n",
       " 'Stock A Vessel': {'solvents': {}, 'solutes': {}, 'temp': None}}"
      ]
     },
     "execution_count": 18,
     "metadata": {},
     "output_type": "execute_result"
    }
   ],
   "source": [
    "workspace.state"
   ]
  },
  {
   "cell_type": "code",
   "execution_count": 19,
   "id": "87277f78-3ee8-48a8-95fe-aea91007cc4e",
   "metadata": {},
   "outputs": [],
   "source": [
    "from decimal import Decimal"
   ]
  },
  {
   "cell_type": "code",
   "execution_count": 20,
   "id": "2e2e2075-4af6-46e9-9e54-767800f762c4",
   "metadata": {},
   "outputs": [],
   "source": [
    "import decimal"
   ]
  },
  {
   "cell_type": "code",
   "execution_count": 21,
   "id": "95deed80-bd77-489c-b859-826b9f01ca24",
   "metadata": {},
   "outputs": [],
   "source": [
    "decimal.getcontext().prec = 2"
   ]
  },
  {
   "cell_type": "code",
   "execution_count": 22,
   "id": "fb18c44f-1825-4f0f-826d-350be4fc1fa9",
   "metadata": {},
   "outputs": [],
   "source": [
    "make_stock_A = [Transfer(EthNH3I_vessel, stockA_vessel, Decimal(.1)), \n",
    "                Transfer(PbI2_vessel, stockA_vessel, Decimal(.2)), \n",
    "                Transfer(GBL_vessel, stockA_vessel, Decimal(.6)), \n",
    "               ]"
   ]
  },
  {
   "cell_type": "code",
   "execution_count": 23,
   "id": "c007e92d-5738-4211-9c25-75bdaf4718ca",
   "metadata": {},
   "outputs": [],
   "source": [
    "#%pdb"
   ]
  },
  {
   "cell_type": "code",
   "execution_count": 24,
   "id": "27645c19-d22a-4731-9b81-730d103fc1f7",
   "metadata": {},
   "outputs": [],
   "source": [
    "from pprint import pprint"
   ]
  },
  {
   "cell_type": "markdown",
   "id": "e945a9c4-306d-4836-876e-014953ee6aa3",
   "metadata": {},
   "source": [
    "(need to deal with floating point rounding errors) "
   ]
  },
  {
   "cell_type": "code",
   "execution_count": 25,
   "id": "47a66298-8e65-4d3d-854c-e32d53786c09",
   "metadata": {},
   "outputs": [
    {
     "name": "stdout",
     "output_type": "stream",
     "text": [
      "{'EthNH3I_Vessel': {'solutes': {MaterialModel of Ethylammonium Iodide: Decimal('0.8999999999999999944488848769')},\n",
      "                    'solvents': {},\n",
      "                    'temp': None},\n",
      " 'GBL_Vessel': {'solutes': {},\n",
      "                'solvents': {MaterialModel of GBL: 1},\n",
      "                'temp': None},\n",
      " 'PbI2_Vessel': {'solutes': {MaterialModel of PbI2: 1},\n",
      "                 'solvents': {},\n",
      "                 'temp': None},\n",
      " 'Stock A Vessel': {'solutes': {MaterialModel of Ethylammonium Iodide: Decimal('0.1000000000000000055511151231')},\n",
      "                    'solvents': {},\n",
      "                    'temp': None}}\n",
      "\n",
      "=========\n",
      "\n",
      "{'EthNH3I_Vessel': {'solutes': {MaterialModel of Ethylammonium Iodide: Decimal('0.8999999999999999944488848769')},\n",
      "                    'solvents': {},\n",
      "                    'temp': None},\n",
      " 'GBL_Vessel': {'solutes': {},\n",
      "                'solvents': {MaterialModel of GBL: 1},\n",
      "                'temp': None},\n",
      " 'PbI2_Vessel': {'solutes': {MaterialModel of PbI2: Decimal('0.7999999999999999888977697537')},\n",
      "                 'solvents': {},\n",
      "                 'temp': None},\n",
      " 'Stock A Vessel': {'solutes': {MaterialModel of PbI2: Decimal('0.2000000000000000111022302463'),\n",
      "                                MaterialModel of Ethylammonium Iodide: Decimal('0.1000000000000000055511151231')},\n",
      "                    'solvents': {},\n",
      "                    'temp': None}}\n",
      "\n",
      "=========\n",
      "\n",
      "{'EthNH3I_Vessel': {'solutes': {MaterialModel of Ethylammonium Iodide: Decimal('0.8999999999999999944488848769')},\n",
      "                    'solvents': {},\n",
      "                    'temp': None},\n",
      " 'GBL_Vessel': {'solutes': {},\n",
      "                'solvents': {MaterialModel of GBL: Decimal('0.4000000000000000222044604925')},\n",
      "                'temp': None},\n",
      " 'PbI2_Vessel': {'solutes': {MaterialModel of PbI2: Decimal('0.7999999999999999888977697537')},\n",
      "                 'solvents': {},\n",
      "                 'temp': None},\n",
      " 'Stock A Vessel': {'solutes': {MaterialModel of PbI2: Decimal('0.2000000000000000111022302463'),\n",
      "                                MaterialModel of Ethylammonium Iodide: Decimal('0.1000000000000000055511151231')},\n",
      "                    'solvents': {MaterialModel of GBL: Decimal('0.5999999999999999777955395075')},\n",
      "                    'temp': None}}\n",
      "\n",
      "=========\n",
      "\n"
     ]
    }
   ],
   "source": [
    "for step in make_stock_A: \n",
    "    step.do()\n",
    "    pprint(workspace.state)\n",
    "    print('\\n=========\\n')"
   ]
  },
  {
   "cell_type": "markdown",
   "id": "cd295f02-1d67-4d6d-a046-c474145db159",
   "metadata": {},
   "source": [
    "Takeaway: vessel has properties, actions manipulate them. "
   ]
  },
  {
   "cell_type": "code",
   "execution_count": null,
   "id": "9269b0b2-d02d-4476-bb40-9a642af49686",
   "metadata": {},
   "outputs": [],
   "source": []
  }
 ],
 "metadata": {
  "kernelspec": {
   "display_name": "Python 3",
   "language": "python",
   "name": "python3"
  },
  "language_info": {
   "codemirror_mode": {
    "name": "ipython",
    "version": 3
   },
   "file_extension": ".py",
   "mimetype": "text/x-python",
   "name": "python",
   "nbconvert_exporter": "python",
   "pygments_lexer": "ipython3",
   "version": "3.9.5"
  }
 },
 "nbformat": 4,
 "nbformat_minor": 5
}
