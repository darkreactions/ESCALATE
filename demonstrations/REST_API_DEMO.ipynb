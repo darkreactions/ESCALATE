{
 "cells": [
  {
   "cell_type": "markdown",
   "id": "changed-dallas",
   "metadata": {},
   "source": [
    "# Interacting with the ESCALATE REST API"
   ]
  },
  {
   "cell_type": "markdown",
   "id": "c50b0e11-11ee-4357-bdba-648b9af11e2c",
   "metadata": {},
   "source": [
    "This is a tutorail for using the ESCALATE REST API. \n",
    "\n",
    "It presumes only knowledge of basic python. \n",
    "\n",
    "It also presumes you have a local instance of ESCALATE running at http://localhost:8000"
   ]
  },
  {
   "cell_type": "code",
   "execution_count": 1,
   "id": "suited-individual",
   "metadata": {
    "tags": []
   },
   "outputs": [],
   "source": [
    "import json\n",
    "from pprint import pprint\n",
    "\n",
    "import requests  # requests library will send and receive data from the escalate server\n",
    "from requests.api import post\n",
    "\n",
    "import pandas as pd"
   ]
  },
  {
   "cell_type": "code",
   "execution_count": null,
   "id": "2a63c98a-b11d-45a7-99b7-28e6e5d1f810",
   "metadata": {
    "tags": []
   },
   "outputs": [],
   "source": []
  },
  {
   "cell_type": "code",
   "execution_count": null,
   "id": "b3804efc-2eb6-4350-ad9e-712df75cc504",
   "metadata": {},
   "outputs": [],
   "source": []
  },
  {
   "cell_type": "code",
   "execution_count": null,
   "id": "10a3e547-e387-40a2-8f2e-31eb9b9bc20c",
   "metadata": {},
   "outputs": [],
   "source": []
  },
  {
   "cell_type": "code",
   "execution_count": null,
   "id": "a3c82065-0ca0-4a1b-840a-45abb5c54d1e",
   "metadata": {},
   "outputs": [],
   "source": []
  },
  {
   "cell_type": "code",
   "execution_count": null,
   "id": "5a43cc83-9acf-4d21-abb2-033fd4199408",
   "metadata": {},
   "outputs": [],
   "source": []
  },
  {
   "cell_type": "code",
   "execution_count": null,
   "id": "3c7a75b5-a88e-4780-8470-645ef1eb1bba",
   "metadata": {},
   "outputs": [],
   "source": []
  },
  {
   "cell_type": "code",
   "execution_count": null,
   "id": "4307844c-5ffb-4ab0-843a-d0b4db4ccd27",
   "metadata": {},
   "outputs": [],
   "source": []
  },
  {
   "cell_type": "code",
   "execution_count": null,
   "id": "112bead2-2e25-4c0c-a577-b7970e237969",
   "metadata": {},
   "outputs": [],
   "source": []
  },
  {
   "cell_type": "markdown",
   "id": "fitted-denial",
   "metadata": {},
   "source": [
    "## Quick intro to REST APIs\n",
    "\n",
    "All you need to know about REST is that:\n",
    "* It is a protocol for exchanging data between a client (e.g. me) and a server (e.g. ESCALATE)\n",
    "* Data formats are human *and* machine readable (XML or JSON)\n",
    "* There are two main HTTP 'verbs' or functions: \n",
    "  1. GET data from the server\n",
    "  2. POST data to the server  \n",
    "     (there are others, e.g. PUT and PATCH, but we won't use these in this tutorial)\n",
    "* The python `requests` library implements the HTTP verbs for interacting with servers, including with REST APIs"
   ]
  },
  {
   "cell_type": "code",
   "execution_count": null,
   "id": "9a730b60-143f-4537-b6ed-6090c42879ff",
   "metadata": {},
   "outputs": [],
   "source": []
  },
  {
   "cell_type": "code",
   "execution_count": null,
   "id": "64715dac-6be9-44e6-bf40-8bf65f21d083",
   "metadata": {},
   "outputs": [],
   "source": []
  },
  {
   "cell_type": "code",
   "execution_count": null,
   "id": "22c8d68a-6056-4f61-910f-74a79109922a",
   "metadata": {},
   "outputs": [],
   "source": []
  },
  {
   "cell_type": "code",
   "execution_count": null,
   "id": "1c973759-fe20-4bcb-95e1-45dbbcb52189",
   "metadata": {},
   "outputs": [],
   "source": []
  },
  {
   "cell_type": "code",
   "execution_count": null,
   "id": "c58bd355-590e-4dbf-a92c-c91c3fca7147",
   "metadata": {},
   "outputs": [],
   "source": []
  },
  {
   "cell_type": "code",
   "execution_count": null,
   "id": "8aa5ab15-2f30-4f1e-a312-a9bc7fbe97a4",
   "metadata": {},
   "outputs": [],
   "source": []
  },
  {
   "cell_type": "markdown",
   "id": "49a1b5c4-8f30-43fe-9072-dc8ee0068eb6",
   "metadata": {},
   "source": [
    "### Example: GET from the PubChem API\n",
    "\n",
    "* [Pubchem](https://pubchem.ncbi.nlm.nih.gov/) is a great way to get chemical informatics data from a vast repository\n",
    "   - e.g. just search for any compound above\n",
    "   - Has a graphical web interface and REST API\n",
    "* (There are other computational chemistry REST APIs, including [Open Chemistry](https://doi.org/10.1186/s13321-017-0241-z), and [AFLOW-ML](https://doi.org/10.1016/j.commatsci.2018.03.075))\n"
   ]
  },
  {
   "cell_type": "code",
   "execution_count": 2,
   "id": "registered-apparel",
   "metadata": {
    "tags": []
   },
   "outputs": [],
   "source": [
    "# dict mapping compound name to PubChemID\n",
    "PubChemIDs = {\n",
    "    'Methane': '297',\n",
    "    'Benzene': '241',\n",
    "    'Ethylammonium Iodide': '11116533'\n",
    "}"
   ]
  },
  {
   "cell_type": "markdown",
   "id": "ffa67dc6-8174-417e-ba96-6504de787527",
   "metadata": {
    "tags": []
   },
   "source": [
    "The URL below is the compound 'API endpoint' which I can send a request to for properties of compounds given their PubChem CIDs"
   ]
  },
  {
   "cell_type": "code",
   "execution_count": 3,
   "id": "compliant-mustang",
   "metadata": {
    "tags": []
   },
   "outputs": [],
   "source": [
    "response = requests.get(('https://pubchem.ncbi.nlm.nih.gov/rest/pug/compound'          # What type of entity? Compound\n",
    "                         f'/cid/{\",\".join(PubChemIDs.values())}/'                      # Which compounds? These\n",
    "                         'property/MolecularFormula,MolecularWeight,CanonicalSMILES/'  # Which properties? \n",
    "                         'JSON'))                                                     # Which format?\n",
    "                        #proxies=proxies)"
   ]
  },
  {
   "cell_type": "code",
   "execution_count": 4,
   "id": "0b3b830e-f67d-4235-a4f8-176c825e8d27",
   "metadata": {},
   "outputs": [
    {
     "data": {
      "text/plain": [
       "<Response [200]>"
      ]
     },
     "execution_count": 4,
     "metadata": {},
     "output_type": "execute_result"
    }
   ],
   "source": [
    "response"
   ]
  },
  {
   "cell_type": "code",
   "execution_count": 5,
   "id": "animal-bunch",
   "metadata": {
    "tags": []
   },
   "outputs": [
    {
     "data": {
      "text/plain": [
       "{'PropertyTable': {'Properties': [{'CID': 297,\n",
       "    'MolecularFormula': 'CH4',\n",
       "    'MolecularWeight': 16.043,\n",
       "    'CanonicalSMILES': 'C'},\n",
       "   {'CID': 241,\n",
       "    'MolecularFormula': 'C6H6',\n",
       "    'MolecularWeight': 78.11,\n",
       "    'CanonicalSMILES': 'C1=CC=CC=C1'},\n",
       "   {'CID': 11116533,\n",
       "    'MolecularFormula': 'C2H8IN',\n",
       "    'MolecularWeight': 173,\n",
       "    'CanonicalSMILES': 'CCN.I'}]}}"
      ]
     },
     "execution_count": 5,
     "metadata": {},
     "output_type": "execute_result"
    }
   ],
   "source": [
    "response.json()"
   ]
  },
  {
   "cell_type": "code",
   "execution_count": null,
   "id": "fb7ec899-2632-466e-9950-d2b74ef83de6",
   "metadata": {},
   "outputs": [],
   "source": []
  },
  {
   "cell_type": "code",
   "execution_count": null,
   "id": "0eb84d3b-9539-4e93-8012-e52d511267cd",
   "metadata": {},
   "outputs": [],
   "source": []
  },
  {
   "cell_type": "code",
   "execution_count": null,
   "id": "5a144fc7-0e8b-4720-a899-ef8ce230b327",
   "metadata": {},
   "outputs": [],
   "source": []
  },
  {
   "cell_type": "code",
   "execution_count": null,
   "id": "b97f3900-c856-48e4-ada5-77a1638c8c07",
   "metadata": {},
   "outputs": [],
   "source": []
  },
  {
   "cell_type": "code",
   "execution_count": null,
   "id": "2ab497e6-99ab-4ee3-8d54-26f3b8ac04be",
   "metadata": {},
   "outputs": [],
   "source": []
  },
  {
   "cell_type": "code",
   "execution_count": null,
   "id": "64ac2e95-cc7d-4756-b875-55f4852798b6",
   "metadata": {},
   "outputs": [],
   "source": []
  },
  {
   "cell_type": "code",
   "execution_count": null,
   "id": "e6128b2b-88c8-4fee-974f-41efa0a9c103",
   "metadata": {},
   "outputs": [],
   "source": []
  },
  {
   "cell_type": "markdown",
   "id": "8991c6d8-1b33-445c-9702-c9b1a3246924",
   "metadata": {},
   "source": [
    "## The ESCALATE REST API \n",
    "\n",
    "* Send data back and forth between ML, chemists, and laboratories"
   ]
  },
  {
   "cell_type": "markdown",
   "id": "659fd412-598c-4b03-9161-e3e5d6e7dc1e",
   "metadata": {},
   "source": [
    "### Interactive List of all available ESCALATE endpoints\n",
    "\n",
    "Simply navigating to http://localhost:8000/api will show you a browsable list of all available API endpoints. \n",
    "\n",
    "We can also view that list programmatically: "
   ]
  },
  {
   "cell_type": "code",
   "execution_count": 6,
   "id": "3980090b-ec8d-475e-9106-3b21cb029c12",
   "metadata": {
    "tags": []
   },
   "outputs": [
    {
     "data": {
      "text/plain": [
       "{'action': 'http://localhost:8000/api/action/',\n",
       " 'actiondef': 'http://localhost:8000/api/actiondef/',\n",
       " 'actionparameter': 'http://localhost:8000/api/actionparameter/',\n",
       " 'actionparameterdefassign': 'http://localhost:8000/api/actionparameterdefassign/',\n",
       " 'actor': 'http://localhost:8000/api/actor/',\n",
       " 'billofmaterials': 'http://localhost:8000/api/billofmaterials/',\n",
       " 'bomcompositematerial': 'http://localhost:8000/api/bomcompositematerial/',\n",
       " 'bommaterial': 'http://localhost:8000/api/bommaterial/',\n",
       " 'calculation': 'http://localhost:8000/api/calculation/',\n",
       " 'calculationdef': 'http://localhost:8000/api/calculationdef/',\n",
       " 'compositematerial': 'http://localhost:8000/api/compositematerial/',\n",
       " 'compositematerialproperty': 'http://localhost:8000/api/compositematerialproperty/',\n",
       " 'condition': 'http://localhost:8000/api/condition/',\n",
       " 'conditioncalculationdefassign': 'http://localhost:8000/api/conditioncalculationdefassign/',\n",
       " 'conditiondef': 'http://localhost:8000/api/conditiondef/',\n",
       " 'experiment': 'http://localhost:8000/api/experiment/',\n",
       " 'experimenttemplate': 'http://localhost:8000/api/experimenttemplate/',\n",
       " 'experimentworkflow': 'http://localhost:8000/api/experimentworkflow/',\n",
       " 'inventory': 'http://localhost:8000/api/inventory/',\n",
       " 'inventorymaterial': 'http://localhost:8000/api/inventorymaterial/',\n",
       " 'material': 'http://localhost:8000/api/material/',\n",
       " 'materialproperty': 'http://localhost:8000/api/materialproperty/',\n",
       " 'materialrefnamedef': 'http://localhost:8000/api/materialrefnamedef/',\n",
       " 'materialtype': 'http://localhost:8000/api/materialtype/',\n",
       " 'materialtypeassign': 'http://localhost:8000/api/materialtypeassign/',\n",
       " 'measure': 'http://localhost:8000/api/measure/',\n",
       " 'measuredef': 'http://localhost:8000/api/measuredef/',\n",
       " 'measuretype': 'http://localhost:8000/api/measuretype/',\n",
       " 'organization': 'http://localhost:8000/api/organization/',\n",
       " 'outcome': 'http://localhost:8000/api/outcome/',\n",
       " 'parameter': 'http://localhost:8000/api/parameter/',\n",
       " 'parameterdef': 'http://localhost:8000/api/parameterdef/',\n",
       " 'person': 'http://localhost:8000/api/person/',\n",
       " 'property': 'http://localhost:8000/api/property/',\n",
       " 'propertydef': 'http://localhost:8000/api/propertydef/',\n",
       " 'status': 'http://localhost:8000/api/status/',\n",
       " 'systemtool': 'http://localhost:8000/api/systemtool/',\n",
       " 'systemtooltype': 'http://localhost:8000/api/systemtooltype/',\n",
       " 'tag': 'http://localhost:8000/api/tag/',\n",
       " 'tagtype': 'http://localhost:8000/api/tagtype/',\n",
       " 'typedef': 'http://localhost:8000/api/typedef/',\n",
       " 'udfdef': 'http://localhost:8000/api/udfdef/',\n",
       " 'unittype': 'http://localhost:8000/api/unittype/',\n",
       " 'workflow': 'http://localhost:8000/api/workflow/',\n",
       " 'workflowactionset': 'http://localhost:8000/api/workflowactionset/',\n",
       " 'workflowobject': 'http://localhost:8000/api/workflowobject/',\n",
       " 'workflowstep': 'http://localhost:8000/api/workflowstep/',\n",
       " 'workflowtype': 'http://localhost:8000/api/workflowtype/'}"
      ]
     },
     "execution_count": 6,
     "metadata": {},
     "output_type": "execute_result"
    }
   ],
   "source": [
    "base_url = 'http://localhost:8000/api'  # local dev server\n",
    "response = requests.get(base_url)\n",
    "response.json()"
   ]
  },
  {
   "cell_type": "code",
   "execution_count": null,
   "id": "fcb9e7b1-7d80-48bf-a9bb-dbf584ef1526",
   "metadata": {},
   "outputs": [],
   "source": []
  },
  {
   "cell_type": "code",
   "execution_count": null,
   "id": "b39f3146-ee03-4af9-9fe9-3a39857a7dc0",
   "metadata": {},
   "outputs": [],
   "source": []
  },
  {
   "cell_type": "code",
   "execution_count": null,
   "id": "b86dd811-4e30-47a6-b09b-7e72e95ba0da",
   "metadata": {},
   "outputs": [],
   "source": []
  },
  {
   "cell_type": "code",
   "execution_count": null,
   "id": "2f3b410a-de04-430d-9784-0245d521c5e2",
   "metadata": {},
   "outputs": [],
   "source": []
  },
  {
   "cell_type": "code",
   "execution_count": null,
   "id": "4431a4f6-a100-4f27-b91c-26b7c995ad22",
   "metadata": {},
   "outputs": [],
   "source": []
  },
  {
   "cell_type": "code",
   "execution_count": null,
   "id": "2468c8b7-b752-4bda-ac0a-00ec126069b3",
   "metadata": {},
   "outputs": [],
   "source": []
  },
  {
   "cell_type": "code",
   "execution_count": null,
   "id": "cd7e7e38-b039-47b0-b66d-d6516723941c",
   "metadata": {},
   "outputs": [],
   "source": []
  },
  {
   "cell_type": "markdown",
   "id": "e4b1df05-4f80-4712-acdb-bdd46ce20d2c",
   "metadata": {},
   "source": [
    "### Logging into ESCALATE\n",
    "\n",
    "\n",
    "To be able to view and post to all endpoints, I will create a log in session that is managed by a token. "
   ]
  },
  {
   "cell_type": "code",
   "execution_count": 7,
   "id": "hawaiian-southwest",
   "metadata": {
    "tags": []
   },
   "outputs": [
    {
     "data": {
      "text/plain": [
       "'558bd01df8969e1fb6d2b25a77ea0c566d0fe12b'"
      ]
     },
     "execution_count": 7,
     "metadata": {},
     "output_type": "execute_result"
    }
   ],
   "source": [
    "# demo login credentials\n",
    "login_data = {\n",
    "    'username': 'mtynes',\n",
    "    'password': 'hello1world2'\n",
    "}\n",
    "\n",
    "r_login = requests.post(f'{base_url}/login', data=login_data)\n",
    "token = r_login.json()['token']\n",
    "token"
   ]
  },
  {
   "cell_type": "code",
   "execution_count": 8,
   "id": "incoming-board",
   "metadata": {
    "tags": []
   },
   "outputs": [],
   "source": [
    "token_header = {'Authorization': f'Token {token}'}\n",
    "\n",
    "content_type_header = {'content-type': 'application/json'} # for most requests we'll want this header"
   ]
  },
  {
   "cell_type": "markdown",
   "id": "intermediate-objective",
   "metadata": {},
   "source": [
    "This token will allow me to validate my identity for this session"
   ]
  },
  {
   "cell_type": "code",
   "execution_count": null,
   "id": "cf7a6529-f30c-4458-a5b2-b6a5cc27df7f",
   "metadata": {},
   "outputs": [],
   "source": []
  },
  {
   "cell_type": "code",
   "execution_count": null,
   "id": "092b354f-2568-464e-8524-a56a70cc4eb5",
   "metadata": {},
   "outputs": [],
   "source": []
  },
  {
   "cell_type": "code",
   "execution_count": null,
   "id": "67896fc0-2ce0-40d8-9f1b-ec43b85f2e14",
   "metadata": {},
   "outputs": [],
   "source": []
  },
  {
   "cell_type": "code",
   "execution_count": null,
   "id": "82b73735-d6f0-47ee-906f-0a6c171c1820",
   "metadata": {},
   "outputs": [],
   "source": []
  },
  {
   "cell_type": "code",
   "execution_count": null,
   "id": "196a0833-f10b-4306-bfe2-afce7cae5256",
   "metadata": {},
   "outputs": [],
   "source": []
  },
  {
   "cell_type": "code",
   "execution_count": null,
   "id": "76921f4a-1d9e-4a6b-a965-643b1d3766a9",
   "metadata": {},
   "outputs": [],
   "source": []
  },
  {
   "cell_type": "markdown",
   "id": "active-publicity",
   "metadata": {},
   "source": [
    "### Simple helper functions for GET/POST\n",
    "\n",
    "These functions will do some minimal URL generation and JSON response parsing on top of what is done by the `requests` library"
   ]
  },
  {
   "cell_type": "code",
   "execution_count": 9,
   "id": "shaped-settlement",
   "metadata": {
    "tags": []
   },
   "outputs": [],
   "source": [
    "def post_data(endpoint, data={}, headers={**token_header, **content_type_header}):\n",
    "    \"\"\"POST `data` to `endpoint`in ESCALATE API using `headers`\n",
    "    \n",
    "    return: (dict|requests.Response), bool\n",
    "    \"\"\"\n",
    "    r = requests.post(f'{base_url}/{endpoint}/', \n",
    "                      data=json.dumps(data), \n",
    "                      headers=headers)\n",
    "    print(r)\n",
    "    if r.ok: \n",
    "        print('POST: OK, returning new resource dict')\n",
    "        return r.json()\n",
    "    print('POST: FAILED, returning response object')\n",
    "    return r\n",
    "\n",
    "\n",
    "def get_data(endpoint, data={}, headers={**token_header}):\n",
    "    \"\"\"Make GET request with `data` to `endpoint` in ESCALATE API using `headers`\n",
    "    \n",
    "    return: (dict|list|requests.Response), bool\n",
    "    \"\"\"\n",
    "    r = requests.get(f'{base_url}/{endpoint}/', params=data, headers=headers)\n",
    "    print(r)\n",
    "    if r.ok: \n",
    "        print('GET: OK')\n",
    "        \n",
    "        resp_json = r.json()        \n",
    "        \n",
    "        # handle cases: one vs many results\n",
    "        if resp_json.get('count') is None: # edge case: template edit\n",
    "            return r.json()\n",
    "        elif resp_json.get('count') == 1: \n",
    "            print('Found one resource, returning dict')\n",
    "            return resp_json['results'][0]\n",
    "        elif resp_json.get('count') >= 1: \n",
    "            print(f\"Found {resp_json['count']} resources, returning list of dicts)\")\n",
    "            return r.json()['results']\n",
    "        else:\n",
    "            print('GET: FAILED, returning response object')\n",
    "    return r"
   ]
  },
  {
   "cell_type": "code",
   "execution_count": null,
   "id": "9e42de65-8b47-439c-8a3e-02029bd64a5f",
   "metadata": {},
   "outputs": [],
   "source": []
  },
  {
   "cell_type": "code",
   "execution_count": null,
   "id": "c8abf59b-3de1-4082-b8be-340e2d1343af",
   "metadata": {},
   "outputs": [],
   "source": []
  },
  {
   "cell_type": "code",
   "execution_count": null,
   "id": "42d4838d-9199-461d-8e1f-0877954e80ef",
   "metadata": {},
   "outputs": [],
   "source": []
  },
  {
   "cell_type": "code",
   "execution_count": null,
   "id": "0f7883dc-5063-475b-96d1-1126b29f05ec",
   "metadata": {},
   "outputs": [],
   "source": []
  },
  {
   "cell_type": "code",
   "execution_count": null,
   "id": "bc8d2898-ff1a-4c6c-96c7-59d56adc0cc0",
   "metadata": {},
   "outputs": [],
   "source": []
  },
  {
   "cell_type": "markdown",
   "id": "deadly-blues",
   "metadata": {},
   "source": [
    "### GET all of materials defined in ESCALATE"
   ]
  },
  {
   "cell_type": "code",
   "execution_count": 10,
   "id": "directed-federation",
   "metadata": {
    "tags": []
   },
   "outputs": [
    {
     "name": "stdout",
     "output_type": "stream",
     "text": [
      "<Response [200]>\n",
      "GET: OK\n",
      "Found 294 resources, returning list of dicts)\n"
     ]
    }
   ],
   "source": [
    "r = get_data(endpoint='material')"
   ]
  },
  {
   "cell_type": "markdown",
   "id": "loving-nomination",
   "metadata": {},
   "source": [
    "All of these materials would probably take up too much space in this notebook, lets look at the first one."
   ]
  },
  {
   "cell_type": "markdown",
   "id": "ddfd4506-1e10-41ba-85a9-e331e3c74b7f",
   "metadata": {},
   "source": [
    "All lead iodide shares in this chemical formula, etc. Models are jsut 'what is is about these thigns that are all the same, as opposed to particular vials of gblthat has volumes, contanimanants, dates, masses. these all come from the object, but share in model. models dont contain provenance, are only abotu intenseive properties "
   ]
  },
  {
   "cell_type": "code",
   "execution_count": 11,
   "id": "6a69d065-4e31-417e-a364-67c6fab8a5c6",
   "metadata": {
    "tags": []
   },
   "outputs": [
    {
     "data": {
      "text/plain": [
       "{'url': 'http://localhost:8000/api/material/9d2e43b5-7874-4de4-ab24-b554ea3a4aa4/',\n",
       " 'uuid': '9d2e43b5-7874-4de4-ab24-b554ea3a4aa4',\n",
       " 'edocs': [],\n",
       " 'tags': [],\n",
       " 'notes': [],\n",
       " 'description': 'Gamma-Butyrolactone',\n",
       " 'consumable': True,\n",
       " 'composite_flg': False,\n",
       " 'material_class': 'model',\n",
       " 'actor_description': None,\n",
       " 'status_description': 'active',\n",
       " 'add_date': '2021-05-03T15:37:53.096175Z',\n",
       " 'mod_date': '2021-05-03T15:38:01.237109Z',\n",
       " 'actor': None,\n",
       " 'status': 'http://localhost:8000/api/status/88cc1f22-5e0e-4707-b7f1-235730c29bb2/',\n",
       " 'material_types': ['http://localhost:8000/api/materialtype/9dfe9596-8264-4307-af4c-362adcc6bc2a/',\n",
       "  'http://localhost:8000/api/materialtype/e110ca12-d7b3-4ee9-b1b3-b9b683c0a69b/',\n",
       "  'http://localhost:8000/api/materialtype/424cce16-3405-43d7-b9ff-64171906500f/'],\n",
       " 'property': []}"
      ]
     },
     "execution_count": 11,
     "metadata": {},
     "output_type": "execute_result"
    }
   ],
   "source": [
    "r[0]"
   ]
  },
  {
   "cell_type": "markdown",
   "id": "28a349ee-b32b-4e2f-9b22-5f7fe9388988",
   "metadata": {},
   "source": [
    "These are the fields available for materials. Notably we can associate a material with arbitrary properties and material types."
   ]
  },
  {
   "cell_type": "code",
   "execution_count": null,
   "id": "b772a513-024d-427e-b606-e587c669a4a8",
   "metadata": {},
   "outputs": [],
   "source": []
  },
  {
   "cell_type": "code",
   "execution_count": null,
   "id": "e54fda23-5e5e-4303-830e-42685dfda81a",
   "metadata": {},
   "outputs": [],
   "source": []
  },
  {
   "cell_type": "code",
   "execution_count": null,
   "id": "0e680870-ba9f-4387-800c-00566627bc13",
   "metadata": {},
   "outputs": [],
   "source": []
  },
  {
   "cell_type": "code",
   "execution_count": null,
   "id": "6a144f1b-cead-4d10-b68f-b65139976297",
   "metadata": {},
   "outputs": [],
   "source": []
  },
  {
   "cell_type": "code",
   "execution_count": null,
   "id": "73801ae6-6a41-469b-abbc-cb74542210c3",
   "metadata": {},
   "outputs": [],
   "source": []
  },
  {
   "cell_type": "code",
   "execution_count": null,
   "id": "4c2cee8c-69b4-4d16-bb15-3b0202efff40",
   "metadata": {},
   "outputs": [],
   "source": []
  },
  {
   "cell_type": "markdown",
   "id": "d559f857-d45d-4ce2-a02d-220f9f1def99",
   "metadata": {},
   "source": [
    "### POST a material property\n",
    "\n",
    "#### Current property definitions in ESCALATE\n",
    "\n",
    "ESCALATE supports user defined property definitions, these are the one's we're using"
   ]
  },
  {
   "cell_type": "code",
   "execution_count": 12,
   "id": "04d9ad9e-0423-4b29-94c9-050174a6f958",
   "metadata": {
    "tags": []
   },
   "outputs": [
    {
     "name": "stdout",
     "output_type": "stream",
     "text": [
      "<Response [200]>\n",
      "GET: OK\n",
      "Found 16 resources, returning list of dicts)\n"
     ]
    },
    {
     "data": {
      "text/plain": [
       "[{'description': 'particle-size {min, max}'},\n",
       " {'description': 'mesh {min, max}'},\n",
       " {'description': 'capacity'},\n",
       " {'description': 'cross-linkage %'},\n",
       " {'description': 'moisture % {min, max}'},\n",
       " {'description': 'Resin Class'},\n",
       " {'description': 'Functional group'},\n",
       " {'description': 'concentration_molarity'},\n",
       " {'description': 'manufacturer'},\n",
       " {'description': 'plate well count'},\n",
       " {'description': 'plate well location'},\n",
       " {'description': 'plate well robot order'},\n",
       " {'description': 'plate well volume {min, max}'},\n",
       " {'description': 'concentration'},\n",
       " {'description': 'molecular-weight'},\n",
       " {'description': 'Crystal Score'}]"
      ]
     },
     "execution_count": 12,
     "metadata": {},
     "output_type": "execute_result"
    }
   ],
   "source": [
    "r = get_data('propertydef', \n",
    "             {'fields': ['description']} # we can select 'columns' with the fields parameter    \n",
    "            )\n",
    "r"
   ]
  },
  {
   "cell_type": "markdown",
   "id": "03f81d88-467c-44f7-8d3a-e26bb8798624",
   "metadata": {},
   "source": [
    "#### Molecular Weight"
   ]
  },
  {
   "cell_type": "code",
   "execution_count": 13,
   "id": "lesbian-delta",
   "metadata": {
    "tags": []
   },
   "outputs": [
    {
     "name": "stdout",
     "output_type": "stream",
     "text": [
      "<Response [200]>\n",
      "GET: OK\n",
      "Found one resource, returning dict\n"
     ]
    },
    {
     "data": {
      "text/plain": [
       "{'url': 'http://localhost:8000/api/propertydef/c47df850-d65a-40f3-b97e-bfaed9bf3435/',\n",
       " 'description': 'molecular-weight',\n",
       " 'val_unit': 'g/mol'}"
      ]
     },
     "execution_count": 13,
     "metadata": {},
     "output_type": "execute_result"
    }
   ],
   "source": [
    "mw_property_def = get_data('propertydef', \n",
    "                           {'description': 'molecular-weight', # find an entity that has a particular description\n",
    "                            'fields': ['url', 'description', 'val_unit']})\n",
    "mw_property_def"
   ]
  },
  {
   "cell_type": "markdown",
   "id": "1e2ba804-9800-4a88-b1d7-b48b9c8c1f9a",
   "metadata": {},
   "source": [
    "Now we can associate an instance of this property with a material, say EthNH3I"
   ]
  },
  {
   "cell_type": "code",
   "execution_count": 14,
   "id": "incredible-white",
   "metadata": {
    "tags": []
   },
   "outputs": [
    {
     "name": "stdout",
     "output_type": "stream",
     "text": [
      "<Response [200]>\n",
      "GET: OK\n",
      "Found one resource, returning dict\n"
     ]
    },
    {
     "data": {
      "text/plain": [
       "{'url': 'http://localhost:8000/api/material/4d90b104-c81d-4915-8307-97349af873bf/',\n",
       " 'description': 'Ethylammonium Iodide',\n",
       " 'property': ['http://localhost:8000/api/property/b52f4930-1b98-4f17-a58d-7e24881adf5e/']}"
      ]
     },
     "execution_count": 14,
     "metadata": {},
     "output_type": "execute_result"
    }
   ],
   "source": [
    "ethylammonium_iodide = get_data('material', \n",
    "                                {'description': 'Ethylammonium Iodide',\n",
    "                                 'fields':['url', 'description', 'property']})\n",
    "ethylammonium_iodide"
   ]
  },
  {
   "cell_type": "markdown",
   "id": "f863d1a2-4b7b-4493-ba74-d974b43f437e",
   "metadata": {},
   "source": [
    "Note the empty property list above\n",
    "\n",
    "Lets fill that in with the molecular weight from PubChem"
   ]
  },
  {
   "cell_type": "code",
   "execution_count": 15,
   "id": "foster-stamp",
   "metadata": {
    "tags": []
   },
   "outputs": [
    {
     "data": {
      "text/plain": [
       "173"
      ]
     },
     "execution_count": 15,
     "metadata": {},
     "output_type": "execute_result"
    }
   ],
   "source": [
    "response = requests.get('https://pubchem.ncbi.nlm.nih.gov/rest/pug/'+\\\n",
    "                        f'compound/cid/{PubChemIDs.get(\"Ethylammonium Iodide\")}/'+\\\n",
    "                        'property/MolecularFormula,MolecularWeight,CanonicalSMILES/JSON')\n",
    "                      # proxies=proxies)\n",
    "pubchem_json = response.json()\n",
    "eth_mw = pubchem_json['PropertyTable']['Properties'][0]['MolecularWeight']\n",
    "eth_mw"
   ]
  },
  {
   "cell_type": "code",
   "execution_count": null,
   "id": "c66059ad-57e2-40e2-a230-44fd9a69c68e",
   "metadata": {
    "tags": []
   },
   "outputs": [],
   "source": []
  },
  {
   "cell_type": "code",
   "execution_count": 16,
   "id": "catholic-freeze",
   "metadata": {
    "tags": []
   },
   "outputs": [
    {
     "name": "stdout",
     "output_type": "stream",
     "text": [
      "<Response [201]>\n",
      "POST: OK, returning new resource dict\n"
     ]
    }
   ],
   "source": [
    "r = post_data('materialproperty',\n",
    "                  {'material': ethylammonium_iodide['url'],\n",
    "                   'property_def': mw_property_def['url'],\n",
    "                   'value': f\"{eth_mw}\"\n",
    "                  }\n",
    "                 )"
   ]
  },
  {
   "cell_type": "markdown",
   "id": "56b036af-90e3-40bf-ab40-4e5c31c68e04",
   "metadata": {},
   "source": [
    "And we've stored it!"
   ]
  },
  {
   "cell_type": "code",
   "execution_count": 17,
   "id": "formal-communist",
   "metadata": {
    "tags": []
   },
   "outputs": [
    {
     "name": "stdout",
     "output_type": "stream",
     "text": [
      "<Response [200]>\n",
      "GET: OK\n",
      "Found one resource, returning dict\n"
     ]
    },
    {
     "data": {
      "text/plain": [
       "{'url': 'http://localhost:8000/api/material/4d90b104-c81d-4915-8307-97349af873bf/',\n",
       " 'uuid': '4d90b104-c81d-4915-8307-97349af873bf',\n",
       " 'edocs': [],\n",
       " 'tags': [],\n",
       " 'notes': [],\n",
       " 'description': 'Ethylammonium Iodide',\n",
       " 'consumable': True,\n",
       " 'composite_flg': False,\n",
       " 'material_class': 'model',\n",
       " 'actor_description': None,\n",
       " 'status_description': 'active',\n",
       " 'add_date': '2021-05-03T15:37:53.096175Z',\n",
       " 'mod_date': '2021-05-03T15:38:01.237109Z',\n",
       " 'actor': None,\n",
       " 'status': 'http://localhost:8000/api/status/88cc1f22-5e0e-4707-b7f1-235730c29bb2/',\n",
       " 'material_types': ['http://localhost:8000/api/materialtype/9dfe9596-8264-4307-af4c-362adcc6bc2a/',\n",
       "  'http://localhost:8000/api/materialtype/e110ca12-d7b3-4ee9-b1b3-b9b683c0a69b/'],\n",
       " 'property': ['http://localhost:8000/api/property/b52f4930-1b98-4f17-a58d-7e24881adf5e/',\n",
       "  'http://localhost:8000/api/property/5d6a66ed-a0b0-45b7-b164-129c2d3588ef/']}"
      ]
     },
     "execution_count": 17,
     "metadata": {},
     "output_type": "execute_result"
    }
   ],
   "source": [
    "get_data('material', \n",
    "         {'description':'Ethylammonium Iodide'})"
   ]
  },
  {
   "cell_type": "markdown",
   "id": "731996ea-2baa-4d03-8f22-3d19418112fd",
   "metadata": {},
   "source": [
    "\n",
    "* In practice we can use this functionality to store properties from any experiment or calculation. \n",
    "\n",
    "* We can also store metadata about where these values came from   \n",
    "  (example to come in a further tutorial on tags, notes, edocs, calculations)."
   ]
  },
  {
   "cell_type": "code",
   "execution_count": null,
   "id": "b5d6f7dc-dedf-4818-8c70-eb24cb99f125",
   "metadata": {},
   "outputs": [],
   "source": []
  },
  {
   "cell_type": "code",
   "execution_count": null,
   "id": "2a95c5c5-8e04-45e5-9ddd-bb13c8242d56",
   "metadata": {},
   "outputs": [],
   "source": []
  },
  {
   "cell_type": "code",
   "execution_count": null,
   "id": "bb10e1b2-530b-4ddf-aa3a-d1450d29aa94",
   "metadata": {},
   "outputs": [],
   "source": []
  },
  {
   "cell_type": "code",
   "execution_count": null,
   "id": "11b63905-0758-44c8-8954-dc5ec93f4371",
   "metadata": {},
   "outputs": [],
   "source": []
  },
  {
   "cell_type": "code",
   "execution_count": null,
   "id": "f8fb1ecd-a44b-4d41-9f4c-c0a08d31bcbf",
   "metadata": {},
   "outputs": [],
   "source": []
  },
  {
   "cell_type": "markdown",
   "id": "deluxe-player",
   "metadata": {},
   "source": [
    "## Action definitions"
   ]
  },
  {
   "cell_type": "markdown",
   "id": "bd98b2d4-8e8d-42b3-bc66-3b7e838d38ea",
   "metadata": {},
   "source": [
    "* Just as we are free to define properties, we are free to define actions\n",
    "* Current definition are what we've needed to specify human/robot instructions for current workflows"
   ]
  },
  {
   "cell_type": "code",
   "execution_count": 18,
   "id": "mobile-people",
   "metadata": {
    "tags": []
   },
   "outputs": [
    {
     "name": "stdout",
     "output_type": "stream",
     "text": [
      "<Response [200]>\n",
      "GET: OK\n",
      "Found 7 resources, returning list of dicts)\n"
     ]
    },
    {
     "data": {
      "text/plain": [
       "[{'url': 'http://localhost:8000/api/actiondef/be6c1bd1-45e0-4221-9078-36c72fbcc978/',\n",
       "  'uuid': 'be6c1bd1-45e0-4221-9078-36c72fbcc978',\n",
       "  'description': 'dispense'},\n",
       " {'url': 'http://localhost:8000/api/actiondef/1c9318bf-aef1-4724-85b7-e4bc138836f2/',\n",
       "  'uuid': '1c9318bf-aef1-4724-85b7-e4bc138836f2',\n",
       "  'description': 'heat_stir'},\n",
       " {'url': 'http://localhost:8000/api/actiondef/50652482-9b8b-411c-bf99-c000418b8872/',\n",
       "  'uuid': '50652482-9b8b-411c-bf99-c000418b8872',\n",
       "  'description': 'heat'},\n",
       " {'url': 'http://localhost:8000/api/actiondef/e7b5a3ab-dedc-41f1-92ed-0d21fadfbc7e/',\n",
       "  'uuid': 'e7b5a3ab-dedc-41f1-92ed-0d21fadfbc7e',\n",
       "  'description': 'start_node'},\n",
       " {'url': 'http://localhost:8000/api/actiondef/f09cf7c5-547b-4ade-9517-df809c0c8454/',\n",
       "  'uuid': 'f09cf7c5-547b-4ade-9517-df809c0c8454',\n",
       "  'description': 'end_node'},\n",
       " {'url': 'http://localhost:8000/api/actiondef/86734a65-99fa-4383-ac81-e8d22c95c916/',\n",
       "  'uuid': '86734a65-99fa-4383-ac81-e8d22c95c916',\n",
       "  'description': 'dispense_solid'},\n",
       " {'url': 'http://localhost:8000/api/actiondef/038c78d8-76a2-4f23-bc5c-24e29465010f/',\n",
       "  'uuid': '038c78d8-76a2-4f23-bc5c-24e29465010f',\n",
       "  'description': 'bring_to_temperature'}]"
      ]
     },
     "execution_count": 18,
     "metadata": {},
     "output_type": "execute_result"
    }
   ],
   "source": [
    "r = get_data('actiondef', {'fields': ['description', 'uuid', 'url']})\n",
    "r"
   ]
  },
  {
   "cell_type": "markdown",
   "id": "8d5defe0-e206-4165-a30a-1103fff92440",
   "metadata": {},
   "source": [
    "#### Zooming in on the dispense action definition"
   ]
  },
  {
   "cell_type": "code",
   "execution_count": 19,
   "id": "discrete-crisis",
   "metadata": {
    "tags": []
   },
   "outputs": [
    {
     "name": "stdout",
     "output_type": "stream",
     "text": [
      "<Response [200]>\n",
      "GET: OK\n",
      "Found one resource, returning dict\n"
     ]
    },
    {
     "data": {
      "text/plain": [
       "{'url': 'http://localhost:8000/api/actiondef/be6c1bd1-45e0-4221-9078-36c72fbcc978/',\n",
       " 'uuid': 'be6c1bd1-45e0-4221-9078-36c72fbcc978',\n",
       " 'edocs': [],\n",
       " 'tags': [],\n",
       " 'notes': [{'url': 'http://localhost:8000/api/note/3bc81cfd-e2e7-431d-a03e-7cd72cde2e67/',\n",
       "   'uuid': '3bc81cfd-e2e7-431d-a03e-7cd72cde2e67',\n",
       "   'notetext': 'source material = material to be dispensed, destination material = plate well',\n",
       "   'add_date': '2021-05-03T15:37:58.233458Z',\n",
       "   'mod_date': '2021-05-03T15:37:58.233458Z',\n",
       "   'actor_description': 'Mike Tynes',\n",
       "   'ref_note_uuid': 'be6c1bd1-45e0-4221-9078-36c72fbcc978',\n",
       "   'actor': 'http://localhost:8000/api/actor/d9b24fd8-b799-43b3-9fe1-c242edd755c8/'}],\n",
       " 'parameter_def': [{'url': 'http://localhost:8000/api/parameterdef/0f13f48f-e818-4cb2-b4b9-e18398eed028/',\n",
       "   'uuid': '0f13f48f-e818-4cb2-b4b9-e18398eed028',\n",
       "   'edocs': [],\n",
       "   'tags': [],\n",
       "   'notes': [],\n",
       "   'description': 'volume',\n",
       "   'default_val': {'value': 0.0, 'unit': 'mL', 'type': 'num'},\n",
       "   'unit_type': 'volume',\n",
       "   'actor_description': 'Mike Tynes',\n",
       "   'status_description': None,\n",
       "   'add_date': '2021-05-03T15:37:58.209247Z',\n",
       "   'mod_date': '2021-05-03T15:37:58.209247Z',\n",
       "   'val_type': 'http://localhost:8000/api/typedef/cb0faacb-17c6-415b-be7d-ac6446c09415/',\n",
       "   'actor': 'http://localhost:8000/api/actor/d9b24fd8-b799-43b3-9fe1-c242edd755c8/',\n",
       "   'status': None}],\n",
       " 'description': 'dispense',\n",
       " 'actor_description': 'Mike Tynes',\n",
       " 'status_description': None,\n",
       " 'add_date': '2021-05-03T15:37:58.220965Z',\n",
       " 'mod_date': '2021-05-03T15:37:58.220965Z',\n",
       " 'actor': 'http://localhost:8000/api/actor/d9b24fd8-b799-43b3-9fe1-c242edd755c8/',\n",
       " 'status': None}"
      ]
     },
     "execution_count": 19,
     "metadata": {},
     "output_type": "execute_result"
    }
   ],
   "source": [
    "get_data('actiondef',               \n",
    "         {'description': 'dispense',  # which action def\n",
    "          'expand': 'parameter_def',  # sub dictionary to expand\n",
    "          })"
   ]
  },
  {
   "cell_type": "code",
   "execution_count": null,
   "id": "61a0356d-32d1-46ba-aaad-176bca793df0",
   "metadata": {},
   "outputs": [],
   "source": []
  },
  {
   "cell_type": "code",
   "execution_count": null,
   "id": "683416d6-ee12-4f7e-b8f4-0687e9ad975a",
   "metadata": {},
   "outputs": [],
   "source": []
  },
  {
   "cell_type": "code",
   "execution_count": null,
   "id": "be802a53-a4d9-4165-9526-fd75f7ecf84a",
   "metadata": {},
   "outputs": [],
   "source": []
  },
  {
   "cell_type": "code",
   "execution_count": null,
   "id": "458ed67e-2c9f-4225-b574-75615ada303d",
   "metadata": {},
   "outputs": [],
   "source": []
  },
  {
   "cell_type": "code",
   "execution_count": null,
   "id": "d7d122b2-2b16-4e02-b1cd-3af698d5d91b",
   "metadata": {},
   "outputs": [],
   "source": []
  },
  {
   "cell_type": "code",
   "execution_count": null,
   "id": "65f9c215-d7f3-4f76-bad7-ec1f9d4aca68",
   "metadata": {},
   "outputs": [],
   "source": []
  },
  {
   "cell_type": "markdown",
   "id": "disabled-shannon",
   "metadata": {},
   "source": [
    "### Actions + Materials = Experiment Template \n",
    "\n",
    "* Experiment template = the form of an experiment that I wish to re-use, varying material choices and process parameters"
   ]
  },
  {
   "cell_type": "code",
   "execution_count": 20,
   "id": "be0fec21-cadf-44aa-9890-76d153018837",
   "metadata": {},
   "outputs": [
    {
     "name": "stdout",
     "output_type": "stream",
     "text": [
      "<Response [200]>\n",
      "GET: OK\n",
      "Found 4 resources, returning list of dicts)\n"
     ]
    }
   ],
   "source": [
    "experiment_templates = get_data('experimenttemplate', \n",
    "                               {'fields':['description', 'url']})"
   ]
  },
  {
   "cell_type": "code",
   "execution_count": 21,
   "id": "38e87feb-9702-4bc2-bc1c-1ff3ce9626c7",
   "metadata": {},
   "outputs": [
    {
     "data": {
      "text/plain": [
       "[{'url': 'http://localhost:8000/api/experimenttemplate/2ffd9f1d-5d92-4581-abf8-5eb68e7a1ed7/',\n",
       "  'description': 'liquid_solid_extraction'},\n",
       " {'url': 'http://localhost:8000/api/experimenttemplate/669dc3da-777d-4266-b453-cc88fb3c6b07/',\n",
       "  'description': 'resin_weighing'},\n",
       " {'url': 'http://localhost:8000/api/experimenttemplate/01aad3de-4179-4caf-bcc0-48b454190064/',\n",
       "  'description': 'perovskite_demo'},\n",
       " {'url': 'http://localhost:8000/api/experimenttemplate/fb8cf185-7ebb-4e88-b6ee-f1ea2b25e032/',\n",
       "  'description': 'test_wf_1'}]"
      ]
     },
     "execution_count": 21,
     "metadata": {},
     "output_type": "execute_result"
    }
   ],
   "source": [
    "experiment_templates"
   ]
  },
  {
   "cell_type": "markdown",
   "id": "southeast-maldives",
   "metadata": {},
   "source": [
    "Click on perovskite demo link and note 2 main nested fields: \n",
    "* Bill of materials = the initial materials for the perovskite workflow\n",
    "* Workflow = the set of actions that combine these materials into perovskite crystal trials"
   ]
  },
  {
   "cell_type": "code",
   "execution_count": 22,
   "id": "6953c893-0aea-41d4-a237-65714df207ed",
   "metadata": {},
   "outputs": [
    {
     "name": "stdout",
     "output_type": "stream",
     "text": [
      "<Response [200]>\n",
      "GET: OK\n",
      "Found one resource, returning dict\n"
     ]
    }
   ],
   "source": [
    "perovskite_template = get_data('experimenttemplate',\n",
    "                              {'description': 'test_wf_1', \n",
    "                              'expand': 'workflow' # expand the workflow subdictionary\n",
    "                              })"
   ]
  },
  {
   "cell_type": "code",
   "execution_count": 23,
   "id": "7445f983-e22f-483c-810c-19530815642c",
   "metadata": {
    "scrolled": true,
    "tags": []
   },
   "outputs": [
    {
     "data": {
      "text/plain": [
       "{'url': 'http://localhost:8000/api/experimenttemplate/fb8cf185-7ebb-4e88-b6ee-f1ea2b25e032/',\n",
       " 'uuid': 'fb8cf185-7ebb-4e88-b6ee-f1ea2b25e032',\n",
       " 'edocs': [],\n",
       " 'tags': [],\n",
       " 'notes': [],\n",
       " 'bill_of_materials': [{'url': 'http://localhost:8000/api/billofmaterials/b66df4d3-ed02-4965-943d-35e4ffab3ee8/',\n",
       "   'uuid': 'b66df4d3-ed02-4965-943d-35e4ffab3ee8',\n",
       "   'edocs': [],\n",
       "   'tags': [],\n",
       "   'notes': [],\n",
       "   'bom_material': ['http://localhost:8000/api/bommaterial/5bd3674b-2d52-4049-97e8-bde6ff7a32b3/',\n",
       "    'http://localhost:8000/api/bommaterial/fdcbf63a-5d92-46e7-8728-001ec94b30ea/',\n",
       "    'http://localhost:8000/api/bommaterial/08b17acd-22a1-4b61-9a1a-fd3fec4197df/',\n",
       "    'http://localhost:8000/api/bommaterial/b607708d-bc91-4c79-8dac-c60038b07d92/',\n",
       "    'http://localhost:8000/api/bommaterial/8a0467cf-8be7-49c7-b584-f45ae7c3b36d/'],\n",
       "   'description': 'Test WF1 Materials',\n",
       "   'experiment_description': 'test_wf_1',\n",
       "   'add_date': '2021-05-03T15:38:01.377484Z',\n",
       "   'mod_date': '2021-05-03T15:38:01.377484Z',\n",
       "   'experiment': 'http://localhost:8000/api/experiment/fb8cf185-7ebb-4e88-b6ee-f1ea2b25e032/',\n",
       "   'actor': 'http://localhost:8000/api/actor/d9b24fd8-b799-43b3-9fe1-c242edd755c8/',\n",
       "   'status': None}],\n",
       " 'ref_uid': 'test_wf_1',\n",
       " 'description': 'test_wf_1',\n",
       " 'owner_description': 'HC',\n",
       " 'operator_description': 'HC',\n",
       " 'lab_description': 'HC',\n",
       " 'status_description': None,\n",
       " 'add_date': '2021-05-03T15:38:01.372466Z',\n",
       " 'mod_date': '2021-05-03T15:38:01.372466Z',\n",
       " 'parent': None,\n",
       " 'owner': 'http://localhost:8000/api/actor/8fd71e3f-49b3-46bc-be3c-762c4686f28d/',\n",
       " 'operator': 'http://localhost:8000/api/actor/d9b24fd8-b799-43b3-9fe1-c242edd755c8/',\n",
       " 'lab': 'http://localhost:8000/api/actor/8fd71e3f-49b3-46bc-be3c-762c4686f28d/',\n",
       " 'status': None,\n",
       " 'workflow': [{'url': 'http://localhost:8000/api/workflow/13b121af-4838-48cd-be24-2012e7fd6a23/',\n",
       "   'uuid': '13b121af-4838-48cd-be24-2012e7fd6a23',\n",
       "   'edocs': [],\n",
       "   'tags': [],\n",
       "   'notes': [],\n",
       "   'step': [{'url': 'http://localhost:8000/api/workflowstep/eb701dbd-fd50-4f0f-b6b0-90e85bf8b5a3/',\n",
       "     'uuid': 'eb701dbd-fd50-4f0f-b6b0-90e85bf8b5a3',\n",
       "     'edocs': [],\n",
       "     'tags': [],\n",
       "     'notes': [],\n",
       "     'workflow_object': 'http://localhost:8000/api/workflowobject/b97ad535-7dba-4202-ad58-d3ecbf54e7f6/',\n",
       "     'workflow_description': 'Dispense Solvent',\n",
       "     'parent_object_type': None,\n",
       "     'parent_object_description': None,\n",
       "     'parent_path': None,\n",
       "     'conditional_val': None,\n",
       "     'conditional_value': None,\n",
       "     'status_description': None,\n",
       "     'add_date': '2021-05-03T15:38:01.655150Z',\n",
       "     'mod_date': '2021-05-03T15:38:01.655150Z',\n",
       "     'workflow': 'http://localhost:8000/api/workflow/13b121af-4838-48cd-be24-2012e7fd6a23/',\n",
       "     'parent': None,\n",
       "     'status': None},\n",
       "    {'url': 'http://localhost:8000/api/workflowstep/4c99c83e-20bc-40a5-a1b7-4159d7a399a6/',\n",
       "     'uuid': '4c99c83e-20bc-40a5-a1b7-4159d7a399a6',\n",
       "     'edocs': [],\n",
       "     'tags': [],\n",
       "     'notes': [],\n",
       "     'workflow_object': 'http://localhost:8000/api/workflowobject/136ba621-e188-4591-a9f6-45478d3bcd05/',\n",
       "     'workflow_description': 'Dispense Solvent',\n",
       "     'parent_object_type': 'action',\n",
       "     'parent_object_description': 'Dispense Solvent: Solvent -> Plate: Plate well#: A1',\n",
       "     'parent_path': None,\n",
       "     'conditional_val': None,\n",
       "     'conditional_value': None,\n",
       "     'status_description': None,\n",
       "     'add_date': '2021-05-03T15:38:01.655150Z',\n",
       "     'mod_date': '2021-05-03T15:38:01.655150Z',\n",
       "     'workflow': 'http://localhost:8000/api/workflow/13b121af-4838-48cd-be24-2012e7fd6a23/',\n",
       "     'parent': 'http://localhost:8000/api/workflowstep/eb701dbd-fd50-4f0f-b6b0-90e85bf8b5a3/',\n",
       "     'status': None}],\n",
       "   'description': 'Dispense Solvent',\n",
       "   'workflow_type_description': 'template',\n",
       "   'actor_description': 'Mike Tynes',\n",
       "   'status_description': None,\n",
       "   'add_date': '2021-05-03T15:38:01.624241Z',\n",
       "   'mod_date': '2021-05-03T15:38:01.624241Z',\n",
       "   'parent': None,\n",
       "   'workflow_type': 'http://localhost:8000/api/workflowtype/3ca65def-1c40-45bc-87a8-97ee0a062a00/',\n",
       "   'actor': 'http://localhost:8000/api/actor/d9b24fd8-b799-43b3-9fe1-c242edd755c8/',\n",
       "   'status': None},\n",
       "  {'url': 'http://localhost:8000/api/workflow/3748564f-596e-43b5-bc78-fc0f28e30971/',\n",
       "   'uuid': '3748564f-596e-43b5-bc78-fc0f28e30971',\n",
       "   'edocs': [],\n",
       "   'tags': [],\n",
       "   'notes': [],\n",
       "   'step': [{'url': 'http://localhost:8000/api/workflowstep/3738e0f4-f926-47f1-a657-ee16bb56e87b/',\n",
       "     'uuid': '3738e0f4-f926-47f1-a657-ee16bb56e87b',\n",
       "     'edocs': [],\n",
       "     'tags': [],\n",
       "     'notes': [],\n",
       "     'workflow_object': 'http://localhost:8000/api/workflowobject/4df59744-e47b-41f3-b6a0-dbeaaa07e697/',\n",
       "     'workflow_description': 'Dispense Stock A',\n",
       "     'parent_object_type': None,\n",
       "     'parent_object_description': None,\n",
       "     'parent_path': None,\n",
       "     'conditional_val': None,\n",
       "     'conditional_value': None,\n",
       "     'status_description': None,\n",
       "     'add_date': '2021-05-03T15:38:01.794061Z',\n",
       "     'mod_date': '2021-05-03T15:38:01.794061Z',\n",
       "     'workflow': 'http://localhost:8000/api/workflow/3748564f-596e-43b5-bc78-fc0f28e30971/',\n",
       "     'parent': None,\n",
       "     'status': None},\n",
       "    {'url': 'http://localhost:8000/api/workflowstep/b1cae501-24fd-40b1-9929-c43d38d5ad27/',\n",
       "     'uuid': 'b1cae501-24fd-40b1-9929-c43d38d5ad27',\n",
       "     'edocs': [],\n",
       "     'tags': [],\n",
       "     'notes': [],\n",
       "     'workflow_object': 'http://localhost:8000/api/workflowobject/16fede17-8a25-42c6-916a-ed3d0650cd64/',\n",
       "     'workflow_description': 'Dispense Stock A',\n",
       "     'parent_object_type': 'action',\n",
       "     'parent_object_description': 'Dispense Stock A: Stock A -> Plate: Plate well#: A1',\n",
       "     'parent_path': None,\n",
       "     'conditional_val': None,\n",
       "     'conditional_value': None,\n",
       "     'status_description': None,\n",
       "     'add_date': '2021-05-03T15:38:01.794061Z',\n",
       "     'mod_date': '2021-05-03T15:38:01.794061Z',\n",
       "     'workflow': 'http://localhost:8000/api/workflow/3748564f-596e-43b5-bc78-fc0f28e30971/',\n",
       "     'parent': 'http://localhost:8000/api/workflowstep/3738e0f4-f926-47f1-a657-ee16bb56e87b/',\n",
       "     'status': None}],\n",
       "   'description': 'Dispense Stock A',\n",
       "   'workflow_type_description': 'template',\n",
       "   'actor_description': 'Mike Tynes',\n",
       "   'status_description': None,\n",
       "   'add_date': '2021-05-03T15:38:01.624241Z',\n",
       "   'mod_date': '2021-05-03T15:38:01.624241Z',\n",
       "   'parent': None,\n",
       "   'workflow_type': 'http://localhost:8000/api/workflowtype/3ca65def-1c40-45bc-87a8-97ee0a062a00/',\n",
       "   'actor': 'http://localhost:8000/api/actor/d9b24fd8-b799-43b3-9fe1-c242edd755c8/',\n",
       "   'status': None},\n",
       "  {'url': 'http://localhost:8000/api/workflow/fde005dd-db76-436a-b389-e12413485ae9/',\n",
       "   'uuid': 'fde005dd-db76-436a-b389-e12413485ae9',\n",
       "   'edocs': [],\n",
       "   'tags': [],\n",
       "   'notes': [],\n",
       "   'step': [{'url': 'http://localhost:8000/api/workflowstep/ab0d5cb5-7594-40d5-bdd0-6e7213d3aa27/',\n",
       "     'uuid': 'ab0d5cb5-7594-40d5-bdd0-6e7213d3aa27',\n",
       "     'edocs': [],\n",
       "     'tags': [],\n",
       "     'notes': [],\n",
       "     'workflow_object': 'http://localhost:8000/api/workflowobject/20a307fb-eea5-4cc4-9010-af67fdab28be/',\n",
       "     'workflow_description': 'Dispense Stock B',\n",
       "     'parent_object_type': None,\n",
       "     'parent_object_description': None,\n",
       "     'parent_path': None,\n",
       "     'conditional_val': None,\n",
       "     'conditional_value': None,\n",
       "     'status_description': None,\n",
       "     'add_date': '2021-05-03T15:38:01.912511Z',\n",
       "     'mod_date': '2021-05-03T15:38:01.912511Z',\n",
       "     'workflow': 'http://localhost:8000/api/workflow/fde005dd-db76-436a-b389-e12413485ae9/',\n",
       "     'parent': None,\n",
       "     'status': None},\n",
       "    {'url': 'http://localhost:8000/api/workflowstep/51577382-16fe-4bed-a224-ef8fae2b4977/',\n",
       "     'uuid': '51577382-16fe-4bed-a224-ef8fae2b4977',\n",
       "     'edocs': [],\n",
       "     'tags': [],\n",
       "     'notes': [],\n",
       "     'workflow_object': 'http://localhost:8000/api/workflowobject/f8695e4a-e19a-4d22-9e2c-a1bb921db799/',\n",
       "     'workflow_description': 'Dispense Stock B',\n",
       "     'parent_object_type': 'action',\n",
       "     'parent_object_description': 'Dispense Stock B: Stock B -> Plate: Plate well#: A1',\n",
       "     'parent_path': None,\n",
       "     'conditional_val': None,\n",
       "     'conditional_value': None,\n",
       "     'status_description': None,\n",
       "     'add_date': '2021-05-03T15:38:01.912511Z',\n",
       "     'mod_date': '2021-05-03T15:38:01.912511Z',\n",
       "     'workflow': 'http://localhost:8000/api/workflow/fde005dd-db76-436a-b389-e12413485ae9/',\n",
       "     'parent': 'http://localhost:8000/api/workflowstep/ab0d5cb5-7594-40d5-bdd0-6e7213d3aa27/',\n",
       "     'status': None}],\n",
       "   'description': 'Dispense Stock B',\n",
       "   'workflow_type_description': 'template',\n",
       "   'actor_description': 'Mike Tynes',\n",
       "   'status_description': None,\n",
       "   'add_date': '2021-05-03T15:38:01.624241Z',\n",
       "   'mod_date': '2021-05-03T15:38:01.624241Z',\n",
       "   'parent': None,\n",
       "   'workflow_type': 'http://localhost:8000/api/workflowtype/3ca65def-1c40-45bc-87a8-97ee0a062a00/',\n",
       "   'actor': 'http://localhost:8000/api/actor/d9b24fd8-b799-43b3-9fe1-c242edd755c8/',\n",
       "   'status': None},\n",
       "  {'url': 'http://localhost:8000/api/workflow/57f25590-2f14-47ec-a1cd-4265ecc543ff/',\n",
       "   'uuid': '57f25590-2f14-47ec-a1cd-4265ecc543ff',\n",
       "   'edocs': [],\n",
       "   'tags': [],\n",
       "   'notes': [],\n",
       "   'step': [{'url': 'http://localhost:8000/api/workflowstep/50a4d7d5-a6ff-4490-a925-8b032b3e9780/',\n",
       "     'uuid': '50a4d7d5-a6ff-4490-a925-8b032b3e9780',\n",
       "     'edocs': [],\n",
       "     'tags': [],\n",
       "     'notes': [],\n",
       "     'workflow_object': 'http://localhost:8000/api/workflowobject/a020f713-2f09-4137-bc98-31693b8c844f/',\n",
       "     'workflow_description': 'Dispense Acid Vol 1',\n",
       "     'parent_object_type': None,\n",
       "     'parent_object_description': None,\n",
       "     'parent_path': None,\n",
       "     'conditional_val': None,\n",
       "     'conditional_value': None,\n",
       "     'status_description': None,\n",
       "     'add_date': '2021-05-03T15:38:02.029378Z',\n",
       "     'mod_date': '2021-05-03T15:38:02.029378Z',\n",
       "     'workflow': 'http://localhost:8000/api/workflow/57f25590-2f14-47ec-a1cd-4265ecc543ff/',\n",
       "     'parent': None,\n",
       "     'status': None},\n",
       "    {'url': 'http://localhost:8000/api/workflowstep/bd0b532d-9476-44b1-977a-1d9769167346/',\n",
       "     'uuid': 'bd0b532d-9476-44b1-977a-1d9769167346',\n",
       "     'edocs': [],\n",
       "     'tags': [],\n",
       "     'notes': [],\n",
       "     'workflow_object': 'http://localhost:8000/api/workflowobject/13f3cead-e8af-4ef4-b609-9547af9d4268/',\n",
       "     'workflow_description': 'Dispense Acid Vol 1',\n",
       "     'parent_object_type': 'action',\n",
       "     'parent_object_description': 'Dispense Acid Vol 1: Acid -> Plate: Plate well#: A1',\n",
       "     'parent_path': None,\n",
       "     'conditional_val': None,\n",
       "     'conditional_value': None,\n",
       "     'status_description': None,\n",
       "     'add_date': '2021-05-03T15:38:02.029378Z',\n",
       "     'mod_date': '2021-05-03T15:38:02.029378Z',\n",
       "     'workflow': 'http://localhost:8000/api/workflow/57f25590-2f14-47ec-a1cd-4265ecc543ff/',\n",
       "     'parent': 'http://localhost:8000/api/workflowstep/50a4d7d5-a6ff-4490-a925-8b032b3e9780/',\n",
       "     'status': None}],\n",
       "   'description': 'Dispense Acid Vol 1',\n",
       "   'workflow_type_description': 'template',\n",
       "   'actor_description': 'Mike Tynes',\n",
       "   'status_description': None,\n",
       "   'add_date': '2021-05-03T15:38:01.624241Z',\n",
       "   'mod_date': '2021-05-03T15:38:01.624241Z',\n",
       "   'parent': None,\n",
       "   'workflow_type': 'http://localhost:8000/api/workflowtype/3ca65def-1c40-45bc-87a8-97ee0a062a00/',\n",
       "   'actor': 'http://localhost:8000/api/actor/d9b24fd8-b799-43b3-9fe1-c242edd755c8/',\n",
       "   'status': None},\n",
       "  {'url': 'http://localhost:8000/api/workflow/8a39f16e-1a77-4433-aa2f-58d806a171db/',\n",
       "   'uuid': '8a39f16e-1a77-4433-aa2f-58d806a171db',\n",
       "   'edocs': [],\n",
       "   'tags': [],\n",
       "   'notes': [],\n",
       "   'step': [{'url': 'http://localhost:8000/api/workflowstep/25adb331-c7bc-456d-a0b7-48b654808c3d/',\n",
       "     'uuid': '25adb331-c7bc-456d-a0b7-48b654808c3d',\n",
       "     'edocs': [],\n",
       "     'tags': [],\n",
       "     'notes': [],\n",
       "     'workflow_object': 'http://localhost:8000/api/workflowobject/80971078-9a52-441d-a672-df6fe55593d0/',\n",
       "     'workflow_description': 'Dispense Acid Vol 2',\n",
       "     'parent_object_type': None,\n",
       "     'parent_object_description': None,\n",
       "     'parent_path': None,\n",
       "     'conditional_val': None,\n",
       "     'conditional_value': None,\n",
       "     'status_description': None,\n",
       "     'add_date': '2021-05-03T15:38:02.121313Z',\n",
       "     'mod_date': '2021-05-03T15:38:02.121313Z',\n",
       "     'workflow': 'http://localhost:8000/api/workflow/8a39f16e-1a77-4433-aa2f-58d806a171db/',\n",
       "     'parent': None,\n",
       "     'status': None},\n",
       "    {'url': 'http://localhost:8000/api/workflowstep/b4f4b4b3-da6f-4689-87ad-fda71df9924b/',\n",
       "     'uuid': 'b4f4b4b3-da6f-4689-87ad-fda71df9924b',\n",
       "     'edocs': [],\n",
       "     'tags': [],\n",
       "     'notes': [],\n",
       "     'workflow_object': 'http://localhost:8000/api/workflowobject/8491b908-8097-4142-83d2-c56d21503f39/',\n",
       "     'workflow_description': 'Dispense Acid Vol 2',\n",
       "     'parent_object_type': 'action',\n",
       "     'parent_object_description': 'Dispense Acid Vol 2: Acid -> Plate: Plate well#: A1',\n",
       "     'parent_path': None,\n",
       "     'conditional_val': None,\n",
       "     'conditional_value': None,\n",
       "     'status_description': None,\n",
       "     'add_date': '2021-05-03T15:38:02.121313Z',\n",
       "     'mod_date': '2021-05-03T15:38:02.121313Z',\n",
       "     'workflow': 'http://localhost:8000/api/workflow/8a39f16e-1a77-4433-aa2f-58d806a171db/',\n",
       "     'parent': 'http://localhost:8000/api/workflowstep/25adb331-c7bc-456d-a0b7-48b654808c3d/',\n",
       "     'status': None}],\n",
       "   'description': 'Dispense Acid Vol 2',\n",
       "   'workflow_type_description': 'template',\n",
       "   'actor_description': 'Mike Tynes',\n",
       "   'status_description': None,\n",
       "   'add_date': '2021-05-03T15:38:01.624241Z',\n",
       "   'mod_date': '2021-05-03T15:38:01.624241Z',\n",
       "   'parent': None,\n",
       "   'workflow_type': 'http://localhost:8000/api/workflowtype/3ca65def-1c40-45bc-87a8-97ee0a062a00/',\n",
       "   'actor': 'http://localhost:8000/api/actor/d9b24fd8-b799-43b3-9fe1-c242edd755c8/',\n",
       "   'status': None}]}"
      ]
     },
     "execution_count": 23,
     "metadata": {},
     "output_type": "execute_result"
    }
   ],
   "source": [
    "perovskite_template"
   ]
  },
  {
   "cell_type": "code",
   "execution_count": null,
   "id": "c20cd93d-e568-4efe-8c8b-85278f624d2d",
   "metadata": {},
   "outputs": [],
   "source": []
  },
  {
   "cell_type": "code",
   "execution_count": null,
   "id": "0d47ad69-d4be-4bc3-be3b-ce7a01e27396",
   "metadata": {},
   "outputs": [],
   "source": []
  },
  {
   "cell_type": "markdown",
   "id": "confidential-eleven",
   "metadata": {},
   "source": [
    "## Bill of Materials\n",
    "\n",
    "The initial materials: think list of materials in methods section of paper"
   ]
  },
  {
   "cell_type": "code",
   "execution_count": null,
   "id": "721039eb-3e7f-4a0b-8239-9c05da25438b",
   "metadata": {},
   "outputs": [],
   "source": []
  },
  {
   "cell_type": "markdown",
   "id": "585320b0-c1d5-4fc1-9ae7-1a840d90e5bb",
   "metadata": {},
   "source": [
    "These are the Bill of Materials' Material entries for this experiment: "
   ]
  },
  {
   "cell_type": "code",
   "execution_count": 24,
   "id": "73f3cdb1-b5c4-45f6-a01f-aedcecd5db27",
   "metadata": {
    "tags": []
   },
   "outputs": [
    {
     "name": "stdout",
     "output_type": "stream",
     "text": [
      "<Response [200]>\n",
      "GET: OK\n",
      "Found 5 resources, returning list of dicts)\n"
     ]
    },
    {
     "data": {
      "text/plain": [
       "[{'description': 'Stock B'},\n",
       " {'description': 'Solvent'},\n",
       " {'description': 'Plate'},\n",
       " {'description': 'Stock A'},\n",
       " {'description': 'Acid'}]"
      ]
     },
     "execution_count": 24,
     "metadata": {},
     "output_type": "execute_result"
    }
   ],
   "source": [
    "get_data('bommaterial', {'bom':perovskite_template['bill_of_materials'][0]['uuid'], \n",
    "                        'fields':['description']})"
   ]
  },
  {
   "cell_type": "code",
   "execution_count": 25,
   "id": "093e61c6-e9e4-46d2-bb71-5830f7a86000",
   "metadata": {
    "tags": []
   },
   "outputs": [
    {
     "name": "stdout",
     "output_type": "stream",
     "text": [
      "<Response [200]>\n",
      "GET: OK\n",
      "Found 7 resources, returning list of dicts)\n"
     ]
    },
    {
     "data": {
      "text/plain": [
       "[{'composite_description': 'Stock A',\n",
       "  'component_description': 'Lead Diiodide'},\n",
       " {'composite_description': 'Stock A',\n",
       "  'component_description': 'Ethylammonium Iodide'},\n",
       " {'composite_description': 'Stock A',\n",
       "  'component_description': 'Gamma-Butyrolactone'},\n",
       " {'composite_description': 'Stock B',\n",
       "  'component_description': 'Ethylammonium Iodide'},\n",
       " {'composite_description': 'Stock B',\n",
       "  'component_description': 'Gamma-Butyrolactone'},\n",
       " {'composite_description': 'Stock FAH',\n",
       "  'component_description': 'Formic Acid'},\n",
       " {'composite_description': 'Stock FAH', 'component_description': 'Water'}]"
      ]
     },
     "execution_count": 25,
     "metadata": {},
     "output_type": "execute_result"
    }
   ],
   "source": [
    "get_data('compositematerial', {'composite_description__startswith':'Stock', \n",
    "                               'fields': ['composite_description',\n",
    "                                          'component_description']})"
   ]
  },
  {
   "cell_type": "markdown",
   "id": "2223fcc0-bb8b-4cd8-a7ec-7007435e2c42",
   "metadata": {},
   "source": [
    "#### We could drill further to get the concentrations, properties, etc"
   ]
  },
  {
   "cell_type": "markdown",
   "id": "reported-rating",
   "metadata": {},
   "source": [
    "### Workflows: Logical groups of actions"
   ]
  },
  {
   "cell_type": "markdown",
   "id": "23650bd5-79e4-490b-b9f9-ef7d5900a1d4",
   "metadata": {},
   "source": [
    "Each of these contains a set of parameters that we can edit"
   ]
  },
  {
   "cell_type": "code",
   "execution_count": 26,
   "id": "6239a623-b119-4a43-991e-1835940633f6",
   "metadata": {},
   "outputs": [
    {
     "name": "stdout",
     "output_type": "stream",
     "text": [
      "<Response [200]>\n",
      "GET: OK\n",
      "Found one resource, returning dict\n"
     ]
    },
    {
     "data": {
      "text/plain": [
       "['Perovskite Demo: Preheat Plate',\n",
       " 'Perovskite Demo: Prepare Stock A',\n",
       " 'Perovskite Demo: Prepare Stock B',\n",
       " 'Perovskite Demo: Dispense Solvent',\n",
       " 'Perovskite Demo: Dispense Stock A',\n",
       " 'Perovskite Demo: Dispense Stock B',\n",
       " 'Perovskite Demo: Dispense Acid Vol 1',\n",
       " 'Perovskite Demo: Heat Stir 1',\n",
       " 'Perovskite Demo: Dispense Acid Vol 2',\n",
       " 'Perovskite Demo: Heat Stir 2',\n",
       " 'Perovskite Demo: Heat']"
      ]
     },
     "execution_count": 26,
     "metadata": {},
     "output_type": "execute_result"
    }
   ],
   "source": [
    "perovskite_demo = get_data('experimenttemplate',\n",
    "         {'description': 'perovskite_demo',\n",
    "          'expand': 'workflow'})\n",
    "[wf['description'] for wf in perovskite_demo['workflow']]"
   ]
  },
  {
   "cell_type": "code",
   "execution_count": 27,
   "id": "3fedc754-c9d2-4789-8d90-98a20cec2a9a",
   "metadata": {},
   "outputs": [
    {
     "data": {
      "text/plain": [
       "{'url': 'http://localhost:8000/api/workflowstep/25725c7b-269f-4bdc-90d9-7a875e2dff87/',\n",
       " 'uuid': '25725c7b-269f-4bdc-90d9-7a875e2dff87',\n",
       " 'edocs': [],\n",
       " 'tags': [],\n",
       " 'notes': [],\n",
       " 'workflow_object': 'http://localhost:8000/api/workflowobject/61a44486-f75f-46a1-ae4c-4e64b84bcaf0/',\n",
       " 'workflow_description': 'Perovskite Demo: Dispense Solvent',\n",
       " 'parent_object_type': 'action',\n",
       " 'parent_object_description': 'Perovskite Demo: Dispense Solvent: Solvent -> Plate: 96 Well Plate well#: A4',\n",
       " 'parent_path': None,\n",
       " 'conditional_val': None,\n",
       " 'conditional_value': None,\n",
       " 'status_description': None,\n",
       " 'add_date': '2021-05-03T15:38:03.802814Z',\n",
       " 'mod_date': '2021-05-03T15:38:03.802814Z',\n",
       " 'workflow': 'http://localhost:8000/api/workflow/cdb3791d-1cfc-4386-b516-f5bb91f0b974/',\n",
       " 'parent': 'http://localhost:8000/api/workflowstep/69c17f15-78b1-4446-b116-aa094e408f96/',\n",
       " 'status': None}"
      ]
     },
     "execution_count": 27,
     "metadata": {},
     "output_type": "execute_result"
    }
   ],
   "source": [
    "dispense_solvent_wf = perovskite_demo['workflow'][3] # pull out a workflow\n",
    "example_steps = dispense_solvent_wf['step'][4]     # pull out some steps\n",
    "example_steps"
   ]
  },
  {
   "cell_type": "code",
   "execution_count": null,
   "id": "fcb60836-150a-4f19-84b6-e87f76cfd14d",
   "metadata": {},
   "outputs": [],
   "source": []
  },
  {
   "cell_type": "code",
   "execution_count": null,
   "id": "a82db962-9aa4-47ac-9d4b-0c19d7a5adce",
   "metadata": {},
   "outputs": [],
   "source": []
  },
  {
   "cell_type": "code",
   "execution_count": null,
   "id": "2b650cab-6b7e-4be6-b88d-30374968c9a5",
   "metadata": {},
   "outputs": [],
   "source": []
  },
  {
   "cell_type": "markdown",
   "id": "4d767ea5-ae79-4182-8838-ccdc0dc93783",
   "metadata": {},
   "source": [
    "## Creating a new workflow from a template\n",
    "\n",
    "If I want create an instance experiment from a template I: "
   ]
  },
  {
   "cell_type": "code",
   "execution_count": 28,
   "id": "b3a34151-e92e-4c9f-bc4d-08f3c335fa93",
   "metadata": {
    "tags": []
   },
   "outputs": [
    {
     "name": "stdout",
     "output_type": "stream",
     "text": [
      "<Response [200]>\n",
      "GET: OK\n"
     ]
    }
   ],
   "source": [
    "editable_template = get_data(\n",
    "    # template endpoint  /        template ID      / create an instance of this template \n",
    "    f'experimenttemplate/{perovskite_demo[\"uuid\"]}/create'\n",
    ")"
   ]
  },
  {
   "cell_type": "code",
   "execution_count": 29,
   "id": "bd7b5c1e-76d7-416b-a143-19aaa5b46bc2",
   "metadata": {
    "scrolled": true,
    "tags": []
   },
   "outputs": [
    {
     "data": {
      "text/plain": [
       "{'experiment_name': '',\n",
       " 'material_parameters': [{'material_name': 'Stock B',\n",
       "   'value': 'http://localhost:8000/api/inventorymaterial/44a2a5a2-41df-4f96-abc9-7cea4668c79f/'},\n",
       "  {'material_name': 'Solvent',\n",
       "   'value': 'http://localhost:8000/api/inventorymaterial/6c88c051-e09c-420c-b0f5-391e8830311b/'},\n",
       "  {'material_name': 'Organic',\n",
       "   'value': 'http://localhost:8000/api/inventorymaterial/ad10fc51-af44-4db1-b63d-e3fe816f2ef9/'},\n",
       "  {'material_name': 'Plate',\n",
       "   'value': 'http://localhost:8000/api/inventorymaterial/a2f304e9-b23b-49fc-a927-b6297d67ec52/'},\n",
       "  {'material_name': 'Stock A',\n",
       "   'value': 'http://localhost:8000/api/inventorymaterial/44a2a5a2-41df-4f96-abc9-7cea4668c79f/'},\n",
       "  {'material_name': 'Acid',\n",
       "   'value': 'http://localhost:8000/api/inventorymaterial/4b7ff63b-fe11-4853-9344-f26e3f947ed8/'},\n",
       "  {'material_name': 'Inorganic',\n",
       "   'value': 'http://localhost:8000/api/inventorymaterial/fb04d115-84ce-4e76-82c3-9ef530dee4b8/'}],\n",
       " 'experiment_parameters_1': [{'object_description': 'Perovskite Demo: Add Solvent to Stock A',\n",
       "   'parameter_def_description': 'volume',\n",
       "   'value': {'value': 0.0, 'unit': 'mL', 'type': 'num'}},\n",
       "  {'object_description': 'Perovskite Demo: Add Organic to Stock A',\n",
       "   'parameter_def_description': 'mass',\n",
       "   'value': {'value': 0.0, 'unit': 'mg', 'type': 'num'}},\n",
       "  {'object_description': 'Perovskite Demo: Add Inorganic to Stock A',\n",
       "   'parameter_def_description': 'mass',\n",
       "   'value': {'value': 0.0, 'unit': 'mg', 'type': 'num'}},\n",
       "  {'object_description': 'Perovskite Demo: Add Solvent to Stock B',\n",
       "   'parameter_def_description': 'volume',\n",
       "   'value': {'value': 0.0, 'unit': 'mL', 'type': 'num'}},\n",
       "  {'object_description': 'Perovskite Demo: Add Organic to Stock B',\n",
       "   'parameter_def_description': 'mass',\n",
       "   'value': {'value': 0.0, 'unit': 'mg', 'type': 'num'}},\n",
       "  {'object_description': 'Perovskite Demo: Preheat Plate',\n",
       "   'parameter_def_description': 'temperature',\n",
       "   'value': {'value': 0.0, 'unit': 'degC', 'type': 'num'}},\n",
       "  {'object_description': 'Perovskite Demo: Heat Stir 1',\n",
       "   'parameter_def_description': 'duration',\n",
       "   'value': {'value': 0.0, 'unit': 'mins', 'type': 'num'}},\n",
       "  {'object_description': 'Perovskite Demo: Heat Stir 1',\n",
       "   'parameter_def_description': 'temperature',\n",
       "   'value': {'value': 0.0, 'unit': 'degC', 'type': 'num'}},\n",
       "  {'object_description': 'Perovskite Demo: Heat Stir 1',\n",
       "   'parameter_def_description': 'speed',\n",
       "   'value': {'value': 0.0, 'unit': 'rpm', 'type': 'num'}},\n",
       "  {'object_description': 'Perovskite Demo: Heat Stir 2',\n",
       "   'parameter_def_description': 'duration',\n",
       "   'value': {'value': 0.0, 'unit': 'mins', 'type': 'num'}},\n",
       "  {'object_description': 'Perovskite Demo: Heat Stir 2',\n",
       "   'parameter_def_description': 'temperature',\n",
       "   'value': {'value': 0.0, 'unit': 'degC', 'type': 'num'}},\n",
       "  {'object_description': 'Perovskite Demo: Heat Stir 2',\n",
       "   'parameter_def_description': 'speed',\n",
       "   'value': {'value': 0.0, 'unit': 'rpm', 'type': 'num'}},\n",
       "  {'object_description': 'Perovskite Demo: Heat',\n",
       "   'parameter_def_description': 'duration',\n",
       "   'value': {'value': 0.0, 'unit': 'mins', 'type': 'num'}},\n",
       "  {'object_description': 'Perovskite Demo: Heat',\n",
       "   'parameter_def_description': 'temperature',\n",
       "   'value': {'value': 0.0, 'unit': 'degC', 'type': 'num'}}],\n",
       " 'experiment_parameters_2': [],\n",
       " 'experiment_parameters_3': [{'object_description': 'Dispense Stock B',\n",
       "   'parameter_def_description': 'Sample Stock B Volume',\n",
       "   'value': {'value': [0,\n",
       "     0,\n",
       "     0,\n",
       "     0,\n",
       "     0,\n",
       "     0,\n",
       "     0,\n",
       "     0,\n",
       "     0,\n",
       "     0,\n",
       "     0,\n",
       "     0,\n",
       "     0,\n",
       "     0,\n",
       "     0,\n",
       "     0,\n",
       "     0,\n",
       "     0,\n",
       "     0,\n",
       "     0,\n",
       "     0,\n",
       "     0,\n",
       "     0,\n",
       "     0,\n",
       "     0,\n",
       "     0,\n",
       "     0,\n",
       "     0,\n",
       "     0,\n",
       "     0,\n",
       "     0,\n",
       "     0,\n",
       "     0,\n",
       "     0,\n",
       "     0,\n",
       "     0,\n",
       "     0,\n",
       "     0,\n",
       "     0,\n",
       "     0,\n",
       "     0,\n",
       "     0,\n",
       "     0,\n",
       "     0,\n",
       "     0,\n",
       "     0,\n",
       "     0,\n",
       "     0,\n",
       "     0,\n",
       "     0,\n",
       "     0,\n",
       "     0,\n",
       "     0,\n",
       "     0,\n",
       "     0,\n",
       "     0,\n",
       "     0,\n",
       "     0,\n",
       "     0,\n",
       "     0,\n",
       "     0,\n",
       "     0,\n",
       "     0,\n",
       "     0,\n",
       "     0,\n",
       "     0,\n",
       "     0,\n",
       "     0,\n",
       "     0,\n",
       "     0,\n",
       "     0,\n",
       "     0,\n",
       "     0,\n",
       "     0,\n",
       "     0,\n",
       "     0,\n",
       "     0,\n",
       "     0,\n",
       "     0,\n",
       "     0,\n",
       "     0,\n",
       "     0,\n",
       "     0,\n",
       "     0,\n",
       "     0,\n",
       "     0,\n",
       "     0,\n",
       "     0,\n",
       "     0,\n",
       "     0,\n",
       "     0,\n",
       "     0,\n",
       "     0,\n",
       "     0,\n",
       "     0,\n",
       "     0],\n",
       "    'unit': 'mL',\n",
       "    'type': 'array_num'}},\n",
       "  {'object_description': 'Perovskite Demo: Dispense Solvent',\n",
       "   'parameter_def_description': 'Sample Solvent Volume',\n",
       "   'value': {'value': [0,\n",
       "     0,\n",
       "     0,\n",
       "     0,\n",
       "     0,\n",
       "     0,\n",
       "     0,\n",
       "     0,\n",
       "     0,\n",
       "     0,\n",
       "     0,\n",
       "     0,\n",
       "     0,\n",
       "     0,\n",
       "     0,\n",
       "     0,\n",
       "     0,\n",
       "     0,\n",
       "     0,\n",
       "     0,\n",
       "     0,\n",
       "     0,\n",
       "     0,\n",
       "     0,\n",
       "     0,\n",
       "     0,\n",
       "     0,\n",
       "     0,\n",
       "     0,\n",
       "     0,\n",
       "     0,\n",
       "     0,\n",
       "     0,\n",
       "     0,\n",
       "     0,\n",
       "     0,\n",
       "     0,\n",
       "     0,\n",
       "     0,\n",
       "     0,\n",
       "     0,\n",
       "     0,\n",
       "     0,\n",
       "     0,\n",
       "     0,\n",
       "     0,\n",
       "     0,\n",
       "     0,\n",
       "     0,\n",
       "     0,\n",
       "     0,\n",
       "     0,\n",
       "     0,\n",
       "     0,\n",
       "     0,\n",
       "     0,\n",
       "     0,\n",
       "     0,\n",
       "     0,\n",
       "     0,\n",
       "     0,\n",
       "     0,\n",
       "     0,\n",
       "     0,\n",
       "     0,\n",
       "     0,\n",
       "     0,\n",
       "     0,\n",
       "     0,\n",
       "     0,\n",
       "     0,\n",
       "     0,\n",
       "     0,\n",
       "     0,\n",
       "     0,\n",
       "     0,\n",
       "     0,\n",
       "     0,\n",
       "     0,\n",
       "     0,\n",
       "     0,\n",
       "     0,\n",
       "     0,\n",
       "     0,\n",
       "     0,\n",
       "     0,\n",
       "     0,\n",
       "     0,\n",
       "     0,\n",
       "     0,\n",
       "     0,\n",
       "     0,\n",
       "     0,\n",
       "     0,\n",
       "     0,\n",
       "     0],\n",
       "    'unit': 'mL',\n",
       "    'type': 'array_num'}},\n",
       "  {'object_description': 'Dispense Acid Vol 1',\n",
       "   'parameter_def_description': 'Sample Acid Volume 1',\n",
       "   'value': {'value': [0,\n",
       "     0,\n",
       "     0,\n",
       "     0,\n",
       "     0,\n",
       "     0,\n",
       "     0,\n",
       "     0,\n",
       "     0,\n",
       "     0,\n",
       "     0,\n",
       "     0,\n",
       "     0,\n",
       "     0,\n",
       "     0,\n",
       "     0,\n",
       "     0,\n",
       "     0,\n",
       "     0,\n",
       "     0,\n",
       "     0,\n",
       "     0,\n",
       "     0,\n",
       "     0,\n",
       "     0,\n",
       "     0,\n",
       "     0,\n",
       "     0,\n",
       "     0,\n",
       "     0,\n",
       "     0,\n",
       "     0,\n",
       "     0,\n",
       "     0,\n",
       "     0,\n",
       "     0,\n",
       "     0,\n",
       "     0,\n",
       "     0,\n",
       "     0,\n",
       "     0,\n",
       "     0,\n",
       "     0,\n",
       "     0,\n",
       "     0,\n",
       "     0,\n",
       "     0,\n",
       "     0,\n",
       "     0,\n",
       "     0,\n",
       "     0,\n",
       "     0,\n",
       "     0,\n",
       "     0,\n",
       "     0,\n",
       "     0,\n",
       "     0,\n",
       "     0,\n",
       "     0,\n",
       "     0,\n",
       "     0,\n",
       "     0,\n",
       "     0,\n",
       "     0,\n",
       "     0,\n",
       "     0,\n",
       "     0,\n",
       "     0,\n",
       "     0,\n",
       "     0,\n",
       "     0,\n",
       "     0,\n",
       "     0,\n",
       "     0,\n",
       "     0,\n",
       "     0,\n",
       "     0,\n",
       "     0,\n",
       "     0,\n",
       "     0,\n",
       "     0,\n",
       "     0,\n",
       "     0,\n",
       "     0,\n",
       "     0,\n",
       "     0,\n",
       "     0,\n",
       "     0,\n",
       "     0,\n",
       "     0,\n",
       "     0,\n",
       "     0,\n",
       "     0,\n",
       "     0,\n",
       "     0,\n",
       "     0],\n",
       "    'unit': 'mL',\n",
       "    'type': 'array_num'}},\n",
       "  {'object_description': 'Dispense Acid Vol 2',\n",
       "   'parameter_def_description': 'Sample Acid Volume 2',\n",
       "   'value': {'value': [0,\n",
       "     0,\n",
       "     0,\n",
       "     0,\n",
       "     0,\n",
       "     0,\n",
       "     0,\n",
       "     0,\n",
       "     0,\n",
       "     0,\n",
       "     0,\n",
       "     0,\n",
       "     0,\n",
       "     0,\n",
       "     0,\n",
       "     0,\n",
       "     0,\n",
       "     0,\n",
       "     0,\n",
       "     0,\n",
       "     0,\n",
       "     0,\n",
       "     0,\n",
       "     0,\n",
       "     0,\n",
       "     0,\n",
       "     0,\n",
       "     0,\n",
       "     0,\n",
       "     0,\n",
       "     0,\n",
       "     0,\n",
       "     0,\n",
       "     0,\n",
       "     0,\n",
       "     0,\n",
       "     0,\n",
       "     0,\n",
       "     0,\n",
       "     0,\n",
       "     0,\n",
       "     0,\n",
       "     0,\n",
       "     0,\n",
       "     0,\n",
       "     0,\n",
       "     0,\n",
       "     0,\n",
       "     0,\n",
       "     0,\n",
       "     0,\n",
       "     0,\n",
       "     0,\n",
       "     0,\n",
       "     0,\n",
       "     0,\n",
       "     0,\n",
       "     0,\n",
       "     0,\n",
       "     0,\n",
       "     0,\n",
       "     0,\n",
       "     0,\n",
       "     0,\n",
       "     0,\n",
       "     0,\n",
       "     0,\n",
       "     0,\n",
       "     0,\n",
       "     0,\n",
       "     0,\n",
       "     0,\n",
       "     0,\n",
       "     0,\n",
       "     0,\n",
       "     0,\n",
       "     0,\n",
       "     0,\n",
       "     0,\n",
       "     0,\n",
       "     0,\n",
       "     0,\n",
       "     0,\n",
       "     0,\n",
       "     0,\n",
       "     0,\n",
       "     0,\n",
       "     0,\n",
       "     0,\n",
       "     0,\n",
       "     0,\n",
       "     0,\n",
       "     0,\n",
       "     0,\n",
       "     0,\n",
       "     0],\n",
       "    'unit': 'mL',\n",
       "    'type': 'array_num'}},\n",
       "  {'object_description': 'Dispense Stock A',\n",
       "   'parameter_def_description': 'Sample Stock A Volume',\n",
       "   'value': {'value': [0,\n",
       "     0,\n",
       "     0,\n",
       "     0,\n",
       "     0,\n",
       "     0,\n",
       "     0,\n",
       "     0,\n",
       "     0,\n",
       "     0,\n",
       "     0,\n",
       "     0,\n",
       "     0,\n",
       "     0,\n",
       "     0,\n",
       "     0,\n",
       "     0,\n",
       "     0,\n",
       "     0,\n",
       "     0,\n",
       "     0,\n",
       "     0,\n",
       "     0,\n",
       "     0,\n",
       "     0,\n",
       "     0,\n",
       "     0,\n",
       "     0,\n",
       "     0,\n",
       "     0,\n",
       "     0,\n",
       "     0,\n",
       "     0,\n",
       "     0,\n",
       "     0,\n",
       "     0,\n",
       "     0,\n",
       "     0,\n",
       "     0,\n",
       "     0,\n",
       "     0,\n",
       "     0,\n",
       "     0,\n",
       "     0,\n",
       "     0,\n",
       "     0,\n",
       "     0,\n",
       "     0,\n",
       "     0,\n",
       "     0,\n",
       "     0,\n",
       "     0,\n",
       "     0,\n",
       "     0,\n",
       "     0,\n",
       "     0,\n",
       "     0,\n",
       "     0,\n",
       "     0,\n",
       "     0,\n",
       "     0,\n",
       "     0,\n",
       "     0,\n",
       "     0,\n",
       "     0,\n",
       "     0,\n",
       "     0,\n",
       "     0,\n",
       "     0,\n",
       "     0,\n",
       "     0,\n",
       "     0,\n",
       "     0,\n",
       "     0,\n",
       "     0,\n",
       "     0,\n",
       "     0,\n",
       "     0,\n",
       "     0,\n",
       "     0,\n",
       "     0,\n",
       "     0,\n",
       "     0,\n",
       "     0,\n",
       "     0,\n",
       "     0,\n",
       "     0,\n",
       "     0,\n",
       "     0,\n",
       "     0,\n",
       "     0,\n",
       "     0,\n",
       "     0,\n",
       "     0,\n",
       "     0,\n",
       "     0],\n",
       "    'unit': 'mL',\n",
       "    'type': 'array_num'}}]}"
      ]
     },
     "execution_count": 29,
     "metadata": {},
     "output_type": "execute_result"
    }
   ],
   "source": [
    "editable_template"
   ]
  },
  {
   "cell_type": "markdown",
   "id": "922b7219-d2fc-47e6-a56d-59761e7c185c",
   "metadata": {},
   "source": [
    "Can also give arrays of values over 96 well plates"
   ]
  },
  {
   "cell_type": "code",
   "execution_count": 30,
   "id": "3cb8482e-6d51-4f7c-acc4-b7e0915ace90",
   "metadata": {},
   "outputs": [],
   "source": [
    "editable_template['experiment_parameters_1'][0]['value']['value'] = 1.1"
   ]
  },
  {
   "cell_type": "code",
   "execution_count": 31,
   "id": "33a8b324-ae66-4ca9-a7ff-54cde3f923ff",
   "metadata": {
    "scrolled": true,
    "tags": []
   },
   "outputs": [],
   "source": [
    "editable_template['material_parameters'][1]['value'] = 'http://localhost:8000/api/inventorymaterial/c2faef65-3d6b-43cb-8b8f-fd4c1c1e71aa/'"
   ]
  },
  {
   "cell_type": "markdown",
   "id": "36db1d2c-605e-4ac6-bd36-f9e82e03ce10",
   "metadata": {},
   "source": [
    "Todo: \n",
    "\n",
    "\n",
    "* .value.value is wierd \n",
    "* get parameters in the editable tempalte by name rather than index? \n",
    "* Write unit tests for \n",
    "    * q1, q2, q3, q1_material\n",
    "    * right now it looks like only q1 works\n",
    "    * q3 needs ad-hoc logic until calculation is fixed\n",
    "    * q1_mat fails\n",
    "    * q2 is untested"
   ]
  },
  {
   "cell_type": "code",
   "execution_count": 32,
   "id": "a544cbec-6371-4498-8b18-d08fa4635e27",
   "metadata": {
    "tags": []
   },
   "outputs": [],
   "source": [
    "from IPython.display import JSON"
   ]
  },
  {
   "cell_type": "code",
   "execution_count": 33,
   "id": "5c4fae73-8c5f-4d93-b9a7-e2f459c8b568",
   "metadata": {},
   "outputs": [
    {
     "data": {
      "application/json": {
       "experiment_name": "",
       "experiment_parameters_1": [
        {
         "object_description": "Perovskite Demo: Add Solvent to Stock A",
         "parameter_def_description": "volume",
         "value": {
          "type": "num",
          "unit": "mL",
          "value": 1.1
         }
        },
        {
         "object_description": "Perovskite Demo: Add Organic to Stock A",
         "parameter_def_description": "mass",
         "value": {
          "type": "num",
          "unit": "mg",
          "value": 0
         }
        },
        {
         "object_description": "Perovskite Demo: Add Inorganic to Stock A",
         "parameter_def_description": "mass",
         "value": {
          "type": "num",
          "unit": "mg",
          "value": 0
         }
        },
        {
         "object_description": "Perovskite Demo: Add Solvent to Stock B",
         "parameter_def_description": "volume",
         "value": {
          "type": "num",
          "unit": "mL",
          "value": 0
         }
        },
        {
         "object_description": "Perovskite Demo: Add Organic to Stock B",
         "parameter_def_description": "mass",
         "value": {
          "type": "num",
          "unit": "mg",
          "value": 0
         }
        },
        {
         "object_description": "Perovskite Demo: Preheat Plate",
         "parameter_def_description": "temperature",
         "value": {
          "type": "num",
          "unit": "degC",
          "value": 0
         }
        },
        {
         "object_description": "Perovskite Demo: Heat Stir 1",
         "parameter_def_description": "duration",
         "value": {
          "type": "num",
          "unit": "mins",
          "value": 0
         }
        },
        {
         "object_description": "Perovskite Demo: Heat Stir 1",
         "parameter_def_description": "temperature",
         "value": {
          "type": "num",
          "unit": "degC",
          "value": 0
         }
        },
        {
         "object_description": "Perovskite Demo: Heat Stir 1",
         "parameter_def_description": "speed",
         "value": {
          "type": "num",
          "unit": "rpm",
          "value": 0
         }
        },
        {
         "object_description": "Perovskite Demo: Heat Stir 2",
         "parameter_def_description": "duration",
         "value": {
          "type": "num",
          "unit": "mins",
          "value": 0
         }
        },
        {
         "object_description": "Perovskite Demo: Heat Stir 2",
         "parameter_def_description": "temperature",
         "value": {
          "type": "num",
          "unit": "degC",
          "value": 0
         }
        },
        {
         "object_description": "Perovskite Demo: Heat Stir 2",
         "parameter_def_description": "speed",
         "value": {
          "type": "num",
          "unit": "rpm",
          "value": 0
         }
        },
        {
         "object_description": "Perovskite Demo: Heat",
         "parameter_def_description": "duration",
         "value": {
          "type": "num",
          "unit": "mins",
          "value": 0
         }
        },
        {
         "object_description": "Perovskite Demo: Heat",
         "parameter_def_description": "temperature",
         "value": {
          "type": "num",
          "unit": "degC",
          "value": 0
         }
        }
       ],
       "experiment_parameters_2": [],
       "experiment_parameters_3": [
        {
         "object_description": "Dispense Stock B",
         "parameter_def_description": "Sample Stock B Volume",
         "value": {
          "type": "array_num",
          "unit": "mL",
          "value": [
           0,
           0,
           0,
           0,
           0,
           0,
           0,
           0,
           0,
           0,
           0,
           0,
           0,
           0,
           0,
           0,
           0,
           0,
           0,
           0,
           0,
           0,
           0,
           0,
           0,
           0,
           0,
           0,
           0,
           0,
           0,
           0,
           0,
           0,
           0,
           0,
           0,
           0,
           0,
           0,
           0,
           0,
           0,
           0,
           0,
           0,
           0,
           0,
           0,
           0,
           0,
           0,
           0,
           0,
           0,
           0,
           0,
           0,
           0,
           0,
           0,
           0,
           0,
           0,
           0,
           0,
           0,
           0,
           0,
           0,
           0,
           0,
           0,
           0,
           0,
           0,
           0,
           0,
           0,
           0,
           0,
           0,
           0,
           0,
           0,
           0,
           0,
           0,
           0,
           0,
           0,
           0,
           0,
           0,
           0,
           0
          ]
         }
        },
        {
         "object_description": "Perovskite Demo: Dispense Solvent",
         "parameter_def_description": "Sample Solvent Volume",
         "value": {
          "type": "array_num",
          "unit": "mL",
          "value": [
           0,
           0,
           0,
           0,
           0,
           0,
           0,
           0,
           0,
           0,
           0,
           0,
           0,
           0,
           0,
           0,
           0,
           0,
           0,
           0,
           0,
           0,
           0,
           0,
           0,
           0,
           0,
           0,
           0,
           0,
           0,
           0,
           0,
           0,
           0,
           0,
           0,
           0,
           0,
           0,
           0,
           0,
           0,
           0,
           0,
           0,
           0,
           0,
           0,
           0,
           0,
           0,
           0,
           0,
           0,
           0,
           0,
           0,
           0,
           0,
           0,
           0,
           0,
           0,
           0,
           0,
           0,
           0,
           0,
           0,
           0,
           0,
           0,
           0,
           0,
           0,
           0,
           0,
           0,
           0,
           0,
           0,
           0,
           0,
           0,
           0,
           0,
           0,
           0,
           0,
           0,
           0,
           0,
           0,
           0,
           0
          ]
         }
        },
        {
         "object_description": "Dispense Acid Vol 1",
         "parameter_def_description": "Sample Acid Volume 1",
         "value": {
          "type": "array_num",
          "unit": "mL",
          "value": [
           0,
           0,
           0,
           0,
           0,
           0,
           0,
           0,
           0,
           0,
           0,
           0,
           0,
           0,
           0,
           0,
           0,
           0,
           0,
           0,
           0,
           0,
           0,
           0,
           0,
           0,
           0,
           0,
           0,
           0,
           0,
           0,
           0,
           0,
           0,
           0,
           0,
           0,
           0,
           0,
           0,
           0,
           0,
           0,
           0,
           0,
           0,
           0,
           0,
           0,
           0,
           0,
           0,
           0,
           0,
           0,
           0,
           0,
           0,
           0,
           0,
           0,
           0,
           0,
           0,
           0,
           0,
           0,
           0,
           0,
           0,
           0,
           0,
           0,
           0,
           0,
           0,
           0,
           0,
           0,
           0,
           0,
           0,
           0,
           0,
           0,
           0,
           0,
           0,
           0,
           0,
           0,
           0,
           0,
           0,
           0
          ]
         }
        },
        {
         "object_description": "Dispense Acid Vol 2",
         "parameter_def_description": "Sample Acid Volume 2",
         "value": {
          "type": "array_num",
          "unit": "mL",
          "value": [
           0,
           0,
           0,
           0,
           0,
           0,
           0,
           0,
           0,
           0,
           0,
           0,
           0,
           0,
           0,
           0,
           0,
           0,
           0,
           0,
           0,
           0,
           0,
           0,
           0,
           0,
           0,
           0,
           0,
           0,
           0,
           0,
           0,
           0,
           0,
           0,
           0,
           0,
           0,
           0,
           0,
           0,
           0,
           0,
           0,
           0,
           0,
           0,
           0,
           0,
           0,
           0,
           0,
           0,
           0,
           0,
           0,
           0,
           0,
           0,
           0,
           0,
           0,
           0,
           0,
           0,
           0,
           0,
           0,
           0,
           0,
           0,
           0,
           0,
           0,
           0,
           0,
           0,
           0,
           0,
           0,
           0,
           0,
           0,
           0,
           0,
           0,
           0,
           0,
           0,
           0,
           0,
           0,
           0,
           0,
           0
          ]
         }
        },
        {
         "object_description": "Dispense Stock A",
         "parameter_def_description": "Sample Stock A Volume",
         "value": {
          "type": "array_num",
          "unit": "mL",
          "value": [
           0,
           0,
           0,
           0,
           0,
           0,
           0,
           0,
           0,
           0,
           0,
           0,
           0,
           0,
           0,
           0,
           0,
           0,
           0,
           0,
           0,
           0,
           0,
           0,
           0,
           0,
           0,
           0,
           0,
           0,
           0,
           0,
           0,
           0,
           0,
           0,
           0,
           0,
           0,
           0,
           0,
           0,
           0,
           0,
           0,
           0,
           0,
           0,
           0,
           0,
           0,
           0,
           0,
           0,
           0,
           0,
           0,
           0,
           0,
           0,
           0,
           0,
           0,
           0,
           0,
           0,
           0,
           0,
           0,
           0,
           0,
           0,
           0,
           0,
           0,
           0,
           0,
           0,
           0,
           0,
           0,
           0,
           0,
           0,
           0,
           0,
           0,
           0,
           0,
           0,
           0,
           0,
           0,
           0,
           0,
           0
          ]
         }
        }
       ],
       "material_parameters": [
        {
         "material_name": "Stock B",
         "value": "http://localhost:8000/api/inventorymaterial/44a2a5a2-41df-4f96-abc9-7cea4668c79f/"
        },
        {
         "material_name": "Solvent",
         "value": "http://localhost:8000/api/inventorymaterial/c2faef65-3d6b-43cb-8b8f-fd4c1c1e71aa/"
        },
        {
         "material_name": "Organic",
         "value": "http://localhost:8000/api/inventorymaterial/ad10fc51-af44-4db1-b63d-e3fe816f2ef9/"
        },
        {
         "material_name": "Plate",
         "value": "http://localhost:8000/api/inventorymaterial/a2f304e9-b23b-49fc-a927-b6297d67ec52/"
        },
        {
         "material_name": "Stock A",
         "value": "http://localhost:8000/api/inventorymaterial/44a2a5a2-41df-4f96-abc9-7cea4668c79f/"
        },
        {
         "material_name": "Acid",
         "value": "http://localhost:8000/api/inventorymaterial/4b7ff63b-fe11-4853-9344-f26e3f947ed8/"
        },
        {
         "material_name": "Inorganic",
         "value": "http://localhost:8000/api/inventorymaterial/fb04d115-84ce-4e76-82c3-9ef530dee4b8/"
        }
       ]
      },
      "text/plain": [
       "<IPython.core.display.JSON object>"
      ]
     },
     "execution_count": 33,
     "metadata": {
      "application/json": {
       "expanded": false,
       "root": "root"
      }
     },
     "output_type": "execute_result"
    }
   ],
   "source": [
    "JSON(editable_template)"
   ]
  },
  {
   "cell_type": "code",
   "execution_count": 34,
   "id": "16722a59-81ce-4ce5-ae39-fe391540fcb6",
   "metadata": {},
   "outputs": [],
   "source": [
    "editable_template['experiment_name'] = 'test_perovskite_instance_updated'"
   ]
  },
  {
   "cell_type": "markdown",
   "id": "d392ae87-1ee2-4993-a5e5-b2611d8938aa",
   "metadata": {},
   "source": [
    "Suppose I edit this json then I can post the new template to the server"
   ]
  },
  {
   "cell_type": "code",
   "execution_count": 36,
   "id": "6e2ea0af-65d6-47cd-be0b-36917da05046",
   "metadata": {
    "tags": []
   },
   "outputs": [
    {
     "name": "stdout",
     "output_type": "stream",
     "text": [
      "<Response [200]>\n",
      "POST: OK, returning new resource dict\n",
      "CPU times: user 4.4 ms, sys: 2.69 ms, total: 7.09 ms\n",
      "Wall time: 1min 5s\n"
     ]
    }
   ],
   "source": [
    "%%time\n",
    "resp = post_data(\n",
    "    f'experimenttemplate/{perovskite_demo[\"uuid\"]}/create',\n",
    "    editable_template\n",
    ")"
   ]
  },
  {
   "cell_type": "markdown",
   "id": "270aba77-556f-4471-a4fc-e4bf156dcfee",
   "metadata": {},
   "source": [
    "This is pretty slow for unknown reasons"
   ]
  },
  {
   "cell_type": "code",
   "execution_count": 37,
   "id": "611fb506-2631-4fcc-adef-58ebbfea5d3a",
   "metadata": {},
   "outputs": [
    {
     "data": {
      "text/plain": [
       "{'new_experiment_created': 'http://localhost:8000/api/experiment/7f9c6c49-3a5d-4ba7-896c-66d8e08d9259/'}"
      ]
     },
     "execution_count": 37,
     "metadata": {},
     "output_type": "execute_result"
    }
   ],
   "source": [
    "resp"
   ]
  },
  {
   "cell_type": "markdown",
   "id": "2e80c7e7-76f5-443c-9519-7187bc883bac",
   "metadata": {},
   "source": [
    "This experiment then appears in the experiment queue.   \n",
    "\n",
    "http://localhost:8000/experiment_list\n",
    "\n",
    "The experimentalist is notified, can download relevant robot input and upload observed values through forms"
   ]
  },
  {
   "cell_type": "code",
   "execution_count": null,
   "id": "1ceedbb6-467c-43af-8066-5dfee9c1200c",
   "metadata": {},
   "outputs": [],
   "source": []
  },
  {
   "cell_type": "code",
   "execution_count": null,
   "id": "8a49471e-5a03-4548-b086-51cb9c583a04",
   "metadata": {},
   "outputs": [],
   "source": [
    "%%time\n",
    "new_experiment_json = get_data('experiment/' + resp['new_experiment_created'].split('/')[-2], \n",
    "                                {'expand': 'workflow.step.workflow_object.action.parameter'}) # expanding deeply nested fields is somewhat slow"
   ]
  },
  {
   "cell_type": "code",
   "execution_count": null,
   "id": "5fa92d39-eb25-4b85-a143-d238906ae5a9",
   "metadata": {},
   "outputs": [],
   "source": [
    "experiment_json = [new_experiment_json]"
   ]
  },
  {
   "cell_type": "code",
   "execution_count": null,
   "id": "6318d063-67f3-436a-91ae-74fcbc9fd0e6",
   "metadata": {},
   "outputs": [],
   "source": [
    "experiment_json"
   ]
  },
  {
   "cell_type": "code",
   "execution_count": null,
   "id": "de579d3f-dba5-421f-b1c8-15ce897f99e0",
   "metadata": {},
   "outputs": [],
   "source": [
    "def experiment_json_to_df(experiment_json):\n",
    "    result = []\n",
    "    for e in experiment_json: \n",
    "        for workflow in e['workflow']:\n",
    "            if 'Dispense' not in workflow['description']:\n",
    "                    continue\n",
    "            for step in workflow['step']: \n",
    "                action = step['workflow_object']['action']\n",
    "                for parameter in action['parameter']:\n",
    "                    result.append(\n",
    "                        dict(\n",
    "                            experiment_url         = e['url'],\n",
    "                            experiment_id          = e['url'].split('/')[-2],\n",
    "                            action_source          = action['source_material_description'],\n",
    "                            action_dest            = action['destination_material_description'],\n",
    "                            action_parameter       = parameter['parameter_def_description'],\n",
    "                            action_parameter_value = float(parameter['parameter_val_nominal']['value']),\n",
    "                            action_parameter_unit  = parameter['parameter_val_nominal']['unit']\n",
    "                            )\n",
    "                        )\n",
    "    return pd.DataFrame(result)"
   ]
  },
  {
   "cell_type": "code",
   "execution_count": null,
   "id": "738c445c-0dc2-40bc-ac2a-bab6730095a8",
   "metadata": {},
   "outputs": [],
   "source": [
    "results = experiment_json_to_df(experiment_json)"
   ]
  },
  {
   "cell_type": "code",
   "execution_count": null,
   "id": "9d334afa-10b4-4659-a4a2-21685f5eaecd",
   "metadata": {},
   "outputs": [],
   "source": [
    "results"
   ]
  },
  {
   "cell_type": "code",
   "execution_count": null,
   "id": "df631062-962a-4687-b991-94ebde477398",
   "metadata": {},
   "outputs": [],
   "source": [
    "results = results.pivot_table(index=['experiment_id', 'action_dest'], \n",
    "                             columns=['action_source'], \n",
    "                             values='action_parameter_value')\n",
    "results"
   ]
  },
  {
   "cell_type": "code",
   "execution_count": null,
   "id": "1e16375b-40e5-4d04-aa4e-046954e111fb",
   "metadata": {},
   "outputs": [],
   "source": [
    "crystal_scores = get_data('measure', \n",
    "                          {'measuredef':\n",
    "                                (get_data('measuredef', \n",
    "                                          {'description': 'crystal_score'})['url']\n",
    "                                )\n",
    "                          })                        \n",
    "results['crystal_score'] = crystal_scores['measure_value']['value']"
   ]
  },
  {
   "cell_type": "code",
   "execution_count": null,
   "id": "a372756a-1cf6-4fc8-8ab8-9bf9be710b3c",
   "metadata": {},
   "outputs": [],
   "source": [
    "results"
   ]
  },
  {
   "cell_type": "code",
   "execution_count": null,
   "id": "b133a333-e2da-4a1c-87ea-9430345b455b",
   "metadata": {},
   "outputs": [],
   "source": []
  },
  {
   "cell_type": "code",
   "execution_count": null,
   "id": "06a82e82-2d92-4f23-9651-98ab8c02a447",
   "metadata": {},
   "outputs": [],
   "source": []
  },
  {
   "cell_type": "markdown",
   "id": "da33fd76-cd35-4d05-b830-dc662e9dc19c",
   "metadata": {},
   "source": [
    "### Current Limitations\n",
    "\n",
    "* Some parts of API still are 'high entropy' (e.g. measure)\n",
    "* Ditto for some portions of UI\n",
    "* REST is slow for large transfers"
   ]
  },
  {
   "cell_type": "code",
   "execution_count": null,
   "id": "6d50ed06-9e64-4dea-bf7e-77fbb0ca95fd",
   "metadata": {},
   "outputs": [],
   "source": []
  }
 ],
 "metadata": {
  "kernelspec": {
   "display_name": "Python 3",
   "language": "python",
   "name": "python3"
  },
  "language_info": {
   "codemirror_mode": {
    "name": "ipython",
    "version": 3
   },
   "file_extension": ".py",
   "mimetype": "text/x-python",
   "name": "python",
   "nbconvert_exporter": "python",
   "pygments_lexer": "ipython3",
   "version": "3.9.2"
  }
 },
 "nbformat": 4,
 "nbformat_minor": 5
}
