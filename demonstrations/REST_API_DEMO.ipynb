{
 "cells": [
  {
   "cell_type": "markdown",
   "id": "changed-dallas",
   "metadata": {},
   "source": [
    "# Interacting with the ESCALATE REST API"
   ]
  },
  {
   "cell_type": "markdown",
   "id": "c50b0e11-11ee-4357-bdba-648b9af11e2c",
   "metadata": {},
   "source": [
    "This is a tutorail for using the ESCALATE REST API. \n",
    "\n",
    "It presumes only knowledge of basic python. \n",
    "\n",
    "It also presumes you have a local instance of ESCALATE running at http://localhost:8000"
   ]
  },
  {
   "cell_type": "code",
   "execution_count": 1,
   "id": "suited-individual",
   "metadata": {
    "tags": []
   },
   "outputs": [],
   "source": [
    "import json\n",
    "from pprint import pprint\n",
    "\n",
    "import requests  # requests library will send and receive data from the escalate server\n",
    "from requests.api import post\n",
    "\n",
    "import pandas as pd"
   ]
  },
  {
   "cell_type": "code",
   "execution_count": 2,
   "id": "2a63c98a-b11d-45a7-99b7-28e6e5d1f810",
   "metadata": {
    "jupyter": {
     "source_hidden": true
    },
    "tags": []
   },
   "outputs": [],
   "source": [
    "LANL_PROXY = 'http://proxyout.lanl.gov:8080'\n",
    "proxies={'http':LANL_PROXY, 'https': LANL_PROXY}"
   ]
  },
  {
   "cell_type": "code",
   "execution_count": null,
   "id": "b3804efc-2eb6-4350-ad9e-712df75cc504",
   "metadata": {},
   "outputs": [],
   "source": []
  },
  {
   "cell_type": "code",
   "execution_count": null,
   "id": "10a3e547-e387-40a2-8f2e-31eb9b9bc20c",
   "metadata": {},
   "outputs": [],
   "source": []
  },
  {
   "cell_type": "code",
   "execution_count": null,
   "id": "a3c82065-0ca0-4a1b-840a-45abb5c54d1e",
   "metadata": {},
   "outputs": [],
   "source": []
  },
  {
   "cell_type": "code",
   "execution_count": null,
   "id": "5a43cc83-9acf-4d21-abb2-033fd4199408",
   "metadata": {},
   "outputs": [],
   "source": []
  },
  {
   "cell_type": "code",
   "execution_count": null,
   "id": "3c7a75b5-a88e-4780-8470-645ef1eb1bba",
   "metadata": {},
   "outputs": [],
   "source": []
  },
  {
   "cell_type": "code",
   "execution_count": null,
   "id": "4307844c-5ffb-4ab0-843a-d0b4db4ccd27",
   "metadata": {},
   "outputs": [],
   "source": []
  },
  {
   "cell_type": "code",
   "execution_count": null,
   "id": "112bead2-2e25-4c0c-a577-b7970e237969",
   "metadata": {},
   "outputs": [],
   "source": []
  },
  {
   "cell_type": "markdown",
   "id": "fitted-denial",
   "metadata": {},
   "source": [
    "## Quick intro to REST APIs\n",
    "\n",
    "All you need to know about REST is that:\n",
    "* It is a protocol for exchanging data between a client (e.g. me) and a server (e.g. ESCALATE)\n",
    "* Data formats are human *and* machine readable (XML or JSON)\n",
    "* There are two main HTTP 'verbs' or functions: \n",
    "  1. GET data from the server\n",
    "  2. POST data to the server  \n",
    "     (there are others, e.g. PUT and PATCH, but we won't use these in this tutorial)\n",
    "* The python `requests` library implements the HTTP verbs for interacting with servers, including with REST APIs"
   ]
  },
  {
   "cell_type": "code",
   "execution_count": null,
   "id": "9a730b60-143f-4537-b6ed-6090c42879ff",
   "metadata": {},
   "outputs": [],
   "source": []
  },
  {
   "cell_type": "code",
   "execution_count": null,
   "id": "64715dac-6be9-44e6-bf40-8bf65f21d083",
   "metadata": {},
   "outputs": [],
   "source": []
  },
  {
   "cell_type": "code",
   "execution_count": null,
   "id": "22c8d68a-6056-4f61-910f-74a79109922a",
   "metadata": {},
   "outputs": [],
   "source": []
  },
  {
   "cell_type": "code",
   "execution_count": null,
   "id": "1c973759-fe20-4bcb-95e1-45dbbcb52189",
   "metadata": {},
   "outputs": [],
   "source": []
  },
  {
   "cell_type": "code",
   "execution_count": null,
   "id": "c58bd355-590e-4dbf-a92c-c91c3fca7147",
   "metadata": {},
   "outputs": [],
   "source": []
  },
  {
   "cell_type": "code",
   "execution_count": null,
   "id": "8aa5ab15-2f30-4f1e-a312-a9bc7fbe97a4",
   "metadata": {},
   "outputs": [],
   "source": []
  },
  {
   "cell_type": "markdown",
   "id": "49a1b5c4-8f30-43fe-9072-dc8ee0068eb6",
   "metadata": {},
   "source": [
    "### Example: GET from the PubChem API\n",
    "\n",
    "* [Pubchem](https://pubchem.ncbi.nlm.nih.gov/) is a great way to get chemical informatics data from a vast repository\n",
    "   - e.g. just search for any compound above\n",
    "   - Has a graphical web interface and REST API\n",
    "* (There are other computational chemistry REST APIs, including [Open Chemistry](https://doi.org/10.1186/s13321-017-0241-z), and [AFLOW-ML](https://doi.org/10.1016/j.commatsci.2018.03.075))\n"
   ]
  },
  {
   "cell_type": "code",
   "execution_count": 3,
   "id": "registered-apparel",
   "metadata": {
    "tags": []
   },
   "outputs": [],
   "source": [
    "# dict mapping compound name to PubChemID\n",
    "PubChemIDs = {\n",
    "    'Methane': '297',\n",
    "    'Benzene': '241',\n",
    "    'Ethylammonium Iodide': '11116533'\n",
    "}"
   ]
  },
  {
   "cell_type": "markdown",
   "id": "ffa67dc6-8174-417e-ba96-6504de787527",
   "metadata": {
    "tags": []
   },
   "source": [
    "The URL below is the compound 'API endpoint' which I can send a request to for properties of compounds given their PubChem CIDs"
   ]
  },
  {
   "cell_type": "code",
   "execution_count": 4,
   "id": "compliant-mustang",
   "metadata": {
    "tags": []
   },
   "outputs": [],
   "source": [
    "response = requests.get(('https://pubchem.ncbi.nlm.nih.gov/rest/pug/compound'          # What type of entity? Compound\n",
    "                         f'/cid/{\",\".join(PubChemIDs.values())}/'                      # Which compounds? These\n",
    "                         'property/MolecularFormula,MolecularWeight,CanonicalSMILES/'  # Which properties? \n",
    "                         'JSON'),                                                      # Which format?\n",
    "                        proxies=proxies)"
   ]
  },
  {
   "cell_type": "code",
   "execution_count": 5,
   "id": "0b3b830e-f67d-4235-a4f8-176c825e8d27",
   "metadata": {},
   "outputs": [
    {
     "data": {
      "text/plain": [
       "<Response [200]>"
      ]
     },
     "execution_count": 5,
     "metadata": {},
     "output_type": "execute_result"
    }
   ],
   "source": [
    "response"
   ]
  },
  {
   "cell_type": "code",
   "execution_count": 6,
   "id": "animal-bunch",
   "metadata": {
    "tags": []
   },
   "outputs": [
    {
     "data": {
      "text/plain": [
       "{'PropertyTable': {'Properties': [{'CID': 297,\n",
       "    'MolecularFormula': 'CH4',\n",
       "    'MolecularWeight': 16.043,\n",
       "    'CanonicalSMILES': 'C'},\n",
       "   {'CID': 241,\n",
       "    'MolecularFormula': 'C6H6',\n",
       "    'MolecularWeight': 78.11,\n",
       "    'CanonicalSMILES': 'C1=CC=CC=C1'},\n",
       "   {'CID': 11116533,\n",
       "    'MolecularFormula': 'C2H8IN',\n",
       "    'MolecularWeight': 173,\n",
       "    'CanonicalSMILES': 'CCN.I'}]}}"
      ]
     },
     "execution_count": 6,
     "metadata": {},
     "output_type": "execute_result"
    }
   ],
   "source": [
    "response.json()"
   ]
  },
  {
   "cell_type": "code",
   "execution_count": null,
   "id": "fb7ec899-2632-466e-9950-d2b74ef83de6",
   "metadata": {},
   "outputs": [],
   "source": []
  },
  {
   "cell_type": "code",
   "execution_count": null,
   "id": "0eb84d3b-9539-4e93-8012-e52d511267cd",
   "metadata": {},
   "outputs": [],
   "source": []
  },
  {
   "cell_type": "code",
   "execution_count": null,
   "id": "5a144fc7-0e8b-4720-a899-ef8ce230b327",
   "metadata": {},
   "outputs": [],
   "source": []
  },
  {
   "cell_type": "code",
   "execution_count": null,
   "id": "b97f3900-c856-48e4-ada5-77a1638c8c07",
   "metadata": {},
   "outputs": [],
   "source": []
  },
  {
   "cell_type": "code",
   "execution_count": null,
   "id": "2ab497e6-99ab-4ee3-8d54-26f3b8ac04be",
   "metadata": {},
   "outputs": [],
   "source": []
  },
  {
   "cell_type": "code",
   "execution_count": null,
   "id": "64ac2e95-cc7d-4756-b875-55f4852798b6",
   "metadata": {},
   "outputs": [],
   "source": []
  },
  {
   "cell_type": "code",
   "execution_count": null,
   "id": "e6128b2b-88c8-4fee-974f-41efa0a9c103",
   "metadata": {},
   "outputs": [],
   "source": []
  },
  {
   "cell_type": "markdown",
   "id": "8991c6d8-1b33-445c-9702-c9b1a3246924",
   "metadata": {},
   "source": [
    "## The ESCALATE REST API \n",
    "\n",
    "* Send data back and forth between ML, chemists, and laboratories"
   ]
  },
  {
   "cell_type": "markdown",
   "id": "659fd412-598c-4b03-9161-e3e5d6e7dc1e",
   "metadata": {},
   "source": [
    "### Interactive List of all available ESCALATE endpoints\n",
    "\n",
    "Simply navigating to http://localhost:8000/api will show you a browsable list of all available API endpoints. \n",
    "\n",
    "We can also view that list programmatically: "
   ]
  },
  {
   "cell_type": "code",
   "execution_count": 7,
   "id": "3980090b-ec8d-475e-9106-3b21cb029c12",
   "metadata": {
    "tags": []
   },
   "outputs": [
    {
     "data": {
      "text/plain": [
       "{'action': 'http://localhost:8000/api/action/',\n",
       " 'actiondef': 'http://localhost:8000/api/actiondef/',\n",
       " 'actionparameter': 'http://localhost:8000/api/actionparameter/',\n",
       " 'actionparameterdefassign': 'http://localhost:8000/api/actionparameterdefassign/',\n",
       " 'actor': 'http://localhost:8000/api/actor/',\n",
       " 'billofmaterials': 'http://localhost:8000/api/billofmaterials/',\n",
       " 'bomcompositematerial': 'http://localhost:8000/api/bomcompositematerial/',\n",
       " 'bommaterial': 'http://localhost:8000/api/bommaterial/',\n",
       " 'calculation': 'http://localhost:8000/api/calculation/',\n",
       " 'calculationdef': 'http://localhost:8000/api/calculationdef/',\n",
       " 'compositematerial': 'http://localhost:8000/api/compositematerial/',\n",
       " 'compositematerialproperty': 'http://localhost:8000/api/compositematerialproperty/',\n",
       " 'condition': 'http://localhost:8000/api/condition/',\n",
       " 'conditioncalculationdefassign': 'http://localhost:8000/api/conditioncalculationdefassign/',\n",
       " 'conditiondef': 'http://localhost:8000/api/conditiondef/',\n",
       " 'experiment': 'http://localhost:8000/api/experiment/',\n",
       " 'experimenttemplate': 'http://localhost:8000/api/experimenttemplate/',\n",
       " 'experimentworkflow': 'http://localhost:8000/api/experimentworkflow/',\n",
       " 'inventory': 'http://localhost:8000/api/inventory/',\n",
       " 'inventorymaterial': 'http://localhost:8000/api/inventorymaterial/',\n",
       " 'material': 'http://localhost:8000/api/material/',\n",
       " 'materialproperty': 'http://localhost:8000/api/materialproperty/',\n",
       " 'materialrefnamedef': 'http://localhost:8000/api/materialrefnamedef/',\n",
       " 'materialtype': 'http://localhost:8000/api/materialtype/',\n",
       " 'materialtypeassign': 'http://localhost:8000/api/materialtypeassign/',\n",
       " 'measure': 'http://localhost:8000/api/measure/',\n",
       " 'measuredef': 'http://localhost:8000/api/measuredef/',\n",
       " 'measuretype': 'http://localhost:8000/api/measuretype/',\n",
       " 'organization': 'http://localhost:8000/api/organization/',\n",
       " 'outcome': 'http://localhost:8000/api/outcome/',\n",
       " 'parameter': 'http://localhost:8000/api/parameter/',\n",
       " 'parameterdef': 'http://localhost:8000/api/parameterdef/',\n",
       " 'person': 'http://localhost:8000/api/person/',\n",
       " 'property': 'http://localhost:8000/api/property/',\n",
       " 'propertydef': 'http://localhost:8000/api/propertydef/',\n",
       " 'status': 'http://localhost:8000/api/status/',\n",
       " 'systemtool': 'http://localhost:8000/api/systemtool/',\n",
       " 'systemtooltype': 'http://localhost:8000/api/systemtooltype/',\n",
       " 'tag': 'http://localhost:8000/api/tag/',\n",
       " 'tagtype': 'http://localhost:8000/api/tagtype/',\n",
       " 'typedef': 'http://localhost:8000/api/typedef/',\n",
       " 'udfdef': 'http://localhost:8000/api/udfdef/',\n",
       " 'unittype': 'http://localhost:8000/api/unittype/',\n",
       " 'workflow': 'http://localhost:8000/api/workflow/',\n",
       " 'workflowactionset': 'http://localhost:8000/api/workflowactionset/',\n",
       " 'workflowobject': 'http://localhost:8000/api/workflowobject/',\n",
       " 'workflowstep': 'http://localhost:8000/api/workflowstep/',\n",
       " 'workflowtype': 'http://localhost:8000/api/workflowtype/'}"
      ]
     },
     "execution_count": 7,
     "metadata": {},
     "output_type": "execute_result"
    }
   ],
   "source": [
    "base_url = 'http://localhost:8000/api'  # local dev server\n",
    "response = requests.get(base_url)\n",
    "response.json()"
   ]
  },
  {
   "cell_type": "code",
   "execution_count": null,
   "id": "fcb9e7b1-7d80-48bf-a9bb-dbf584ef1526",
   "metadata": {},
   "outputs": [],
   "source": []
  },
  {
   "cell_type": "code",
   "execution_count": null,
   "id": "b39f3146-ee03-4af9-9fe9-3a39857a7dc0",
   "metadata": {},
   "outputs": [],
   "source": []
  },
  {
   "cell_type": "code",
   "execution_count": null,
   "id": "b86dd811-4e30-47a6-b09b-7e72e95ba0da",
   "metadata": {},
   "outputs": [],
   "source": []
  },
  {
   "cell_type": "code",
   "execution_count": null,
   "id": "2f3b410a-de04-430d-9784-0245d521c5e2",
   "metadata": {},
   "outputs": [],
   "source": []
  },
  {
   "cell_type": "code",
   "execution_count": null,
   "id": "4431a4f6-a100-4f27-b91c-26b7c995ad22",
   "metadata": {},
   "outputs": [],
   "source": []
  },
  {
   "cell_type": "code",
   "execution_count": null,
   "id": "2468c8b7-b752-4bda-ac0a-00ec126069b3",
   "metadata": {},
   "outputs": [],
   "source": []
  },
  {
   "cell_type": "code",
   "execution_count": null,
   "id": "cd7e7e38-b039-47b0-b66d-d6516723941c",
   "metadata": {},
   "outputs": [],
   "source": []
  },
  {
   "cell_type": "markdown",
   "id": "e4b1df05-4f80-4712-acdb-bdd46ce20d2c",
   "metadata": {},
   "source": [
    "### Logging into ESCALATE\n",
    "\n",
    "\n",
    "To be able to view and post to all endpoints, I will create a log in session that is managed by a token. "
   ]
  },
  {
   "cell_type": "code",
   "execution_count": 8,
   "id": "hawaiian-southwest",
   "metadata": {
    "tags": []
   },
   "outputs": [
    {
     "data": {
      "text/plain": [
       "'5a24fdc4fe15eb2152f63b8f1f1c1f6538ba0ee4'"
      ]
     },
     "execution_count": 8,
     "metadata": {},
     "output_type": "execute_result"
    }
   ],
   "source": [
    "# demo login credentials\n",
    "login_data = {\n",
    "    'username': 'mtynes',\n",
    "    'password': 'hello1world2'\n",
    "}\n",
    "\n",
    "r_login = requests.post(f'{base_url}/login', data=login_data)\n",
    "token = r_login.json()['token']\n",
    "token"
   ]
  },
  {
   "cell_type": "code",
   "execution_count": 9,
   "id": "incoming-board",
   "metadata": {
    "tags": []
   },
   "outputs": [],
   "source": [
    "token_header = {'Authorization': f'Token {token}'}\n",
    "\n",
    "content_type_header = {'content-type': 'application/json'} # for most requests we'll want this header"
   ]
  },
  {
   "cell_type": "markdown",
   "id": "intermediate-objective",
   "metadata": {},
   "source": [
    "This token will allow me to validate my identity for this session"
   ]
  },
  {
   "cell_type": "code",
   "execution_count": null,
   "id": "cf7a6529-f30c-4458-a5b2-b6a5cc27df7f",
   "metadata": {},
   "outputs": [],
   "source": []
  },
  {
   "cell_type": "code",
   "execution_count": null,
   "id": "092b354f-2568-464e-8524-a56a70cc4eb5",
   "metadata": {},
   "outputs": [],
   "source": []
  },
  {
   "cell_type": "code",
   "execution_count": null,
   "id": "67896fc0-2ce0-40d8-9f1b-ec43b85f2e14",
   "metadata": {},
   "outputs": [],
   "source": []
  },
  {
   "cell_type": "code",
   "execution_count": null,
   "id": "82b73735-d6f0-47ee-906f-0a6c171c1820",
   "metadata": {},
   "outputs": [],
   "source": []
  },
  {
   "cell_type": "code",
   "execution_count": null,
   "id": "196a0833-f10b-4306-bfe2-afce7cae5256",
   "metadata": {},
   "outputs": [],
   "source": []
  },
  {
   "cell_type": "code",
   "execution_count": null,
   "id": "76921f4a-1d9e-4a6b-a965-643b1d3766a9",
   "metadata": {},
   "outputs": [],
   "source": []
  },
  {
   "cell_type": "markdown",
   "id": "active-publicity",
   "metadata": {},
   "source": [
    "### Simple helper functions for GET/POST\n",
    "\n",
    "These functions will do some minimal URL generation and JSON response parsing on top of what is done by the `requests` library"
   ]
  },
  {
   "cell_type": "code",
   "execution_count": 10,
   "id": "shaped-settlement",
   "metadata": {
    "tags": []
   },
   "outputs": [],
   "source": [
    "def post_data(endpoint, data={}, headers={**token_header, **content_type_header}):\n",
    "    \"\"\"POST `data` to `endpoint`in ESCALATE API using `headers`\n",
    "    \n",
    "    return: (dict|requests.Response), bool\n",
    "    \"\"\"\n",
    "    r = requests.post(f'{base_url}/{endpoint}/', \n",
    "                      data=json.dumps(data), \n",
    "                      headers=headers)\n",
    "    print(r)\n",
    "    if r.ok: \n",
    "        print('POST: OK, returning new resource dict')\n",
    "        return r.json()\n",
    "    print('POST: FAILED, returning response object')\n",
    "    return r\n",
    "\n",
    "\n",
    "def get_data(endpoint, data={}, headers={**token_header}):\n",
    "    \"\"\"Make GET request with `data` to `endpoint` in ESCALATE API using `headers`\n",
    "    \n",
    "    return: (dict|list|requests.Response), bool\n",
    "    \"\"\"\n",
    "    r = requests.get(f'{base_url}/{endpoint}/', params=data, headers=headers)\n",
    "    print(r)\n",
    "    if r.ok: \n",
    "        print('GET: OK')\n",
    "        \n",
    "        resp_json = r.json()        \n",
    "        \n",
    "        # handle cases: one vs many results\n",
    "        if resp_json.get('count') is None: # edge case: template edit\n",
    "            return r.json()\n",
    "        elif resp_json.get('count') == 1: \n",
    "            print('Found one resource, returning dict')\n",
    "            return resp_json['results'][0]\n",
    "        elif resp_json.get('count') >= 1: \n",
    "            print(f\"Found {resp_json['count']} resources, returning list of dicts)\")\n",
    "            return r.json()['results']\n",
    "        else:\n",
    "            print('GET: FAILED, returning response object')\n",
    "    return r"
   ]
  },
  {
   "cell_type": "code",
   "execution_count": null,
   "id": "9e42de65-8b47-439c-8a3e-02029bd64a5f",
   "metadata": {},
   "outputs": [],
   "source": []
  },
  {
   "cell_type": "code",
   "execution_count": null,
   "id": "c8abf59b-3de1-4082-b8be-340e2d1343af",
   "metadata": {},
   "outputs": [],
   "source": []
  },
  {
   "cell_type": "code",
   "execution_count": null,
   "id": "42d4838d-9199-461d-8e1f-0877954e80ef",
   "metadata": {},
   "outputs": [],
   "source": []
  },
  {
   "cell_type": "code",
   "execution_count": null,
   "id": "0f7883dc-5063-475b-96d1-1126b29f05ec",
   "metadata": {},
   "outputs": [],
   "source": []
  },
  {
   "cell_type": "code",
   "execution_count": null,
   "id": "bc8d2898-ff1a-4c6c-96c7-59d56adc0cc0",
   "metadata": {},
   "outputs": [],
   "source": []
  },
  {
   "cell_type": "markdown",
   "id": "deadly-blues",
   "metadata": {},
   "source": [
    "### GET all of materials defined in ESCALATE"
   ]
  },
  {
   "cell_type": "code",
   "execution_count": 11,
   "id": "directed-federation",
   "metadata": {
    "tags": []
   },
   "outputs": [
    {
     "name": "stdout",
     "output_type": "stream",
     "text": [
      "<Response [200]>\n",
      "GET: OK\n",
      "Found 294 resources, returning list of dicts)\n"
     ]
    }
   ],
   "source": [
    "r = get_data(endpoint='material')"
   ]
  },
  {
   "cell_type": "markdown",
   "id": "loving-nomination",
   "metadata": {},
   "source": [
    "All of these materials would probably take up too much space in this notebook, lets look at the first one."
   ]
  },
  {
   "cell_type": "markdown",
   "id": "ddfd4506-1e10-41ba-85a9-e331e3c74b7f",
   "metadata": {},
   "source": [
    "All lead iodide shares in this chemical formula, etc. Models are jsut 'what is is about these thigns that are all the same, as opposed to particular vials of gblthat has volumes, contanimanants, dates, masses. these all come from the object, but share in model. models dont contain provenance, are only abotu intenseive properties "
   ]
  },
  {
   "cell_type": "code",
   "execution_count": 12,
   "id": "6a69d065-4e31-417e-a364-67c6fab8a5c6",
   "metadata": {
    "tags": []
   },
   "outputs": [
    {
     "data": {
      "text/plain": [
       "{'url': 'http://localhost:8000/api/material/a7b37faf-4696-45d6-836f-cb6725d57bce/',\n",
       " 'uuid': 'a7b37faf-4696-45d6-836f-cb6725d57bce',\n",
       " 'edocs': [],\n",
       " 'tags': [],\n",
       " 'notes': [],\n",
       " 'description': 'Gamma-Butyrolactone',\n",
       " 'consumable': True,\n",
       " 'composite_flg': False,\n",
       " 'material_class': 'model',\n",
       " 'actor_description': None,\n",
       " 'status_description': 'active',\n",
       " 'add_date': '2021-04-21T13:06:03.145949Z',\n",
       " 'mod_date': '2021-04-21T13:06:10.239921Z',\n",
       " 'actor': None,\n",
       " 'status': 'http://localhost:8000/api/status/3dd5a6a9-bc62-4533-a4c9-ee2fc4c33c82/',\n",
       " 'material_types': ['http://localhost:8000/api/materialtype/049035f6-191f-4e36-9eb0-3925ad386062/',\n",
       "  'http://localhost:8000/api/materialtype/693b6398-2b88-4184-8da7-589e335e561e/',\n",
       "  'http://localhost:8000/api/materialtype/4e006667-e855-4e28-8a76-a389e0f943a1/'],\n",
       " 'property': []}"
      ]
     },
     "execution_count": 12,
     "metadata": {},
     "output_type": "execute_result"
    }
   ],
   "source": [
    "r[0]"
   ]
  },
  {
   "cell_type": "markdown",
   "id": "28a349ee-b32b-4e2f-9b22-5f7fe9388988",
   "metadata": {},
   "source": [
    "These are the fields available for materials. Notably we can associate a material with arbitrary properties and material types."
   ]
  },
  {
   "cell_type": "code",
   "execution_count": null,
   "id": "b772a513-024d-427e-b606-e587c669a4a8",
   "metadata": {},
   "outputs": [],
   "source": []
  },
  {
   "cell_type": "code",
   "execution_count": null,
   "id": "e54fda23-5e5e-4303-830e-42685dfda81a",
   "metadata": {},
   "outputs": [],
   "source": []
  },
  {
   "cell_type": "code",
   "execution_count": null,
   "id": "0e680870-ba9f-4387-800c-00566627bc13",
   "metadata": {},
   "outputs": [],
   "source": []
  },
  {
   "cell_type": "code",
   "execution_count": null,
   "id": "6a144f1b-cead-4d10-b68f-b65139976297",
   "metadata": {},
   "outputs": [],
   "source": []
  },
  {
   "cell_type": "code",
   "execution_count": null,
   "id": "73801ae6-6a41-469b-abbc-cb74542210c3",
   "metadata": {},
   "outputs": [],
   "source": []
  },
  {
   "cell_type": "code",
   "execution_count": null,
   "id": "4c2cee8c-69b4-4d16-bb15-3b0202efff40",
   "metadata": {},
   "outputs": [],
   "source": []
  },
  {
   "cell_type": "markdown",
   "id": "d559f857-d45d-4ce2-a02d-220f9f1def99",
   "metadata": {},
   "source": [
    "### POST a material property\n",
    "\n",
    "#### Current property definitions in ESCALATE\n",
    "\n",
    "ESCALATE supports user defined property definitions, these are the one's we're using"
   ]
  },
  {
   "cell_type": "code",
   "execution_count": 13,
   "id": "04d9ad9e-0423-4b29-94c9-050174a6f958",
   "metadata": {
    "tags": []
   },
   "outputs": [
    {
     "name": "stdout",
     "output_type": "stream",
     "text": [
      "<Response [200]>\n",
      "GET: OK\n",
      "Found 16 resources, returning list of dicts)\n"
     ]
    },
    {
     "data": {
      "text/plain": [
       "[{'description': 'particle-size {min, max}'},\n",
       " {'description': 'mesh {min, max}'},\n",
       " {'description': 'capacity'},\n",
       " {'description': 'cross-linkage %'},\n",
       " {'description': 'moisture % {min, max}'},\n",
       " {'description': 'Resin Class'},\n",
       " {'description': 'Functional group'},\n",
       " {'description': 'concentration_molarity'},\n",
       " {'description': 'manufacturer'},\n",
       " {'description': 'plate well count'},\n",
       " {'description': 'plate well location'},\n",
       " {'description': 'plate well robot order'},\n",
       " {'description': 'plate well volume {min, max}'},\n",
       " {'description': 'concentration'},\n",
       " {'description': 'molecular-weight'},\n",
       " {'description': 'Crystal Score'}]"
      ]
     },
     "execution_count": 13,
     "metadata": {},
     "output_type": "execute_result"
    }
   ],
   "source": [
    "r = get_data('propertydef', \n",
    "             {'fields': ['description']} # we can select 'columns' with the fields parameter    \n",
    "            )\n",
    "r"
   ]
  },
  {
   "cell_type": "markdown",
   "id": "03f81d88-467c-44f7-8d3a-e26bb8798624",
   "metadata": {},
   "source": [
    "#### Molecular Weight"
   ]
  },
  {
   "cell_type": "code",
   "execution_count": 14,
   "id": "lesbian-delta",
   "metadata": {
    "tags": []
   },
   "outputs": [
    {
     "name": "stdout",
     "output_type": "stream",
     "text": [
      "<Response [200]>\n",
      "GET: OK\n",
      "Found one resource, returning dict\n"
     ]
    },
    {
     "data": {
      "text/plain": [
       "{'url': 'http://localhost:8000/api/propertydef/eec6d26c-aa2b-4eba-8693-849c7c3c9ea8/',\n",
       " 'description': 'molecular-weight',\n",
       " 'val_unit': 'g/mol'}"
      ]
     },
     "execution_count": 14,
     "metadata": {},
     "output_type": "execute_result"
    }
   ],
   "source": [
    "mw_property_def = get_data('propertydef', \n",
    "                           {'description': 'molecular-weight', # find an entity that has a particular description\n",
    "                            'fields': ['url', 'description', 'val_unit']})\n",
    "mw_property_def"
   ]
  },
  {
   "cell_type": "markdown",
   "id": "1e2ba804-9800-4a88-b1d7-b48b9c8c1f9a",
   "metadata": {},
   "source": [
    "Now we can associate an instance of this property with a material, say EthNH3I"
   ]
  },
  {
   "cell_type": "code",
   "execution_count": 15,
   "id": "incredible-white",
   "metadata": {
    "tags": []
   },
   "outputs": [
    {
     "name": "stdout",
     "output_type": "stream",
     "text": [
      "<Response [200]>\n",
      "GET: OK\n",
      "Found one resource, returning dict\n"
     ]
    },
    {
     "data": {
      "text/plain": [
       "{'url': 'http://localhost:8000/api/material/3aaa3be4-1158-49d2-851b-360e884f0803/',\n",
       " 'description': 'Ethylammonium Iodide',\n",
       " 'property': ['http://localhost:8000/api/property/f3d50829-e1e7-4e16-b989-26d1a6549975/']}"
      ]
     },
     "execution_count": 15,
     "metadata": {},
     "output_type": "execute_result"
    }
   ],
   "source": [
    "ethylammonium_iodide = get_data('material', \n",
    "                                {'description': 'Ethylammonium Iodide',\n",
    "                                 'fields':['url', 'description', 'property']})\n",
    "ethylammonium_iodide"
   ]
  },
  {
   "cell_type": "markdown",
   "id": "f863d1a2-4b7b-4493-ba74-d974b43f437e",
   "metadata": {},
   "source": [
    "Note the empty property list above\n",
    "\n",
    "Lets fill that in with the molecular weight from PubChem"
   ]
  },
  {
   "cell_type": "code",
   "execution_count": 16,
   "id": "foster-stamp",
   "metadata": {
    "tags": []
   },
   "outputs": [
    {
     "data": {
      "text/plain": [
       "173"
      ]
     },
     "execution_count": 16,
     "metadata": {},
     "output_type": "execute_result"
    }
   ],
   "source": [
    "response = requests.get('https://pubchem.ncbi.nlm.nih.gov/rest/pug/'+\\\n",
    "                        f'compound/cid/{PubChemIDs.get(\"Ethylammonium Iodide\")}/'+\\\n",
    "                        'property/MolecularFormula,MolecularWeight,CanonicalSMILES/JSON', \n",
    "                       proxies=proxies)\n",
    "pubchem_json = response.json()\n",
    "eth_mw = pubchem_json['PropertyTable']['Properties'][0]['MolecularWeight']\n",
    "eth_mw"
   ]
  },
  {
   "cell_type": "code",
   "execution_count": null,
   "id": "c66059ad-57e2-40e2-a230-44fd9a69c68e",
   "metadata": {
    "tags": []
   },
   "outputs": [],
   "source": []
  },
  {
   "cell_type": "code",
   "execution_count": 17,
   "id": "catholic-freeze",
   "metadata": {
    "tags": []
   },
   "outputs": [
    {
     "name": "stdout",
     "output_type": "stream",
     "text": [
      "<Response [201]>\n",
      "POST: OK, returning new resource dict\n"
     ]
    }
   ],
   "source": [
    "r = post_data('materialproperty',\n",
    "                  {'material': ethylammonium_iodide['url'],\n",
    "                   'property_def': mw_property_def['url'],\n",
    "                   'value': f\"{eth_mw}\"\n",
    "                  }\n",
    "                 )"
   ]
  },
  {
   "cell_type": "markdown",
   "id": "56b036af-90e3-40bf-ab40-4e5c31c68e04",
   "metadata": {},
   "source": [
    "And we've stored it!"
   ]
  },
  {
   "cell_type": "code",
   "execution_count": 18,
   "id": "formal-communist",
   "metadata": {
    "tags": []
   },
   "outputs": [
    {
     "name": "stdout",
     "output_type": "stream",
     "text": [
      "<Response [200]>\n",
      "GET: OK\n",
      "Found one resource, returning dict\n"
     ]
    },
    {
     "data": {
      "text/plain": [
       "{'url': 'http://localhost:8000/api/material/3aaa3be4-1158-49d2-851b-360e884f0803/',\n",
       " 'uuid': '3aaa3be4-1158-49d2-851b-360e884f0803',\n",
       " 'edocs': [],\n",
       " 'tags': [],\n",
       " 'notes': [],\n",
       " 'description': 'Ethylammonium Iodide',\n",
       " 'consumable': True,\n",
       " 'composite_flg': False,\n",
       " 'material_class': 'model',\n",
       " 'actor_description': None,\n",
       " 'status_description': 'active',\n",
       " 'add_date': '2021-04-21T13:06:03.145949Z',\n",
       " 'mod_date': '2021-04-21T13:06:10.239921Z',\n",
       " 'actor': None,\n",
       " 'status': 'http://localhost:8000/api/status/3dd5a6a9-bc62-4533-a4c9-ee2fc4c33c82/',\n",
       " 'material_types': ['http://localhost:8000/api/materialtype/049035f6-191f-4e36-9eb0-3925ad386062/',\n",
       "  'http://localhost:8000/api/materialtype/693b6398-2b88-4184-8da7-589e335e561e/'],\n",
       " 'property': ['http://localhost:8000/api/property/f3d50829-e1e7-4e16-b989-26d1a6549975/',\n",
       "  'http://localhost:8000/api/property/08577f8d-3df7-4392-917b-84f04aa618c3/']}"
      ]
     },
     "execution_count": 18,
     "metadata": {},
     "output_type": "execute_result"
    }
   ],
   "source": [
    "get_data('material', \n",
    "         {'description':'Ethylammonium Iodide'})"
   ]
  },
  {
   "cell_type": "markdown",
   "id": "731996ea-2baa-4d03-8f22-3d19418112fd",
   "metadata": {},
   "source": [
    "\n",
    "* In practice we can use this functionality to store properties from any experiment or calculation. \n",
    "\n",
    "* We can also store metadata about where these values came from   \n",
    "  (example to come in a further tutorial on tags, notes, edocs, calculations)."
   ]
  },
  {
   "cell_type": "code",
   "execution_count": null,
   "id": "b5d6f7dc-dedf-4818-8c70-eb24cb99f125",
   "metadata": {},
   "outputs": [],
   "source": []
  },
  {
   "cell_type": "code",
   "execution_count": null,
   "id": "2a95c5c5-8e04-45e5-9ddd-bb13c8242d56",
   "metadata": {},
   "outputs": [],
   "source": []
  },
  {
   "cell_type": "code",
   "execution_count": null,
   "id": "bb10e1b2-530b-4ddf-aa3a-d1450d29aa94",
   "metadata": {},
   "outputs": [],
   "source": []
  },
  {
   "cell_type": "code",
   "execution_count": null,
   "id": "11b63905-0758-44c8-8954-dc5ec93f4371",
   "metadata": {},
   "outputs": [],
   "source": []
  },
  {
   "cell_type": "code",
   "execution_count": null,
   "id": "f8fb1ecd-a44b-4d41-9f4c-c0a08d31bcbf",
   "metadata": {},
   "outputs": [],
   "source": []
  },
  {
   "cell_type": "markdown",
   "id": "deluxe-player",
   "metadata": {},
   "source": [
    "## Action definitions"
   ]
  },
  {
   "cell_type": "markdown",
   "id": "bd98b2d4-8e8d-42b3-bc66-3b7e838d38ea",
   "metadata": {},
   "source": [
    "* Just as we are free to define properties, we are free to define actions\n",
    "* Current definition are what we've needed to specify human/robot instructions for current workflows"
   ]
  },
  {
   "cell_type": "code",
   "execution_count": 19,
   "id": "mobile-people",
   "metadata": {
    "tags": []
   },
   "outputs": [
    {
     "name": "stdout",
     "output_type": "stream",
     "text": [
      "<Response [200]>\n",
      "GET: OK\n",
      "Found 7 resources, returning list of dicts)\n"
     ]
    },
    {
     "data": {
      "text/plain": [
       "[{'url': 'http://localhost:8000/api/actiondef/7a066a15-1484-479c-b9b1-558b3d1e9e0c/',\n",
       "  'uuid': '7a066a15-1484-479c-b9b1-558b3d1e9e0c',\n",
       "  'description': 'dispense'},\n",
       " {'url': 'http://localhost:8000/api/actiondef/e005b856-c20b-4b04-8811-0409ca1236a7/',\n",
       "  'uuid': 'e005b856-c20b-4b04-8811-0409ca1236a7',\n",
       "  'description': 'heat_stir'},\n",
       " {'url': 'http://localhost:8000/api/actiondef/61c9185b-c528-4404-a0f1-706669e80464/',\n",
       "  'uuid': '61c9185b-c528-4404-a0f1-706669e80464',\n",
       "  'description': 'heat'},\n",
       " {'url': 'http://localhost:8000/api/actiondef/e4eba1f7-9157-4ff2-891f-19e0f2a4237a/',\n",
       "  'uuid': 'e4eba1f7-9157-4ff2-891f-19e0f2a4237a',\n",
       "  'description': 'start_node'},\n",
       " {'url': 'http://localhost:8000/api/actiondef/61da8b7f-3084-49ec-b18a-f2472e078132/',\n",
       "  'uuid': '61da8b7f-3084-49ec-b18a-f2472e078132',\n",
       "  'description': 'end_node'},\n",
       " {'url': 'http://localhost:8000/api/actiondef/45c517ef-b33b-45eb-999b-d94bb8e96fde/',\n",
       "  'uuid': '45c517ef-b33b-45eb-999b-d94bb8e96fde',\n",
       "  'description': 'dispense_solid'},\n",
       " {'url': 'http://localhost:8000/api/actiondef/561cda1e-da34-4a0d-8f73-5be3eae08567/',\n",
       "  'uuid': '561cda1e-da34-4a0d-8f73-5be3eae08567',\n",
       "  'description': 'bring_to_temperature'}]"
      ]
     },
     "execution_count": 19,
     "metadata": {},
     "output_type": "execute_result"
    }
   ],
   "source": [
    "r = get_data('actiondef', {'fields': ['description', 'uuid', 'url']})\n",
    "r"
   ]
  },
  {
   "cell_type": "markdown",
   "id": "8d5defe0-e206-4165-a30a-1103fff92440",
   "metadata": {},
   "source": [
    "#### Zooming in on the dispense action definition"
   ]
  },
  {
   "cell_type": "code",
   "execution_count": 20,
   "id": "discrete-crisis",
   "metadata": {
    "tags": []
   },
   "outputs": [
    {
     "name": "stdout",
     "output_type": "stream",
     "text": [
      "<Response [200]>\n",
      "GET: OK\n",
      "Found one resource, returning dict\n"
     ]
    },
    {
     "data": {
      "text/plain": [
       "{'url': 'http://localhost:8000/api/actiondef/7a066a15-1484-479c-b9b1-558b3d1e9e0c/',\n",
       " 'uuid': '7a066a15-1484-479c-b9b1-558b3d1e9e0c',\n",
       " 'edocs': [],\n",
       " 'tags': [],\n",
       " 'notes': [{'url': 'http://localhost:8000/api/note/6cee29c6-baae-4fb7-a9d2-809b307f0cbb/',\n",
       "   'uuid': '6cee29c6-baae-4fb7-a9d2-809b307f0cbb',\n",
       "   'notetext': 'source material = material to be dispensed, destination material = plate well',\n",
       "   'add_date': '2021-04-21T13:06:07.596763Z',\n",
       "   'mod_date': '2021-04-21T13:06:07.596763Z',\n",
       "   'actor_description': 'Mike Tynes',\n",
       "   'ref_note_uuid': '7a066a15-1484-479c-b9b1-558b3d1e9e0c',\n",
       "   'actor': 'http://localhost:8000/api/actor/73dea3b1-9908-4b27-b117-0c082595eb87/'}],\n",
       " 'parameter_def': [{'url': 'http://localhost:8000/api/parameterdef/b1188365-c04d-47f9-b5ee-57f0af45c5c3/',\n",
       "   'uuid': 'b1188365-c04d-47f9-b5ee-57f0af45c5c3',\n",
       "   'edocs': [],\n",
       "   'tags': [],\n",
       "   'notes': [],\n",
       "   'description': 'volume',\n",
       "   'default_val': {'value': 0.0, 'unit': 'mL', 'type': 'num'},\n",
       "   'unit_type': 'volume',\n",
       "   'actor_description': 'Mike Tynes',\n",
       "   'status_description': None,\n",
       "   'add_date': '2021-04-21T13:06:07.572422Z',\n",
       "   'mod_date': '2021-04-21T13:06:07.572422Z',\n",
       "   'val_type': 'http://localhost:8000/api/typedef/ba34fb5c-2a2c-4591-99ae-d844b1fb4c72/',\n",
       "   'actor': 'http://localhost:8000/api/actor/73dea3b1-9908-4b27-b117-0c082595eb87/',\n",
       "   'status': None}],\n",
       " 'description': 'dispense',\n",
       " 'actor_description': 'Mike Tynes',\n",
       " 'status_description': None,\n",
       " 'add_date': '2021-04-21T13:06:07.585092Z',\n",
       " 'mod_date': '2021-04-21T13:06:07.585092Z',\n",
       " 'actor': 'http://localhost:8000/api/actor/73dea3b1-9908-4b27-b117-0c082595eb87/',\n",
       " 'status': None}"
      ]
     },
     "execution_count": 20,
     "metadata": {},
     "output_type": "execute_result"
    }
   ],
   "source": [
    "get_data('actiondef',               \n",
    "         {'description': 'dispense',  # which action def\n",
    "          'expand': 'parameter_def',  # sub dictionary to expand\n",
    "          })"
   ]
  },
  {
   "cell_type": "code",
   "execution_count": null,
   "id": "61a0356d-32d1-46ba-aaad-176bca793df0",
   "metadata": {},
   "outputs": [],
   "source": []
  },
  {
   "cell_type": "code",
   "execution_count": null,
   "id": "683416d6-ee12-4f7e-b8f4-0687e9ad975a",
   "metadata": {},
   "outputs": [],
   "source": []
  },
  {
   "cell_type": "code",
   "execution_count": null,
   "id": "be802a53-a4d9-4165-9526-fd75f7ecf84a",
   "metadata": {},
   "outputs": [],
   "source": []
  },
  {
   "cell_type": "code",
   "execution_count": null,
   "id": "458ed67e-2c9f-4225-b574-75615ada303d",
   "metadata": {},
   "outputs": [],
   "source": []
  },
  {
   "cell_type": "code",
   "execution_count": null,
   "id": "d7d122b2-2b16-4e02-b1cd-3af698d5d91b",
   "metadata": {},
   "outputs": [],
   "source": []
  },
  {
   "cell_type": "code",
   "execution_count": null,
   "id": "65f9c215-d7f3-4f76-bad7-ec1f9d4aca68",
   "metadata": {},
   "outputs": [],
   "source": []
  },
  {
   "cell_type": "markdown",
   "id": "disabled-shannon",
   "metadata": {},
   "source": [
    "### Actions + Materials = Experiment Template \n",
    "\n",
    "* Experiment template = the form of an experiment that I wish to re-use, varying material choices and process parameters"
   ]
  },
  {
   "cell_type": "code",
   "execution_count": 21,
   "id": "be0fec21-cadf-44aa-9890-76d153018837",
   "metadata": {},
   "outputs": [
    {
     "name": "stdout",
     "output_type": "stream",
     "text": [
      "<Response [200]>\n",
      "GET: OK\n",
      "Found 4 resources, returning list of dicts)\n"
     ]
    }
   ],
   "source": [
    "experiment_templates = get_data('experimenttemplate', \n",
    "                               {'fields':['description', 'url']})"
   ]
  },
  {
   "cell_type": "code",
   "execution_count": 22,
   "id": "38e87feb-9702-4bc2-bc1c-1ff3ce9626c7",
   "metadata": {},
   "outputs": [
    {
     "data": {
      "text/plain": [
       "[{'url': 'http://localhost:8000/api/experimenttemplate/aa347bfd-a7b3-4689-a933-1f0739ca21f0/',\n",
       "  'description': 'liquid_solid_extraction'},\n",
       " {'url': 'http://localhost:8000/api/experimenttemplate/e4bb37ec-50a5-41b2-b888-e4c0f2e78a3c/',\n",
       "  'description': 'resin_weighing'},\n",
       " {'url': 'http://localhost:8000/api/experimenttemplate/fa486071-47d9-4a17-8f91-3d71a6be1ddd/',\n",
       "  'description': 'perovskite_demo'},\n",
       " {'url': 'http://localhost:8000/api/experimenttemplate/1d843469-5903-4265-bfd4-52392ab448f4/',\n",
       "  'description': 'test_wf_1'}]"
      ]
     },
     "execution_count": 22,
     "metadata": {},
     "output_type": "execute_result"
    }
   ],
   "source": [
    "experiment_templates"
   ]
  },
  {
   "cell_type": "markdown",
   "id": "southeast-maldives",
   "metadata": {},
   "source": [
    "Click on perovskite demo link and note 2 main nested fields: \n",
    "* Bill of materials = the initial materials for the perovskite workflow\n",
    "* Workflow = the set of actions that combine these materials into perovskite crystal trials"
   ]
  },
  {
   "cell_type": "code",
   "execution_count": 23,
   "id": "6953c893-0aea-41d4-a237-65714df207ed",
   "metadata": {},
   "outputs": [
    {
     "name": "stdout",
     "output_type": "stream",
     "text": [
      "<Response [200]>\n",
      "GET: OK\n",
      "Found one resource, returning dict\n"
     ]
    }
   ],
   "source": [
    "perovskite_template = get_data('experimenttemplate',\n",
    "                              {'description': 'test_wf_1', \n",
    "                              'expand': 'workflow' # expand the workflow subdictionary\n",
    "                              })"
   ]
  },
  {
   "cell_type": "code",
   "execution_count": 24,
   "id": "7445f983-e22f-483c-810c-19530815642c",
   "metadata": {
    "scrolled": true,
    "tags": []
   },
   "outputs": [
    {
     "data": {
      "text/plain": [
       "{'url': 'http://localhost:8000/api/experimenttemplate/1d843469-5903-4265-bfd4-52392ab448f4/',\n",
       " 'uuid': '1d843469-5903-4265-bfd4-52392ab448f4',\n",
       " 'edocs': [],\n",
       " 'tags': [],\n",
       " 'notes': [],\n",
       " 'bill_of_materials': [{'url': 'http://localhost:8000/api/billofmaterials/a522c44d-7d3d-455c-973b-0983d7802b10/',\n",
       "   'uuid': 'a522c44d-7d3d-455c-973b-0983d7802b10',\n",
       "   'edocs': [],\n",
       "   'tags': [],\n",
       "   'notes': [],\n",
       "   'bom_material': ['http://localhost:8000/api/bommaterial/96743e98-1d50-4728-8644-01a06c4209f0/',\n",
       "    'http://localhost:8000/api/bommaterial/4f7a29dd-1d22-44de-b1ee-f80e0f6774ba/',\n",
       "    'http://localhost:8000/api/bommaterial/dd8ee50d-f0a8-4d5a-b940-d7bcd264a06f/',\n",
       "    'http://localhost:8000/api/bommaterial/314f76d2-8815-4e09-826e-102298c2df78/',\n",
       "    'http://localhost:8000/api/bommaterial/dde062ce-1227-46a7-a2c6-9cd032958c72/'],\n",
       "   'description': 'Test WF1 Materials',\n",
       "   'experiment_description': 'test_wf_1',\n",
       "   'add_date': '2021-04-21T13:06:10.378710Z',\n",
       "   'mod_date': '2021-04-21T13:06:10.378710Z',\n",
       "   'experiment': 'http://localhost:8000/api/experiment/1d843469-5903-4265-bfd4-52392ab448f4/',\n",
       "   'actor': 'http://localhost:8000/api/actor/73dea3b1-9908-4b27-b117-0c082595eb87/',\n",
       "   'status': None}],\n",
       " 'ref_uid': 'test_wf_1',\n",
       " 'description': 'test_wf_1',\n",
       " 'owner_description': 'HC',\n",
       " 'operator_description': 'HC',\n",
       " 'lab_description': 'HC',\n",
       " 'status_description': None,\n",
       " 'add_date': '2021-04-21T13:06:10.373801Z',\n",
       " 'mod_date': '2021-04-21T13:06:10.373801Z',\n",
       " 'parent': None,\n",
       " 'owner': 'http://localhost:8000/api/actor/4a4a8c7d-1a40-4d24-9e55-9ce2aeedd0e3/',\n",
       " 'operator': 'http://localhost:8000/api/actor/73dea3b1-9908-4b27-b117-0c082595eb87/',\n",
       " 'lab': 'http://localhost:8000/api/actor/4a4a8c7d-1a40-4d24-9e55-9ce2aeedd0e3/',\n",
       " 'status': None,\n",
       " 'workflow': [{'url': 'http://localhost:8000/api/workflow/8b4c3412-f8ee-4eeb-84db-4bbc82cbb9c8/',\n",
       "   'uuid': '8b4c3412-f8ee-4eeb-84db-4bbc82cbb9c8',\n",
       "   'edocs': [],\n",
       "   'tags': [],\n",
       "   'notes': [],\n",
       "   'step': [{'url': 'http://localhost:8000/api/workflowstep/20e1f009-d310-4dc3-a43d-fc85b30adfaa/',\n",
       "     'uuid': '20e1f009-d310-4dc3-a43d-fc85b30adfaa',\n",
       "     'edocs': [],\n",
       "     'tags': [],\n",
       "     'notes': [],\n",
       "     'workflow_object': 'http://localhost:8000/api/workflowobject/22c9656c-d024-4019-88a7-9d0f7bbd0e7c/',\n",
       "     'workflow_description': 'Dispense Solvent',\n",
       "     'parent_object_type': None,\n",
       "     'parent_object_description': None,\n",
       "     'parent_path': None,\n",
       "     'conditional_val': None,\n",
       "     'conditional_value': None,\n",
       "     'status_description': None,\n",
       "     'add_date': '2021-04-21T13:06:10.627274Z',\n",
       "     'mod_date': '2021-04-21T13:06:10.627274Z',\n",
       "     'workflow': 'http://localhost:8000/api/workflow/8b4c3412-f8ee-4eeb-84db-4bbc82cbb9c8/',\n",
       "     'parent': None,\n",
       "     'status': None},\n",
       "    {'url': 'http://localhost:8000/api/workflowstep/a825a82a-0efa-40de-9a21-ef835c633fb9/',\n",
       "     'uuid': 'a825a82a-0efa-40de-9a21-ef835c633fb9',\n",
       "     'edocs': [],\n",
       "     'tags': [],\n",
       "     'notes': [],\n",
       "     'workflow_object': 'http://localhost:8000/api/workflowobject/05225241-5956-4062-9918-dd1dbaf5534b/',\n",
       "     'workflow_description': 'Dispense Solvent',\n",
       "     'parent_object_type': 'action',\n",
       "     'parent_object_description': 'Dispense Solvent: Solvent -> Plate: Plate well#: A1',\n",
       "     'parent_path': None,\n",
       "     'conditional_val': None,\n",
       "     'conditional_value': None,\n",
       "     'status_description': None,\n",
       "     'add_date': '2021-04-21T13:06:10.627274Z',\n",
       "     'mod_date': '2021-04-21T13:06:10.627274Z',\n",
       "     'workflow': 'http://localhost:8000/api/workflow/8b4c3412-f8ee-4eeb-84db-4bbc82cbb9c8/',\n",
       "     'parent': 'http://localhost:8000/api/workflowstep/20e1f009-d310-4dc3-a43d-fc85b30adfaa/',\n",
       "     'status': None}],\n",
       "   'description': 'Dispense Solvent',\n",
       "   'workflow_type_description': 'template',\n",
       "   'actor_description': 'Mike Tynes',\n",
       "   'status_description': None,\n",
       "   'add_date': '2021-04-21T13:06:10.607768Z',\n",
       "   'mod_date': '2021-04-21T13:06:10.607768Z',\n",
       "   'parent': None,\n",
       "   'workflow_type': 'http://localhost:8000/api/workflowtype/f95bf551-22eb-4157-bf6a-505efae21230/',\n",
       "   'actor': 'http://localhost:8000/api/actor/73dea3b1-9908-4b27-b117-0c082595eb87/',\n",
       "   'status': None},\n",
       "  {'url': 'http://localhost:8000/api/workflow/e0a1f23f-7a5d-4e40-bc93-1cb2b613e84e/',\n",
       "   'uuid': 'e0a1f23f-7a5d-4e40-bc93-1cb2b613e84e',\n",
       "   'edocs': [],\n",
       "   'tags': [],\n",
       "   'notes': [],\n",
       "   'step': [{'url': 'http://localhost:8000/api/workflowstep/1f4b83d4-e4d0-4e35-8dbb-c3c32d083263/',\n",
       "     'uuid': '1f4b83d4-e4d0-4e35-8dbb-c3c32d083263',\n",
       "     'edocs': [],\n",
       "     'tags': [],\n",
       "     'notes': [],\n",
       "     'workflow_object': 'http://localhost:8000/api/workflowobject/2e4d99d7-77ce-469a-8b19-5bceec7775be/',\n",
       "     'workflow_description': 'Dispense Stock A',\n",
       "     'parent_object_type': None,\n",
       "     'parent_object_description': None,\n",
       "     'parent_path': None,\n",
       "     'conditional_val': None,\n",
       "     'conditional_value': None,\n",
       "     'status_description': None,\n",
       "     'add_date': '2021-04-21T13:06:10.748533Z',\n",
       "     'mod_date': '2021-04-21T13:06:10.748533Z',\n",
       "     'workflow': 'http://localhost:8000/api/workflow/e0a1f23f-7a5d-4e40-bc93-1cb2b613e84e/',\n",
       "     'parent': None,\n",
       "     'status': None},\n",
       "    {'url': 'http://localhost:8000/api/workflowstep/c98990e6-ca30-4444-a027-37c847abf782/',\n",
       "     'uuid': 'c98990e6-ca30-4444-a027-37c847abf782',\n",
       "     'edocs': [],\n",
       "     'tags': [],\n",
       "     'notes': [],\n",
       "     'workflow_object': 'http://localhost:8000/api/workflowobject/22ee6c35-01a6-4653-837d-b0d6bed2b278/',\n",
       "     'workflow_description': 'Dispense Stock A',\n",
       "     'parent_object_type': 'action',\n",
       "     'parent_object_description': 'Dispense Stock A: Stock A -> Plate: Plate well#: A1',\n",
       "     'parent_path': None,\n",
       "     'conditional_val': None,\n",
       "     'conditional_value': None,\n",
       "     'status_description': None,\n",
       "     'add_date': '2021-04-21T13:06:10.748533Z',\n",
       "     'mod_date': '2021-04-21T13:06:10.748533Z',\n",
       "     'workflow': 'http://localhost:8000/api/workflow/e0a1f23f-7a5d-4e40-bc93-1cb2b613e84e/',\n",
       "     'parent': 'http://localhost:8000/api/workflowstep/1f4b83d4-e4d0-4e35-8dbb-c3c32d083263/',\n",
       "     'status': None}],\n",
       "   'description': 'Dispense Stock A',\n",
       "   'workflow_type_description': 'template',\n",
       "   'actor_description': 'Mike Tynes',\n",
       "   'status_description': None,\n",
       "   'add_date': '2021-04-21T13:06:10.607768Z',\n",
       "   'mod_date': '2021-04-21T13:06:10.607768Z',\n",
       "   'parent': None,\n",
       "   'workflow_type': 'http://localhost:8000/api/workflowtype/f95bf551-22eb-4157-bf6a-505efae21230/',\n",
       "   'actor': 'http://localhost:8000/api/actor/73dea3b1-9908-4b27-b117-0c082595eb87/',\n",
       "   'status': None},\n",
       "  {'url': 'http://localhost:8000/api/workflow/5bfa5bd7-4eef-49f2-a68c-a7bb01209082/',\n",
       "   'uuid': '5bfa5bd7-4eef-49f2-a68c-a7bb01209082',\n",
       "   'edocs': [],\n",
       "   'tags': [],\n",
       "   'notes': [],\n",
       "   'step': [{'url': 'http://localhost:8000/api/workflowstep/7c6a39c4-4dd0-430f-ad52-7f76216d05e7/',\n",
       "     'uuid': '7c6a39c4-4dd0-430f-ad52-7f76216d05e7',\n",
       "     'edocs': [],\n",
       "     'tags': [],\n",
       "     'notes': [],\n",
       "     'workflow_object': 'http://localhost:8000/api/workflowobject/f67eae54-933d-4cf0-81ad-69854209715d/',\n",
       "     'workflow_description': 'Dispense Stock B',\n",
       "     'parent_object_type': None,\n",
       "     'parent_object_description': None,\n",
       "     'parent_path': None,\n",
       "     'conditional_val': None,\n",
       "     'conditional_value': None,\n",
       "     'status_description': None,\n",
       "     'add_date': '2021-04-21T13:06:10.860569Z',\n",
       "     'mod_date': '2021-04-21T13:06:10.860569Z',\n",
       "     'workflow': 'http://localhost:8000/api/workflow/5bfa5bd7-4eef-49f2-a68c-a7bb01209082/',\n",
       "     'parent': None,\n",
       "     'status': None},\n",
       "    {'url': 'http://localhost:8000/api/workflowstep/79e4e9e2-d9aa-45f6-ae22-ecf5207906e9/',\n",
       "     'uuid': '79e4e9e2-d9aa-45f6-ae22-ecf5207906e9',\n",
       "     'edocs': [],\n",
       "     'tags': [],\n",
       "     'notes': [],\n",
       "     'workflow_object': 'http://localhost:8000/api/workflowobject/4a24b158-110b-4253-bdff-7548c28542ef/',\n",
       "     'workflow_description': 'Dispense Stock B',\n",
       "     'parent_object_type': 'action',\n",
       "     'parent_object_description': 'Dispense Stock B: Stock B -> Plate: Plate well#: A1',\n",
       "     'parent_path': None,\n",
       "     'conditional_val': None,\n",
       "     'conditional_value': None,\n",
       "     'status_description': None,\n",
       "     'add_date': '2021-04-21T13:06:10.860569Z',\n",
       "     'mod_date': '2021-04-21T13:06:10.860569Z',\n",
       "     'workflow': 'http://localhost:8000/api/workflow/5bfa5bd7-4eef-49f2-a68c-a7bb01209082/',\n",
       "     'parent': 'http://localhost:8000/api/workflowstep/7c6a39c4-4dd0-430f-ad52-7f76216d05e7/',\n",
       "     'status': None}],\n",
       "   'description': 'Dispense Stock B',\n",
       "   'workflow_type_description': 'template',\n",
       "   'actor_description': 'Mike Tynes',\n",
       "   'status_description': None,\n",
       "   'add_date': '2021-04-21T13:06:10.607768Z',\n",
       "   'mod_date': '2021-04-21T13:06:10.607768Z',\n",
       "   'parent': None,\n",
       "   'workflow_type': 'http://localhost:8000/api/workflowtype/f95bf551-22eb-4157-bf6a-505efae21230/',\n",
       "   'actor': 'http://localhost:8000/api/actor/73dea3b1-9908-4b27-b117-0c082595eb87/',\n",
       "   'status': None},\n",
       "  {'url': 'http://localhost:8000/api/workflow/85b149a2-2ba8-4b8b-8f61-96b6b160c4ff/',\n",
       "   'uuid': '85b149a2-2ba8-4b8b-8f61-96b6b160c4ff',\n",
       "   'edocs': [],\n",
       "   'tags': [],\n",
       "   'notes': [],\n",
       "   'step': [{'url': 'http://localhost:8000/api/workflowstep/4c47a1db-96d6-4bab-80d3-13ed2edc1a16/',\n",
       "     'uuid': '4c47a1db-96d6-4bab-80d3-13ed2edc1a16',\n",
       "     'edocs': [],\n",
       "     'tags': [],\n",
       "     'notes': [],\n",
       "     'workflow_object': 'http://localhost:8000/api/workflowobject/6d818e03-19e7-4014-bc6e-28009a135194/',\n",
       "     'workflow_description': 'Dispense Acid Vol 1',\n",
       "     'parent_object_type': None,\n",
       "     'parent_object_description': None,\n",
       "     'parent_path': None,\n",
       "     'conditional_val': None,\n",
       "     'conditional_value': None,\n",
       "     'status_description': None,\n",
       "     'add_date': '2021-04-21T13:06:10.971728Z',\n",
       "     'mod_date': '2021-04-21T13:06:10.971728Z',\n",
       "     'workflow': 'http://localhost:8000/api/workflow/85b149a2-2ba8-4b8b-8f61-96b6b160c4ff/',\n",
       "     'parent': None,\n",
       "     'status': None},\n",
       "    {'url': 'http://localhost:8000/api/workflowstep/315b55d1-310e-434d-a9d6-320790abc1b0/',\n",
       "     'uuid': '315b55d1-310e-434d-a9d6-320790abc1b0',\n",
       "     'edocs': [],\n",
       "     'tags': [],\n",
       "     'notes': [],\n",
       "     'workflow_object': 'http://localhost:8000/api/workflowobject/09414574-5871-4f5c-832c-b2fdb0e4d20b/',\n",
       "     'workflow_description': 'Dispense Acid Vol 1',\n",
       "     'parent_object_type': 'action',\n",
       "     'parent_object_description': 'Dispense Acid Vol 1: Acid -> Plate: Plate well#: A1',\n",
       "     'parent_path': None,\n",
       "     'conditional_val': None,\n",
       "     'conditional_value': None,\n",
       "     'status_description': None,\n",
       "     'add_date': '2021-04-21T13:06:10.971728Z',\n",
       "     'mod_date': '2021-04-21T13:06:10.971728Z',\n",
       "     'workflow': 'http://localhost:8000/api/workflow/85b149a2-2ba8-4b8b-8f61-96b6b160c4ff/',\n",
       "     'parent': 'http://localhost:8000/api/workflowstep/4c47a1db-96d6-4bab-80d3-13ed2edc1a16/',\n",
       "     'status': None}],\n",
       "   'description': 'Dispense Acid Vol 1',\n",
       "   'workflow_type_description': 'template',\n",
       "   'actor_description': 'Mike Tynes',\n",
       "   'status_description': None,\n",
       "   'add_date': '2021-04-21T13:06:10.607768Z',\n",
       "   'mod_date': '2021-04-21T13:06:10.607768Z',\n",
       "   'parent': None,\n",
       "   'workflow_type': 'http://localhost:8000/api/workflowtype/f95bf551-22eb-4157-bf6a-505efae21230/',\n",
       "   'actor': 'http://localhost:8000/api/actor/73dea3b1-9908-4b27-b117-0c082595eb87/',\n",
       "   'status': None},\n",
       "  {'url': 'http://localhost:8000/api/workflow/0b74e39a-1d5e-4db5-999b-9437146ba8d7/',\n",
       "   'uuid': '0b74e39a-1d5e-4db5-999b-9437146ba8d7',\n",
       "   'edocs': [],\n",
       "   'tags': [],\n",
       "   'notes': [],\n",
       "   'step': [{'url': 'http://localhost:8000/api/workflowstep/36ffa829-5967-4075-8325-81c33543f42d/',\n",
       "     'uuid': '36ffa829-5967-4075-8325-81c33543f42d',\n",
       "     'edocs': [],\n",
       "     'tags': [],\n",
       "     'notes': [],\n",
       "     'workflow_object': 'http://localhost:8000/api/workflowobject/31f32ed7-5afb-47e4-a712-972213a4814e/',\n",
       "     'workflow_description': 'Dispense Acid Vol 2',\n",
       "     'parent_object_type': None,\n",
       "     'parent_object_description': None,\n",
       "     'parent_path': None,\n",
       "     'conditional_val': None,\n",
       "     'conditional_value': None,\n",
       "     'status_description': None,\n",
       "     'add_date': '2021-04-21T13:06:11.050477Z',\n",
       "     'mod_date': '2021-04-21T13:06:11.050477Z',\n",
       "     'workflow': 'http://localhost:8000/api/workflow/0b74e39a-1d5e-4db5-999b-9437146ba8d7/',\n",
       "     'parent': None,\n",
       "     'status': None},\n",
       "    {'url': 'http://localhost:8000/api/workflowstep/aa01e449-2ed5-484c-b097-83257a21e0ef/',\n",
       "     'uuid': 'aa01e449-2ed5-484c-b097-83257a21e0ef',\n",
       "     'edocs': [],\n",
       "     'tags': [],\n",
       "     'notes': [],\n",
       "     'workflow_object': 'http://localhost:8000/api/workflowobject/5af857fe-e6c7-4957-9bba-747bb6849913/',\n",
       "     'workflow_description': 'Dispense Acid Vol 2',\n",
       "     'parent_object_type': 'action',\n",
       "     'parent_object_description': 'Dispense Acid Vol 2: Acid -> Plate: Plate well#: A1',\n",
       "     'parent_path': None,\n",
       "     'conditional_val': None,\n",
       "     'conditional_value': None,\n",
       "     'status_description': None,\n",
       "     'add_date': '2021-04-21T13:06:11.050477Z',\n",
       "     'mod_date': '2021-04-21T13:06:11.050477Z',\n",
       "     'workflow': 'http://localhost:8000/api/workflow/0b74e39a-1d5e-4db5-999b-9437146ba8d7/',\n",
       "     'parent': 'http://localhost:8000/api/workflowstep/36ffa829-5967-4075-8325-81c33543f42d/',\n",
       "     'status': None}],\n",
       "   'description': 'Dispense Acid Vol 2',\n",
       "   'workflow_type_description': 'template',\n",
       "   'actor_description': 'Mike Tynes',\n",
       "   'status_description': None,\n",
       "   'add_date': '2021-04-21T13:06:10.607768Z',\n",
       "   'mod_date': '2021-04-21T13:06:10.607768Z',\n",
       "   'parent': None,\n",
       "   'workflow_type': 'http://localhost:8000/api/workflowtype/f95bf551-22eb-4157-bf6a-505efae21230/',\n",
       "   'actor': 'http://localhost:8000/api/actor/73dea3b1-9908-4b27-b117-0c082595eb87/',\n",
       "   'status': None}]}"
      ]
     },
     "execution_count": 24,
     "metadata": {},
     "output_type": "execute_result"
    }
   ],
   "source": [
    "perovskite_template"
   ]
  },
  {
   "cell_type": "code",
   "execution_count": null,
   "id": "c20cd93d-e568-4efe-8c8b-85278f624d2d",
   "metadata": {},
   "outputs": [],
   "source": []
  },
  {
   "cell_type": "code",
   "execution_count": null,
   "id": "0d47ad69-d4be-4bc3-be3b-ce7a01e27396",
   "metadata": {},
   "outputs": [],
   "source": []
  },
  {
   "cell_type": "markdown",
   "id": "confidential-eleven",
   "metadata": {},
   "source": [
    "## Bill of Materials\n",
    "\n",
    "The initial materials: think list of materials in methods section of paper"
   ]
  },
  {
   "cell_type": "code",
   "execution_count": null,
   "id": "721039eb-3e7f-4a0b-8239-9c05da25438b",
   "metadata": {},
   "outputs": [],
   "source": []
  },
  {
   "cell_type": "markdown",
   "id": "585320b0-c1d5-4fc1-9ae7-1a840d90e5bb",
   "metadata": {},
   "source": [
    "These are the Bill of Materials' Material entries for this experiment: "
   ]
  },
  {
   "cell_type": "code",
   "execution_count": 25,
   "id": "73f3cdb1-b5c4-45f6-a01f-aedcecd5db27",
   "metadata": {
    "tags": []
   },
   "outputs": [
    {
     "name": "stdout",
     "output_type": "stream",
     "text": [
      "<Response [200]>\n",
      "GET: OK\n",
      "Found 5 resources, returning list of dicts)\n"
     ]
    },
    {
     "data": {
      "text/plain": [
       "[{'description': 'Acid'},\n",
       " {'description': 'Solvent'},\n",
       " {'description': 'Stock A'},\n",
       " {'description': 'Stock B'},\n",
       " {'description': 'Plate'}]"
      ]
     },
     "execution_count": 25,
     "metadata": {},
     "output_type": "execute_result"
    }
   ],
   "source": [
    "get_data('bommaterial', {'bom':perovskite_template['bill_of_materials'][0]['uuid'], \n",
    "                        'fields':['description']})"
   ]
  },
  {
   "cell_type": "code",
   "execution_count": 26,
   "id": "093e61c6-e9e4-46d2-bb71-5830f7a86000",
   "metadata": {
    "tags": []
   },
   "outputs": [
    {
     "name": "stdout",
     "output_type": "stream",
     "text": [
      "<Response [200]>\n",
      "GET: OK\n",
      "Found 7 resources, returning list of dicts)\n"
     ]
    },
    {
     "data": {
      "text/plain": [
       "[{'composite_description': 'Stock A',\n",
       "  'component_description': 'Lead Diiodide'},\n",
       " {'composite_description': 'Stock A',\n",
       "  'component_description': 'Ethylammonium Iodide'},\n",
       " {'composite_description': 'Stock A',\n",
       "  'component_description': 'Gamma-Butyrolactone'},\n",
       " {'composite_description': 'Stock B',\n",
       "  'component_description': 'Ethylammonium Iodide'},\n",
       " {'composite_description': 'Stock B',\n",
       "  'component_description': 'Gamma-Butyrolactone'},\n",
       " {'composite_description': 'Stock FAH',\n",
       "  'component_description': 'Formic Acid'},\n",
       " {'composite_description': 'Stock FAH', 'component_description': 'Water'}]"
      ]
     },
     "execution_count": 26,
     "metadata": {},
     "output_type": "execute_result"
    }
   ],
   "source": [
    "get_data('compositematerial', {'composite_description__startswith':'Stock', \n",
    "                               'fields': ['composite_description',\n",
    "                                          'component_description']})"
   ]
  },
  {
   "cell_type": "markdown",
   "id": "2223fcc0-bb8b-4cd8-a7ec-7007435e2c42",
   "metadata": {},
   "source": [
    "#### We could drill further to get the concentrations, properties, etc"
   ]
  },
  {
   "cell_type": "markdown",
   "id": "reported-rating",
   "metadata": {},
   "source": [
    "### Workflows: Logical groups of actions"
   ]
  },
  {
   "cell_type": "markdown",
   "id": "23650bd5-79e4-490b-b9f9-ef7d5900a1d4",
   "metadata": {},
   "source": [
    "Each of these contains a set of parameters that we can edit"
   ]
  },
  {
   "cell_type": "code",
   "execution_count": 27,
   "id": "6239a623-b119-4a43-991e-1835940633f6",
   "metadata": {},
   "outputs": [
    {
     "name": "stdout",
     "output_type": "stream",
     "text": [
      "<Response [200]>\n",
      "GET: OK\n",
      "Found one resource, returning dict\n"
     ]
    },
    {
     "data": {
      "text/plain": [
       "['Perovskite Demo: Preheat Plate',\n",
       " 'Perovskite Demo: Prepare Stock A',\n",
       " 'Perovskite Demo: Prepare Stock B',\n",
       " 'Perovskite Demo: Dispense Solvent',\n",
       " 'Perovskite Demo: Dispense Stock A',\n",
       " 'Perovskite Demo: Dispense Stock B',\n",
       " 'Perovskite Demo: Dispense Acid Vol 1',\n",
       " 'Perovskite Demo: Heat Stir 1',\n",
       " 'Perovskite Demo: Dispense Acid Vol 2',\n",
       " 'Perovskite Demo: Heat Stir 2',\n",
       " 'Perovskite Demo: Heat']"
      ]
     },
     "execution_count": 27,
     "metadata": {},
     "output_type": "execute_result"
    }
   ],
   "source": [
    "perovskite_demo = get_data('experimenttemplate',\n",
    "         {'description': 'perovskite_demo',\n",
    "          'expand': 'workflow'})\n",
    "[wf['description'] for wf in perovskite_demo['workflow']]"
   ]
  },
  {
   "cell_type": "code",
   "execution_count": 28,
   "id": "3fedc754-c9d2-4789-8d90-98a20cec2a9a",
   "metadata": {},
   "outputs": [
    {
     "data": {
      "text/plain": [
       "{'url': 'http://localhost:8000/api/workflowstep/e8f3ceec-152a-4ee3-889e-f86b550aa8d6/',\n",
       " 'uuid': 'e8f3ceec-152a-4ee3-889e-f86b550aa8d6',\n",
       " 'edocs': [],\n",
       " 'tags': [],\n",
       " 'notes': [],\n",
       " 'workflow_object': 'http://localhost:8000/api/workflowobject/04dd3f83-6a7c-44d8-ab71-de416ac0ffdf/',\n",
       " 'workflow_description': 'Perovskite Demo: Dispense Solvent',\n",
       " 'parent_object_type': 'action',\n",
       " 'parent_object_description': 'Perovskite Demo: Dispense Solvent: Solvent -> Plate: Plate well#: A4',\n",
       " 'parent_path': None,\n",
       " 'conditional_val': None,\n",
       " 'conditional_value': None,\n",
       " 'status_description': None,\n",
       " 'add_date': '2021-04-21T13:06:12.521845Z',\n",
       " 'mod_date': '2021-04-21T13:06:12.521845Z',\n",
       " 'workflow': 'http://localhost:8000/api/workflow/e24220d4-a83d-46d3-baa4-11f89a2f34fc/',\n",
       " 'parent': 'http://localhost:8000/api/workflowstep/440dd4b3-2311-41a1-8638-953dbedcfa29/',\n",
       " 'status': None}"
      ]
     },
     "execution_count": 28,
     "metadata": {},
     "output_type": "execute_result"
    }
   ],
   "source": [
    "dispense_solvent_wf = perovskite_demo['workflow'][3] # pull out a workflow\n",
    "example_steps = dispense_solvent_wf['step'][4]     # pull out some steps\n",
    "example_steps"
   ]
  },
  {
   "cell_type": "code",
   "execution_count": null,
   "id": "fcb60836-150a-4f19-84b6-e87f76cfd14d",
   "metadata": {},
   "outputs": [],
   "source": []
  },
  {
   "cell_type": "code",
   "execution_count": null,
   "id": "a82db962-9aa4-47ac-9d4b-0c19d7a5adce",
   "metadata": {},
   "outputs": [],
   "source": []
  },
  {
   "cell_type": "code",
   "execution_count": null,
   "id": "2b650cab-6b7e-4be6-b88d-30374968c9a5",
   "metadata": {},
   "outputs": [],
   "source": []
  },
  {
   "cell_type": "markdown",
   "id": "4d767ea5-ae79-4182-8838-ccdc0dc93783",
   "metadata": {},
   "source": [
    "## Creating a new workflow from a template\n",
    "\n",
    "If I want create an instance experiment from a template I: "
   ]
  },
  {
   "cell_type": "code",
   "execution_count": 29,
   "id": "b3a34151-e92e-4c9f-bc4d-08f3c335fa93",
   "metadata": {
    "tags": []
   },
   "outputs": [
    {
     "name": "stdout",
     "output_type": "stream",
     "text": [
      "<Response [200]>\n",
      "GET: OK\n"
     ]
    }
   ],
   "source": [
    "editable_template = get_data(\n",
    "    # template endpoint  /        template ID      / create an instance of this template \n",
    "    f'experimenttemplate/{perovskite_demo[\"uuid\"]}/create'\n",
    ")"
   ]
  },
  {
   "cell_type": "code",
   "execution_count": 30,
   "id": "bd7b5c1e-76d7-416b-a143-19aaa5b46bc2",
   "metadata": {
    "scrolled": true,
    "tags": []
   },
   "outputs": [
    {
     "data": {
      "text/plain": [
       "{'experiment_name': '',\n",
       " 'material_parameters': [{'material_name': 'Stock FAH',\n",
       "   'value': 'http://localhost:8000/api/inventorymaterial/bf74ac72-ea82-423c-9214-63a68aee5e4c/'},\n",
       "  {'material_name': 'Neat GBL',\n",
       "   'value': 'http://localhost:8000/api/inventorymaterial/43b80e1d-cbed-4985-ae45-175b9c7a3fc8/'},\n",
       "  {'material_name': 'Ethylammonium Iodide',\n",
       "   'value': 'http://localhost:8000/api/inventorymaterial/30733f43-252d-42c6-8cf0-bc80655432cc/'},\n",
       "  {'material_name': 'Lead Diiodide',\n",
       "   'value': 'http://localhost:8000/api/inventorymaterial/f2da499c-f48b-4752-a777-c2359b20a292/'},\n",
       "  {'material_name': 'Wf1 Plate',\n",
       "   'value': 'http://localhost:8000/api/inventorymaterial/e366f483-1393-4da5-b52b-6e9710070280/'},\n",
       "  {'material_name': 'Tube: 5mL',\n",
       "   'value': 'http://localhost:8000/api/inventorymaterial/aeb511b7-5a42-4f89-9fb0-a128f172a5f3/'},\n",
       "  {'material_name': 'Tube: 5mL',\n",
       "   'value': 'http://localhost:8000/api/inventorymaterial/aeb511b7-5a42-4f89-9fb0-a128f172a5f3/'}],\n",
       " 'experiment_parameters_1': [{'object_description': 'Perovskite Demo: Preheat Plate',\n",
       "   'parameter_def_description': 'temperature',\n",
       "   'value': {'value': 0.0, 'unit': 'degC', 'type': 'num'}},\n",
       "  {'object_description': 'Perovskite Demo: Add Solvent to Stock B',\n",
       "   'parameter_def_description': 'volume',\n",
       "   'value': {'value': 0.0, 'unit': 'mL', 'type': 'num'}},\n",
       "  {'object_description': 'Perovskite Demo: Add Organic to Stock B',\n",
       "   'parameter_def_description': 'mass',\n",
       "   'value': {'value': 0.0, 'unit': 'mg', 'type': 'num'}},\n",
       "  {'object_description': 'Perovskite Demo: Heat',\n",
       "   'parameter_def_description': 'duration',\n",
       "   'value': {'value': 0.0, 'unit': 'mins', 'type': 'num'}},\n",
       "  {'object_description': 'Perovskite Demo: Heat',\n",
       "   'parameter_def_description': 'temperature',\n",
       "   'value': {'value': 0.0, 'unit': 'degC', 'type': 'num'}},\n",
       "  {'object_description': 'Perovskite Demo: Add Solvent to Stock A',\n",
       "   'parameter_def_description': 'volume',\n",
       "   'value': {'value': 0.0, 'unit': 'mL', 'type': 'num'}},\n",
       "  {'object_description': 'Perovskite Demo: Add Inorganic to Stock A',\n",
       "   'parameter_def_description': 'mass',\n",
       "   'value': {'value': 0.0, 'unit': 'mg', 'type': 'num'}},\n",
       "  {'object_description': 'Perovskite Demo: Add Organic to Stock A',\n",
       "   'parameter_def_description': 'mass',\n",
       "   'value': {'value': 0.0, 'unit': 'mg', 'type': 'num'}},\n",
       "  {'object_description': 'Perovskite Demo: Heat Stir 2',\n",
       "   'parameter_def_description': 'duration',\n",
       "   'value': {'value': 0.0, 'unit': 'mins', 'type': 'num'}},\n",
       "  {'object_description': 'Perovskite Demo: Heat Stir 2',\n",
       "   'parameter_def_description': 'speed',\n",
       "   'value': {'value': 0.0, 'unit': 'rpm', 'type': 'num'}},\n",
       "  {'object_description': 'Perovskite Demo: Heat Stir 2',\n",
       "   'parameter_def_description': 'temperature',\n",
       "   'value': {'value': 0.0, 'unit': 'degC', 'type': 'num'}},\n",
       "  {'object_description': 'Perovskite Demo: Heat Stir 1',\n",
       "   'parameter_def_description': 'duration',\n",
       "   'value': {'value': 0.0, 'unit': 'mins', 'type': 'num'}},\n",
       "  {'object_description': 'Perovskite Demo: Heat Stir 1',\n",
       "   'parameter_def_description': 'speed',\n",
       "   'value': {'value': 0.0, 'unit': 'rpm', 'type': 'num'}},\n",
       "  {'object_description': 'Perovskite Demo: Heat Stir 1',\n",
       "   'parameter_def_description': 'temperature',\n",
       "   'value': {'value': 0.0, 'unit': 'degC', 'type': 'num'}}],\n",
       " 'experiment_parameters_2': [],\n",
       " 'experiment_parameters_3': [{'object_description': 'Dispense Acid Vol 2',\n",
       "   'parameter_def_description': 'Sample Acid Volume 2',\n",
       "   'value': {'value': [0, 0, 0, 0, 0, 0], 'unit': 'mL', 'type': 'array_num'}},\n",
       "  {'object_description': 'Dispense Acid Vol 1',\n",
       "   'parameter_def_description': 'Sample Acid Volume 1',\n",
       "   'value': {'value': [0, 0, 0, 0, 0, 0], 'unit': 'mL', 'type': 'array_num'}},\n",
       "  {'object_description': 'Dispense Stock A',\n",
       "   'parameter_def_description': 'Sample Stock A Volume',\n",
       "   'value': {'value': [0, 0, 0, 0, 0, 0], 'unit': 'mL', 'type': 'array_num'}},\n",
       "  {'object_description': 'Dispense Stock B',\n",
       "   'parameter_def_description': 'Sample Stock B Volume',\n",
       "   'value': {'value': [0, 0, 0, 0, 0, 0], 'unit': 'mL', 'type': 'array_num'}},\n",
       "  {'object_description': 'Perovskite Demo: Dispense Solvent',\n",
       "   'parameter_def_description': 'Sample Solvent Volume',\n",
       "   'value': {'value': [0, 0, 0, 0, 0, 0], 'unit': 'mL', 'type': 'array_num'}}]}"
      ]
     },
     "execution_count": 30,
     "metadata": {},
     "output_type": "execute_result"
    }
   ],
   "source": [
    "editable_template"
   ]
  },
  {
   "cell_type": "markdown",
   "id": "922b7219-d2fc-47e6-a56d-59761e7c185c",
   "metadata": {},
   "source": [
    "Can also give arrays of values over 96 well plates"
   ]
  },
  {
   "cell_type": "code",
   "execution_count": 31,
   "id": "16722a59-81ce-4ce5-ae39-fe391540fcb6",
   "metadata": {},
   "outputs": [],
   "source": [
    "editable_template['experiment_name'] = 'test_perovskite_instance'"
   ]
  },
  {
   "cell_type": "markdown",
   "id": "d392ae87-1ee2-4993-a5e5-b2611d8938aa",
   "metadata": {},
   "source": [
    "Suppose I edit this json then I can post the new template to the server"
   ]
  },
  {
   "cell_type": "code",
   "execution_count": 32,
   "id": "6e2ea0af-65d6-47cd-be0b-36917da05046",
   "metadata": {
    "tags": []
   },
   "outputs": [
    {
     "name": "stdout",
     "output_type": "stream",
     "text": [
      "<Response [200]>\n",
      "POST: OK, returning new resource dict\n"
     ]
    }
   ],
   "source": [
    "resp = post_data(\n",
    "    f'experimenttemplate/{perovskite_demo[\"uuid\"]}/create',\n",
    "    editable_template\n",
    ")"
   ]
  },
  {
   "cell_type": "code",
   "execution_count": 33,
   "id": "611fb506-2631-4fcc-adef-58ebbfea5d3a",
   "metadata": {},
   "outputs": [
    {
     "data": {
      "text/plain": [
       "{'new_experiment_created': 'http://localhost:8000/api/experiment/235a27de-ed75-46c2-a2e7-c3b94cb226e2/'}"
      ]
     },
     "execution_count": 33,
     "metadata": {},
     "output_type": "execute_result"
    }
   ],
   "source": [
    "resp"
   ]
  },
  {
   "cell_type": "markdown",
   "id": "2e80c7e7-76f5-443c-9519-7187bc883bac",
   "metadata": {},
   "source": [
    "This experiment then appears in the experiment queue.   \n",
    "\n",
    "http://localhost:8000/experiment_list\n",
    "\n",
    "The experimentalist is notified, can download relevant robot input and upload observed values through forms"
   ]
  },
  {
   "cell_type": "code",
   "execution_count": null,
   "id": "1ceedbb6-467c-43af-8066-5dfee9c1200c",
   "metadata": {},
   "outputs": [],
   "source": []
  },
  {
   "cell_type": "code",
   "execution_count": 34,
   "id": "8a49471e-5a03-4548-b086-51cb9c583a04",
   "metadata": {},
   "outputs": [
    {
     "name": "stdout",
     "output_type": "stream",
     "text": [
      "<Response [200]>\n",
      "GET: OK\n",
      "CPU times: user 4.79 ms, sys: 1.88 ms, total: 6.67 ms\n",
      "Wall time: 2.41 s\n"
     ]
    }
   ],
   "source": [
    "%%time\n",
    "new_experiment_json = get_data('experiment/' + resp['new_experiment_created'].split('/')[-2], \n",
    "                                {'expand': 'workflow.step.workflow_object.action.parameter'}) # expanding deeply nested fields is somewhat slow"
   ]
  },
  {
   "cell_type": "code",
   "execution_count": 35,
   "id": "5fa92d39-eb25-4b85-a143-d238906ae5a9",
   "metadata": {},
   "outputs": [],
   "source": [
    "experiment_json = [new_experiment_json]"
   ]
  },
  {
   "cell_type": "code",
   "execution_count": 36,
   "id": "de579d3f-dba5-421f-b1c8-15ce897f99e0",
   "metadata": {},
   "outputs": [],
   "source": [
    "def experiment_json_to_df(experiment_json):\n",
    "    result = []\n",
    "    for e in experiment_json: \n",
    "        for workflow in e['workflow']:\n",
    "            if 'Dispense' not in workflow['description']:\n",
    "                    continue\n",
    "            for step in workflow['step']: \n",
    "                action = step['workflow_object']['action']\n",
    "                for parameter in action['parameter']:\n",
    "                    result.append(\n",
    "                        dict(\n",
    "                            experiment_url         = e['url'],\n",
    "                            experiment_id          = e['url'].split('/')[-2],\n",
    "                            action_source          = action['source_material_description'],\n",
    "                            action_dest            = action['destination_material_description'],\n",
    "                            action_parameter       = parameter['parameter_def_description'],\n",
    "                            action_parameter_value = float(parameter['parameter_val_nominal']['value']),\n",
    "                            action_parameter_unit  = parameter['parameter_val_nominal']['unit']\n",
    "                            )\n",
    "                        )\n",
    "    return pd.DataFrame(result)"
   ]
  },
  {
   "cell_type": "code",
   "execution_count": 37,
   "id": "738c445c-0dc2-40bc-ac2a-bab6730095a8",
   "metadata": {},
   "outputs": [],
   "source": [
    "results = experiment_json_to_df(experiment_json)"
   ]
  },
  {
   "cell_type": "code",
   "execution_count": 38,
   "id": "9d334afa-10b4-4659-a4a2-21685f5eaecd",
   "metadata": {},
   "outputs": [
    {
     "data": {
      "text/html": [
       "<div>\n",
       "<style scoped>\n",
       "    .dataframe tbody tr th:only-of-type {\n",
       "        vertical-align: middle;\n",
       "    }\n",
       "\n",
       "    .dataframe tbody tr th {\n",
       "        vertical-align: top;\n",
       "    }\n",
       "\n",
       "    .dataframe thead th {\n",
       "        text-align: right;\n",
       "    }\n",
       "</style>\n",
       "<table border=\"1\" class=\"dataframe\">\n",
       "  <thead>\n",
       "    <tr style=\"text-align: right;\">\n",
       "      <th></th>\n",
       "      <th>experiment_url</th>\n",
       "      <th>experiment_id</th>\n",
       "      <th>action_source</th>\n",
       "      <th>action_dest</th>\n",
       "      <th>action_parameter</th>\n",
       "      <th>action_parameter_value</th>\n",
       "      <th>action_parameter_unit</th>\n",
       "    </tr>\n",
       "  </thead>\n",
       "  <tbody>\n",
       "    <tr>\n",
       "      <th>0</th>\n",
       "      <td>http://localhost:8000/api/experiment/235a27de-...</td>\n",
       "      <td>235a27de-ed75-46c2-a2e7-c3b94cb226e2</td>\n",
       "      <td>Solvent</td>\n",
       "      <td>Plate: Plate well#: A1</td>\n",
       "      <td>volume</td>\n",
       "      <td>0.0</td>\n",
       "      <td>mL</td>\n",
       "    </tr>\n",
       "    <tr>\n",
       "      <th>1</th>\n",
       "      <td>http://localhost:8000/api/experiment/235a27de-...</td>\n",
       "      <td>235a27de-ed75-46c2-a2e7-c3b94cb226e2</td>\n",
       "      <td>Solvent</td>\n",
       "      <td>Plate: Plate well#: A6</td>\n",
       "      <td>volume</td>\n",
       "      <td>0.0</td>\n",
       "      <td>mL</td>\n",
       "    </tr>\n",
       "    <tr>\n",
       "      <th>2</th>\n",
       "      <td>http://localhost:8000/api/experiment/235a27de-...</td>\n",
       "      <td>235a27de-ed75-46c2-a2e7-c3b94cb226e2</td>\n",
       "      <td>Solvent</td>\n",
       "      <td>Plate: Plate well#: A5</td>\n",
       "      <td>volume</td>\n",
       "      <td>0.0</td>\n",
       "      <td>mL</td>\n",
       "    </tr>\n",
       "    <tr>\n",
       "      <th>3</th>\n",
       "      <td>http://localhost:8000/api/experiment/235a27de-...</td>\n",
       "      <td>235a27de-ed75-46c2-a2e7-c3b94cb226e2</td>\n",
       "      <td>Solvent</td>\n",
       "      <td>Plate: Plate well#: A4</td>\n",
       "      <td>volume</td>\n",
       "      <td>0.0</td>\n",
       "      <td>mL</td>\n",
       "    </tr>\n",
       "    <tr>\n",
       "      <th>4</th>\n",
       "      <td>http://localhost:8000/api/experiment/235a27de-...</td>\n",
       "      <td>235a27de-ed75-46c2-a2e7-c3b94cb226e2</td>\n",
       "      <td>Solvent</td>\n",
       "      <td>Plate: Plate well#: A3</td>\n",
       "      <td>volume</td>\n",
       "      <td>0.0</td>\n",
       "      <td>mL</td>\n",
       "    </tr>\n",
       "    <tr>\n",
       "      <th>5</th>\n",
       "      <td>http://localhost:8000/api/experiment/235a27de-...</td>\n",
       "      <td>235a27de-ed75-46c2-a2e7-c3b94cb226e2</td>\n",
       "      <td>Solvent</td>\n",
       "      <td>Plate: Plate well#: A2</td>\n",
       "      <td>volume</td>\n",
       "      <td>0.0</td>\n",
       "      <td>mL</td>\n",
       "    </tr>\n",
       "    <tr>\n",
       "      <th>6</th>\n",
       "      <td>http://localhost:8000/api/experiment/235a27de-...</td>\n",
       "      <td>235a27de-ed75-46c2-a2e7-c3b94cb226e2</td>\n",
       "      <td>Stock A</td>\n",
       "      <td>Plate: Plate well#: A1</td>\n",
       "      <td>volume</td>\n",
       "      <td>0.0</td>\n",
       "      <td>mL</td>\n",
       "    </tr>\n",
       "    <tr>\n",
       "      <th>7</th>\n",
       "      <td>http://localhost:8000/api/experiment/235a27de-...</td>\n",
       "      <td>235a27de-ed75-46c2-a2e7-c3b94cb226e2</td>\n",
       "      <td>Stock A</td>\n",
       "      <td>Plate: Plate well#: A6</td>\n",
       "      <td>volume</td>\n",
       "      <td>0.0</td>\n",
       "      <td>mL</td>\n",
       "    </tr>\n",
       "    <tr>\n",
       "      <th>8</th>\n",
       "      <td>http://localhost:8000/api/experiment/235a27de-...</td>\n",
       "      <td>235a27de-ed75-46c2-a2e7-c3b94cb226e2</td>\n",
       "      <td>Stock A</td>\n",
       "      <td>Plate: Plate well#: A5</td>\n",
       "      <td>volume</td>\n",
       "      <td>0.0</td>\n",
       "      <td>mL</td>\n",
       "    </tr>\n",
       "    <tr>\n",
       "      <th>9</th>\n",
       "      <td>http://localhost:8000/api/experiment/235a27de-...</td>\n",
       "      <td>235a27de-ed75-46c2-a2e7-c3b94cb226e2</td>\n",
       "      <td>Stock A</td>\n",
       "      <td>Plate: Plate well#: A4</td>\n",
       "      <td>volume</td>\n",
       "      <td>0.0</td>\n",
       "      <td>mL</td>\n",
       "    </tr>\n",
       "    <tr>\n",
       "      <th>10</th>\n",
       "      <td>http://localhost:8000/api/experiment/235a27de-...</td>\n",
       "      <td>235a27de-ed75-46c2-a2e7-c3b94cb226e2</td>\n",
       "      <td>Stock A</td>\n",
       "      <td>Plate: Plate well#: A3</td>\n",
       "      <td>volume</td>\n",
       "      <td>0.0</td>\n",
       "      <td>mL</td>\n",
       "    </tr>\n",
       "    <tr>\n",
       "      <th>11</th>\n",
       "      <td>http://localhost:8000/api/experiment/235a27de-...</td>\n",
       "      <td>235a27de-ed75-46c2-a2e7-c3b94cb226e2</td>\n",
       "      <td>Stock A</td>\n",
       "      <td>Plate: Plate well#: A2</td>\n",
       "      <td>volume</td>\n",
       "      <td>0.0</td>\n",
       "      <td>mL</td>\n",
       "    </tr>\n",
       "    <tr>\n",
       "      <th>12</th>\n",
       "      <td>http://localhost:8000/api/experiment/235a27de-...</td>\n",
       "      <td>235a27de-ed75-46c2-a2e7-c3b94cb226e2</td>\n",
       "      <td>Stock B</td>\n",
       "      <td>Plate: Plate well#: A1</td>\n",
       "      <td>volume</td>\n",
       "      <td>0.0</td>\n",
       "      <td>mL</td>\n",
       "    </tr>\n",
       "    <tr>\n",
       "      <th>13</th>\n",
       "      <td>http://localhost:8000/api/experiment/235a27de-...</td>\n",
       "      <td>235a27de-ed75-46c2-a2e7-c3b94cb226e2</td>\n",
       "      <td>Stock B</td>\n",
       "      <td>Plate: Plate well#: A6</td>\n",
       "      <td>volume</td>\n",
       "      <td>0.0</td>\n",
       "      <td>mL</td>\n",
       "    </tr>\n",
       "    <tr>\n",
       "      <th>14</th>\n",
       "      <td>http://localhost:8000/api/experiment/235a27de-...</td>\n",
       "      <td>235a27de-ed75-46c2-a2e7-c3b94cb226e2</td>\n",
       "      <td>Stock B</td>\n",
       "      <td>Plate: Plate well#: A5</td>\n",
       "      <td>volume</td>\n",
       "      <td>0.0</td>\n",
       "      <td>mL</td>\n",
       "    </tr>\n",
       "    <tr>\n",
       "      <th>15</th>\n",
       "      <td>http://localhost:8000/api/experiment/235a27de-...</td>\n",
       "      <td>235a27de-ed75-46c2-a2e7-c3b94cb226e2</td>\n",
       "      <td>Stock B</td>\n",
       "      <td>Plate: Plate well#: A4</td>\n",
       "      <td>volume</td>\n",
       "      <td>0.0</td>\n",
       "      <td>mL</td>\n",
       "    </tr>\n",
       "    <tr>\n",
       "      <th>16</th>\n",
       "      <td>http://localhost:8000/api/experiment/235a27de-...</td>\n",
       "      <td>235a27de-ed75-46c2-a2e7-c3b94cb226e2</td>\n",
       "      <td>Stock B</td>\n",
       "      <td>Plate: Plate well#: A3</td>\n",
       "      <td>volume</td>\n",
       "      <td>0.0</td>\n",
       "      <td>mL</td>\n",
       "    </tr>\n",
       "    <tr>\n",
       "      <th>17</th>\n",
       "      <td>http://localhost:8000/api/experiment/235a27de-...</td>\n",
       "      <td>235a27de-ed75-46c2-a2e7-c3b94cb226e2</td>\n",
       "      <td>Stock B</td>\n",
       "      <td>Plate: Plate well#: A2</td>\n",
       "      <td>volume</td>\n",
       "      <td>0.0</td>\n",
       "      <td>mL</td>\n",
       "    </tr>\n",
       "    <tr>\n",
       "      <th>18</th>\n",
       "      <td>http://localhost:8000/api/experiment/235a27de-...</td>\n",
       "      <td>235a27de-ed75-46c2-a2e7-c3b94cb226e2</td>\n",
       "      <td>Acid</td>\n",
       "      <td>Plate: Plate well#: A1</td>\n",
       "      <td>volume</td>\n",
       "      <td>0.0</td>\n",
       "      <td>mL</td>\n",
       "    </tr>\n",
       "    <tr>\n",
       "      <th>19</th>\n",
       "      <td>http://localhost:8000/api/experiment/235a27de-...</td>\n",
       "      <td>235a27de-ed75-46c2-a2e7-c3b94cb226e2</td>\n",
       "      <td>Acid</td>\n",
       "      <td>Plate: Plate well#: A6</td>\n",
       "      <td>volume</td>\n",
       "      <td>0.0</td>\n",
       "      <td>mL</td>\n",
       "    </tr>\n",
       "    <tr>\n",
       "      <th>20</th>\n",
       "      <td>http://localhost:8000/api/experiment/235a27de-...</td>\n",
       "      <td>235a27de-ed75-46c2-a2e7-c3b94cb226e2</td>\n",
       "      <td>Acid</td>\n",
       "      <td>Plate: Plate well#: A5</td>\n",
       "      <td>volume</td>\n",
       "      <td>0.0</td>\n",
       "      <td>mL</td>\n",
       "    </tr>\n",
       "    <tr>\n",
       "      <th>21</th>\n",
       "      <td>http://localhost:8000/api/experiment/235a27de-...</td>\n",
       "      <td>235a27de-ed75-46c2-a2e7-c3b94cb226e2</td>\n",
       "      <td>Acid</td>\n",
       "      <td>Plate: Plate well#: A4</td>\n",
       "      <td>volume</td>\n",
       "      <td>0.0</td>\n",
       "      <td>mL</td>\n",
       "    </tr>\n",
       "    <tr>\n",
       "      <th>22</th>\n",
       "      <td>http://localhost:8000/api/experiment/235a27de-...</td>\n",
       "      <td>235a27de-ed75-46c2-a2e7-c3b94cb226e2</td>\n",
       "      <td>Acid</td>\n",
       "      <td>Plate: Plate well#: A3</td>\n",
       "      <td>volume</td>\n",
       "      <td>0.0</td>\n",
       "      <td>mL</td>\n",
       "    </tr>\n",
       "    <tr>\n",
       "      <th>23</th>\n",
       "      <td>http://localhost:8000/api/experiment/235a27de-...</td>\n",
       "      <td>235a27de-ed75-46c2-a2e7-c3b94cb226e2</td>\n",
       "      <td>Acid</td>\n",
       "      <td>Plate: Plate well#: A2</td>\n",
       "      <td>volume</td>\n",
       "      <td>0.0</td>\n",
       "      <td>mL</td>\n",
       "    </tr>\n",
       "    <tr>\n",
       "      <th>24</th>\n",
       "      <td>http://localhost:8000/api/experiment/235a27de-...</td>\n",
       "      <td>235a27de-ed75-46c2-a2e7-c3b94cb226e2</td>\n",
       "      <td>Acid</td>\n",
       "      <td>Plate: Plate well#: A1</td>\n",
       "      <td>volume</td>\n",
       "      <td>0.0</td>\n",
       "      <td>mL</td>\n",
       "    </tr>\n",
       "    <tr>\n",
       "      <th>25</th>\n",
       "      <td>http://localhost:8000/api/experiment/235a27de-...</td>\n",
       "      <td>235a27de-ed75-46c2-a2e7-c3b94cb226e2</td>\n",
       "      <td>Acid</td>\n",
       "      <td>Plate: Plate well#: A6</td>\n",
       "      <td>volume</td>\n",
       "      <td>0.0</td>\n",
       "      <td>mL</td>\n",
       "    </tr>\n",
       "    <tr>\n",
       "      <th>26</th>\n",
       "      <td>http://localhost:8000/api/experiment/235a27de-...</td>\n",
       "      <td>235a27de-ed75-46c2-a2e7-c3b94cb226e2</td>\n",
       "      <td>Acid</td>\n",
       "      <td>Plate: Plate well#: A5</td>\n",
       "      <td>volume</td>\n",
       "      <td>0.0</td>\n",
       "      <td>mL</td>\n",
       "    </tr>\n",
       "    <tr>\n",
       "      <th>27</th>\n",
       "      <td>http://localhost:8000/api/experiment/235a27de-...</td>\n",
       "      <td>235a27de-ed75-46c2-a2e7-c3b94cb226e2</td>\n",
       "      <td>Acid</td>\n",
       "      <td>Plate: Plate well#: A4</td>\n",
       "      <td>volume</td>\n",
       "      <td>0.0</td>\n",
       "      <td>mL</td>\n",
       "    </tr>\n",
       "    <tr>\n",
       "      <th>28</th>\n",
       "      <td>http://localhost:8000/api/experiment/235a27de-...</td>\n",
       "      <td>235a27de-ed75-46c2-a2e7-c3b94cb226e2</td>\n",
       "      <td>Acid</td>\n",
       "      <td>Plate: Plate well#: A3</td>\n",
       "      <td>volume</td>\n",
       "      <td>0.0</td>\n",
       "      <td>mL</td>\n",
       "    </tr>\n",
       "    <tr>\n",
       "      <th>29</th>\n",
       "      <td>http://localhost:8000/api/experiment/235a27de-...</td>\n",
       "      <td>235a27de-ed75-46c2-a2e7-c3b94cb226e2</td>\n",
       "      <td>Acid</td>\n",
       "      <td>Plate: Plate well#: A2</td>\n",
       "      <td>volume</td>\n",
       "      <td>0.0</td>\n",
       "      <td>mL</td>\n",
       "    </tr>\n",
       "  </tbody>\n",
       "</table>\n",
       "</div>"
      ],
      "text/plain": [
       "                                       experiment_url  \\\n",
       "0   http://localhost:8000/api/experiment/235a27de-...   \n",
       "1   http://localhost:8000/api/experiment/235a27de-...   \n",
       "2   http://localhost:8000/api/experiment/235a27de-...   \n",
       "3   http://localhost:8000/api/experiment/235a27de-...   \n",
       "4   http://localhost:8000/api/experiment/235a27de-...   \n",
       "5   http://localhost:8000/api/experiment/235a27de-...   \n",
       "6   http://localhost:8000/api/experiment/235a27de-...   \n",
       "7   http://localhost:8000/api/experiment/235a27de-...   \n",
       "8   http://localhost:8000/api/experiment/235a27de-...   \n",
       "9   http://localhost:8000/api/experiment/235a27de-...   \n",
       "10  http://localhost:8000/api/experiment/235a27de-...   \n",
       "11  http://localhost:8000/api/experiment/235a27de-...   \n",
       "12  http://localhost:8000/api/experiment/235a27de-...   \n",
       "13  http://localhost:8000/api/experiment/235a27de-...   \n",
       "14  http://localhost:8000/api/experiment/235a27de-...   \n",
       "15  http://localhost:8000/api/experiment/235a27de-...   \n",
       "16  http://localhost:8000/api/experiment/235a27de-...   \n",
       "17  http://localhost:8000/api/experiment/235a27de-...   \n",
       "18  http://localhost:8000/api/experiment/235a27de-...   \n",
       "19  http://localhost:8000/api/experiment/235a27de-...   \n",
       "20  http://localhost:8000/api/experiment/235a27de-...   \n",
       "21  http://localhost:8000/api/experiment/235a27de-...   \n",
       "22  http://localhost:8000/api/experiment/235a27de-...   \n",
       "23  http://localhost:8000/api/experiment/235a27de-...   \n",
       "24  http://localhost:8000/api/experiment/235a27de-...   \n",
       "25  http://localhost:8000/api/experiment/235a27de-...   \n",
       "26  http://localhost:8000/api/experiment/235a27de-...   \n",
       "27  http://localhost:8000/api/experiment/235a27de-...   \n",
       "28  http://localhost:8000/api/experiment/235a27de-...   \n",
       "29  http://localhost:8000/api/experiment/235a27de-...   \n",
       "\n",
       "                           experiment_id action_source  \\\n",
       "0   235a27de-ed75-46c2-a2e7-c3b94cb226e2       Solvent   \n",
       "1   235a27de-ed75-46c2-a2e7-c3b94cb226e2       Solvent   \n",
       "2   235a27de-ed75-46c2-a2e7-c3b94cb226e2       Solvent   \n",
       "3   235a27de-ed75-46c2-a2e7-c3b94cb226e2       Solvent   \n",
       "4   235a27de-ed75-46c2-a2e7-c3b94cb226e2       Solvent   \n",
       "5   235a27de-ed75-46c2-a2e7-c3b94cb226e2       Solvent   \n",
       "6   235a27de-ed75-46c2-a2e7-c3b94cb226e2       Stock A   \n",
       "7   235a27de-ed75-46c2-a2e7-c3b94cb226e2       Stock A   \n",
       "8   235a27de-ed75-46c2-a2e7-c3b94cb226e2       Stock A   \n",
       "9   235a27de-ed75-46c2-a2e7-c3b94cb226e2       Stock A   \n",
       "10  235a27de-ed75-46c2-a2e7-c3b94cb226e2       Stock A   \n",
       "11  235a27de-ed75-46c2-a2e7-c3b94cb226e2       Stock A   \n",
       "12  235a27de-ed75-46c2-a2e7-c3b94cb226e2       Stock B   \n",
       "13  235a27de-ed75-46c2-a2e7-c3b94cb226e2       Stock B   \n",
       "14  235a27de-ed75-46c2-a2e7-c3b94cb226e2       Stock B   \n",
       "15  235a27de-ed75-46c2-a2e7-c3b94cb226e2       Stock B   \n",
       "16  235a27de-ed75-46c2-a2e7-c3b94cb226e2       Stock B   \n",
       "17  235a27de-ed75-46c2-a2e7-c3b94cb226e2       Stock B   \n",
       "18  235a27de-ed75-46c2-a2e7-c3b94cb226e2          Acid   \n",
       "19  235a27de-ed75-46c2-a2e7-c3b94cb226e2          Acid   \n",
       "20  235a27de-ed75-46c2-a2e7-c3b94cb226e2          Acid   \n",
       "21  235a27de-ed75-46c2-a2e7-c3b94cb226e2          Acid   \n",
       "22  235a27de-ed75-46c2-a2e7-c3b94cb226e2          Acid   \n",
       "23  235a27de-ed75-46c2-a2e7-c3b94cb226e2          Acid   \n",
       "24  235a27de-ed75-46c2-a2e7-c3b94cb226e2          Acid   \n",
       "25  235a27de-ed75-46c2-a2e7-c3b94cb226e2          Acid   \n",
       "26  235a27de-ed75-46c2-a2e7-c3b94cb226e2          Acid   \n",
       "27  235a27de-ed75-46c2-a2e7-c3b94cb226e2          Acid   \n",
       "28  235a27de-ed75-46c2-a2e7-c3b94cb226e2          Acid   \n",
       "29  235a27de-ed75-46c2-a2e7-c3b94cb226e2          Acid   \n",
       "\n",
       "               action_dest action_parameter  action_parameter_value  \\\n",
       "0   Plate: Plate well#: A1           volume                     0.0   \n",
       "1   Plate: Plate well#: A6           volume                     0.0   \n",
       "2   Plate: Plate well#: A5           volume                     0.0   \n",
       "3   Plate: Plate well#: A4           volume                     0.0   \n",
       "4   Plate: Plate well#: A3           volume                     0.0   \n",
       "5   Plate: Plate well#: A2           volume                     0.0   \n",
       "6   Plate: Plate well#: A1           volume                     0.0   \n",
       "7   Plate: Plate well#: A6           volume                     0.0   \n",
       "8   Plate: Plate well#: A5           volume                     0.0   \n",
       "9   Plate: Plate well#: A4           volume                     0.0   \n",
       "10  Plate: Plate well#: A3           volume                     0.0   \n",
       "11  Plate: Plate well#: A2           volume                     0.0   \n",
       "12  Plate: Plate well#: A1           volume                     0.0   \n",
       "13  Plate: Plate well#: A6           volume                     0.0   \n",
       "14  Plate: Plate well#: A5           volume                     0.0   \n",
       "15  Plate: Plate well#: A4           volume                     0.0   \n",
       "16  Plate: Plate well#: A3           volume                     0.0   \n",
       "17  Plate: Plate well#: A2           volume                     0.0   \n",
       "18  Plate: Plate well#: A1           volume                     0.0   \n",
       "19  Plate: Plate well#: A6           volume                     0.0   \n",
       "20  Plate: Plate well#: A5           volume                     0.0   \n",
       "21  Plate: Plate well#: A4           volume                     0.0   \n",
       "22  Plate: Plate well#: A3           volume                     0.0   \n",
       "23  Plate: Plate well#: A2           volume                     0.0   \n",
       "24  Plate: Plate well#: A1           volume                     0.0   \n",
       "25  Plate: Plate well#: A6           volume                     0.0   \n",
       "26  Plate: Plate well#: A5           volume                     0.0   \n",
       "27  Plate: Plate well#: A4           volume                     0.0   \n",
       "28  Plate: Plate well#: A3           volume                     0.0   \n",
       "29  Plate: Plate well#: A2           volume                     0.0   \n",
       "\n",
       "   action_parameter_unit  \n",
       "0                     mL  \n",
       "1                     mL  \n",
       "2                     mL  \n",
       "3                     mL  \n",
       "4                     mL  \n",
       "5                     mL  \n",
       "6                     mL  \n",
       "7                     mL  \n",
       "8                     mL  \n",
       "9                     mL  \n",
       "10                    mL  \n",
       "11                    mL  \n",
       "12                    mL  \n",
       "13                    mL  \n",
       "14                    mL  \n",
       "15                    mL  \n",
       "16                    mL  \n",
       "17                    mL  \n",
       "18                    mL  \n",
       "19                    mL  \n",
       "20                    mL  \n",
       "21                    mL  \n",
       "22                    mL  \n",
       "23                    mL  \n",
       "24                    mL  \n",
       "25                    mL  \n",
       "26                    mL  \n",
       "27                    mL  \n",
       "28                    mL  \n",
       "29                    mL  "
      ]
     },
     "execution_count": 38,
     "metadata": {},
     "output_type": "execute_result"
    }
   ],
   "source": [
    "results"
   ]
  },
  {
   "cell_type": "code",
   "execution_count": 39,
   "id": "df631062-962a-4687-b991-94ebde477398",
   "metadata": {},
   "outputs": [
    {
     "data": {
      "text/html": [
       "<div>\n",
       "<style scoped>\n",
       "    .dataframe tbody tr th:only-of-type {\n",
       "        vertical-align: middle;\n",
       "    }\n",
       "\n",
       "    .dataframe tbody tr th {\n",
       "        vertical-align: top;\n",
       "    }\n",
       "\n",
       "    .dataframe thead th {\n",
       "        text-align: right;\n",
       "    }\n",
       "</style>\n",
       "<table border=\"1\" class=\"dataframe\">\n",
       "  <thead>\n",
       "    <tr style=\"text-align: right;\">\n",
       "      <th></th>\n",
       "      <th>action_source</th>\n",
       "      <th>Acid</th>\n",
       "      <th>Solvent</th>\n",
       "      <th>Stock A</th>\n",
       "      <th>Stock B</th>\n",
       "    </tr>\n",
       "    <tr>\n",
       "      <th>experiment_id</th>\n",
       "      <th>action_dest</th>\n",
       "      <th></th>\n",
       "      <th></th>\n",
       "      <th></th>\n",
       "      <th></th>\n",
       "    </tr>\n",
       "  </thead>\n",
       "  <tbody>\n",
       "    <tr>\n",
       "      <th rowspan=\"6\" valign=\"top\">235a27de-ed75-46c2-a2e7-c3b94cb226e2</th>\n",
       "      <th>Plate: Plate well#: A1</th>\n",
       "      <td>0.0</td>\n",
       "      <td>0.0</td>\n",
       "      <td>0.0</td>\n",
       "      <td>0.0</td>\n",
       "    </tr>\n",
       "    <tr>\n",
       "      <th>Plate: Plate well#: A2</th>\n",
       "      <td>0.0</td>\n",
       "      <td>0.0</td>\n",
       "      <td>0.0</td>\n",
       "      <td>0.0</td>\n",
       "    </tr>\n",
       "    <tr>\n",
       "      <th>Plate: Plate well#: A3</th>\n",
       "      <td>0.0</td>\n",
       "      <td>0.0</td>\n",
       "      <td>0.0</td>\n",
       "      <td>0.0</td>\n",
       "    </tr>\n",
       "    <tr>\n",
       "      <th>Plate: Plate well#: A4</th>\n",
       "      <td>0.0</td>\n",
       "      <td>0.0</td>\n",
       "      <td>0.0</td>\n",
       "      <td>0.0</td>\n",
       "    </tr>\n",
       "    <tr>\n",
       "      <th>Plate: Plate well#: A5</th>\n",
       "      <td>0.0</td>\n",
       "      <td>0.0</td>\n",
       "      <td>0.0</td>\n",
       "      <td>0.0</td>\n",
       "    </tr>\n",
       "    <tr>\n",
       "      <th>Plate: Plate well#: A6</th>\n",
       "      <td>0.0</td>\n",
       "      <td>0.0</td>\n",
       "      <td>0.0</td>\n",
       "      <td>0.0</td>\n",
       "    </tr>\n",
       "  </tbody>\n",
       "</table>\n",
       "</div>"
      ],
      "text/plain": [
       "action_source                                                Acid  Solvent  \\\n",
       "experiment_id                        action_dest                             \n",
       "235a27de-ed75-46c2-a2e7-c3b94cb226e2 Plate: Plate well#: A1   0.0      0.0   \n",
       "                                     Plate: Plate well#: A2   0.0      0.0   \n",
       "                                     Plate: Plate well#: A3   0.0      0.0   \n",
       "                                     Plate: Plate well#: A4   0.0      0.0   \n",
       "                                     Plate: Plate well#: A5   0.0      0.0   \n",
       "                                     Plate: Plate well#: A6   0.0      0.0   \n",
       "\n",
       "action_source                                                Stock A  Stock B  \n",
       "experiment_id                        action_dest                               \n",
       "235a27de-ed75-46c2-a2e7-c3b94cb226e2 Plate: Plate well#: A1      0.0      0.0  \n",
       "                                     Plate: Plate well#: A2      0.0      0.0  \n",
       "                                     Plate: Plate well#: A3      0.0      0.0  \n",
       "                                     Plate: Plate well#: A4      0.0      0.0  \n",
       "                                     Plate: Plate well#: A5      0.0      0.0  \n",
       "                                     Plate: Plate well#: A6      0.0      0.0  "
      ]
     },
     "execution_count": 39,
     "metadata": {},
     "output_type": "execute_result"
    }
   ],
   "source": [
    "results = results.pivot_table(index=['experiment_id', 'action_dest'], \n",
    "                      columns=['action_source'], \n",
    "                      values='action_parameter_value')\n",
    "results"
   ]
  },
  {
   "cell_type": "code",
   "execution_count": 40,
   "id": "1e16375b-40e5-4d04-aa4e-046954e111fb",
   "metadata": {},
   "outputs": [
    {
     "name": "stdout",
     "output_type": "stream",
     "text": [
      "<Response [200]>\n",
      "GET: OK\n",
      "Found one resource, returning dict\n",
      "<Response [200]>\n",
      "GET: OK\n",
      "Found one resource, returning dict\n"
     ]
    }
   ],
   "source": [
    "crystal_scores = get_data('measure', \n",
    "                          {'measuredef':\n",
    "                                (get_data('measuredef', \n",
    "                                          {'description': 'crystal_score'})['url']\n",
    "                                )\n",
    "                          })                        \n",
    "results['crystal_score'] = crystal_scores['measure_value']['value']"
   ]
  },
  {
   "cell_type": "code",
   "execution_count": 41,
   "id": "a372756a-1cf6-4fc8-8ab8-9bf9be710b3c",
   "metadata": {},
   "outputs": [
    {
     "data": {
      "text/html": [
       "<div>\n",
       "<style scoped>\n",
       "    .dataframe tbody tr th:only-of-type {\n",
       "        vertical-align: middle;\n",
       "    }\n",
       "\n",
       "    .dataframe tbody tr th {\n",
       "        vertical-align: top;\n",
       "    }\n",
       "\n",
       "    .dataframe thead th {\n",
       "        text-align: right;\n",
       "    }\n",
       "</style>\n",
       "<table border=\"1\" class=\"dataframe\">\n",
       "  <thead>\n",
       "    <tr style=\"text-align: right;\">\n",
       "      <th></th>\n",
       "      <th>action_source</th>\n",
       "      <th>Acid</th>\n",
       "      <th>Solvent</th>\n",
       "      <th>Stock A</th>\n",
       "      <th>Stock B</th>\n",
       "      <th>crystal_score</th>\n",
       "    </tr>\n",
       "    <tr>\n",
       "      <th>experiment_id</th>\n",
       "      <th>action_dest</th>\n",
       "      <th></th>\n",
       "      <th></th>\n",
       "      <th></th>\n",
       "      <th></th>\n",
       "      <th></th>\n",
       "    </tr>\n",
       "  </thead>\n",
       "  <tbody>\n",
       "    <tr>\n",
       "      <th rowspan=\"6\" valign=\"top\">235a27de-ed75-46c2-a2e7-c3b94cb226e2</th>\n",
       "      <th>Plate: Plate well#: A1</th>\n",
       "      <td>0.0</td>\n",
       "      <td>0.0</td>\n",
       "      <td>0.0</td>\n",
       "      <td>0.0</td>\n",
       "      <td>1</td>\n",
       "    </tr>\n",
       "    <tr>\n",
       "      <th>Plate: Plate well#: A2</th>\n",
       "      <td>0.0</td>\n",
       "      <td>0.0</td>\n",
       "      <td>0.0</td>\n",
       "      <td>0.0</td>\n",
       "      <td>1</td>\n",
       "    </tr>\n",
       "    <tr>\n",
       "      <th>Plate: Plate well#: A3</th>\n",
       "      <td>0.0</td>\n",
       "      <td>0.0</td>\n",
       "      <td>0.0</td>\n",
       "      <td>0.0</td>\n",
       "      <td>1</td>\n",
       "    </tr>\n",
       "    <tr>\n",
       "      <th>Plate: Plate well#: A4</th>\n",
       "      <td>0.0</td>\n",
       "      <td>0.0</td>\n",
       "      <td>0.0</td>\n",
       "      <td>0.0</td>\n",
       "      <td>1</td>\n",
       "    </tr>\n",
       "    <tr>\n",
       "      <th>Plate: Plate well#: A5</th>\n",
       "      <td>0.0</td>\n",
       "      <td>0.0</td>\n",
       "      <td>0.0</td>\n",
       "      <td>0.0</td>\n",
       "      <td>1</td>\n",
       "    </tr>\n",
       "    <tr>\n",
       "      <th>Plate: Plate well#: A6</th>\n",
       "      <td>0.0</td>\n",
       "      <td>0.0</td>\n",
       "      <td>0.0</td>\n",
       "      <td>0.0</td>\n",
       "      <td>1</td>\n",
       "    </tr>\n",
       "  </tbody>\n",
       "</table>\n",
       "</div>"
      ],
      "text/plain": [
       "action_source                                                Acid  Solvent  \\\n",
       "experiment_id                        action_dest                             \n",
       "235a27de-ed75-46c2-a2e7-c3b94cb226e2 Plate: Plate well#: A1   0.0      0.0   \n",
       "                                     Plate: Plate well#: A2   0.0      0.0   \n",
       "                                     Plate: Plate well#: A3   0.0      0.0   \n",
       "                                     Plate: Plate well#: A4   0.0      0.0   \n",
       "                                     Plate: Plate well#: A5   0.0      0.0   \n",
       "                                     Plate: Plate well#: A6   0.0      0.0   \n",
       "\n",
       "action_source                                                Stock A  Stock B  \\\n",
       "experiment_id                        action_dest                                \n",
       "235a27de-ed75-46c2-a2e7-c3b94cb226e2 Plate: Plate well#: A1      0.0      0.0   \n",
       "                                     Plate: Plate well#: A2      0.0      0.0   \n",
       "                                     Plate: Plate well#: A3      0.0      0.0   \n",
       "                                     Plate: Plate well#: A4      0.0      0.0   \n",
       "                                     Plate: Plate well#: A5      0.0      0.0   \n",
       "                                     Plate: Plate well#: A6      0.0      0.0   \n",
       "\n",
       "action_source                                                crystal_score  \n",
       "experiment_id                        action_dest                            \n",
       "235a27de-ed75-46c2-a2e7-c3b94cb226e2 Plate: Plate well#: A1              1  \n",
       "                                     Plate: Plate well#: A2              1  \n",
       "                                     Plate: Plate well#: A3              1  \n",
       "                                     Plate: Plate well#: A4              1  \n",
       "                                     Plate: Plate well#: A5              1  \n",
       "                                     Plate: Plate well#: A6              1  "
      ]
     },
     "execution_count": 41,
     "metadata": {},
     "output_type": "execute_result"
    }
   ],
   "source": [
    "results"
   ]
  },
  {
   "cell_type": "code",
   "execution_count": null,
   "id": "b133a333-e2da-4a1c-87ea-9430345b455b",
   "metadata": {},
   "outputs": [],
   "source": []
  },
  {
   "cell_type": "code",
   "execution_count": null,
   "id": "06a82e82-2d92-4f23-9651-98ab8c02a447",
   "metadata": {},
   "outputs": [],
   "source": []
  },
  {
   "cell_type": "markdown",
   "id": "da33fd76-cd35-4d05-b830-dc662e9dc19c",
   "metadata": {},
   "source": [
    "### Current Limitations\n",
    "\n",
    "* Some parts of API still are 'high entropy' (e.g. measure)\n",
    "* Ditto for some portions of UI\n",
    "* REST is slow for large transfers"
   ]
  },
  {
   "cell_type": "code",
   "execution_count": null,
   "id": "6d50ed06-9e64-4dea-bf7e-77fbb0ca95fd",
   "metadata": {},
   "outputs": [],
   "source": []
  }
 ],
 "metadata": {
  "kernelspec": {
   "display_name": "Python 3",
   "language": "python",
   "name": "python3"
  },
  "language_info": {
   "codemirror_mode": {
    "name": "ipython",
    "version": 3
   },
   "file_extension": ".py",
   "mimetype": "text/x-python",
   "name": "python",
   "nbconvert_exporter": "python",
   "pygments_lexer": "ipython3",
   "version": "3.9.2"
  }
 },
 "nbformat": 4,
 "nbformat_minor": 5
}
