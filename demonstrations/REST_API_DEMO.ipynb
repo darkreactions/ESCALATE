{
 "cells": [
  {
   "cell_type": "markdown",
   "id": "changed-dallas",
   "metadata": {},
   "source": [
    "# Interacting with the ESCALATE REST API"
   ]
  },
  {
   "cell_type": "markdown",
   "id": "c50b0e11-11ee-4357-bdba-648b9af11e2c",
   "metadata": {},
   "source": [
    "This is a tutorail for using the ESCALATE REST API. \n",
    "\n",
    "It presumes only knowledge of basic python. \n",
    "\n",
    "It also presumes you have a local instance of ESCALATE running at http://localhost:8000"
   ]
  },
  {
   "cell_type": "code",
   "execution_count": null,
   "id": "suited-individual",
   "metadata": {
    "tags": []
   },
   "outputs": [],
   "source": [
    "import json\n",
    "from pprint import pprint\n",
    "\n",
    "import requests  # requests library will send and receive data from the escalate server\n",
    "from requests.api import post\n",
    "\n",
    "import pandas as pd"
   ]
  },
  {
   "cell_type": "code",
   "execution_count": null,
   "id": "112bead2-2e25-4c0c-a577-b7970e237969",
   "metadata": {},
   "outputs": [],
   "source": []
  },
  {
   "cell_type": "markdown",
   "id": "fitted-denial",
   "metadata": {},
   "source": [
    "## Quick intro to REST APIs\n",
    "\n",
    "All you need to know about REST is that:\n",
    "* It is a protocol for exchanging data between a client (e.g. me) and a server (e.g. ESCALATE)\n",
    "* Data formats are human *and* machine readable (XML or JSON)\n",
    "* There are two main HTTP 'verbs' or functions: \n",
    "  1. GET data from the server\n",
    "  2. POST data to the server  \n",
    "     (there are others, e.g. PUT and PATCH, but we won't use these in this tutorial)\n",
    "* The python `requests` library implements the HTTP verbs for interacting with servers, including with REST APIs"
   ]
  },
  {
   "cell_type": "code",
   "execution_count": null,
   "id": "9a730b60-143f-4537-b6ed-6090c42879ff",
   "metadata": {},
   "outputs": [],
   "source": []
  },
  {
   "cell_type": "markdown",
   "id": "49a1b5c4-8f30-43fe-9072-dc8ee0068eb6",
   "metadata": {},
   "source": [
    "### Example: GET from the PubChem API\n",
    "\n",
    "* [Pubchem](https://pubchem.ncbi.nlm.nih.gov/) is a great way to get chemical informatics data from a vast repository\n",
    "   - e.g. just search for any compound above\n",
    "   - Has a graphical web interface and REST API\n",
    "* (There are other computational chemistry REST APIs, including [Open Chemistry](https://doi.org/10.1186/s13321-017-0241-z), and [AFLOW-ML](https://doi.org/10.1016/j.commatsci.2018.03.075))\n"
   ]
  },
  {
   "cell_type": "code",
   "execution_count": null,
   "id": "registered-apparel",
   "metadata": {
    "tags": []
   },
   "outputs": [],
   "source": [
    "# dict mapping compound name to PubChemID\n",
    "PubChemIDs = {\n",
    "    'Methane': '297',\n",
    "    'Benzene': '241',\n",
    "    'Ethylammonium Iodide': '11116533'\n",
    "}"
   ]
  },
  {
   "cell_type": "markdown",
   "id": "ffa67dc6-8174-417e-ba96-6504de787527",
   "metadata": {
    "tags": []
   },
   "source": [
    "The URL below is the compound 'API endpoint' which I can send a request to for properties of compounds given their PubChem CIDs"
   ]
  },
  {
   "cell_type": "code",
   "execution_count": null,
   "id": "compliant-mustang",
   "metadata": {
    "tags": []
   },
   "outputs": [],
   "source": [
    "response = requests.get(('https://pubchem.ncbi.nlm.nih.gov/rest/pug/compound'          # What type of entity? Compound\n",
    "                         f'/cid/{\",\".join(PubChemIDs.values())}/'                      # Which compounds? These\n",
    "                         'property/MolecularFormula,MolecularWeight,CanonicalSMILES/'  # Which properties? \n",
    "                         'JSON'))                                                      # Which format?"
   ]
  },
  {
   "cell_type": "code",
   "execution_count": null,
   "id": "0b3b830e-f67d-4235-a4f8-176c825e8d27",
   "metadata": {},
   "outputs": [],
   "source": [
    "response"
   ]
  },
  {
   "cell_type": "code",
   "execution_count": null,
   "id": "animal-bunch",
   "metadata": {
    "tags": []
   },
   "outputs": [],
   "source": [
    "response.json()"
   ]
  },
  {
   "cell_type": "code",
   "execution_count": null,
   "id": "e6128b2b-88c8-4fee-974f-41efa0a9c103",
   "metadata": {},
   "outputs": [],
   "source": []
  },
  {
   "cell_type": "markdown",
   "id": "8991c6d8-1b33-445c-9702-c9b1a3246924",
   "metadata": {},
   "source": [
    "## The ESCALATE REST API \n",
    "\n",
    "* Send data back and forth between ML, chemists, and laboratories"
   ]
  },
  {
   "cell_type": "markdown",
   "id": "659fd412-598c-4b03-9161-e3e5d6e7dc1e",
   "metadata": {},
   "source": [
    "### Interactive List of all available ESCALATE endpoints\n",
    "\n",
    "Simply navigating to http://localhost:8000/api will show you a browsable list of all available API endpoints. \n",
    "\n",
    "We can also view that list programmatically: "
   ]
  },
  {
   "cell_type": "code",
   "execution_count": null,
   "id": "3980090b-ec8d-475e-9106-3b21cb029c12",
   "metadata": {
    "tags": []
   },
   "outputs": [],
   "source": [
    "base_url = 'http://localhost:8000/api'  # local dev server\n",
    "response = requests.get(base_url)\n",
    "response.json()"
   ]
  },
  {
   "cell_type": "code",
   "execution_count": null,
   "id": "cd7e7e38-b039-47b0-b66d-d6516723941c",
   "metadata": {},
   "outputs": [],
   "source": []
  },
  {
   "cell_type": "markdown",
   "id": "e4b1df05-4f80-4712-acdb-bdd46ce20d2c",
   "metadata": {},
   "source": [
    "### Logging into ESCALATE\n",
    "\n",
    "\n",
    "To be able to view and post to all endpoints, I will create a log in session that is managed by a token. "
   ]
  },
  {
   "cell_type": "code",
   "execution_count": null,
   "id": "hawaiian-southwest",
   "metadata": {
    "tags": []
   },
   "outputs": [],
   "source": [
    "# demo login credentials\n",
    "login_data = {\n",
    "    'username': 'mtynes',\n",
    "    'password': 'hello1world2'\n",
    "}\n",
    "\n",
    "r_login = requests.post(f'{base_url}/login', data=login_data)\n",
    "token = r_login.json()['token']\n",
    "token"
   ]
  },
  {
   "cell_type": "code",
   "execution_count": null,
   "id": "incoming-board",
   "metadata": {
    "tags": []
   },
   "outputs": [],
   "source": [
    "token_header = {'Authorization': f'Token {token}'}\n",
    "\n",
    "content_type_header = {'content-type': 'application/json'} # for most requests we'll want this header"
   ]
  },
  {
   "cell_type": "markdown",
   "id": "intermediate-objective",
   "metadata": {},
   "source": [
    "This token will allow me to validate my identity for this session"
   ]
  },
  {
   "cell_type": "code",
   "execution_count": null,
   "id": "76921f4a-1d9e-4a6b-a965-643b1d3766a9",
   "metadata": {},
   "outputs": [],
   "source": []
  },
  {
   "cell_type": "markdown",
   "id": "active-publicity",
   "metadata": {},
   "source": [
    "### Simple helper functions for GET/POST\n",
    "\n",
    "These functions will do some minimal URL generation and JSON response parsing on top of what is done by the `requests` library"
   ]
  },
  {
   "cell_type": "code",
   "execution_count": null,
   "id": "shaped-settlement",
   "metadata": {
    "tags": []
   },
   "outputs": [],
   "source": [
    "def post_data(endpoint, data={}, headers={**token_header, **content_type_header}):\n",
    "    \"\"\"POST `data` to `endpoint`in ESCALATE API using `headers`\n",
    "    \n",
    "    return: (dict|requests.Response), bool\n",
    "    \"\"\"\n",
    "    r = requests.post(f'{base_url}/{endpoint}/', \n",
    "                      data=json.dumps(data), \n",
    "                      headers=headers)\n",
    "    print(r)\n",
    "    if r.ok: \n",
    "        print('POST: OK, returning new resource dict')\n",
    "        return r.json()\n",
    "    print('POST: FAILED, returning response object')\n",
    "    return r\n",
    "\n",
    "\n",
    "def get_data(endpoint, data={}, headers={**token_header}):\n",
    "    \"\"\"Make GET request with `data` to `endpoint` in ESCALATE API using `headers`\n",
    "    \n",
    "    return: (dict|list|requests.Response), bool\n",
    "    \"\"\"\n",
    "    r = requests.get(f'{base_url}/{endpoint}/', params=data, headers=headers)\n",
    "    print(r)\n",
    "    if r.ok: \n",
    "        print('GET: OK')\n",
    "        \n",
    "        resp_json = r.json()        \n",
    "        \n",
    "        # handle cases: one vs many results\n",
    "        if resp_json.get('count') is None: # edge case: template edit\n",
    "            return r.json()\n",
    "        elif resp_json.get('count') == 1: \n",
    "            print('Found one resource, returning dict')\n",
    "            return resp_json['results'][0]\n",
    "        elif resp_json.get('count') >= 1: \n",
    "            print(f\"Found {resp_json['count']} resources, returning list of dicts)\")\n",
    "            return r.json()['results']\n",
    "        else:\n",
    "            print('GET: FAILED, returning response object')\n",
    "    return r"
   ]
  },
  {
   "cell_type": "code",
   "execution_count": null,
   "id": "bc8d2898-ff1a-4c6c-96c7-59d56adc0cc0",
   "metadata": {},
   "outputs": [],
   "source": []
  },
  {
   "cell_type": "markdown",
   "id": "deadly-blues",
   "metadata": {},
   "source": [
    "### GET all of materials defined in ESCALATE"
   ]
  },
  {
   "cell_type": "code",
   "execution_count": null,
   "id": "directed-federation",
   "metadata": {
    "tags": []
   },
   "outputs": [],
   "source": [
    "r = get_data(endpoint='material')"
   ]
  },
  {
   "cell_type": "markdown",
   "id": "loving-nomination",
   "metadata": {},
   "source": [
    "All of these materials would probably take up too much space in this notebook, lets look at the first one."
   ]
  },
  {
   "cell_type": "markdown",
   "id": "ddfd4506-1e10-41ba-85a9-e331e3c74b7f",
   "metadata": {},
   "source": [
    "All lead iodide shares in this chemical formula, etc. Models are jsut 'what is is about these thigns that are all the same, as opposed to particular vials of gblthat has volumes, contanimanants, dates, masses. these all come from the object, but share in model. models dont contain provenance, are only abotu intenseive properties "
   ]
  },
  {
   "cell_type": "code",
   "execution_count": null,
   "id": "6a69d065-4e31-417e-a364-67c6fab8a5c6",
   "metadata": {
    "tags": []
   },
   "outputs": [],
   "source": [
    "r[0]"
   ]
  },
  {
   "cell_type": "markdown",
   "id": "28a349ee-b32b-4e2f-9b22-5f7fe9388988",
   "metadata": {},
   "source": [
    "These are the fields available for materials. Notably we can associate a material with arbitrary properties and material types."
   ]
  },
  {
   "cell_type": "code",
   "execution_count": null,
   "id": "b772a513-024d-427e-b606-e587c669a4a8",
   "metadata": {},
   "outputs": [],
   "source": []
  },
  {
   "cell_type": "markdown",
   "id": "d559f857-d45d-4ce2-a02d-220f9f1def99",
   "metadata": {},
   "source": [
    "### POST a material property\n",
    "\n",
    "#### Current property definitions in ESCALATE\n",
    "\n",
    "ESCALATE supports user defined property definitions, these are the one's we're using"
   ]
  },
  {
   "cell_type": "code",
   "execution_count": null,
   "id": "04d9ad9e-0423-4b29-94c9-050174a6f958",
   "metadata": {
    "tags": []
   },
   "outputs": [],
   "source": [
    "r = get_data('propertydef', \n",
    "             {'fields': ['description']} # we can select 'columns' with the fields parameter    \n",
    "            )\n",
    "r"
   ]
  },
  {
   "cell_type": "markdown",
   "id": "03f81d88-467c-44f7-8d3a-e26bb8798624",
   "metadata": {},
   "source": [
    "#### Molecular Weight"
   ]
  },
  {
   "cell_type": "code",
   "execution_count": null,
   "id": "lesbian-delta",
   "metadata": {
    "tags": []
   },
   "outputs": [],
   "source": [
    "mw_property_def = get_data('propertydef', \n",
    "                           {'description': 'molecular-weight', # find an entity that has a particular description\n",
    "                            'fields': ['url', 'description', 'val_unit']})\n",
    "mw_property_def"
   ]
  },
  {
   "cell_type": "markdown",
   "id": "1e2ba804-9800-4a88-b1d7-b48b9c8c1f9a",
   "metadata": {},
   "source": [
    "Now we can associate an instance of this property with a material, say EthNH3I"
   ]
  },
  {
   "cell_type": "code",
   "execution_count": null,
   "id": "incredible-white",
   "metadata": {
    "tags": []
   },
   "outputs": [],
   "source": [
    "ethylammonium_iodide = get_data('material', \n",
    "                                {'description': 'Ethylammonium Iodide',\n",
    "                                 'fields':['url', 'description', 'property']})\n",
    "ethylammonium_iodide"
   ]
  },
  {
   "cell_type": "markdown",
   "id": "f863d1a2-4b7b-4493-ba74-d974b43f437e",
   "metadata": {},
   "source": [
    "Note the empty property list above\n",
    "\n",
    "Lets fill that in with the molecular weight from PubChem"
   ]
  },
  {
   "cell_type": "code",
   "execution_count": null,
   "id": "foster-stamp",
   "metadata": {
    "tags": []
   },
   "outputs": [],
   "source": [
    "response = requests.get('https://pubchem.ncbi.nlm.nih.gov/rest/pug/'+\\\n",
    "                        f'compound/cid/{PubChemIDs.get(\"Ethylammonium Iodide\")}/'+\\\n",
    "                        'property/MolecularFormula,MolecularWeight,CanonicalSMILES/JSON')\n",
    "pubchem_json = response.json()\n",
    "eth_mw = pubchem_json['PropertyTable']['Properties'][0]['MolecularWeight']\n",
    "eth_mw"
   ]
  },
  {
   "cell_type": "code",
   "execution_count": null,
   "id": "c66059ad-57e2-40e2-a230-44fd9a69c68e",
   "metadata": {
    "tags": []
   },
   "outputs": [],
   "source": []
  },
  {
   "cell_type": "code",
   "execution_count": null,
   "id": "catholic-freeze",
   "metadata": {
    "tags": []
   },
   "outputs": [],
   "source": [
    "r = post_data('materialproperty',\n",
    "                  {'material': ethylammonium_iodide['url'],\n",
    "                   'property_def': mw_property_def['url'],\n",
    "                   'value': f\"{eth_mw}\"\n",
    "                  }\n",
    "                 )"
   ]
  },
  {
   "cell_type": "markdown",
   "id": "56b036af-90e3-40bf-ab40-4e5c31c68e04",
   "metadata": {},
   "source": [
    "And we've stored it!"
   ]
  },
  {
   "cell_type": "code",
   "execution_count": null,
   "id": "formal-communist",
   "metadata": {
    "tags": []
   },
   "outputs": [],
   "source": [
    "get_data('material', \n",
    "         {'description':'Ethylammonium Iodide'})"
   ]
  },
  {
   "cell_type": "markdown",
   "id": "731996ea-2baa-4d03-8f22-3d19418112fd",
   "metadata": {},
   "source": [
    "\n",
    "* In practice we can use this functionality to store properties from any experiment or calculation. \n",
    "\n",
    "* We can also store metadata about where these values came from   \n",
    "  (example to come in a further tutorial on tags, notes, edocs, calculations)."
   ]
  },
  {
   "cell_type": "code",
   "execution_count": null,
   "id": "b5d6f7dc-dedf-4818-8c70-eb24cb99f125",
   "metadata": {},
   "outputs": [],
   "source": []
  },
  {
   "cell_type": "code",
   "execution_count": null,
   "id": "2a95c5c5-8e04-45e5-9ddd-bb13c8242d56",
   "metadata": {},
   "outputs": [],
   "source": []
  },
  {
   "cell_type": "code",
   "execution_count": null,
   "id": "bb10e1b2-530b-4ddf-aa3a-d1450d29aa94",
   "metadata": {},
   "outputs": [],
   "source": []
  },
  {
   "cell_type": "code",
   "execution_count": null,
   "id": "11b63905-0758-44c8-8954-dc5ec93f4371",
   "metadata": {},
   "outputs": [],
   "source": []
  },
  {
   "cell_type": "code",
   "execution_count": null,
   "id": "f8fb1ecd-a44b-4d41-9f4c-c0a08d31bcbf",
   "metadata": {},
   "outputs": [],
   "source": []
  },
  {
   "cell_type": "markdown",
   "id": "deluxe-player",
   "metadata": {},
   "source": [
    "## Action definitions"
   ]
  },
  {
   "cell_type": "markdown",
   "id": "bd98b2d4-8e8d-42b3-bc66-3b7e838d38ea",
   "metadata": {},
   "source": [
    "* Just as we are free to define properties, we are free to define actions\n",
    "* Current definition are what we've needed to specify human/robot instructions for current workflows"
   ]
  },
  {
   "cell_type": "code",
   "execution_count": null,
   "id": "mobile-people",
   "metadata": {
    "tags": []
   },
   "outputs": [],
   "source": [
    "r = get_data('actiondef', {'fields': ['description', 'uuid', 'url']})\n",
    "r"
   ]
  },
  {
   "cell_type": "markdown",
   "id": "8d5defe0-e206-4165-a30a-1103fff92440",
   "metadata": {},
   "source": [
    "#### Zooming in on the dispense action definition"
   ]
  },
  {
   "cell_type": "code",
   "execution_count": null,
   "id": "discrete-crisis",
   "metadata": {
    "tags": []
   },
   "outputs": [],
   "source": [
    "get_data('actiondef',               \n",
    "         {'description': 'dispense',  # which action def\n",
    "          'expand': 'parameter_def',  # sub dictionary to expand\n",
    "          })"
   ]
  },
  {
   "cell_type": "code",
   "execution_count": null,
   "id": "65f9c215-d7f3-4f76-bad7-ec1f9d4aca68",
   "metadata": {},
   "outputs": [],
   "source": []
  },
  {
   "cell_type": "markdown",
   "id": "disabled-shannon",
   "metadata": {},
   "source": [
    "### Actions + Materials = Experiment Template \n",
    "\n",
    "* Experiment template = the form of an experiment that I wish to re-use, varying material choices and process parameters"
   ]
  },
  {
   "cell_type": "code",
   "execution_count": null,
   "id": "be0fec21-cadf-44aa-9890-76d153018837",
   "metadata": {},
   "outputs": [],
   "source": [
    "experiment_templates = get_data('experimenttemplate', \n",
    "                               {'fields':['description', 'url']})"
   ]
  },
  {
   "cell_type": "code",
   "execution_count": null,
   "id": "38e87feb-9702-4bc2-bc1c-1ff3ce9626c7",
   "metadata": {},
   "outputs": [],
   "source": [
    "experiment_templates"
   ]
  },
  {
   "cell_type": "markdown",
   "id": "southeast-maldives",
   "metadata": {},
   "source": [
    "Click on perovskite demo link and note 2 main nested fields: \n",
    "* Bill of materials = the initial materials for the perovskite workflow\n",
    "* Workflow = the set of actions that combine these materials into perovskite crystal trials"
   ]
  },
  {
   "cell_type": "code",
   "execution_count": null,
   "id": "6953c893-0aea-41d4-a237-65714df207ed",
   "metadata": {},
   "outputs": [],
   "source": [
    "perovskite_template = get_data('experimenttemplate',\n",
    "                              {'description': 'test_wf_1', \n",
    "                              'expand': 'workflow' # expand the workflow subdictionary\n",
    "                              })"
   ]
  },
  {
   "cell_type": "code",
   "execution_count": null,
   "id": "7445f983-e22f-483c-810c-19530815642c",
   "metadata": {
    "scrolled": true,
    "tags": []
   },
   "outputs": [],
   "source": [
    "perovskite_template"
   ]
  },
  {
   "cell_type": "code",
   "execution_count": null,
   "id": "0d47ad69-d4be-4bc3-be3b-ce7a01e27396",
   "metadata": {},
   "outputs": [],
   "source": []
  },
  {
   "cell_type": "markdown",
   "id": "confidential-eleven",
   "metadata": {},
   "source": [
    "## Bill of Materials\n",
    "\n",
    "The initial materials: think list of materials in methods section of paper"
   ]
  },
  {
   "cell_type": "markdown",
   "id": "585320b0-c1d5-4fc1-9ae7-1a840d90e5bb",
   "metadata": {},
   "source": [
    "These are the Bill of Materials' Material entries for this experiment: "
   ]
  },
  {
   "cell_type": "code",
   "execution_count": null,
   "id": "73f3cdb1-b5c4-45f6-a01f-aedcecd5db27",
   "metadata": {
    "tags": []
   },
   "outputs": [],
   "source": [
    "get_data('bommaterial', {'bom':perovskite_template['bill_of_materials'][0]['uuid'], \n",
    "                        'fields':['description']})"
   ]
  },
  {
   "cell_type": "code",
   "execution_count": null,
   "id": "093e61c6-e9e4-46d2-bb71-5830f7a86000",
   "metadata": {
    "tags": []
   },
   "outputs": [],
   "source": [
    "get_data('compositematerial', {'composite_description__startswith':'Stock', \n",
    "                               'fields': ['composite_description',\n",
    "                                          'component_description']})"
   ]
  },
  {
   "cell_type": "markdown",
   "id": "2223fcc0-bb8b-4cd8-a7ec-7007435e2c42",
   "metadata": {},
   "source": [
    "#### We could drill further to get the concentrations, properties, etc"
   ]
  },
  {
   "cell_type": "markdown",
   "id": "reported-rating",
   "metadata": {},
   "source": [
    "### Workflows: Logical groups of actions"
   ]
  },
  {
   "cell_type": "markdown",
   "id": "23650bd5-79e4-490b-b9f9-ef7d5900a1d4",
   "metadata": {},
   "source": [
    "Each of these contains a set of parameters that we can edit"
   ]
  },
  {
   "cell_type": "code",
   "execution_count": null,
   "id": "6239a623-b119-4a43-991e-1835940633f6",
   "metadata": {},
   "outputs": [],
   "source": [
    "perovskite_demo = get_data('experimenttemplate',\n",
    "         {'description': 'perovskite_demo',\n",
    "          'expand': 'workflow'})\n",
    "[wf['description'] for wf in perovskite_demo['workflow']]"
   ]
  },
  {
   "cell_type": "code",
   "execution_count": null,
   "id": "3fedc754-c9d2-4789-8d90-98a20cec2a9a",
   "metadata": {},
   "outputs": [],
   "source": [
    "dispense_solvent_wf = perovskite_demo['workflow'][3] # pull out a workflow\n",
    "example_steps = dispense_solvent_wf['step'][4]     # pull out some steps\n",
    "example_steps"
   ]
  },
  {
   "cell_type": "code",
   "execution_count": null,
   "id": "821d6ff7-98bf-458b-891a-96b184ab6083",
   "metadata": {},
   "outputs": [],
   "source": []
  },
  {
   "cell_type": "markdown",
   "id": "4d767ea5-ae79-4182-8838-ccdc0dc93783",
   "metadata": {},
   "source": [
    "## Creating a new workflow from a template\n",
    "\n",
    "If I want create an instance experiment from a template I: "
   ]
  },
  {
   "cell_type": "code",
   "execution_count": null,
   "id": "b3a34151-e92e-4c9f-bc4d-08f3c335fa93",
   "metadata": {
    "tags": []
   },
   "outputs": [],
   "source": [
    "editable_template = get_data(\n",
    "    # template endpoint  /        template ID      / create an instance of this template \n",
    "    f'experimenttemplate/{perovskite_demo[\"uuid\"]}/create'\n",
    ")"
   ]
  },
  {
   "cell_type": "code",
   "execution_count": null,
   "id": "bd7b5c1e-76d7-416b-a143-19aaa5b46bc2",
   "metadata": {
    "scrolled": true,
    "tags": []
   },
   "outputs": [],
   "source": [
    "editable_template"
   ]
  },
  {
   "cell_type": "markdown",
   "id": "922b7219-d2fc-47e6-a56d-59761e7c185c",
   "metadata": {},
   "source": [
    "Can also give arrays of values over 96 well plates"
   ]
  },
  {
   "cell_type": "code",
   "execution_count": null,
   "id": "16722a59-81ce-4ce5-ae39-fe391540fcb6",
   "metadata": {},
   "outputs": [],
   "source": [
    "editable_template['experiment_name'] = 'test_perovskite_instance'"
   ]
  },
  {
   "cell_type": "markdown",
   "id": "d392ae87-1ee2-4993-a5e5-b2611d8938aa",
   "metadata": {},
   "source": [
    "Suppose I edit this json then I can post the new template to the server"
   ]
  },
  {
   "cell_type": "code",
   "execution_count": null,
   "id": "6e2ea0af-65d6-47cd-be0b-36917da05046",
   "metadata": {
    "tags": []
   },
   "outputs": [],
   "source": [
    "resp = post_data(\n",
    "    f'experimenttemplate/{perovskite_demo[\"uuid\"]}/create',\n",
    "    editable_template\n",
    ")"
   ]
  },
  {
   "cell_type": "code",
   "execution_count": null,
   "id": "611fb506-2631-4fcc-adef-58ebbfea5d3a",
   "metadata": {},
   "outputs": [],
   "source": [
    "resp"
   ]
  },
  {
   "cell_type": "markdown",
   "id": "2e80c7e7-76f5-443c-9519-7187bc883bac",
   "metadata": {},
   "source": [
    "This experiment then appears in the experiment queue.   \n",
    "\n",
    "http://localhost:8000/experiment_list\n",
    "\n",
    "The experimentalist is notified, can download relevant robot input and upload observed values through forms"
   ]
  },
  {
   "cell_type": "markdown",
   "id": "07636ac4-4e3d-4838-bb47-8f14c1f7b88d",
   "metadata": {},
   "source": [
    "## Parsing experiment results for ML"
   ]
  },
  {
   "cell_type": "code",
   "execution_count": null,
   "id": "8a49471e-5a03-4548-b086-51cb9c583a04",
   "metadata": {},
   "outputs": [],
   "source": [
    "%%time\n",
    "new_experiment_json = get_data('experiment/' + resp['new_experiment_created'].split('/')[-2], \n",
    "                                {'expand': 'workflow.step.workflow_object.action.parameter'}) # expanding deeply nested fields is somewhat slow"
   ]
  },
  {
   "cell_type": "code",
   "execution_count": null,
   "id": "5fa92d39-eb25-4b85-a143-d238906ae5a9",
   "metadata": {},
   "outputs": [],
   "source": [
    "experiment_json = [new_experiment_json]"
   ]
  },
  {
   "cell_type": "code",
   "execution_count": null,
   "id": "6318d063-67f3-436a-91ae-74fcbc9fd0e6",
   "metadata": {},
   "outputs": [],
   "source": [
    "experiment_json"
   ]
  },
  {
   "cell_type": "code",
   "execution_count": null,
   "id": "de579d3f-dba5-421f-b1c8-15ce897f99e0",
   "metadata": {},
   "outputs": [],
   "source": [
    "def experiment_json_to_df(experiment_json):\n",
    "    result = []\n",
    "    for e in experiment_json: \n",
    "        for workflow in e['workflow']:\n",
    "            if 'Dispense' not in workflow['description']:\n",
    "                    continue\n",
    "            for step in workflow['step']: \n",
    "                action = step['workflow_object']['action']\n",
    "                for parameter in action['parameter']:\n",
    "                    result.append(\n",
    "                        dict(\n",
    "                            experiment_url         = e['url'],\n",
    "                            experiment_id          = e['url'].split('/')[-2],\n",
    "                            action_source          = action['source_material_description'],\n",
    "                            action_dest            = action['destination_material_description'],\n",
    "                            action_parameter       = parameter['parameter_def_description'],\n",
    "                            action_parameter_value = float(parameter['parameter_val_nominal']['value']),\n",
    "                            action_parameter_unit  = parameter['parameter_val_nominal']['unit']\n",
    "                            )\n",
    "                        )\n",
    "    return pd.DataFrame(result)"
   ]
  },
  {
   "cell_type": "code",
   "execution_count": null,
   "id": "738c445c-0dc2-40bc-ac2a-bab6730095a8",
   "metadata": {},
   "outputs": [],
   "source": [
    "results = experiment_json_to_df(experiment_json)"
   ]
  },
  {
   "cell_type": "code",
   "execution_count": null,
   "id": "9d334afa-10b4-4659-a4a2-21685f5eaecd",
   "metadata": {},
   "outputs": [],
   "source": [
    "results"
   ]
  },
  {
   "cell_type": "code",
   "execution_count": null,
   "id": "df631062-962a-4687-b991-94ebde477398",
   "metadata": {},
   "outputs": [],
   "source": [
    "results = results.pivot_table(index=['experiment_id', 'action_dest'], \n",
    "                             columns=['action_source'], \n",
    "                             values='action_parameter_value')\n",
    "results"
   ]
  },
  {
   "cell_type": "code",
   "execution_count": null,
   "id": "1e16375b-40e5-4d04-aa4e-046954e111fb",
   "metadata": {},
   "outputs": [],
   "source": [
    "crystal_scores = get_data('measure', \n",
    "                          {'measuredef':\n",
    "                                (get_data('measuredef', \n",
    "                                          {'description': 'crystal_score'})['url']\n",
    "                                )\n",
    "                          })                        \n",
    "results['crystal_score'] = crystal_scores['measure_value']['value']"
   ]
  },
  {
   "cell_type": "code",
   "execution_count": null,
   "id": "a372756a-1cf6-4fc8-8ab8-9bf9be710b3c",
   "metadata": {},
   "outputs": [],
   "source": [
    "results"
   ]
  },
  {
   "cell_type": "code",
   "execution_count": null,
   "id": "b133a333-e2da-4a1c-87ea-9430345b455b",
   "metadata": {},
   "outputs": [],
   "source": []
  },
  {
   "cell_type": "code",
   "execution_count": null,
   "id": "06a82e82-2d92-4f23-9651-98ab8c02a447",
   "metadata": {},
   "outputs": [],
   "source": []
  },
  {
   "cell_type": "markdown",
   "id": "da33fd76-cd35-4d05-b830-dc662e9dc19c",
   "metadata": {},
   "source": [
    "### Current Limitations\n",
    "\n",
    "* Some parts of API still are 'high entropy' (e.g. measure)\n",
    "* Ditto for some portions of UI\n",
    "* REST is slow for large transfers"
   ]
  },
  {
   "cell_type": "code",
   "execution_count": null,
   "id": "6d50ed06-9e64-4dea-bf7e-77fbb0ca95fd",
   "metadata": {},
   "outputs": [],
   "source": []
  }
 ],
 "metadata": {
  "kernelspec": {
   "display_name": "Python 3",
   "language": "python",
   "name": "python3"
  },
  "language_info": {
   "codemirror_mode": {
    "name": "ipython",
    "version": 3
   },
   "file_extension": ".py",
   "mimetype": "text/x-python",
   "name": "python",
   "nbconvert_exporter": "python",
   "pygments_lexer": "ipython3",
   "version": "3.9.2"
  }
 },
 "nbformat": 4,
 "nbformat_minor": 5
}
