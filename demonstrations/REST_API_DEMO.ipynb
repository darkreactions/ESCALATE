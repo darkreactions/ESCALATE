{
 "cells": [
  {
   "cell_type": "markdown",
   "id": "changed-dallas",
   "metadata": {},
   "source": [
    "# Interacting with the ESCALATE REST API"
   ]
  },
  {
   "cell_type": "markdown",
   "id": "c50b0e11-11ee-4357-bdba-648b9af11e2c",
   "metadata": {},
   "source": [
    "This is a tutorail for using the ESCALATE REST API. \n",
    "\n",
    "It presumes only knowledge of basic python. \n",
    "\n",
    "Currently you need a local instance of ESCALATE running, but this will be replaced with a public facing demo instance in the future."
   ]
  },
  {
   "cell_type": "code",
   "execution_count": 1,
   "id": "suited-individual",
   "metadata": {
    "tags": []
   },
   "outputs": [],
   "source": [
    "import json\n",
    "from pprint import pprint\n",
    "\n",
    "import requests  # requests library will send and receive data from the escalate server\n",
    "from requests.api import post\n",
    "\n",
    "from IPython.display import JSON  # a handy way to interact with JSON jupyter notebooks (only works in JupyterLab)"
   ]
  },
  {
   "cell_type": "markdown",
   "id": "fitted-denial",
   "metadata": {},
   "source": [
    "## Quick intro to REST APIs\n",
    "\n",
    "(skip this if familair with REST APIs)\n",
    "\n",
    "All you need to know about REST is that:\n",
    "* It is a protocol for exchanging data between a client (e.g. me) and a server (e.g. ESCALATE)\n",
    "* Data formats are human *and* machine readable (XML or JSON)\n",
    "* There are two main HTTP 'verbs' or functions: \n",
    "  1. GET data from the server\n",
    "  2. POST data to the server  \n",
    "     (there are others, e.g. PUT and PATCH, but we won't use these in this tutorial)\n",
    "* The python `requests` library implements the HTTP verbs for interacting with servers, including with REST APIs"
   ]
  },
  {
   "cell_type": "code",
   "execution_count": null,
   "id": "2a63c98a-b11d-45a7-99b7-28e6e5d1f810",
   "metadata": {},
   "outputs": [],
   "source": []
  },
  {
   "cell_type": "markdown",
   "id": "49a1b5c4-8f30-43fe-9072-dc8ee0068eb6",
   "metadata": {},
   "source": [
    "### Example: GET from the PubChem API\n",
    "\n",
    "* [Pubchem](https://pubchem.ncbi.nlm.nih.gov/) is a great way to get chemical informatics data from a vast repository\n",
    "   - e.g. just search for any compound above\n",
    "* If I wanted to get a lot of data from PubChem I would use the REST API"
   ]
  },
  {
   "cell_type": "code",
   "execution_count": 2,
   "id": "registered-apparel",
   "metadata": {
    "tags": []
   },
   "outputs": [],
   "source": [
    "PubChemIDs = {\n",
    "    'Methane': '297',\n",
    "    'Benzene': '241',\n",
    "    'Ethylammonium Iodide': '11116533'\n",
    "}"
   ]
  },
  {
   "cell_type": "markdown",
   "id": "ffa67dc6-8174-417e-ba96-6504de787527",
   "metadata": {
    "tags": []
   },
   "source": [
    "The URL below is the compound 'API endpoint' which I can send a request to for properties of compounds given their PubChem CIDs"
   ]
  },
  {
   "cell_type": "code",
   "execution_count": 3,
   "id": "compliant-mustang",
   "metadata": {
    "tags": []
   },
   "outputs": [],
   "source": [
    "response = requests.get(('https://pubchem.ncbi.nlm.nih.gov/rest/pug/compound'          # Compound endpoint\n",
    "                         f'/cid/{\",\".join(PubChemIDs.values())}/'                      # Compound IDs from above as a comma separated list\n",
    "                         'property/MolecularFormula,MolecularWeight,CanonicalSMILES/'  # the properties I want back\n",
    "                         'JSON'))                                                      # the format I want the data in (XML and CSV are also available)"
   ]
  },
  {
   "cell_type": "markdown",
   "id": "bda27a09-e0f8-494e-bde3-18593cd59523",
   "metadata": {},
   "source": [
    "This call to `requests.get` returns a `requests.response` object. It contains all data returned from the server. If that includes JSON, we can parse it into a python dictionary:"
   ]
  },
  {
   "cell_type": "code",
   "execution_count": 4,
   "id": "animal-bunch",
   "metadata": {
    "tags": []
   },
   "outputs": [
    {
     "data": {
      "text/plain": [
       "{'PropertyTable': {'Properties': [{'CID': 297,\n",
       "    'MolecularFormula': 'CH4',\n",
       "    'MolecularWeight': 16.043,\n",
       "    'CanonicalSMILES': 'C'},\n",
       "   {'CID': 241,\n",
       "    'MolecularFormula': 'C6H6',\n",
       "    'MolecularWeight': 78.11,\n",
       "    'CanonicalSMILES': 'C1=CC=CC=C1'},\n",
       "   {'CID': 11116533,\n",
       "    'MolecularFormula': 'C2H8IN',\n",
       "    'MolecularWeight': 173,\n",
       "    'CanonicalSMILES': 'CCN.I'}]}}"
      ]
     },
     "execution_count": 4,
     "metadata": {},
     "output_type": "execute_result"
    }
   ],
   "source": [
    "pubchem_response_json = response.json() \n",
    "pubchem_response_json"
   ]
  },
  {
   "cell_type": "markdown",
   "id": "d90377a7-7e46-4764-bf53-df3e1557f5be",
   "metadata": {},
   "source": [
    "And then we can use it for whatever we want!"
   ]
  },
  {
   "cell_type": "code",
   "execution_count": null,
   "id": "e6128b2b-88c8-4fee-974f-41efa0a9c103",
   "metadata": {},
   "outputs": [],
   "source": []
  },
  {
   "cell_type": "markdown",
   "id": "english-blackjack",
   "metadata": {
    "tags": []
   },
   "source": [
    "## The ESCALATE REST API\n",
    "\n",
    "So REST is a great way to send data back and forth between a program and a server. \n",
    "\n",
    "Lets now see how we can use the ESCALATE API to: \n",
    "1. Model materials and material properties\n",
    "2. Define experimental protocols\n",
    "3. Send these experimental programs to a remote laboratory for execution\n",
    "4. Retrieve data from this remote laboratory to close the loop"
   ]
  },
  {
   "cell_type": "markdown",
   "id": "659fd412-598c-4b03-9161-e3e5d6e7dc1e",
   "metadata": {},
   "source": [
    "## Interactive List of all available ESCALATE endpoints\n",
    "\n",
    "Simply navigating to http://localhost:8000/api will show you a browsable list of all available API endpoints. \n",
    "\n",
    "We can also view that list programmatically: "
   ]
  },
  {
   "cell_type": "code",
   "execution_count": 5,
   "id": "3980090b-ec8d-475e-9106-3b21cb029c12",
   "metadata": {},
   "outputs": [
    {
     "data": {
      "text/plain": [
       "{'action': 'http://localhost:8000/api/action/',\n",
       " 'actiondef': 'http://localhost:8000/api/actiondef/',\n",
       " 'actionparameter': 'http://localhost:8000/api/actionparameter/',\n",
       " 'actionparameterdefassign': 'http://localhost:8000/api/actionparameterdefassign/',\n",
       " 'actor': 'http://localhost:8000/api/actor/',\n",
       " 'billofmaterials': 'http://localhost:8000/api/billofmaterials/',\n",
       " 'bomcompositematerial': 'http://localhost:8000/api/bomcompositematerial/',\n",
       " 'bommaterial': 'http://localhost:8000/api/bommaterial/',\n",
       " 'calculation': 'http://localhost:8000/api/calculation/',\n",
       " 'calculationdef': 'http://localhost:8000/api/calculationdef/',\n",
       " 'compositematerial': 'http://localhost:8000/api/compositematerial/',\n",
       " 'compositematerialproperty': 'http://localhost:8000/api/compositematerialproperty/',\n",
       " 'condition': 'http://localhost:8000/api/condition/',\n",
       " 'conditioncalculationdefassign': 'http://localhost:8000/api/conditioncalculationdefassign/',\n",
       " 'conditiondef': 'http://localhost:8000/api/conditiondef/',\n",
       " 'experiment': 'http://localhost:8000/api/experiment/',\n",
       " 'experimentparameter': 'http://localhost:8000/api/experimentparameter/',\n",
       " 'experimenttemplate': 'http://localhost:8000/api/experimenttemplate/',\n",
       " 'experimentworkflow': 'http://localhost:8000/api/experimentworkflow/',\n",
       " 'inventory': 'http://localhost:8000/api/inventory/',\n",
       " 'inventorymaterial': 'http://localhost:8000/api/inventorymaterial/',\n",
       " 'material': 'http://localhost:8000/api/material/',\n",
       " 'materialproperty': 'http://localhost:8000/api/materialproperty/',\n",
       " 'materialrefnamedef': 'http://localhost:8000/api/materialrefnamedef/',\n",
       " 'materialtype': 'http://localhost:8000/api/materialtype/',\n",
       " 'materialtypeassign': 'http://localhost:8000/api/materialtypeassign/',\n",
       " 'measure': 'http://localhost:8000/api/measure/',\n",
       " 'measuredef': 'http://localhost:8000/api/measuredef/',\n",
       " 'measuretype': 'http://localhost:8000/api/measuretype/',\n",
       " 'organization': 'http://localhost:8000/api/organization/',\n",
       " 'outcome': 'http://localhost:8000/api/outcome/',\n",
       " 'parameter': 'http://localhost:8000/api/parameter/',\n",
       " 'parameterdef': 'http://localhost:8000/api/parameterdef/',\n",
       " 'person': 'http://localhost:8000/api/person/',\n",
       " 'property': 'http://localhost:8000/api/property/',\n",
       " 'propertydef': 'http://localhost:8000/api/propertydef/',\n",
       " 'status': 'http://localhost:8000/api/status/',\n",
       " 'systemtool': 'http://localhost:8000/api/systemtool/',\n",
       " 'systemtooltype': 'http://localhost:8000/api/systemtooltype/',\n",
       " 'tag': 'http://localhost:8000/api/tag/',\n",
       " 'tagtype': 'http://localhost:8000/api/tagtype/',\n",
       " 'typedef': 'http://localhost:8000/api/typedef/',\n",
       " 'udfdef': 'http://localhost:8000/api/udfdef/',\n",
       " 'workflow': 'http://localhost:8000/api/workflow/',\n",
       " 'workflowactionset': 'http://localhost:8000/api/workflowactionset/',\n",
       " 'workflowobject': 'http://localhost:8000/api/workflowobject/',\n",
       " 'workflowstep': 'http://localhost:8000/api/workflowstep/',\n",
       " 'workflowtype': 'http://localhost:8000/api/workflowtype/'}"
      ]
     },
     "execution_count": 5,
     "metadata": {},
     "output_type": "execute_result"
    }
   ],
   "source": [
    "base_url = 'http://localhost:8000/api'  # local dev server\n",
    "response = requests.get(base_url)\n",
    "response.json()"
   ]
  },
  {
   "cell_type": "code",
   "execution_count": null,
   "id": "cd7e7e38-b039-47b0-b66d-d6516723941c",
   "metadata": {},
   "outputs": [],
   "source": []
  },
  {
   "cell_type": "markdown",
   "id": "e4b1df05-4f80-4712-acdb-bdd46ce20d2c",
   "metadata": {},
   "source": [
    "### Logging into ESCALATE\n",
    "\n",
    "\n",
    "To be able to view and post to all endpoints, I will create a log in session that is managed by a token. "
   ]
  },
  {
   "cell_type": "code",
   "execution_count": 6,
   "id": "hawaiian-southwest",
   "metadata": {
    "tags": []
   },
   "outputs": [
    {
     "data": {
      "text/plain": [
       "'3ceb9d93d1e1ede85bee290375f4b06abafa878b'"
      ]
     },
     "execution_count": 6,
     "metadata": {},
     "output_type": "execute_result"
    }
   ],
   "source": [
    "# demo login credentials\n",
    "login_data = {\n",
    "    'username': 'mtynes',\n",
    "    'password': 'hello1world2'\n",
    "}\n",
    "\n",
    "r_login = requests.post(f'{base_url}/login', data=login_data)\n",
    "token = r_login.json()['token']\n",
    "token"
   ]
  },
  {
   "cell_type": "code",
   "execution_count": 7,
   "id": "incoming-board",
   "metadata": {
    "tags": []
   },
   "outputs": [],
   "source": [
    "token_header = {'Authorization': f'Token {token}'}\n",
    "content_type_header = {'content-type': 'application/json'}"
   ]
  },
  {
   "cell_type": "markdown",
   "id": "intermediate-objective",
   "metadata": {},
   "source": [
    "This token will allow me to validate my identity for this session"
   ]
  },
  {
   "cell_type": "code",
   "execution_count": null,
   "id": "1117e2eb-5078-4e9d-ba1f-cc55b6e0c8d8",
   "metadata": {},
   "outputs": [],
   "source": []
  },
  {
   "cell_type": "markdown",
   "id": "active-publicity",
   "metadata": {},
   "source": [
    "### Simple helper functions for GET/POST\n",
    "\n",
    "These functions will do some minimal URL generation and JSON response parsing on top of what is done by the `requests` library"
   ]
  },
  {
   "cell_type": "code",
   "execution_count": 8,
   "id": "shaped-settlement",
   "metadata": {
    "tags": []
   },
   "outputs": [],
   "source": [
    "def post_data(endpoint, data={}, headers={**token_header, **content_type_header}):\n",
    "    \"\"\"POST `data` to `endpoint`in ESCALATE API using `headers`\n",
    "    \n",
    "    return: (dict|requests.Response), bool\n",
    "    \"\"\"\n",
    "    r = requests.post(f'{base_url}/{endpoint}/', \n",
    "                      data=json.dumps(data), \n",
    "                      headers=headers)\n",
    "    print(r)\n",
    "    if r.ok: \n",
    "        print('POST: OK, returning new resource dict')\n",
    "        return r.json()\n",
    "    print('POST: FAILED, returning response object')\n",
    "    return r\n",
    "\n",
    "def get_data(endpoint, data={}, headers={**token_header}):\n",
    "    \"\"\"Make GET request with `data` to `endpoint` in ESCALATE API using `headers`\n",
    "    \n",
    "    return: (dict|list|requests.Response), bool\n",
    "    \"\"\"\n",
    "    r = requests.get(f'{base_url}/{endpoint}/', params=data, headers=headers)\n",
    "    print(r)\n",
    "    if r.ok: \n",
    "        print('GET: OK')\n",
    "        \n",
    "        resp_json = r.json()        \n",
    "        \n",
    "        # handle cases: one vs many results\n",
    "        if resp_json.get('count') is None: # edge case: template edit\n",
    "            return r.json()\n",
    "        elif resp_json.get('count') == 1: \n",
    "            print('Found one resource, returning dict')\n",
    "            return resp_json['results'][0]\n",
    "        elif resp_json.get('count') >= 1: \n",
    "            print(f\"Found {resp_json['count']} resources, returning list of dicts)\")\n",
    "            return r.json()['results']\n",
    "    print('GET: FAILED, returning response object')\n",
    "    return r"
   ]
  },
  {
   "cell_type": "code",
   "execution_count": null,
   "id": "9e42de65-8b47-439c-8a3e-02029bd64a5f",
   "metadata": {},
   "outputs": [],
   "source": []
  },
  {
   "cell_type": "code",
   "execution_count": null,
   "id": "c8abf59b-3de1-4082-b8be-340e2d1343af",
   "metadata": {},
   "outputs": [],
   "source": []
  },
  {
   "cell_type": "code",
   "execution_count": null,
   "id": "42d4838d-9199-461d-8e1f-0877954e80ef",
   "metadata": {},
   "outputs": [],
   "source": []
  },
  {
   "cell_type": "code",
   "execution_count": null,
   "id": "0f7883dc-5063-475b-96d1-1126b29f05ec",
   "metadata": {},
   "outputs": [],
   "source": []
  },
  {
   "cell_type": "code",
   "execution_count": null,
   "id": "bc8d2898-ff1a-4c6c-96c7-59d56adc0cc0",
   "metadata": {},
   "outputs": [],
   "source": []
  },
  {
   "cell_type": "markdown",
   "id": "deadly-blues",
   "metadata": {},
   "source": [
    "### GET all of materials defined in ESCALATE"
   ]
  },
  {
   "cell_type": "code",
   "execution_count": 9,
   "id": "directed-federation",
   "metadata": {
    "tags": []
   },
   "outputs": [
    {
     "name": "stdout",
     "output_type": "stream",
     "text": [
      "<Response [200]>\n",
      "GET: OK\n",
      "Found 316 resources, returning list of dicts)\n"
     ]
    }
   ],
   "source": [
    "r = get_data(endpoint='material')"
   ]
  },
  {
   "cell_type": "markdown",
   "id": "loving-nomination",
   "metadata": {},
   "source": [
    "316 materials would probably take up too much space in this notebook, lets look at the first one."
   ]
  },
  {
   "cell_type": "code",
   "execution_count": 10,
   "id": "6a69d065-4e31-417e-a364-67c6fab8a5c6",
   "metadata": {
    "tags": []
   },
   "outputs": [
    {
     "data": {
      "text/plain": [
       "{'url': 'http://localhost:8000/api/material/35d2d912-e5d1-4e49-9900-ef58772f3ae7/',\n",
       " 'uuid': '35d2d912-e5d1-4e49-9900-ef58772f3ae7',\n",
       " 'edocs': [],\n",
       " 'tags': [],\n",
       " 'notes': [],\n",
       " 'description': 'Formic Acid',\n",
       " 'consumable': True,\n",
       " 'composite_flg': False,\n",
       " 'material_class': 'model',\n",
       " 'actor_description': None,\n",
       " 'status_description': 'active',\n",
       " 'add_date': '2021-04-14T16:06:51.349834Z',\n",
       " 'mod_date': '2021-04-14T16:07:04.174391Z',\n",
       " 'actor': None,\n",
       " 'status': 'http://localhost:8000/api/status/df4011a8-c950-47d4-aa75-3dea85798756/',\n",
       " 'material_types': ['http://localhost:8000/api/materialtype/933d6976-cc28-41bd-bf5e-b05ce10c5e89/',\n",
       "  'http://localhost:8000/api/materialtype/0d8e3f80-ba8e-459e-a18b-3f1f84494f78/',\n",
       "  'http://localhost:8000/api/materialtype/3334ac7c-20ae-4ea3-8fe4-3031226c62ea/',\n",
       "  'http://localhost:8000/api/materialtype/9f769f9f-b3d9-4d0f-9588-e9694edc5cb3/'],\n",
       " 'property': []}"
      ]
     },
     "execution_count": 10,
     "metadata": {},
     "output_type": "execute_result"
    }
   ],
   "source": [
    "r[0]"
   ]
  },
  {
   "cell_type": "markdown",
   "id": "28a349ee-b32b-4e2f-9b22-5f7fe9388988",
   "metadata": {},
   "source": [
    "These are the fields available for materials. Notably we can associate a material with arbitrary properties and material types."
   ]
  },
  {
   "cell_type": "markdown",
   "id": "d559f857-d45d-4ce2-a02d-220f9f1def99",
   "metadata": {},
   "source": [
    "### POST a material property\n",
    "\n",
    "We can define arbitrary properties in ESCALATE and associate them with materials"
   ]
  },
  {
   "cell_type": "code",
   "execution_count": 11,
   "id": "04d9ad9e-0423-4b29-94c9-050174a6f958",
   "metadata": {
    "tags": []
   },
   "outputs": [
    {
     "name": "stdout",
     "output_type": "stream",
     "text": [
      "<Response [200]>\n",
      "GET: OK\n",
      "Found 16 resources, returning list of dicts)\n"
     ]
    },
    {
     "data": {
      "text/plain": [
       "[{'description': 'molecular-weight'},\n",
       " {'description': 'concentration'},\n",
       " {'description': 'plate well volume {min, max}'},\n",
       " {'description': 'plate well robot order'},\n",
       " {'description': 'plate well location'},\n",
       " {'description': 'plate well count'},\n",
       " {'description': 'manufacturer'},\n",
       " {'description': 'concentration_molarity'},\n",
       " {'description': 'concentration_rad'},\n",
       " {'description': 'Functional group'},\n",
       " {'description': 'Resin Class'},\n",
       " {'description': 'moisture % {min, max}'},\n",
       " {'description': 'cross-linkage %'},\n",
       " {'description': 'capacity'},\n",
       " {'description': 'mesh {min, max}'},\n",
       " {'description': 'particle-size {min, max}'}]"
      ]
     },
     "execution_count": 11,
     "metadata": {},
     "output_type": "execute_result"
    }
   ],
   "source": [
    "get_data('propertydef', {'fields': ['description']})"
   ]
  },
  {
   "cell_type": "markdown",
   "id": "03f81d88-467c-44f7-8d3a-e26bb8798624",
   "metadata": {},
   "source": [
    "These are the property definitions we use, we are free to define more\n",
    "\n",
    "Lets take a look at a specific one"
   ]
  },
  {
   "cell_type": "code",
   "execution_count": 12,
   "id": "lesbian-delta",
   "metadata": {
    "tags": []
   },
   "outputs": [
    {
     "name": "stdout",
     "output_type": "stream",
     "text": [
      "<Response [200]>\n",
      "GET: OK\n",
      "Found one resource, returning dict\n"
     ]
    },
    {
     "data": {
      "text/plain": [
       "{'url': 'http://localhost:8000/api/propertydef/d499f888-7ef8-452a-9c55-e7e4a49bcede/',\n",
       " 'uuid': 'd499f888-7ef8-452a-9c55-e7e4a49bcede',\n",
       " 'description': 'molecular-weight',\n",
       " 'val_unit': 'g/mol'}"
      ]
     },
     "execution_count": 12,
     "metadata": {},
     "output_type": "execute_result"
    }
   ],
   "source": [
    "mw_property_def = get_data('propertydef', \n",
    "                           {'description': 'molecular-weight', \n",
    "                            'fields': ['url', 'uuid', 'description', 'val_unit']})\n",
    "mw_property_def"
   ]
  },
  {
   "cell_type": "markdown",
   "id": "1e2ba804-9800-4a88-b1d7-b48b9c8c1f9a",
   "metadata": {},
   "source": [
    "Now we can associate an instance of this property with a material, say EthNH3I"
   ]
  },
  {
   "cell_type": "code",
   "execution_count": 13,
   "id": "incredible-white",
   "metadata": {
    "tags": []
   },
   "outputs": [
    {
     "name": "stdout",
     "output_type": "stream",
     "text": [
      "<Response [200]>\n",
      "GET: OK\n",
      "Found one resource, returning dict\n"
     ]
    }
   ],
   "source": [
    "ethylammonium_iodide = get_data('material', \n",
    "                                {'description': 'Ethylammonium Iodide',\n",
    "                                 'fields':['url', 'uuid', 'description', 'property']})"
   ]
  },
  {
   "cell_type": "markdown",
   "id": "f5196956-d724-458a-97d7-465ce772428f",
   "metadata": {},
   "source": [
    "Get the property from pubchem"
   ]
  },
  {
   "cell_type": "code",
   "execution_count": 14,
   "id": "foster-stamp",
   "metadata": {
    "tags": []
   },
   "outputs": [
    {
     "data": {
      "text/plain": [
       "173"
      ]
     },
     "execution_count": 14,
     "metadata": {},
     "output_type": "execute_result"
    }
   ],
   "source": [
    "response = requests.get('https://pubchem.ncbi.nlm.nih.gov/rest/pug/'+\\\n",
    "                        f'compound/cid/{PubChemIDs.get(\"Ethylammonium Iodide\")}/'+\\\n",
    "                        'property/MolecularFormula,MolecularWeight,CanonicalSMILES/JSON')\n",
    "pubchem_json = response.json()\n",
    "eth_mw = pubchem_json['PropertyTable']['Properties'][0]['MolecularWeight']\n",
    "eth_mw"
   ]
  },
  {
   "cell_type": "code",
   "execution_count": null,
   "id": "c66059ad-57e2-40e2-a230-44fd9a69c68e",
   "metadata": {
    "tags": []
   },
   "outputs": [],
   "source": []
  },
  {
   "cell_type": "code",
   "execution_count": 15,
   "id": "catholic-freeze",
   "metadata": {
    "tags": []
   },
   "outputs": [
    {
     "name": "stdout",
     "output_type": "stream",
     "text": [
      "<Response [201]>\n",
      "POST: OK, returning new resource dict\n"
     ]
    }
   ],
   "source": [
    "r = post_data('materialproperty',\n",
    "                  {'material': ethylammonium_iodide['url'],\n",
    "                   'property_def': mw_property_def['url'],\n",
    "                   'value': {\"value\": f\"{eth_mw}\",\n",
    "                             \"type\": \"text\",\n",
    "                             \"unit\": \"g/mol\"\n",
    "                             }\n",
    "                  }\n",
    "                 )"
   ]
  },
  {
   "cell_type": "markdown",
   "id": "56b036af-90e3-40bf-ab40-4e5c31c68e04",
   "metadata": {},
   "source": [
    "And we've stored it!"
   ]
  },
  {
   "cell_type": "code",
   "execution_count": 16,
   "id": "77318323-6130-454a-83dd-39ab3379676b",
   "metadata": {},
   "outputs": [
    {
     "data": {
      "text/plain": [
       "{'url': 'http://localhost:8000/api/materialproperty/36f9068d-0763-42e1-9c88-b520d2e91c48/',\n",
       " 'uuid': '36f9068d-0763-42e1-9c88-b520d2e91c48',\n",
       " 'edocs': [],\n",
       " 'tags': [],\n",
       " 'notes': [],\n",
       " 'material_class': '',\n",
       " 'description': None,\n",
       " 'property_description': None,\n",
       " 'property_short_description': None,\n",
       " 'value': {'value': '173', 'unit': 'g/mol', 'type': 'text'},\n",
       " 'actor_description': 'Mike Tynes',\n",
       " 'status_description': None,\n",
       " 'add_date': '2021-04-14T20:40:04.343257Z',\n",
       " 'mod_date': '2021-04-14T20:40:04.343273Z',\n",
       " 'material': 'http://localhost:8000/api/material/538b82e3-6b0d-46b9-880c-7f278d6137e1/',\n",
       " 'property': None,\n",
       " 'property_def': 'http://localhost:8000/api/propertydef/d499f888-7ef8-452a-9c55-e7e4a49bcede/',\n",
       " 'actor': 'http://localhost:8000/api/actor/a1af66f1-0944-4233-9d08-e76931848943/',\n",
       " 'status': None}"
      ]
     },
     "execution_count": 16,
     "metadata": {},
     "output_type": "execute_result"
    }
   ],
   "source": [
    "r"
   ]
  },
  {
   "cell_type": "code",
   "execution_count": 17,
   "id": "formal-communist",
   "metadata": {
    "tags": []
   },
   "outputs": [
    {
     "name": "stdout",
     "output_type": "stream",
     "text": [
      "<Response [200]>\n",
      "GET: OK\n",
      "Found one resource, returning dict\n"
     ]
    },
    {
     "data": {
      "text/plain": [
       "{'url': 'http://localhost:8000/api/material/538b82e3-6b0d-46b9-880c-7f278d6137e1/',\n",
       " 'uuid': '538b82e3-6b0d-46b9-880c-7f278d6137e1',\n",
       " 'edocs': [],\n",
       " 'tags': [],\n",
       " 'notes': [],\n",
       " 'description': 'Ethylammonium Iodide',\n",
       " 'consumable': True,\n",
       " 'composite_flg': False,\n",
       " 'material_class': 'model',\n",
       " 'actor_description': None,\n",
       " 'status_description': 'active',\n",
       " 'add_date': '2021-04-14T16:06:51.349834Z',\n",
       " 'mod_date': '2021-04-14T16:07:04.174391Z',\n",
       " 'actor': None,\n",
       " 'status': 'http://localhost:8000/api/status/df4011a8-c950-47d4-aa75-3dea85798756/',\n",
       " 'material_types': ['http://localhost:8000/api/materialtype/0d8e3f80-ba8e-459e-a18b-3f1f84494f78/',\n",
       "  'http://localhost:8000/api/materialtype/92252270-a0dc-4f38-858d-862faccd4156/',\n",
       "  'http://localhost:8000/api/materialtype/3334ac7c-20ae-4ea3-8fe4-3031226c62ea/'],\n",
       " 'property': ['http://localhost:8000/api/property/8ed88019-486e-483f-8e0d-77e7ced943d2/',\n",
       "  'http://localhost:8000/api/property/1fad1670-cd71-474d-b66a-8397e53854f0/']}"
      ]
     },
     "execution_count": 17,
     "metadata": {},
     "output_type": "execute_result"
    }
   ],
   "source": [
    "get_data('material', \n",
    "         {'description':'Ethylammonium Iodide'})"
   ]
  },
  {
   "cell_type": "markdown",
   "id": "731996ea-2baa-4d03-8f22-3d19418112fd",
   "metadata": {},
   "source": [
    "\n",
    "In practice we can use this functionality to store properties from any experiment or calculation. \n",
    "\n",
    "We can also store metadata about where these values came from (example to come in a further tutorial on tags, notes, edocs, calculations)."
   ]
  },
  {
   "cell_type": "markdown",
   "id": "deluxe-player",
   "metadata": {},
   "source": [
    "## Action definitions"
   ]
  },
  {
   "cell_type": "markdown",
   "id": "bd98b2d4-8e8d-42b3-bc66-3b7e838d38ea",
   "metadata": {},
   "source": [
    "* Just as we are free to define properties, we are free to define actions\n",
    "* The ones below are used in our protocols"
   ]
  },
  {
   "cell_type": "code",
   "execution_count": 18,
   "id": "mobile-people",
   "metadata": {
    "tags": []
   },
   "outputs": [
    {
     "name": "stdout",
     "output_type": "stream",
     "text": [
      "<Response [200]>\n",
      "GET: OK\n",
      "Found 6 resources, returning list of dicts)\n"
     ]
    },
    {
     "data": {
      "text/plain": [
       "[{'url': 'http://localhost:8000/api/actiondef/75bdfa9f-ccb8-4ccb-b66d-e4ff9b3c8d91/',\n",
       "  'uuid': '75bdfa9f-ccb8-4ccb-b66d-e4ff9b3c8d91',\n",
       "  'description': 'dispense'},\n",
       " {'url': 'http://localhost:8000/api/actiondef/b4dcd6f7-c620-406f-8579-7d3b252c815c/',\n",
       "  'uuid': 'b4dcd6f7-c620-406f-8579-7d3b252c815c',\n",
       "  'description': 'heat_stir'},\n",
       " {'url': 'http://localhost:8000/api/actiondef/3f1e76ce-513f-43c2-b563-5d4fb72234f2/',\n",
       "  'uuid': '3f1e76ce-513f-43c2-b563-5d4fb72234f2',\n",
       "  'description': 'heat'},\n",
       " {'url': 'http://localhost:8000/api/actiondef/a8a01174-4e47-4e6d-bedf-a447d17fb5b2/',\n",
       "  'uuid': 'a8a01174-4e47-4e6d-bedf-a447d17fb5b2',\n",
       "  'description': 'start_node'},\n",
       " {'url': 'http://localhost:8000/api/actiondef/1de3537b-0e02-4762-b7c9-3f8e3c4b30fd/',\n",
       "  'uuid': '1de3537b-0e02-4762-b7c9-3f8e3c4b30fd',\n",
       "  'description': 'end_node'},\n",
       " {'url': 'http://localhost:8000/api/actiondef/09a5eec5-2b24-4941-a494-0cbfabf8552b/',\n",
       "  'uuid': '09a5eec5-2b24-4941-a494-0cbfabf8552b',\n",
       "  'description': 'dispense_solid'}]"
      ]
     },
     "execution_count": 18,
     "metadata": {},
     "output_type": "execute_result"
    }
   ],
   "source": [
    "r = get_data('actiondef', {'fields': ['description', 'uuid', 'url']})\n",
    "r"
   ]
  },
  {
   "cell_type": "code",
   "execution_count": 19,
   "id": "discrete-crisis",
   "metadata": {
    "tags": []
   },
   "outputs": [
    {
     "name": "stdout",
     "output_type": "stream",
     "text": [
      "<Response [200]>\n",
      "GET: OK\n",
      "Found one resource, returning dict\n"
     ]
    },
    {
     "data": {
      "text/plain": [
       "{'url': 'http://localhost:8000/api/actiondef/75bdfa9f-ccb8-4ccb-b66d-e4ff9b3c8d91/',\n",
       " 'parameter_def': [{'url': 'http://localhost:8000/api/parameterdef/802c813b-05e4-41b3-b8cb-eadb3f8a7a5e/',\n",
       "   'uuid': '802c813b-05e4-41b3-b8cb-eadb3f8a7a5e',\n",
       "   'edocs': [],\n",
       "   'tags': [],\n",
       "   'notes': [],\n",
       "   'description': 'volume',\n",
       "   'default_val': {'value': 0.0, 'unit': 'mL', 'type': 'num'},\n",
       "   'required': True,\n",
       "   'actor_description': 'Mike Tynes',\n",
       "   'status_description': 'dev_test',\n",
       "   'add_date': '2021-04-14T16:07:00.153430Z',\n",
       "   'mod_date': '2021-04-14T16:07:00.153430Z',\n",
       "   'val_type': 'http://localhost:8000/api/typedef/4a301a8d-ede8-466d-b48b-9b60304ddf49/',\n",
       "   'actor': 'http://localhost:8000/api/actor/a1af66f1-0944-4233-9d08-e76931848943/',\n",
       "   'status': 'http://localhost:8000/api/status/857d83df-9bc0-4d3b-a789-7ef2772d8cf9/'}]}"
      ]
     },
     "execution_count": 19,
     "metadata": {},
     "output_type": "execute_result"
    }
   ],
   "source": [
    "get_data('actiondef', {'description': 'dispense', \n",
    "                               'fields': ['descrition', 'url', 'parameter_def'],\n",
    "                                'expand': 'parameter_def', \n",
    "                       })"
   ]
  },
  {
   "cell_type": "code",
   "execution_count": null,
   "id": "61a0356d-32d1-46ba-aaad-176bca793df0",
   "metadata": {},
   "outputs": [],
   "source": []
  },
  {
   "cell_type": "code",
   "execution_count": null,
   "id": "683416d6-ee12-4f7e-b8f4-0687e9ad975a",
   "metadata": {},
   "outputs": [],
   "source": []
  },
  {
   "cell_type": "code",
   "execution_count": null,
   "id": "be802a53-a4d9-4165-9526-fd75f7ecf84a",
   "metadata": {},
   "outputs": [],
   "source": []
  },
  {
   "cell_type": "code",
   "execution_count": null,
   "id": "65f9c215-d7f3-4f76-bad7-ec1f9d4aca68",
   "metadata": {},
   "outputs": [],
   "source": []
  },
  {
   "cell_type": "markdown",
   "id": "disabled-shannon",
   "metadata": {},
   "source": [
    "## Combining actions and materials into an experiment template"
   ]
  },
  {
   "cell_type": "code",
   "execution_count": 20,
   "id": "informational-agreement",
   "metadata": {
    "tags": []
   },
   "outputs": [
    {
     "name": "stdout",
     "output_type": "stream",
     "text": [
      "<Response [200]>\n",
      "GET: OK\n",
      "Found one resource, returning dict\n"
     ]
    },
    {
     "data": {
      "application/json": {
       "add_date": "2021-04-14T16:07:04.307989Z",
       "bill_of_materials": [
        {
         "actor": "http://localhost:8000/api/actor/a1af66f1-0944-4233-9d08-e76931848943/",
         "add_date": "2021-04-14T16:07:04.313500Z",
         "bom_material": [
          "http://localhost:8000/api/bommaterial/2ac83f3f-80cf-4805-a532-25cc9d430e9c/",
          "http://localhost:8000/api/bommaterial/d39996c8-3c96-4bb6-a86c-3130e71e9453/",
          "http://localhost:8000/api/bommaterial/756703e1-120f-462a-981a-05210a695957/",
          "http://localhost:8000/api/bommaterial/092d5b72-8121-4b4c-b09f-b6932c7feec1/",
          "http://localhost:8000/api/bommaterial/ee69cab2-815a-4ff3-9b93-b6929f8aa322/"
         ],
         "description": "Test WF1 Materials",
         "edocs": [],
         "experiment": "http://localhost:8000/api/experiment/03e812d1-40f2-4cad-b7c3-5828c442dc25/",
         "experiment_description": "test_wf_1",
         "mod_date": "2021-04-14T16:07:04.313500Z",
         "notes": [],
         "status": "http://localhost:8000/api/status/857d83df-9bc0-4d3b-a789-7ef2772d8cf9/",
         "tags": [],
         "url": "http://localhost:8000/api/billofmaterials/69793df3-e9c9-4124-883e-d9bc04010872/",
         "uuid": "69793df3-e9c9-4124-883e-d9bc04010872"
        }
       ],
       "description": "test_wf_1",
       "edocs": [],
       "lab": "http://localhost:8000/api/actor/23577915-0b3d-4dfb-ae81-7699f4af3027/",
       "lab_description": "HC",
       "mod_date": "2021-04-14T16:07:04.307989Z",
       "notes": [],
       "operator": "http://localhost:8000/api/actor/a1af66f1-0944-4233-9d08-e76931848943/",
       "operator_description": "HC",
       "owner": "http://localhost:8000/api/actor/23577915-0b3d-4dfb-ae81-7699f4af3027/",
       "owner_description": "HC",
       "parent": null,
       "ref_uid": "test_wf_1",
       "status": "http://localhost:8000/api/status/857d83df-9bc0-4d3b-a789-7ef2772d8cf9/",
       "status_description": "dev_test",
       "tags": [],
       "url": "http://localhost:8000/api/experimenttemplate/03e812d1-40f2-4cad-b7c3-5828c442dc25/",
       "uuid": "03e812d1-40f2-4cad-b7c3-5828c442dc25",
       "workflow": [
        {
         "actor": "http://localhost:8000/api/actor/a1af66f1-0944-4233-9d08-e76931848943/",
         "actor_description": "Mike Tynes",
         "add_date": "2021-04-14T16:07:04.537529Z",
         "description": "Dispense Solvent",
         "edocs": [],
         "mod_date": "2021-04-14T16:07:04.537529Z",
         "notes": [],
         "parent": null,
         "status": "http://localhost:8000/api/status/857d83df-9bc0-4d3b-a789-7ef2772d8cf9/",
         "status_description": "dev_test",
         "step": [
          {
           "add_date": "2021-04-14T16:07:04.556746Z",
           "conditional_val": null,
           "conditional_value": null,
           "edocs": [],
           "mod_date": "2021-04-14T16:07:04.556746Z",
           "notes": [],
           "parent": null,
           "parent_object_description": null,
           "parent_object_type": null,
           "parent_path": null,
           "status": "http://localhost:8000/api/status/857d83df-9bc0-4d3b-a789-7ef2772d8cf9/",
           "status_description": "dev_test",
           "tags": [],
           "url": "http://localhost:8000/api/workflowstep/47aff938-d161-4770-a729-cf030be75c82/",
           "uuid": "47aff938-d161-4770-a729-cf030be75c82",
           "workflow": "http://localhost:8000/api/workflow/a38c8887-f361-43e6-922d-ed756b0514ae/",
           "workflow_description": "Dispense Solvent",
           "workflow_object": "http://localhost:8000/api/workflowobject/e89d97bd-4575-44f3-8c29-a08e9345d856/"
          },
          {
           "add_date": "2021-04-14T16:07:04.556746Z",
           "conditional_val": null,
           "conditional_value": null,
           "edocs": [],
           "mod_date": "2021-04-14T16:07:04.556746Z",
           "notes": [],
           "parent": "http://localhost:8000/api/workflowstep/47aff938-d161-4770-a729-cf030be75c82/",
           "parent_object_description": "Dispense Solvent: Solvent -> Plate: Plate well#: A1",
           "parent_object_type": "action",
           "parent_path": null,
           "status": "http://localhost:8000/api/status/857d83df-9bc0-4d3b-a789-7ef2772d8cf9/",
           "status_description": "dev_test",
           "tags": [],
           "url": "http://localhost:8000/api/workflowstep/3f6fe53f-d3a6-47e9-a593-ca84aed9f06c/",
           "uuid": "3f6fe53f-d3a6-47e9-a593-ca84aed9f06c",
           "workflow": "http://localhost:8000/api/workflow/a38c8887-f361-43e6-922d-ed756b0514ae/",
           "workflow_description": "Dispense Solvent",
           "workflow_object": "http://localhost:8000/api/workflowobject/5cf9cb97-bdfe-42fe-b598-edc620c22a93/"
          }
         ],
         "tags": [],
         "url": "http://localhost:8000/api/workflow/a38c8887-f361-43e6-922d-ed756b0514ae/",
         "uuid": "a38c8887-f361-43e6-922d-ed756b0514ae",
         "workflow_type": "http://localhost:8000/api/workflowtype/45adbf08-d5b7-4991-9ff0-ee057de744b7/",
         "workflow_type_description": "template"
        },
        {
         "actor": "http://localhost:8000/api/actor/a1af66f1-0944-4233-9d08-e76931848943/",
         "actor_description": "Mike Tynes",
         "add_date": "2021-04-14T16:07:04.537529Z",
         "description": "Dispense Stock A",
         "edocs": [],
         "mod_date": "2021-04-14T16:07:04.537529Z",
         "notes": [],
         "parent": null,
         "status": "http://localhost:8000/api/status/857d83df-9bc0-4d3b-a789-7ef2772d8cf9/",
         "status_description": "dev_test",
         "step": [
          {
           "add_date": "2021-04-14T16:07:04.767684Z",
           "conditional_val": null,
           "conditional_value": null,
           "edocs": [],
           "mod_date": "2021-04-14T16:07:04.767684Z",
           "notes": [],
           "parent": null,
           "parent_object_description": null,
           "parent_object_type": null,
           "parent_path": null,
           "status": "http://localhost:8000/api/status/857d83df-9bc0-4d3b-a789-7ef2772d8cf9/",
           "status_description": "dev_test",
           "tags": [],
           "url": "http://localhost:8000/api/workflowstep/555ee3f0-497d-4f58-985b-d54f09b6b2ea/",
           "uuid": "555ee3f0-497d-4f58-985b-d54f09b6b2ea",
           "workflow": "http://localhost:8000/api/workflow/46510fa7-14ad-4ee3-b478-1d7e1b6d3527/",
           "workflow_description": "Dispense Stock A",
           "workflow_object": "http://localhost:8000/api/workflowobject/5d104666-9f44-4237-a1cd-1004e8991961/"
          },
          {
           "add_date": "2021-04-14T16:07:04.767684Z",
           "conditional_val": null,
           "conditional_value": null,
           "edocs": [],
           "mod_date": "2021-04-14T16:07:04.767684Z",
           "notes": [],
           "parent": "http://localhost:8000/api/workflowstep/555ee3f0-497d-4f58-985b-d54f09b6b2ea/",
           "parent_object_description": "Dispense Stock A: Stock A -> Plate: Plate well#: A1",
           "parent_object_type": "action",
           "parent_path": null,
           "status": "http://localhost:8000/api/status/857d83df-9bc0-4d3b-a789-7ef2772d8cf9/",
           "status_description": "dev_test",
           "tags": [],
           "url": "http://localhost:8000/api/workflowstep/fa77478a-c823-48b9-988b-be737efff6bb/",
           "uuid": "fa77478a-c823-48b9-988b-be737efff6bb",
           "workflow": "http://localhost:8000/api/workflow/46510fa7-14ad-4ee3-b478-1d7e1b6d3527/",
           "workflow_description": "Dispense Stock A",
           "workflow_object": "http://localhost:8000/api/workflowobject/dec22ada-26c9-4db6-88f8-3dc02d7011f6/"
          }
         ],
         "tags": [],
         "url": "http://localhost:8000/api/workflow/46510fa7-14ad-4ee3-b478-1d7e1b6d3527/",
         "uuid": "46510fa7-14ad-4ee3-b478-1d7e1b6d3527",
         "workflow_type": "http://localhost:8000/api/workflowtype/45adbf08-d5b7-4991-9ff0-ee057de744b7/",
         "workflow_type_description": "template"
        },
        {
         "actor": "http://localhost:8000/api/actor/a1af66f1-0944-4233-9d08-e76931848943/",
         "actor_description": "Mike Tynes",
         "add_date": "2021-04-14T16:07:04.537529Z",
         "description": "Dispense Stock B",
         "edocs": [],
         "mod_date": "2021-04-14T16:07:04.537529Z",
         "notes": [],
         "parent": null,
         "status": "http://localhost:8000/api/status/857d83df-9bc0-4d3b-a789-7ef2772d8cf9/",
         "status_description": "dev_test",
         "step": [
          {
           "add_date": "2021-04-14T16:07:04.976185Z",
           "conditional_val": null,
           "conditional_value": null,
           "edocs": [],
           "mod_date": "2021-04-14T16:07:04.976185Z",
           "notes": [],
           "parent": null,
           "parent_object_description": null,
           "parent_object_type": null,
           "parent_path": null,
           "status": "http://localhost:8000/api/status/857d83df-9bc0-4d3b-a789-7ef2772d8cf9/",
           "status_description": "dev_test",
           "tags": [],
           "url": "http://localhost:8000/api/workflowstep/ad072119-bdda-4f5e-9570-466eb47b680d/",
           "uuid": "ad072119-bdda-4f5e-9570-466eb47b680d",
           "workflow": "http://localhost:8000/api/workflow/bfa14357-7abd-4332-b65a-c95837001741/",
           "workflow_description": "Dispense Stock B",
           "workflow_object": "http://localhost:8000/api/workflowobject/1275bb08-c0ae-4dc3-b1fb-176151a725a9/"
          },
          {
           "add_date": "2021-04-14T16:07:04.976185Z",
           "conditional_val": null,
           "conditional_value": null,
           "edocs": [],
           "mod_date": "2021-04-14T16:07:04.976185Z",
           "notes": [],
           "parent": "http://localhost:8000/api/workflowstep/ad072119-bdda-4f5e-9570-466eb47b680d/",
           "parent_object_description": "Dispense Stock B: Stock B -> Plate: Plate well#: A1",
           "parent_object_type": "action",
           "parent_path": null,
           "status": "http://localhost:8000/api/status/857d83df-9bc0-4d3b-a789-7ef2772d8cf9/",
           "status_description": "dev_test",
           "tags": [],
           "url": "http://localhost:8000/api/workflowstep/cfd57c5a-1f61-408e-b2ad-42643420bce1/",
           "uuid": "cfd57c5a-1f61-408e-b2ad-42643420bce1",
           "workflow": "http://localhost:8000/api/workflow/bfa14357-7abd-4332-b65a-c95837001741/",
           "workflow_description": "Dispense Stock B",
           "workflow_object": "http://localhost:8000/api/workflowobject/1b1bbd35-885f-4263-a34f-696008c8f303/"
          }
         ],
         "tags": [],
         "url": "http://localhost:8000/api/workflow/bfa14357-7abd-4332-b65a-c95837001741/",
         "uuid": "bfa14357-7abd-4332-b65a-c95837001741",
         "workflow_type": "http://localhost:8000/api/workflowtype/45adbf08-d5b7-4991-9ff0-ee057de744b7/",
         "workflow_type_description": "template"
        },
        {
         "actor": "http://localhost:8000/api/actor/a1af66f1-0944-4233-9d08-e76931848943/",
         "actor_description": "Mike Tynes",
         "add_date": "2021-04-14T16:07:04.537529Z",
         "description": "Dispense Acid Vol 1",
         "edocs": [],
         "mod_date": "2021-04-14T16:07:04.537529Z",
         "notes": [],
         "parent": null,
         "status": "http://localhost:8000/api/status/857d83df-9bc0-4d3b-a789-7ef2772d8cf9/",
         "status_description": "dev_test",
         "step": [
          {
           "add_date": "2021-04-14T16:07:05.191518Z",
           "conditional_val": null,
           "conditional_value": null,
           "edocs": [],
           "mod_date": "2021-04-14T16:07:05.191518Z",
           "notes": [],
           "parent": null,
           "parent_object_description": null,
           "parent_object_type": null,
           "parent_path": null,
           "status": "http://localhost:8000/api/status/857d83df-9bc0-4d3b-a789-7ef2772d8cf9/",
           "status_description": "dev_test",
           "tags": [],
           "url": "http://localhost:8000/api/workflowstep/617ca57a-518f-4cbd-a3c3-167502320ea5/",
           "uuid": "617ca57a-518f-4cbd-a3c3-167502320ea5",
           "workflow": "http://localhost:8000/api/workflow/a60fa000-0b3b-42be-bcb7-ea14bce0ee8a/",
           "workflow_description": "Dispense Acid Vol 1",
           "workflow_object": "http://localhost:8000/api/workflowobject/88355026-f234-4971-a661-9a780a7c29a6/"
          },
          {
           "add_date": "2021-04-14T16:07:05.191518Z",
           "conditional_val": null,
           "conditional_value": null,
           "edocs": [],
           "mod_date": "2021-04-14T16:07:05.191518Z",
           "notes": [],
           "parent": "http://localhost:8000/api/workflowstep/617ca57a-518f-4cbd-a3c3-167502320ea5/",
           "parent_object_description": "Dispense Acid Vol 1: Acid -> Plate: Plate well#: A1",
           "parent_object_type": "action",
           "parent_path": null,
           "status": "http://localhost:8000/api/status/857d83df-9bc0-4d3b-a789-7ef2772d8cf9/",
           "status_description": "dev_test",
           "tags": [],
           "url": "http://localhost:8000/api/workflowstep/334a2ec9-8ad0-4318-9b2f-9f62de7be1ae/",
           "uuid": "334a2ec9-8ad0-4318-9b2f-9f62de7be1ae",
           "workflow": "http://localhost:8000/api/workflow/a60fa000-0b3b-42be-bcb7-ea14bce0ee8a/",
           "workflow_description": "Dispense Acid Vol 1",
           "workflow_object": "http://localhost:8000/api/workflowobject/2c74757a-8b7d-4080-8552-c3c8420b07e7/"
          }
         ],
         "tags": [],
         "url": "http://localhost:8000/api/workflow/a60fa000-0b3b-42be-bcb7-ea14bce0ee8a/",
         "uuid": "a60fa000-0b3b-42be-bcb7-ea14bce0ee8a",
         "workflow_type": "http://localhost:8000/api/workflowtype/45adbf08-d5b7-4991-9ff0-ee057de744b7/",
         "workflow_type_description": "template"
        },
        {
         "actor": "http://localhost:8000/api/actor/a1af66f1-0944-4233-9d08-e76931848943/",
         "actor_description": "Mike Tynes",
         "add_date": "2021-04-14T16:07:04.537529Z",
         "description": "Dispense Acid Vol 2",
         "edocs": [],
         "mod_date": "2021-04-14T16:07:04.537529Z",
         "notes": [],
         "parent": null,
         "status": "http://localhost:8000/api/status/857d83df-9bc0-4d3b-a789-7ef2772d8cf9/",
         "status_description": "dev_test",
         "step": [
          {
           "add_date": "2021-04-14T16:07:05.318139Z",
           "conditional_val": null,
           "conditional_value": null,
           "edocs": [],
           "mod_date": "2021-04-14T16:07:05.318139Z",
           "notes": [],
           "parent": null,
           "parent_object_description": null,
           "parent_object_type": null,
           "parent_path": null,
           "status": "http://localhost:8000/api/status/857d83df-9bc0-4d3b-a789-7ef2772d8cf9/",
           "status_description": "dev_test",
           "tags": [],
           "url": "http://localhost:8000/api/workflowstep/ec0f00f6-f82b-4e70-be42-cb3b5775a5d1/",
           "uuid": "ec0f00f6-f82b-4e70-be42-cb3b5775a5d1",
           "workflow": "http://localhost:8000/api/workflow/1577419d-9533-4929-90ff-834cbbd998a8/",
           "workflow_description": "Dispense Acid Vol 2",
           "workflow_object": "http://localhost:8000/api/workflowobject/e510b7a5-b755-40b2-9725-b057e111fae5/"
          },
          {
           "add_date": "2021-04-14T16:07:05.318139Z",
           "conditional_val": null,
           "conditional_value": null,
           "edocs": [],
           "mod_date": "2021-04-14T16:07:05.318139Z",
           "notes": [],
           "parent": "http://localhost:8000/api/workflowstep/ec0f00f6-f82b-4e70-be42-cb3b5775a5d1/",
           "parent_object_description": "Dispense Acid Vol 2: Acid -> Plate: Plate well#: A1",
           "parent_object_type": "action",
           "parent_path": null,
           "status": "http://localhost:8000/api/status/857d83df-9bc0-4d3b-a789-7ef2772d8cf9/",
           "status_description": "dev_test",
           "tags": [],
           "url": "http://localhost:8000/api/workflowstep/0a04df26-4c8d-4b85-a33b-a220746233aa/",
           "uuid": "0a04df26-4c8d-4b85-a33b-a220746233aa",
           "workflow": "http://localhost:8000/api/workflow/1577419d-9533-4929-90ff-834cbbd998a8/",
           "workflow_description": "Dispense Acid Vol 2",
           "workflow_object": "http://localhost:8000/api/workflowobject/30cbe38e-e4e7-4412-91b5-4ce5f55136e7/"
          }
         ],
         "tags": [],
         "url": "http://localhost:8000/api/workflow/1577419d-9533-4929-90ff-834cbbd998a8/",
         "uuid": "1577419d-9533-4929-90ff-834cbbd998a8",
         "workflow_type": "http://localhost:8000/api/workflowtype/45adbf08-d5b7-4991-9ff0-ee057de744b7/",
         "workflow_type_description": "template"
        }
       ]
      },
      "text/plain": [
       "<IPython.core.display.JSON object>"
      ]
     },
     "execution_count": 20,
     "metadata": {
      "application/json": {
       "expanded": false,
       "root": "root"
      }
     },
     "output_type": "execute_result"
    }
   ],
   "source": [
    "perovskite_template = get_data('experimenttemplate', \n",
    "                               {'description': 'test_wf_1', \n",
    "                               'expand':'workflow'})\n",
    "JSON(perovskite_template)"
   ]
  },
  {
   "cell_type": "markdown",
   "id": "southeast-maldives",
   "metadata": {},
   "source": [
    "We see in this JSON Structure three main nested fields: \n",
    "* Bill of materials <-- the initial materials for the perovskite workflow\n",
    "* Workflow <-- the set of actions that combine these materials into perovskite crystal trials"
   ]
  },
  {
   "cell_type": "markdown",
   "id": "confidential-eleven",
   "metadata": {},
   "source": [
    "## Bill of Materials\n",
    "\n",
    "The initial materials: think list of materials in methods section of paper"
   ]
  },
  {
   "cell_type": "code",
   "execution_count": 21,
   "id": "increasing-essay",
   "metadata": {
    "tags": []
   },
   "outputs": [],
   "source": [
    "bill_of_materials = perovskite_template['bill_of_materials'][0]['uuid']"
   ]
  },
  {
   "cell_type": "code",
   "execution_count": 22,
   "id": "7e0b3d79-1a85-4d6f-9bc0-b9cf43b6efa1",
   "metadata": {
    "tags": []
   },
   "outputs": [
    {
     "data": {
      "text/plain": [
       "'69793df3-e9c9-4124-883e-d9bc04010872'"
      ]
     },
     "execution_count": 22,
     "metadata": {},
     "output_type": "execute_result"
    }
   ],
   "source": [
    "bill_of_materials"
   ]
  },
  {
   "cell_type": "code",
   "execution_count": 23,
   "id": "73f3cdb1-b5c4-45f6-a01f-aedcecd5db27",
   "metadata": {
    "tags": []
   },
   "outputs": [
    {
     "name": "stdout",
     "output_type": "stream",
     "text": [
      "<Response [200]>\n",
      "GET: OK\n",
      "Found 5 resources, returning list of dicts)\n"
     ]
    },
    {
     "data": {
      "text/plain": [
       "[{'description': 'Plate'},\n",
       " {'description': 'Stock A'},\n",
       " {'description': 'Stock B'},\n",
       " {'description': 'Acid'},\n",
       " {'description': 'Solvent'}]"
      ]
     },
     "execution_count": 23,
     "metadata": {},
     "output_type": "execute_result"
    }
   ],
   "source": [
    "get_data('bommaterial', {'bom': bill_of_materials, \n",
    "                        'fields':['description']})"
   ]
  },
  {
   "cell_type": "code",
   "execution_count": 24,
   "id": "093e61c6-e9e4-46d2-bb71-5830f7a86000",
   "metadata": {
    "tags": []
   },
   "outputs": [
    {
     "name": "stdout",
     "output_type": "stream",
     "text": [
      "<Response [200]>\n",
      "GET: OK\n",
      "Found 7 resources, returning list of dicts)\n"
     ]
    },
    {
     "data": {
      "text/plain": [
       "[{'composite_description': 'Stock A',\n",
       "  'component_description': 'Lead Diiodide'},\n",
       " {'composite_description': 'Stock A',\n",
       "  'component_description': 'Ethylammonium Iodide'},\n",
       " {'composite_description': 'Stock A',\n",
       "  'component_description': 'Gamma-Butyrolactone'},\n",
       " {'composite_description': 'Stock B',\n",
       "  'component_description': 'Ethylammonium Iodide'},\n",
       " {'composite_description': 'Stock B',\n",
       "  'component_description': 'Gamma-Butyrolactone'},\n",
       " {'composite_description': 'Stock FAH',\n",
       "  'component_description': 'Formic Acid'},\n",
       " {'composite_description': 'Stock FAH', 'component_description': 'Water'}]"
      ]
     },
     "execution_count": 24,
     "metadata": {},
     "output_type": "execute_result"
    }
   ],
   "source": [
    "get_data('compositematerial', {'composite_description__startswith':'Stock', \n",
    "                               'fields': ['composite_description',\n",
    "                                          'component_description']})"
   ]
  },
  {
   "cell_type": "markdown",
   "id": "2223fcc0-bb8b-4cd8-a7ec-7007435e2c42",
   "metadata": {},
   "source": [
    "We could drill further to get the concentrations, properties, etc"
   ]
  },
  {
   "cell_type": "markdown",
   "id": "reported-rating",
   "metadata": {},
   "source": [
    "### Workflows: Logical groups of actions"
   ]
  },
  {
   "cell_type": "code",
   "execution_count": 25,
   "id": "a92edc8e-c89a-4962-81aa-c19e221a82b7",
   "metadata": {
    "tags": []
   },
   "outputs": [
    {
     "data": {
      "text/plain": [
       "['Dispense Solvent',\n",
       " 'Dispense Stock A',\n",
       " 'Dispense Stock B',\n",
       " 'Dispense Acid Vol 1',\n",
       " 'Dispense Acid Vol 2']"
      ]
     },
     "execution_count": 25,
     "metadata": {},
     "output_type": "execute_result"
    }
   ],
   "source": [
    "[wf['description'] for wf in perovskite_template['workflow']]"
   ]
  },
  {
   "cell_type": "markdown",
   "id": "23650bd5-79e4-490b-b9f9-ef7d5900a1d4",
   "metadata": {},
   "source": [
    "Each of these contains a set of parameters that we can edit"
   ]
  },
  {
   "cell_type": "markdown",
   "id": "4d767ea5-ae79-4182-8838-ccdc0dc93783",
   "metadata": {},
   "source": [
    "### Creating a new workflow from a template"
   ]
  },
  {
   "cell_type": "code",
   "execution_count": 26,
   "id": "b3a34151-e92e-4c9f-bc4d-08f3c335fa93",
   "metadata": {
    "tags": []
   },
   "outputs": [
    {
     "name": "stdout",
     "output_type": "stream",
     "text": [
      "<Response [200]>\n",
      "GET: OK\n"
     ]
    }
   ],
   "source": [
    "editable_template = get_data(\n",
    "    f'experimenttemplate/{perovskite_template[\"uuid\"]}/create'\n",
    ")"
   ]
  },
  {
   "cell_type": "code",
   "execution_count": 27,
   "id": "bd7b5c1e-76d7-416b-a143-19aaa5b46bc2",
   "metadata": {
    "tags": []
   },
   "outputs": [
    {
     "data": {
      "text/plain": [
       "{'experiment_name': '',\n",
       " 'material_parameters': [{'material_name': 'Acid',\n",
       "   'value': 'http://localhost:8000/api/bommaterial/092d5b72-8121-4b4c-b09f-b6932c7feec1/'},\n",
       "  {'material_name': 'Solvent',\n",
       "   'value': 'http://localhost:8000/api/bommaterial/ee69cab2-815a-4ff3-9b93-b6929f8aa322/'},\n",
       "  {'material_name': 'Stock A',\n",
       "   'value': 'http://localhost:8000/api/bommaterial/d39996c8-3c96-4bb6-a86c-3130e71e9453/'},\n",
       "  {'material_name': 'Stock B',\n",
       "   'value': 'http://localhost:8000/api/bommaterial/756703e1-120f-462a-981a-05210a695957/'},\n",
       "  {'material_name': 'Plate',\n",
       "   'value': 'http://localhost:8000/api/bommaterial/2ac83f3f-80cf-4805-a532-25cc9d430e9c/'}],\n",
       " 'experiment_parameters_1': [],\n",
       " 'experiment_parameters_2': [{'object_description': 'Dispense Solvent',\n",
       "   'parameter_def_description': 'volume',\n",
       "   'value': {'value': 1.0, 'unit': 'mL', 'type': 'num'}},\n",
       "  {'object_description': 'Dispense Solvent',\n",
       "   'parameter_def_description': 'volume',\n",
       "   'value': {'value': 2.0, 'unit': 'mL', 'type': 'num'}},\n",
       "  {'object_description': 'Dispense Stock A',\n",
       "   'parameter_def_description': 'volume',\n",
       "   'value': {'value': 1.0, 'unit': 'mL', 'type': 'num'}},\n",
       "  {'object_description': 'Dispense Stock A',\n",
       "   'parameter_def_description': 'volume',\n",
       "   'value': {'value': 2.0, 'unit': 'mL', 'type': 'num'}},\n",
       "  {'object_description': 'Dispense Stock B',\n",
       "   'parameter_def_description': 'volume',\n",
       "   'value': {'value': 1.0, 'unit': 'mL', 'type': 'num'}},\n",
       "  {'object_description': 'Dispense Stock B',\n",
       "   'parameter_def_description': 'volume',\n",
       "   'value': {'value': 2.0, 'unit': 'mL', 'type': 'num'}},\n",
       "  {'object_description': 'Dispense Acid Vol 1',\n",
       "   'parameter_def_description': 'volume',\n",
       "   'value': {'value': 1.0, 'unit': 'mL', 'type': 'num'}},\n",
       "  {'object_description': 'Dispense Acid Vol 1',\n",
       "   'parameter_def_description': 'volume',\n",
       "   'value': {'value': 2.0, 'unit': 'mL', 'type': 'num'}},\n",
       "  {'object_description': 'Dispense Acid Vol 2',\n",
       "   'parameter_def_description': 'volume',\n",
       "   'value': {'value': 1.0, 'unit': 'mL', 'type': 'num'}},\n",
       "  {'object_description': 'Dispense Acid Vol 2',\n",
       "   'parameter_def_description': 'volume',\n",
       "   'value': {'value': 2.0, 'unit': 'mL', 'type': 'num'}}],\n",
       " 'experiment_parameters_3': []}"
      ]
     },
     "execution_count": 27,
     "metadata": {},
     "output_type": "execute_result"
    }
   ],
   "source": [
    "editable_template"
   ]
  },
  {
   "cell_type": "markdown",
   "id": "922b7219-d2fc-47e6-a56d-59761e7c185c",
   "metadata": {},
   "source": [
    "Can also give arrays of values over 96 well plates"
   ]
  },
  {
   "cell_type": "markdown",
   "id": "d392ae87-1ee2-4993-a5e5-b2611d8938aa",
   "metadata": {},
   "source": [
    "Suppose I edit this json then I can post the new template to the server"
   ]
  },
  {
   "cell_type": "code",
   "execution_count": 28,
   "id": "6e2ea0af-65d6-47cd-be0b-36917da05046",
   "metadata": {
    "tags": []
   },
   "outputs": [
    {
     "name": "stdout",
     "output_type": "stream",
     "text": [
      "<Response [500]>\n",
      "POST: FAILED, returning response object\n"
     ]
    }
   ],
   "source": [
    "resp = post_data(\n",
    "    f'experimenttemplate/{perovskite_template[\"uuid\"]}/create',\n",
    "    editable_template\n",
    ")"
   ]
  },
  {
   "cell_type": "markdown",
   "id": "f228b4c2-1684-4ae9-b03a-52f5a1f80f1c",
   "metadata": {},
   "source": [
    "#### Todo: quick fix of this error"
   ]
  },
  {
   "cell_type": "markdown",
   "id": "2e80c7e7-76f5-443c-9519-7187bc883bac",
   "metadata": {},
   "source": [
    "This experiment then appears in the experiment queue. The experimentalist is notified, can download relevant robot input and upload observed values through forms"
   ]
  },
  {
   "cell_type": "code",
   "execution_count": null,
   "id": "df631062-962a-4687-b991-94ebde477398",
   "metadata": {},
   "outputs": [],
   "source": []
  },
  {
   "cell_type": "markdown",
   "id": "opening-aging",
   "metadata": {},
   "source": [
    "### TODO\n",
    "* upload/download human-rater defined crystal quality forms \n",
    "* demo upload/download of raw vial images\n",
    "* demo running Shekar's interactive plots on the data from above"
   ]
  },
  {
   "cell_type": "code",
   "execution_count": null,
   "id": "d1c2791b-6a75-45af-9cc2-e7cfc344e301",
   "metadata": {},
   "outputs": [],
   "source": []
  }
 ],
 "metadata": {
  "kernelspec": {
   "display_name": "Python 3",
   "language": "python",
   "name": "python3"
  },
  "language_info": {
   "codemirror_mode": {
    "name": "ipython",
    "version": 3
   },
   "file_extension": ".py",
   "mimetype": "text/x-python",
   "name": "python",
   "nbconvert_exporter": "python",
   "pygments_lexer": "ipython3",
   "version": "3.9.2"
  }
 },
 "nbformat": 4,
 "nbformat_minor": 5
}
