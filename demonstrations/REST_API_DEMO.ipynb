{
 "cells": [
  {
   "cell_type": "markdown",
   "id": "changed-dallas",
   "metadata": {},
   "source": [
    "# Interacting with the ESCALATE REST API"
   ]
  },
  {
   "cell_type": "markdown",
   "id": "c50b0e11-11ee-4357-bdba-648b9af11e2c",
   "metadata": {},
   "source": [
    "This is a tutorail for using the ESCALATE REST API. \n",
    "\n",
    "It presumes only knowledge of basic python. \n",
    "\n",
    "It also presumes you have a local instance of ESCALATE running at http://localhost:8000"
   ]
  },
  {
   "cell_type": "code",
   "execution_count": 1,
   "id": "suited-individual",
   "metadata": {
    "tags": []
   },
   "outputs": [],
   "source": [
    "import json\n",
    "from pprint import pprint\n",
    "\n",
    "import requests  # requests library will send and receive data from the escalate server\n",
    "from requests.api import post\n",
    "\n",
    "import pandas as pd"
   ]
  },
  {
   "cell_type": "code",
   "execution_count": null,
   "id": "fc763dd5-b28a-4681-8a34-862f877101c8",
   "metadata": {},
   "outputs": [],
   "source": []
  },
  {
   "cell_type": "markdown",
   "id": "fitted-denial",
   "metadata": {},
   "source": [
    "## Quick intro to REST APIs\n",
    "\n",
    "All you need to know about REST is that:\n",
    "* It is a protocol for exchanging data between a client (e.g. me) and a server (e.g. ESCALATE)\n",
    "* Data formats are human *and* machine readable (XML or JSON)\n",
    "* There are two main HTTP 'verbs' or functions: \n",
    "  1. GET data from the server\n",
    "  2. POST data to the server  \n",
    "     (there are others, e.g. PUT and PATCH, but we won't use these in this tutorial)\n",
    "* The python `requests` library implements the HTTP verbs for interacting with servers, including with REST APIs"
   ]
  },
  {
   "cell_type": "code",
   "execution_count": null,
   "id": "8aa5ab15-2f30-4f1e-a312-a9bc7fbe97a4",
   "metadata": {},
   "outputs": [],
   "source": []
  },
  {
   "cell_type": "markdown",
   "id": "49a1b5c4-8f30-43fe-9072-dc8ee0068eb6",
   "metadata": {},
   "source": [
    "### Example: GET from the PubChem API\n",
    "\n",
    "* [Pubchem](https://pubchem.ncbi.nlm.nih.gov/) is a great way to get chemical informatics data from a vast repository\n",
    "   - e.g. just search for any compound above\n",
    "   - Has a graphical web interface and REST API\n",
    "* (There are other computational chemistry REST APIs, including [Open Chemistry](https://doi.org/10.1186/s13321-017-0241-z), and [AFLOW-ML](https://doi.org/10.1016/j.commatsci.2018.03.075))\n"
   ]
  },
  {
   "cell_type": "code",
   "execution_count": 2,
   "id": "registered-apparel",
   "metadata": {
    "tags": []
   },
   "outputs": [],
   "source": [
    "# dict mapping compound name to PubChemID\n",
    "PubChemIDs = {\n",
    "    'Methane': '297',\n",
    "    'Benzene': '241',\n",
    "    'Ethylammonium Iodide': '11116533'\n",
    "}"
   ]
  },
  {
   "cell_type": "markdown",
   "id": "ffa67dc6-8174-417e-ba96-6504de787527",
   "metadata": {
    "tags": []
   },
   "source": [
    "The URL below is the compound 'API endpoint' which I can send a request to for properties of compounds given their PubChem CIDs"
   ]
  },
  {
   "cell_type": "code",
   "execution_count": 3,
   "id": "compliant-mustang",
   "metadata": {
    "tags": []
   },
   "outputs": [],
   "source": [
    "response = requests.get(('https://pubchem.ncbi.nlm.nih.gov/rest/pug/compound'          # What type of entity? Compound\n",
    "                         f'/cid/{\",\".join(PubChemIDs.values())}/'                      # Which compounds? These\n",
    "                         'property/MolecularFormula,MolecularWeight,CanonicalSMILES/'  # Which properties? \n",
    "                         'JSON'))                                                     # Which format?\n",
    "                        #proxies=proxies)"
   ]
  },
  {
   "cell_type": "code",
   "execution_count": 4,
   "id": "0b3b830e-f67d-4235-a4f8-176c825e8d27",
   "metadata": {},
   "outputs": [
    {
     "data": {
      "text/plain": [
       "<Response [200]>"
      ]
     },
     "execution_count": 4,
     "metadata": {},
     "output_type": "execute_result"
    }
   ],
   "source": [
    "response"
   ]
  },
  {
   "cell_type": "code",
   "execution_count": 5,
   "id": "animal-bunch",
   "metadata": {
    "tags": []
   },
   "outputs": [
    {
     "data": {
      "text/plain": [
       "{'PropertyTable': {'Properties': [{'CID': 297,\n",
       "    'MolecularFormula': 'CH4',\n",
       "    'MolecularWeight': '16.043',\n",
       "    'CanonicalSMILES': 'C'},\n",
       "   {'CID': 241,\n",
       "    'MolecularFormula': 'C6H6',\n",
       "    'MolecularWeight': '78.11',\n",
       "    'CanonicalSMILES': 'C1=CC=CC=C1'},\n",
       "   {'CID': 11116533,\n",
       "    'MolecularFormula': 'C2H8IN',\n",
       "    'MolecularWeight': '173.00',\n",
       "    'CanonicalSMILES': 'CCN.I'}]}}"
      ]
     },
     "execution_count": 5,
     "metadata": {},
     "output_type": "execute_result"
    }
   ],
   "source": [
    "response.json()"
   ]
  },
  {
   "cell_type": "code",
   "execution_count": null,
   "id": "e6128b2b-88c8-4fee-974f-41efa0a9c103",
   "metadata": {},
   "outputs": [],
   "source": []
  },
  {
   "cell_type": "markdown",
   "id": "8991c6d8-1b33-445c-9702-c9b1a3246924",
   "metadata": {},
   "source": [
    "## The ESCALATE REST API \n",
    "\n",
    "* Send data back and forth between ML, chemists, and laboratories"
   ]
  },
  {
   "cell_type": "markdown",
   "id": "659fd412-598c-4b03-9161-e3e5d6e7dc1e",
   "metadata": {},
   "source": [
    "### Interactive List of all available ESCALATE endpoints\n",
    "\n",
    "Simply navigating to http://localhost:8000/api will show you a browsable list of all available API endpoints. \n",
    "\n",
    "We can also view that list programmatically: "
   ]
  },
  {
   "cell_type": "code",
   "execution_count": 6,
   "id": "3980090b-ec8d-475e-9106-3b21cb029c12",
   "metadata": {
    "tags": []
   },
   "outputs": [
    {
     "data": {
      "text/plain": [
       "{'action': 'http://localhost:8000/api/action/',\n",
       " 'actiondef': 'http://localhost:8000/api/actiondef/',\n",
       " 'actionparameter': 'http://localhost:8000/api/actionparameter/',\n",
       " 'actionparameterdefassign': 'http://localhost:8000/api/actionparameterdefassign/',\n",
       " 'actor': 'http://localhost:8000/api/actor/',\n",
       " 'billofmaterials': 'http://localhost:8000/api/billofmaterials/',\n",
       " 'bomcompositematerial': 'http://localhost:8000/api/bomcompositematerial/',\n",
       " 'bommaterial': 'http://localhost:8000/api/bommaterial/',\n",
       " 'calculation': 'http://localhost:8000/api/calculation/',\n",
       " 'calculationdef': 'http://localhost:8000/api/calculationdef/',\n",
       " 'compositematerial': 'http://localhost:8000/api/compositematerial/',\n",
       " 'compositematerialproperty': 'http://localhost:8000/api/compositematerialproperty/',\n",
       " 'condition': 'http://localhost:8000/api/condition/',\n",
       " 'conditioncalculationdefassign': 'http://localhost:8000/api/conditioncalculationdefassign/',\n",
       " 'conditiondef': 'http://localhost:8000/api/conditiondef/',\n",
       " 'experiment': 'http://localhost:8000/api/experiment/',\n",
       " 'experimenttemplate': 'http://localhost:8000/api/experimenttemplate/',\n",
       " 'experimentworkflow': 'http://localhost:8000/api/experimentworkflow/',\n",
       " 'inventory': 'http://localhost:8000/api/inventory/',\n",
       " 'inventorymaterial': 'http://localhost:8000/api/inventorymaterial/',\n",
       " 'material': 'http://localhost:8000/api/material/',\n",
       " 'materialproperty': 'http://localhost:8000/api/materialproperty/',\n",
       " 'materialrefnamedef': 'http://localhost:8000/api/materialrefnamedef/',\n",
       " 'materialtype': 'http://localhost:8000/api/materialtype/',\n",
       " 'materialtypeassign': 'http://localhost:8000/api/materialtypeassign/',\n",
       " 'measure': 'http://localhost:8000/api/measure/',\n",
       " 'measuredef': 'http://localhost:8000/api/measuredef/',\n",
       " 'measuretype': 'http://localhost:8000/api/measuretype/',\n",
       " 'organization': 'http://localhost:8000/api/organization/',\n",
       " 'outcome': 'http://localhost:8000/api/outcome/',\n",
       " 'parameter': 'http://localhost:8000/api/parameter/',\n",
       " 'parameterdef': 'http://localhost:8000/api/parameterdef/',\n",
       " 'person': 'http://localhost:8000/api/person/',\n",
       " 'property': 'http://localhost:8000/api/property/',\n",
       " 'propertydef': 'http://localhost:8000/api/propertydef/',\n",
       " 'status': 'http://localhost:8000/api/status/',\n",
       " 'systemtool': 'http://localhost:8000/api/systemtool/',\n",
       " 'systemtooltype': 'http://localhost:8000/api/systemtooltype/',\n",
       " 'tag': 'http://localhost:8000/api/tag/',\n",
       " 'tagtype': 'http://localhost:8000/api/tagtype/',\n",
       " 'typedef': 'http://localhost:8000/api/typedef/',\n",
       " 'udfdef': 'http://localhost:8000/api/udfdef/',\n",
       " 'unittype': 'http://localhost:8000/api/unittype/',\n",
       " 'workflow': 'http://localhost:8000/api/workflow/',\n",
       " 'workflowactionset': 'http://localhost:8000/api/workflowactionset/',\n",
       " 'workflowobject': 'http://localhost:8000/api/workflowobject/',\n",
       " 'workflowstep': 'http://localhost:8000/api/workflowstep/',\n",
       " 'workflowtype': 'http://localhost:8000/api/workflowtype/'}"
      ]
     },
     "execution_count": 6,
     "metadata": {},
     "output_type": "execute_result"
    }
   ],
   "source": [
    "base_url = 'http://localhost:8000/api'  # local dev server\n",
    "response = requests.get(base_url)\n",
    "response.json()"
   ]
  },
  {
   "cell_type": "code",
   "execution_count": null,
   "id": "cd7e7e38-b039-47b0-b66d-d6516723941c",
   "metadata": {},
   "outputs": [],
   "source": []
  },
  {
   "cell_type": "markdown",
   "id": "e4b1df05-4f80-4712-acdb-bdd46ce20d2c",
   "metadata": {},
   "source": [
    "### Logging into ESCALATE\n",
    "\n",
    "\n",
    "To be able to view and post to all endpoints, I will create a log in session that is managed by a token. "
   ]
  },
  {
   "cell_type": "code",
   "execution_count": 7,
   "id": "hawaiian-southwest",
   "metadata": {
    "tags": []
   },
   "outputs": [
    {
     "data": {
      "text/plain": [
       "'f3a03cb5ffa0efa1360e5093f303dd338b4e92a6'"
      ]
     },
     "execution_count": 7,
     "metadata": {},
     "output_type": "execute_result"
    }
   ],
   "source": [
    "# demo login credentials\n",
    "login_data = {\n",
    "    'username': 'mtynes',\n",
    "    'password': 'hello1world2'\n",
    "}\n",
    "\n",
    "r_login = requests.post(f'{base_url}/login', data=login_data)\n",
    "token = r_login.json()['token']\n",
    "token"
   ]
  },
  {
   "cell_type": "code",
   "execution_count": 8,
   "id": "incoming-board",
   "metadata": {
    "tags": []
   },
   "outputs": [],
   "source": [
    "token_header = {'Authorization': f'Token {token}'}\n",
    "\n",
    "content_type_header = {'content-type': 'application/json'} # for most requests we'll want this header"
   ]
  },
  {
   "cell_type": "markdown",
   "id": "intermediate-objective",
   "metadata": {},
   "source": [
    "This token will allow me to validate my identity for this session"
   ]
  },
  {
   "cell_type": "code",
   "execution_count": null,
   "id": "76921f4a-1d9e-4a6b-a965-643b1d3766a9",
   "metadata": {},
   "outputs": [],
   "source": []
  },
  {
   "cell_type": "markdown",
   "id": "active-publicity",
   "metadata": {},
   "source": [
    "### Simple helper functions for GET/POST\n",
    "\n",
    "These functions will do some minimal URL generation and JSON response parsing on top of what is done by the `requests` library"
   ]
  },
  {
   "cell_type": "code",
   "execution_count": 9,
   "id": "shaped-settlement",
   "metadata": {
    "tags": []
   },
   "outputs": [],
   "source": [
    "def post_data(endpoint, data={}, headers={**token_header, **content_type_header}):\n",
    "    \"\"\"POST `data` to `endpoint`in ESCALATE API using `headers`\n",
    "    \n",
    "    return: (dict|requests.Response), bool\n",
    "    \"\"\"\n",
    "    r = requests.post(f'{base_url}/{endpoint}/', \n",
    "                      data=json.dumps(data), \n",
    "                      headers=headers)\n",
    "    print(r)\n",
    "    if r.ok: \n",
    "        print('POST: OK, returning new resource dict')\n",
    "        return r.json()\n",
    "    print('POST: FAILED, returning response object')\n",
    "    return r\n",
    "\n",
    "\n",
    "def get_data(endpoint, data={}, headers={**token_header}):\n",
    "    \"\"\"Make GET request with `data` to `endpoint` in ESCALATE API using `headers`\n",
    "    \n",
    "    return: (dict|list|requests.Response), bool\n",
    "    \"\"\"\n",
    "    r = requests.get(f'{base_url}/{endpoint}/', params=data, headers=headers)\n",
    "    print(r)\n",
    "    if r.ok: \n",
    "        print('GET: OK')\n",
    "        \n",
    "        resp_json = r.json()        \n",
    "        \n",
    "        # handle cases: one vs many results\n",
    "        if resp_json.get('count') is None: # edge case: template edit\n",
    "            return r.json()\n",
    "        elif resp_json.get('count') == 1: \n",
    "            print('Found one resource, returning dict')\n",
    "            return resp_json['results'][0]\n",
    "        elif resp_json.get('count') >= 1: \n",
    "            print(f\"Found {resp_json['count']} resources, returning list of dicts)\")\n",
    "            return r.json()['results']\n",
    "        else:\n",
    "            print('GET: FAILED, returning response object')\n",
    "    return r"
   ]
  },
  {
   "cell_type": "code",
   "execution_count": null,
   "id": "9e42de65-8b47-439c-8a3e-02029bd64a5f",
   "metadata": {},
   "outputs": [],
   "source": []
  },
  {
   "cell_type": "markdown",
   "id": "deadly-blues",
   "metadata": {},
   "source": [
    "### GET all of materials defined in ESCALATE"
   ]
  },
  {
   "cell_type": "code",
   "execution_count": 10,
   "id": "directed-federation",
   "metadata": {
    "tags": []
   },
   "outputs": [
    {
     "name": "stdout",
     "output_type": "stream",
     "text": [
      "<Response [200]>\n",
      "GET: OK\n",
      "Found 294 resources, returning list of dicts)\n"
     ]
    }
   ],
   "source": [
    "r = get_data(endpoint='material')"
   ]
  },
  {
   "cell_type": "markdown",
   "id": "loving-nomination",
   "metadata": {},
   "source": [
    "All of these materials would probably take up too much space in this notebook, lets look at the first one."
   ]
  },
  {
   "cell_type": "markdown",
   "id": "ddfd4506-1e10-41ba-85a9-e331e3c74b7f",
   "metadata": {},
   "source": [
    "All lead iodide shares in this chemical formula, etc. Models are jsut 'what is is about these thigns that are all the same, as opposed to particular vials of gblthat has volumes, contanimanants, dates, masses. these all come from the object, but share in model. models dont contain provenance, are only abotu intenseive properties "
   ]
  },
  {
   "cell_type": "code",
   "execution_count": 11,
   "id": "6a69d065-4e31-417e-a364-67c6fab8a5c6",
   "metadata": {
    "tags": []
   },
   "outputs": [
    {
     "data": {
      "text/plain": [
       "{'url': 'http://localhost:8000/api/material/de4b4542-722e-4382-83da-f0b71b9d7f1e/',\n",
       " 'uuid': 'de4b4542-722e-4382-83da-f0b71b9d7f1e',\n",
       " 'edocs': [],\n",
       " 'tags': [],\n",
       " 'notes': [],\n",
       " 'description': 'Gamma-Butyrolactone',\n",
       " 'consumable': True,\n",
       " 'composite_flg': False,\n",
       " 'material_class': 'model',\n",
       " 'actor_description': None,\n",
       " 'status_description': 'active',\n",
       " 'add_date': '2021-05-18T18:36:39.541032Z',\n",
       " 'mod_date': '2021-05-18T18:36:48.001730Z',\n",
       " 'actor': None,\n",
       " 'status': 'http://localhost:8000/api/status/5f7417a3-cf9a-425d-b4c5-f72db9c5d702/',\n",
       " 'material_types': ['http://localhost:8000/api/materialtype/47f94409-4086-4958-b3af-04575435320b/',\n",
       "  'http://localhost:8000/api/materialtype/bdd47093-0170-4e3b-9290-4b2037382b6f/',\n",
       "  'http://localhost:8000/api/materialtype/6cabb634-4c65-400c-8f3c-9f5a9afa88f1/'],\n",
       " 'property': []}"
      ]
     },
     "execution_count": 11,
     "metadata": {},
     "output_type": "execute_result"
    }
   ],
   "source": [
    "r[0]"
   ]
  },
  {
   "cell_type": "markdown",
   "id": "28a349ee-b32b-4e2f-9b22-5f7fe9388988",
   "metadata": {},
   "source": [
    "These are the fields available for materials. Notably we can associate a material with arbitrary properties and material types."
   ]
  },
  {
   "cell_type": "code",
   "execution_count": null,
   "id": "b772a513-024d-427e-b606-e587c669a4a8",
   "metadata": {},
   "outputs": [],
   "source": []
  },
  {
   "cell_type": "markdown",
   "id": "d559f857-d45d-4ce2-a02d-220f9f1def99",
   "metadata": {},
   "source": [
    "### POST a material property\n",
    "\n",
    "#### Current property definitions in ESCALATE\n",
    "\n",
    "ESCALATE supports user defined property definitions, these are the one's we're using"
   ]
  },
  {
   "cell_type": "code",
   "execution_count": 12,
   "id": "04d9ad9e-0423-4b29-94c9-050174a6f958",
   "metadata": {
    "tags": []
   },
   "outputs": [
    {
     "name": "stdout",
     "output_type": "stream",
     "text": [
      "<Response [200]>\n",
      "GET: OK\n",
      "Found 16 resources, returning list of dicts)\n"
     ]
    },
    {
     "data": {
      "text/plain": [
       "[{'description': 'particle-size {min, max}'},\n",
       " {'description': 'mesh {min, max}'},\n",
       " {'description': 'capacity'},\n",
       " {'description': 'cross-linkage %'},\n",
       " {'description': 'moisture % {min, max}'},\n",
       " {'description': 'Resin Class'},\n",
       " {'description': 'Functional group'},\n",
       " {'description': 'concentration_molarity'},\n",
       " {'description': 'manufacturer'},\n",
       " {'description': 'plate well count'},\n",
       " {'description': 'plate well location'},\n",
       " {'description': 'plate well robot order'},\n",
       " {'description': 'plate well volume {min, max}'},\n",
       " {'description': 'concentration'},\n",
       " {'description': 'molecular-weight'},\n",
       " {'description': 'Crystal Score'}]"
      ]
     },
     "execution_count": 12,
     "metadata": {},
     "output_type": "execute_result"
    }
   ],
   "source": [
    "r = get_data('propertydef', \n",
    "             {'fields': ['description']} # we can select 'columns' with the fields parameter    \n",
    "            )\n",
    "r"
   ]
  },
  {
   "cell_type": "markdown",
   "id": "03f81d88-467c-44f7-8d3a-e26bb8798624",
   "metadata": {},
   "source": [
    "#### Molecular Weight"
   ]
  },
  {
   "cell_type": "code",
   "execution_count": 13,
   "id": "lesbian-delta",
   "metadata": {
    "tags": []
   },
   "outputs": [
    {
     "name": "stdout",
     "output_type": "stream",
     "text": [
      "<Response [200]>\n",
      "GET: OK\n",
      "Found one resource, returning dict\n"
     ]
    },
    {
     "data": {
      "text/plain": [
       "{'url': 'http://localhost:8000/api/propertydef/85eb75b1-a383-4dbb-bf07-e352407cdc6e/',\n",
       " 'description': 'molecular-weight',\n",
       " 'val_unit': 'g/mol'}"
      ]
     },
     "execution_count": 13,
     "metadata": {},
     "output_type": "execute_result"
    }
   ],
   "source": [
    "mw_property_def = get_data('propertydef', \n",
    "                           {'description': 'molecular-weight', # find an entity that has a particular description\n",
    "                            'fields': ['url', 'description', 'val_unit']})\n",
    "mw_property_def"
   ]
  },
  {
   "cell_type": "markdown",
   "id": "1e2ba804-9800-4a88-b1d7-b48b9c8c1f9a",
   "metadata": {},
   "source": [
    "Now we can associate an instance of this property with a material, say EthNH3I"
   ]
  },
  {
   "cell_type": "code",
   "execution_count": 14,
   "id": "incredible-white",
   "metadata": {
    "tags": []
   },
   "outputs": [
    {
     "name": "stdout",
     "output_type": "stream",
     "text": [
      "<Response [200]>\n",
      "GET: OK\n",
      "Found one resource, returning dict\n"
     ]
    },
    {
     "data": {
      "text/plain": [
       "{'url': 'http://localhost:8000/api/material/9caa7a61-663a-4ea0-a3bf-712e80f566f5/',\n",
       " 'description': 'Ethylammonium Iodide',\n",
       " 'property': []}"
      ]
     },
     "execution_count": 14,
     "metadata": {},
     "output_type": "execute_result"
    }
   ],
   "source": [
    "ethylammonium_iodide = get_data('material', \n",
    "                                {'description': 'Ethylammonium Iodide',\n",
    "                                 'fields':['url', 'description', 'property']})\n",
    "ethylammonium_iodide"
   ]
  },
  {
   "cell_type": "markdown",
   "id": "f863d1a2-4b7b-4493-ba74-d974b43f437e",
   "metadata": {},
   "source": [
    "Note the empty property list above\n",
    "\n",
    "Lets fill that in with the molecular weight from PubChem"
   ]
  },
  {
   "cell_type": "code",
   "execution_count": 15,
   "id": "foster-stamp",
   "metadata": {
    "tags": []
   },
   "outputs": [
    {
     "data": {
      "text/plain": [
       "'173.00'"
      ]
     },
     "execution_count": 15,
     "metadata": {},
     "output_type": "execute_result"
    }
   ],
   "source": [
    "response = requests.get('https://pubchem.ncbi.nlm.nih.gov/rest/pug/'+\\\n",
    "                        f'compound/cid/{PubChemIDs.get(\"Ethylammonium Iodide\")}/'+\\\n",
    "                        'property/MolecularFormula,MolecularWeight,CanonicalSMILES/JSON')\n",
    "                      # proxies=proxies)\n",
    "pubchem_json = response.json()\n",
    "eth_mw = pubchem_json['PropertyTable']['Properties'][0]['MolecularWeight']\n",
    "eth_mw"
   ]
  },
  {
   "cell_type": "code",
   "execution_count": null,
   "id": "c66059ad-57e2-40e2-a230-44fd9a69c68e",
   "metadata": {
    "tags": []
   },
   "outputs": [],
   "source": []
  },
  {
   "cell_type": "code",
   "execution_count": 16,
   "id": "catholic-freeze",
   "metadata": {
    "tags": []
   },
   "outputs": [
    {
     "name": "stdout",
     "output_type": "stream",
     "text": [
      "<Response [201]>\n",
      "POST: OK, returning new resource dict\n"
     ]
    }
   ],
   "source": [
    "r = post_data('materialproperty',\n",
    "                  {'material': ethylammonium_iodide['url'],\n",
    "                   'property_def': mw_property_def['url'],\n",
    "                   'value': f\"{eth_mw}\"\n",
    "                  }\n",
    "                 )"
   ]
  },
  {
   "cell_type": "markdown",
   "id": "56b036af-90e3-40bf-ab40-4e5c31c68e04",
   "metadata": {},
   "source": [
    "And we've stored it!"
   ]
  },
  {
   "cell_type": "code",
   "execution_count": 17,
   "id": "formal-communist",
   "metadata": {
    "tags": []
   },
   "outputs": [
    {
     "name": "stdout",
     "output_type": "stream",
     "text": [
      "<Response [200]>\n",
      "GET: OK\n",
      "Found one resource, returning dict\n"
     ]
    },
    {
     "data": {
      "text/plain": [
       "{'url': 'http://localhost:8000/api/material/9caa7a61-663a-4ea0-a3bf-712e80f566f5/',\n",
       " 'uuid': '9caa7a61-663a-4ea0-a3bf-712e80f566f5',\n",
       " 'edocs': [],\n",
       " 'tags': [],\n",
       " 'notes': [],\n",
       " 'description': 'Ethylammonium Iodide',\n",
       " 'consumable': True,\n",
       " 'composite_flg': False,\n",
       " 'material_class': 'model',\n",
       " 'actor_description': None,\n",
       " 'status_description': 'active',\n",
       " 'add_date': '2021-05-18T18:36:39.541032Z',\n",
       " 'mod_date': '2021-05-18T18:36:48.001730Z',\n",
       " 'actor': None,\n",
       " 'status': 'http://localhost:8000/api/status/5f7417a3-cf9a-425d-b4c5-f72db9c5d702/',\n",
       " 'material_types': ['http://localhost:8000/api/materialtype/47f94409-4086-4958-b3af-04575435320b/',\n",
       "  'http://localhost:8000/api/materialtype/bdd47093-0170-4e3b-9290-4b2037382b6f/'],\n",
       " 'property': ['http://localhost:8000/api/property/ffcb62bf-9f8d-44ca-ab54-cc6da4b058c1/']}"
      ]
     },
     "execution_count": 17,
     "metadata": {},
     "output_type": "execute_result"
    }
   ],
   "source": [
    "get_data('material', \n",
    "         {'description':'Ethylammonium Iodide'})"
   ]
  },
  {
   "cell_type": "markdown",
   "id": "731996ea-2baa-4d03-8f22-3d19418112fd",
   "metadata": {},
   "source": [
    "\n",
    "* In practice we can use this functionality to store properties from any experiment or calculation. \n",
    "\n",
    "* We can also store metadata about where these values came from   \n",
    "  (example to come in a further tutorial on tags, notes, edocs, calculations)."
   ]
  },
  {
   "cell_type": "code",
   "execution_count": null,
   "id": "f8fb1ecd-a44b-4d41-9f4c-c0a08d31bcbf",
   "metadata": {},
   "outputs": [],
   "source": []
  },
  {
   "cell_type": "markdown",
   "id": "deluxe-player",
   "metadata": {},
   "source": [
    "## Action definitions"
   ]
  },
  {
   "cell_type": "markdown",
   "id": "bd98b2d4-8e8d-42b3-bc66-3b7e838d38ea",
   "metadata": {},
   "source": [
    "* Just as we are free to define properties, we are free to define actions\n",
    "* Current definition are what we've needed to specify human/robot instructions for current workflows"
   ]
  },
  {
   "cell_type": "code",
   "execution_count": 18,
   "id": "mobile-people",
   "metadata": {
    "tags": []
   },
   "outputs": [
    {
     "name": "stdout",
     "output_type": "stream",
     "text": [
      "<Response [200]>\n",
      "GET: OK\n",
      "Found 7 resources, returning list of dicts)\n"
     ]
    },
    {
     "data": {
      "text/plain": [
       "[{'url': 'http://localhost:8000/api/actiondef/cbd005a2-c65e-4540-a7d3-c32ce179d1f3/',\n",
       "  'uuid': 'cbd005a2-c65e-4540-a7d3-c32ce179d1f3',\n",
       "  'description': 'dispense'},\n",
       " {'url': 'http://localhost:8000/api/actiondef/7d4ef633-6629-4a37-bf18-c6989d6b1735/',\n",
       "  'uuid': '7d4ef633-6629-4a37-bf18-c6989d6b1735',\n",
       "  'description': 'heat_stir'},\n",
       " {'url': 'http://localhost:8000/api/actiondef/469e7e6e-b362-4550-93fd-0774114a139b/',\n",
       "  'uuid': '469e7e6e-b362-4550-93fd-0774114a139b',\n",
       "  'description': 'heat'},\n",
       " {'url': 'http://localhost:8000/api/actiondef/5cf1b3af-2a90-45b7-9afd-efe310dba679/',\n",
       "  'uuid': '5cf1b3af-2a90-45b7-9afd-efe310dba679',\n",
       "  'description': 'start_node'},\n",
       " {'url': 'http://localhost:8000/api/actiondef/6779b28b-acfc-4f66-91b7-29c0f61adbca/',\n",
       "  'uuid': '6779b28b-acfc-4f66-91b7-29c0f61adbca',\n",
       "  'description': 'end_node'},\n",
       " {'url': 'http://localhost:8000/api/actiondef/41882d91-bca1-47e9-a939-1a5065d2f79d/',\n",
       "  'uuid': '41882d91-bca1-47e9-a939-1a5065d2f79d',\n",
       "  'description': 'dispense_solid'},\n",
       " {'url': 'http://localhost:8000/api/actiondef/be4fdd00-b6d2-4022-9224-3381cf39b959/',\n",
       "  'uuid': 'be4fdd00-b6d2-4022-9224-3381cf39b959',\n",
       "  'description': 'bring_to_temperature'}]"
      ]
     },
     "execution_count": 18,
     "metadata": {},
     "output_type": "execute_result"
    }
   ],
   "source": [
    "r = get_data('actiondef', {'fields': ['description', 'uuid', 'url']})\n",
    "r"
   ]
  },
  {
   "cell_type": "markdown",
   "id": "8d5defe0-e206-4165-a30a-1103fff92440",
   "metadata": {},
   "source": [
    "#### Zooming in on the dispense action definition"
   ]
  },
  {
   "cell_type": "code",
   "execution_count": 19,
   "id": "discrete-crisis",
   "metadata": {
    "tags": []
   },
   "outputs": [
    {
     "name": "stdout",
     "output_type": "stream",
     "text": [
      "<Response [200]>\n",
      "GET: OK\n",
      "Found one resource, returning dict\n"
     ]
    },
    {
     "data": {
      "text/plain": [
       "{'url': 'http://localhost:8000/api/actiondef/cbd005a2-c65e-4540-a7d3-c32ce179d1f3/',\n",
       " 'uuid': 'cbd005a2-c65e-4540-a7d3-c32ce179d1f3',\n",
       " 'edocs': [],\n",
       " 'tags': [],\n",
       " 'notes': [{'url': 'http://localhost:8000/api/note/bf0ad585-f96c-459c-9648-0075a4f6f54b/',\n",
       "   'uuid': 'bf0ad585-f96c-459c-9648-0075a4f6f54b',\n",
       "   'notetext': 'source material = material to be dispensed, destination material = plate well',\n",
       "   'add_date': '2021-05-18T18:36:44.813095Z',\n",
       "   'mod_date': '2021-05-18T18:36:44.813095Z',\n",
       "   'actor_description': 'Mike Tynes',\n",
       "   'ref_note_uuid': 'cbd005a2-c65e-4540-a7d3-c32ce179d1f3',\n",
       "   'actor': 'http://localhost:8000/api/actor/660a8d22-84a7-4672-8cfc-cbf9b01d9638/'}],\n",
       " 'parameter_def': [{'url': 'http://localhost:8000/api/parameterdef/0b11e810-eecb-4a30-82be-7c6d9fc6cdef/',\n",
       "   'uuid': '0b11e810-eecb-4a30-82be-7c6d9fc6cdef',\n",
       "   'edocs': [],\n",
       "   'tags': [],\n",
       "   'notes': [],\n",
       "   'description': 'volume',\n",
       "   'default_val': {'value': 0.0, 'unit': 'mL', 'type': 'num'},\n",
       "   'unit_type': 'volume',\n",
       "   'actor_description': 'Mike Tynes',\n",
       "   'status_description': None,\n",
       "   'add_date': '2021-05-18T18:36:44.780110Z',\n",
       "   'mod_date': '2021-05-18T18:36:44.780110Z',\n",
       "   'val_type': 'http://localhost:8000/api/typedef/491615f0-f39c-4215-9b61-20e05ec91eba/',\n",
       "   'actor': 'http://localhost:8000/api/actor/660a8d22-84a7-4672-8cfc-cbf9b01d9638/',\n",
       "   'status': None}],\n",
       " 'description': 'dispense',\n",
       " 'actor_description': 'Mike Tynes',\n",
       " 'status_description': None,\n",
       " 'add_date': '2021-05-18T18:36:44.796098Z',\n",
       " 'mod_date': '2021-05-18T18:36:44.796098Z',\n",
       " 'actor': 'http://localhost:8000/api/actor/660a8d22-84a7-4672-8cfc-cbf9b01d9638/',\n",
       " 'status': None}"
      ]
     },
     "execution_count": 19,
     "metadata": {},
     "output_type": "execute_result"
    }
   ],
   "source": [
    "get_data('actiondef',               \n",
    "         {'description': 'dispense',  # which action def\n",
    "          'expand': 'parameter_def',  # sub dictionary to expand\n",
    "          })"
   ]
  },
  {
   "cell_type": "code",
   "execution_count": null,
   "id": "65f9c215-d7f3-4f76-bad7-ec1f9d4aca68",
   "metadata": {},
   "outputs": [],
   "source": []
  },
  {
   "cell_type": "markdown",
   "id": "disabled-shannon",
   "metadata": {},
   "source": [
    "### Actions + Materials = Experiment Template \n",
    "\n",
    "* Experiment template = the form of an experiment that I wish to re-use, varying material choices and process parameters"
   ]
  },
  {
   "cell_type": "code",
   "execution_count": 20,
   "id": "be0fec21-cadf-44aa-9890-76d153018837",
   "metadata": {},
   "outputs": [
    {
     "name": "stdout",
     "output_type": "stream",
     "text": [
      "<Response [200]>\n",
      "GET: OK\n",
      "Found 4 resources, returning list of dicts)\n"
     ]
    }
   ],
   "source": [
    "experiment_templates = get_data('experimenttemplate', \n",
    "                               {'fields':['description', 'url']})"
   ]
  },
  {
   "cell_type": "code",
   "execution_count": 21,
   "id": "38e87feb-9702-4bc2-bc1c-1ff3ce9626c7",
   "metadata": {},
   "outputs": [
    {
     "data": {
      "text/plain": [
       "[{'url': 'http://localhost:8000/api/experimenttemplate/0e0cf7e4-c97c-4615-8e70-29f7008644a5/',\n",
       "  'description': 'liquid_solid_extraction'},\n",
       " {'url': 'http://localhost:8000/api/experimenttemplate/5ab64466-c4f4-4c23-9c89-846f9663e4b3/',\n",
       "  'description': 'resin_weighing'},\n",
       " {'url': 'http://localhost:8000/api/experimenttemplate/5c2ac7f4-0047-40f9-9433-433e8f94d804/',\n",
       "  'description': 'perovskite_demo'},\n",
       " {'url': 'http://localhost:8000/api/experimenttemplate/f89625e0-1836-4d35-adc3-607af320545e/',\n",
       "  'description': 'test_wf_1'}]"
      ]
     },
     "execution_count": 21,
     "metadata": {},
     "output_type": "execute_result"
    }
   ],
   "source": [
    "experiment_templates"
   ]
  },
  {
   "cell_type": "markdown",
   "id": "southeast-maldives",
   "metadata": {},
   "source": [
    "Click on perovskite demo link and note 2 main nested fields: \n",
    "* Bill of materials = the initial materials for the perovskite workflow\n",
    "* Workflow = the set of actions that combine these materials into perovskite crystal trials"
   ]
  },
  {
   "cell_type": "code",
   "execution_count": 22,
   "id": "6953c893-0aea-41d4-a237-65714df207ed",
   "metadata": {},
   "outputs": [
    {
     "name": "stdout",
     "output_type": "stream",
     "text": [
      "<Response [200]>\n",
      "GET: OK\n",
      "Found one resource, returning dict\n"
     ]
    }
   ],
   "source": [
    "perovskite_template = get_data('experimenttemplate',\n",
    "                              {'description': 'test_wf_1', \n",
    "                              'expand': 'workflow' # expand the workflow subdictionary\n",
    "                              })"
   ]
  },
  {
   "cell_type": "code",
   "execution_count": 23,
   "id": "7445f983-e22f-483c-810c-19530815642c",
   "metadata": {
    "scrolled": true,
    "tags": []
   },
   "outputs": [
    {
     "data": {
      "text/plain": [
       "{'url': 'http://localhost:8000/api/experimenttemplate/f89625e0-1836-4d35-adc3-607af320545e/',\n",
       " 'uuid': 'f89625e0-1836-4d35-adc3-607af320545e',\n",
       " 'edocs': [],\n",
       " 'tags': [],\n",
       " 'notes': [],\n",
       " 'bill_of_materials': [{'url': 'http://localhost:8000/api/billofmaterials/c4e9ce7c-6620-40e9-95be-5d1922f1c050/',\n",
       "   'uuid': 'c4e9ce7c-6620-40e9-95be-5d1922f1c050',\n",
       "   'edocs': [],\n",
       "   'tags': [],\n",
       "   'notes': [],\n",
       "   'bom_material': ['http://localhost:8000/api/bommaterial/30e78eff-9b9c-49fd-a962-d486076160f8/',\n",
       "    'http://localhost:8000/api/bommaterial/cf28973e-f9c3-4043-ac3d-1a1a0ea04694/',\n",
       "    'http://localhost:8000/api/bommaterial/3dedad03-5b47-4912-97b9-2052e11e5934/',\n",
       "    'http://localhost:8000/api/bommaterial/63dbfb7d-435c-470e-9229-d294465a2636/',\n",
       "    'http://localhost:8000/api/bommaterial/44f27922-ac0a-4650-a658-45c8e64f229c/'],\n",
       "   'description': 'Test WF1 Materials',\n",
       "   'experiment_description': 'test_wf_1',\n",
       "   'add_date': '2021-05-18T18:36:48.143650Z',\n",
       "   'mod_date': '2021-05-18T18:36:48.143650Z',\n",
       "   'experiment': 'http://localhost:8000/api/experiment/f89625e0-1836-4d35-adc3-607af320545e/',\n",
       "   'actor': 'http://localhost:8000/api/actor/660a8d22-84a7-4672-8cfc-cbf9b01d9638/',\n",
       "   'status': None}],\n",
       " 'ref_uid': 'test_wf_1',\n",
       " 'description': 'test_wf_1',\n",
       " 'owner_description': 'HC',\n",
       " 'operator_description': 'HC',\n",
       " 'lab_description': 'HC',\n",
       " 'status_description': None,\n",
       " 'add_date': '2021-05-18T18:36:48.138562Z',\n",
       " 'mod_date': '2021-05-18T18:36:48.138562Z',\n",
       " 'parent': None,\n",
       " 'owner': 'http://localhost:8000/api/actor/5f0607b3-d813-4a26-9f4d-c0b4aafcf4f2/',\n",
       " 'operator': 'http://localhost:8000/api/actor/660a8d22-84a7-4672-8cfc-cbf9b01d9638/',\n",
       " 'lab': 'http://localhost:8000/api/actor/5f0607b3-d813-4a26-9f4d-c0b4aafcf4f2/',\n",
       " 'status': None,\n",
       " 'workflow': [{'url': 'http://localhost:8000/api/workflow/ddbec8c2-3ff2-4bd4-9196-7dda87ee7dc2/',\n",
       "   'uuid': 'ddbec8c2-3ff2-4bd4-9196-7dda87ee7dc2',\n",
       "   'edocs': [],\n",
       "   'tags': [],\n",
       "   'notes': [],\n",
       "   'step': [{'url': 'http://localhost:8000/api/workflowstep/730be6c3-5ce0-401a-86f9-75b8f010e881/',\n",
       "     'uuid': '730be6c3-5ce0-401a-86f9-75b8f010e881',\n",
       "     'edocs': [],\n",
       "     'tags': [],\n",
       "     'notes': [],\n",
       "     'workflow_object': 'http://localhost:8000/api/workflowobject/8863e49e-370c-4729-bff5-81cd88e81b81/',\n",
       "     'workflow_description': 'Dispense Solvent',\n",
       "     'parent_object_type': None,\n",
       "     'parent_object_description': None,\n",
       "     'parent_path': None,\n",
       "     'conditional_val': None,\n",
       "     'conditional_value': None,\n",
       "     'status_description': None,\n",
       "     'add_date': '2021-05-18T18:36:48.384843Z',\n",
       "     'mod_date': '2021-05-18T18:36:48.384843Z',\n",
       "     'workflow': 'http://localhost:8000/api/workflow/ddbec8c2-3ff2-4bd4-9196-7dda87ee7dc2/',\n",
       "     'parent': None,\n",
       "     'status': None},\n",
       "    {'url': 'http://localhost:8000/api/workflowstep/2e9b2451-aa63-41b7-8758-2d26fb0c6db4/',\n",
       "     'uuid': '2e9b2451-aa63-41b7-8758-2d26fb0c6db4',\n",
       "     'edocs': [],\n",
       "     'tags': [],\n",
       "     'notes': [],\n",
       "     'workflow_object': 'http://localhost:8000/api/workflowobject/a4805164-17ba-43e4-a897-0c5aa2d2f06e/',\n",
       "     'workflow_description': 'Dispense Solvent',\n",
       "     'parent_object_type': 'action',\n",
       "     'parent_object_description': 'Dispense Solvent: Solvent -> Plate: Plate well#: A1',\n",
       "     'parent_path': None,\n",
       "     'conditional_val': None,\n",
       "     'conditional_value': None,\n",
       "     'status_description': None,\n",
       "     'add_date': '2021-05-18T18:36:48.384843Z',\n",
       "     'mod_date': '2021-05-18T18:36:48.384843Z',\n",
       "     'workflow': 'http://localhost:8000/api/workflow/ddbec8c2-3ff2-4bd4-9196-7dda87ee7dc2/',\n",
       "     'parent': 'http://localhost:8000/api/workflowstep/730be6c3-5ce0-401a-86f9-75b8f010e881/',\n",
       "     'status': None}],\n",
       "   'description': 'Dispense Solvent',\n",
       "   'workflow_type_description': 'template',\n",
       "   'actor_description': 'Mike Tynes',\n",
       "   'status_description': None,\n",
       "   'add_date': '2021-05-18T18:36:48.366080Z',\n",
       "   'mod_date': '2021-05-18T18:36:48.366080Z',\n",
       "   'parent': None,\n",
       "   'workflow_type': 'http://localhost:8000/api/workflowtype/e3eac6a5-d57a-4215-b655-7073b424d6cd/',\n",
       "   'actor': 'http://localhost:8000/api/actor/660a8d22-84a7-4672-8cfc-cbf9b01d9638/',\n",
       "   'status': None},\n",
       "  {'url': 'http://localhost:8000/api/workflow/d2d90b2d-12d1-4631-8250-5197cd54f846/',\n",
       "   'uuid': 'd2d90b2d-12d1-4631-8250-5197cd54f846',\n",
       "   'edocs': [],\n",
       "   'tags': [],\n",
       "   'notes': [],\n",
       "   'step': [{'url': 'http://localhost:8000/api/workflowstep/451551d5-78a0-4ddd-81d6-fa886ac5efc4/',\n",
       "     'uuid': '451551d5-78a0-4ddd-81d6-fa886ac5efc4',\n",
       "     'edocs': [],\n",
       "     'tags': [],\n",
       "     'notes': [],\n",
       "     'workflow_object': 'http://localhost:8000/api/workflowobject/2f09c817-3e53-4a83-b115-7433678b523b/',\n",
       "     'workflow_description': 'Dispense Stock A',\n",
       "     'parent_object_type': None,\n",
       "     'parent_object_description': None,\n",
       "     'parent_path': None,\n",
       "     'conditional_val': None,\n",
       "     'conditional_value': None,\n",
       "     'status_description': None,\n",
       "     'add_date': '2021-05-18T18:36:48.512311Z',\n",
       "     'mod_date': '2021-05-18T18:36:48.512311Z',\n",
       "     'workflow': 'http://localhost:8000/api/workflow/d2d90b2d-12d1-4631-8250-5197cd54f846/',\n",
       "     'parent': None,\n",
       "     'status': None},\n",
       "    {'url': 'http://localhost:8000/api/workflowstep/f92f97fa-bb6b-4633-b026-c4df32bdfcd9/',\n",
       "     'uuid': 'f92f97fa-bb6b-4633-b026-c4df32bdfcd9',\n",
       "     'edocs': [],\n",
       "     'tags': [],\n",
       "     'notes': [],\n",
       "     'workflow_object': 'http://localhost:8000/api/workflowobject/5c78bbe7-3e01-42de-9806-ebeac6bfd45c/',\n",
       "     'workflow_description': 'Dispense Stock A',\n",
       "     'parent_object_type': 'action',\n",
       "     'parent_object_description': 'Dispense Stock A: Stock A -> Plate: Plate well#: A1',\n",
       "     'parent_path': None,\n",
       "     'conditional_val': None,\n",
       "     'conditional_value': None,\n",
       "     'status_description': None,\n",
       "     'add_date': '2021-05-18T18:36:48.512311Z',\n",
       "     'mod_date': '2021-05-18T18:36:48.512311Z',\n",
       "     'workflow': 'http://localhost:8000/api/workflow/d2d90b2d-12d1-4631-8250-5197cd54f846/',\n",
       "     'parent': 'http://localhost:8000/api/workflowstep/451551d5-78a0-4ddd-81d6-fa886ac5efc4/',\n",
       "     'status': None}],\n",
       "   'description': 'Dispense Stock A',\n",
       "   'workflow_type_description': 'template',\n",
       "   'actor_description': 'Mike Tynes',\n",
       "   'status_description': None,\n",
       "   'add_date': '2021-05-18T18:36:48.366080Z',\n",
       "   'mod_date': '2021-05-18T18:36:48.366080Z',\n",
       "   'parent': None,\n",
       "   'workflow_type': 'http://localhost:8000/api/workflowtype/e3eac6a5-d57a-4215-b655-7073b424d6cd/',\n",
       "   'actor': 'http://localhost:8000/api/actor/660a8d22-84a7-4672-8cfc-cbf9b01d9638/',\n",
       "   'status': None},\n",
       "  {'url': 'http://localhost:8000/api/workflow/7189cafd-4b21-4d9d-bf6c-ffed96d565d8/',\n",
       "   'uuid': '7189cafd-4b21-4d9d-bf6c-ffed96d565d8',\n",
       "   'edocs': [],\n",
       "   'tags': [],\n",
       "   'notes': [],\n",
       "   'step': [{'url': 'http://localhost:8000/api/workflowstep/68e1d70b-fdb3-4ade-8069-d81f29fdb5a4/',\n",
       "     'uuid': '68e1d70b-fdb3-4ade-8069-d81f29fdb5a4',\n",
       "     'edocs': [],\n",
       "     'tags': [],\n",
       "     'notes': [],\n",
       "     'workflow_object': 'http://localhost:8000/api/workflowobject/a21c60eb-c13e-45ec-9869-43698b928d21/',\n",
       "     'workflow_description': 'Dispense Stock B',\n",
       "     'parent_object_type': None,\n",
       "     'parent_object_description': None,\n",
       "     'parent_path': None,\n",
       "     'conditional_val': None,\n",
       "     'conditional_value': None,\n",
       "     'status_description': None,\n",
       "     'add_date': '2021-05-18T18:36:48.622288Z',\n",
       "     'mod_date': '2021-05-18T18:36:48.622288Z',\n",
       "     'workflow': 'http://localhost:8000/api/workflow/7189cafd-4b21-4d9d-bf6c-ffed96d565d8/',\n",
       "     'parent': None,\n",
       "     'status': None},\n",
       "    {'url': 'http://localhost:8000/api/workflowstep/1f48ef64-7a97-4d1b-a917-bec95314d09f/',\n",
       "     'uuid': '1f48ef64-7a97-4d1b-a917-bec95314d09f',\n",
       "     'edocs': [],\n",
       "     'tags': [],\n",
       "     'notes': [],\n",
       "     'workflow_object': 'http://localhost:8000/api/workflowobject/ae52d849-c1a1-4f7d-a103-d30c5f4df9b3/',\n",
       "     'workflow_description': 'Dispense Stock B',\n",
       "     'parent_object_type': 'action',\n",
       "     'parent_object_description': 'Dispense Stock B: Stock B -> Plate: Plate well#: A1',\n",
       "     'parent_path': None,\n",
       "     'conditional_val': None,\n",
       "     'conditional_value': None,\n",
       "     'status_description': None,\n",
       "     'add_date': '2021-05-18T18:36:48.622288Z',\n",
       "     'mod_date': '2021-05-18T18:36:48.622288Z',\n",
       "     'workflow': 'http://localhost:8000/api/workflow/7189cafd-4b21-4d9d-bf6c-ffed96d565d8/',\n",
       "     'parent': 'http://localhost:8000/api/workflowstep/68e1d70b-fdb3-4ade-8069-d81f29fdb5a4/',\n",
       "     'status': None}],\n",
       "   'description': 'Dispense Stock B',\n",
       "   'workflow_type_description': 'template',\n",
       "   'actor_description': 'Mike Tynes',\n",
       "   'status_description': None,\n",
       "   'add_date': '2021-05-18T18:36:48.366080Z',\n",
       "   'mod_date': '2021-05-18T18:36:48.366080Z',\n",
       "   'parent': None,\n",
       "   'workflow_type': 'http://localhost:8000/api/workflowtype/e3eac6a5-d57a-4215-b655-7073b424d6cd/',\n",
       "   'actor': 'http://localhost:8000/api/actor/660a8d22-84a7-4672-8cfc-cbf9b01d9638/',\n",
       "   'status': None},\n",
       "  {'url': 'http://localhost:8000/api/workflow/2aff6c8f-5ee6-456b-9933-b0a960ad49a1/',\n",
       "   'uuid': '2aff6c8f-5ee6-456b-9933-b0a960ad49a1',\n",
       "   'edocs': [],\n",
       "   'tags': [],\n",
       "   'notes': [],\n",
       "   'step': [{'url': 'http://localhost:8000/api/workflowstep/eb36c5f4-0742-4820-b155-5f6afdc6f7bc/',\n",
       "     'uuid': 'eb36c5f4-0742-4820-b155-5f6afdc6f7bc',\n",
       "     'edocs': [],\n",
       "     'tags': [],\n",
       "     'notes': [],\n",
       "     'workflow_object': 'http://localhost:8000/api/workflowobject/ec8a5422-7d5f-466c-9fa6-2d8672b3787f/',\n",
       "     'workflow_description': 'Dispense Acid Vol 1',\n",
       "     'parent_object_type': None,\n",
       "     'parent_object_description': None,\n",
       "     'parent_path': None,\n",
       "     'conditional_val': None,\n",
       "     'conditional_value': None,\n",
       "     'status_description': None,\n",
       "     'add_date': '2021-05-18T18:36:48.732541Z',\n",
       "     'mod_date': '2021-05-18T18:36:48.732541Z',\n",
       "     'workflow': 'http://localhost:8000/api/workflow/2aff6c8f-5ee6-456b-9933-b0a960ad49a1/',\n",
       "     'parent': None,\n",
       "     'status': None},\n",
       "    {'url': 'http://localhost:8000/api/workflowstep/7032aeb3-fc60-4139-a173-f6238d70ff36/',\n",
       "     'uuid': '7032aeb3-fc60-4139-a173-f6238d70ff36',\n",
       "     'edocs': [],\n",
       "     'tags': [],\n",
       "     'notes': [],\n",
       "     'workflow_object': 'http://localhost:8000/api/workflowobject/5ad45e63-3b43-43cf-b5ef-8f1baeeebfbc/',\n",
       "     'workflow_description': 'Dispense Acid Vol 1',\n",
       "     'parent_object_type': 'action',\n",
       "     'parent_object_description': 'Dispense Acid Vol 1: Acid -> Plate: Plate well#: A1',\n",
       "     'parent_path': None,\n",
       "     'conditional_val': None,\n",
       "     'conditional_value': None,\n",
       "     'status_description': None,\n",
       "     'add_date': '2021-05-18T18:36:48.732541Z',\n",
       "     'mod_date': '2021-05-18T18:36:48.732541Z',\n",
       "     'workflow': 'http://localhost:8000/api/workflow/2aff6c8f-5ee6-456b-9933-b0a960ad49a1/',\n",
       "     'parent': 'http://localhost:8000/api/workflowstep/eb36c5f4-0742-4820-b155-5f6afdc6f7bc/',\n",
       "     'status': None}],\n",
       "   'description': 'Dispense Acid Vol 1',\n",
       "   'workflow_type_description': 'template',\n",
       "   'actor_description': 'Mike Tynes',\n",
       "   'status_description': None,\n",
       "   'add_date': '2021-05-18T18:36:48.366080Z',\n",
       "   'mod_date': '2021-05-18T18:36:48.366080Z',\n",
       "   'parent': None,\n",
       "   'workflow_type': 'http://localhost:8000/api/workflowtype/e3eac6a5-d57a-4215-b655-7073b424d6cd/',\n",
       "   'actor': 'http://localhost:8000/api/actor/660a8d22-84a7-4672-8cfc-cbf9b01d9638/',\n",
       "   'status': None},\n",
       "  {'url': 'http://localhost:8000/api/workflow/30bbf4bd-6fab-4477-9234-348b3455781d/',\n",
       "   'uuid': '30bbf4bd-6fab-4477-9234-348b3455781d',\n",
       "   'edocs': [],\n",
       "   'tags': [],\n",
       "   'notes': [],\n",
       "   'step': [{'url': 'http://localhost:8000/api/workflowstep/d2782bad-5e53-479a-8432-6b41f7b95383/',\n",
       "     'uuid': 'd2782bad-5e53-479a-8432-6b41f7b95383',\n",
       "     'edocs': [],\n",
       "     'tags': [],\n",
       "     'notes': [],\n",
       "     'workflow_object': 'http://localhost:8000/api/workflowobject/a99a7a1b-d5da-4263-881b-29f3be3d2239/',\n",
       "     'workflow_description': 'Dispense Acid Vol 2',\n",
       "     'parent_object_type': None,\n",
       "     'parent_object_description': None,\n",
       "     'parent_path': None,\n",
       "     'conditional_val': None,\n",
       "     'conditional_value': None,\n",
       "     'status_description': None,\n",
       "     'add_date': '2021-05-18T18:36:48.812418Z',\n",
       "     'mod_date': '2021-05-18T18:36:48.812418Z',\n",
       "     'workflow': 'http://localhost:8000/api/workflow/30bbf4bd-6fab-4477-9234-348b3455781d/',\n",
       "     'parent': None,\n",
       "     'status': None},\n",
       "    {'url': 'http://localhost:8000/api/workflowstep/b5af1226-e7ee-483d-88c2-6a3309177017/',\n",
       "     'uuid': 'b5af1226-e7ee-483d-88c2-6a3309177017',\n",
       "     'edocs': [],\n",
       "     'tags': [],\n",
       "     'notes': [],\n",
       "     'workflow_object': 'http://localhost:8000/api/workflowobject/e5ad0e4e-9926-40b4-a09c-4874fbad473f/',\n",
       "     'workflow_description': 'Dispense Acid Vol 2',\n",
       "     'parent_object_type': 'action',\n",
       "     'parent_object_description': 'Dispense Acid Vol 2: Acid -> Plate: Plate well#: A1',\n",
       "     'parent_path': None,\n",
       "     'conditional_val': None,\n",
       "     'conditional_value': None,\n",
       "     'status_description': None,\n",
       "     'add_date': '2021-05-18T18:36:48.812418Z',\n",
       "     'mod_date': '2021-05-18T18:36:48.812418Z',\n",
       "     'workflow': 'http://localhost:8000/api/workflow/30bbf4bd-6fab-4477-9234-348b3455781d/',\n",
       "     'parent': 'http://localhost:8000/api/workflowstep/d2782bad-5e53-479a-8432-6b41f7b95383/',\n",
       "     'status': None}],\n",
       "   'description': 'Dispense Acid Vol 2',\n",
       "   'workflow_type_description': 'template',\n",
       "   'actor_description': 'Mike Tynes',\n",
       "   'status_description': None,\n",
       "   'add_date': '2021-05-18T18:36:48.366080Z',\n",
       "   'mod_date': '2021-05-18T18:36:48.366080Z',\n",
       "   'parent': None,\n",
       "   'workflow_type': 'http://localhost:8000/api/workflowtype/e3eac6a5-d57a-4215-b655-7073b424d6cd/',\n",
       "   'actor': 'http://localhost:8000/api/actor/660a8d22-84a7-4672-8cfc-cbf9b01d9638/',\n",
       "   'status': None}]}"
      ]
     },
     "execution_count": 23,
     "metadata": {},
     "output_type": "execute_result"
    }
   ],
   "source": [
    "perovskite_template"
   ]
  },
  {
   "cell_type": "code",
   "execution_count": null,
   "id": "0d47ad69-d4be-4bc3-be3b-ce7a01e27396",
   "metadata": {},
   "outputs": [],
   "source": []
  },
  {
   "cell_type": "markdown",
   "id": "confidential-eleven",
   "metadata": {},
   "source": [
    "## Bill of Materials\n",
    "\n",
    "The initial materials: think list of materials in methods section of paper"
   ]
  },
  {
   "cell_type": "markdown",
   "id": "585320b0-c1d5-4fc1-9ae7-1a840d90e5bb",
   "metadata": {},
   "source": [
    "These are the Bill of Materials' Material entries for this experiment: "
   ]
  },
  {
   "cell_type": "code",
   "execution_count": 24,
   "id": "73f3cdb1-b5c4-45f6-a01f-aedcecd5db27",
   "metadata": {
    "tags": []
   },
   "outputs": [
    {
     "name": "stdout",
     "output_type": "stream",
     "text": [
      "<Response [200]>\n",
      "GET: OK\n",
      "Found 5 resources, returning list of dicts)\n"
     ]
    },
    {
     "data": {
      "text/plain": [
       "[{'description': 'Plate'},\n",
       " {'description': 'Stock A'},\n",
       " {'description': 'Stock B'},\n",
       " {'description': 'Acid'},\n",
       " {'description': 'Solvent'}]"
      ]
     },
     "execution_count": 24,
     "metadata": {},
     "output_type": "execute_result"
    }
   ],
   "source": [
    "get_data('bommaterial', {'bom':perovskite_template['bill_of_materials'][0]['uuid'], \n",
    "                        'fields':['description']})"
   ]
  },
  {
   "cell_type": "code",
   "execution_count": 25,
   "id": "093e61c6-e9e4-46d2-bb71-5830f7a86000",
   "metadata": {
    "tags": []
   },
   "outputs": [
    {
     "name": "stdout",
     "output_type": "stream",
     "text": [
      "<Response [200]>\n",
      "GET: OK\n",
      "Found 7 resources, returning list of dicts)\n"
     ]
    },
    {
     "data": {
      "text/plain": [
       "[{'composite_description': 'Stock A',\n",
       "  'component_description': 'Lead Diiodide'},\n",
       " {'composite_description': 'Stock A',\n",
       "  'component_description': 'Ethylammonium Iodide'},\n",
       " {'composite_description': 'Stock A',\n",
       "  'component_description': 'Gamma-Butyrolactone'},\n",
       " {'composite_description': 'Stock B',\n",
       "  'component_description': 'Ethylammonium Iodide'},\n",
       " {'composite_description': 'Stock B',\n",
       "  'component_description': 'Gamma-Butyrolactone'},\n",
       " {'composite_description': 'Stock FAH',\n",
       "  'component_description': 'Formic Acid'},\n",
       " {'composite_description': 'Stock FAH', 'component_description': 'Water'}]"
      ]
     },
     "execution_count": 25,
     "metadata": {},
     "output_type": "execute_result"
    }
   ],
   "source": [
    "get_data('compositematerial', {'composite_description__startswith':'Stock', \n",
    "                               'fields': ['composite_description',\n",
    "                                          'component_description']})"
   ]
  },
  {
   "cell_type": "markdown",
   "id": "2223fcc0-bb8b-4cd8-a7ec-7007435e2c42",
   "metadata": {},
   "source": [
    "#### We could drill further to get the concentrations, properties, etc"
   ]
  },
  {
   "cell_type": "markdown",
   "id": "reported-rating",
   "metadata": {},
   "source": [
    "### Workflows: Logical groups of actions"
   ]
  },
  {
   "cell_type": "markdown",
   "id": "23650bd5-79e4-490b-b9f9-ef7d5900a1d4",
   "metadata": {},
   "source": [
    "Each of these contains a set of parameters that we can edit"
   ]
  },
  {
   "cell_type": "code",
   "execution_count": 26,
   "id": "6239a623-b119-4a43-991e-1835940633f6",
   "metadata": {},
   "outputs": [
    {
     "name": "stdout",
     "output_type": "stream",
     "text": [
      "<Response [200]>\n",
      "GET: OK\n",
      "Found one resource, returning dict\n"
     ]
    },
    {
     "data": {
      "text/plain": [
       "['Perovskite Demo: Preheat Plate',\n",
       " 'Perovskite Demo: Prepare Stock A',\n",
       " 'Perovskite Demo: Prepare Stock B',\n",
       " 'Perovskite Demo: Dispense Solvent',\n",
       " 'Perovskite Demo: Dispense Stock A',\n",
       " 'Perovskite Demo: Dispense Stock B',\n",
       " 'Perovskite Demo: Dispense Acid Vol 1',\n",
       " 'Perovskite Demo: Heat Stir 1',\n",
       " 'Perovskite Demo: Dispense Acid Vol 2',\n",
       " 'Perovskite Demo: Heat Stir 2',\n",
       " 'Perovskite Demo: Heat']"
      ]
     },
     "execution_count": 26,
     "metadata": {},
     "output_type": "execute_result"
    }
   ],
   "source": [
    "perovskite_demo = get_data('experimenttemplate',\n",
    "         {'description': 'perovskite_demo',\n",
    "          'expand': 'workflow'})\n",
    "[wf['description'] for wf in perovskite_demo['workflow']]"
   ]
  },
  {
   "cell_type": "code",
   "execution_count": 27,
   "id": "3fedc754-c9d2-4789-8d90-98a20cec2a9a",
   "metadata": {},
   "outputs": [
    {
     "data": {
      "text/plain": [
       "{'url': 'http://localhost:8000/api/workflowstep/9324dbb0-e061-4cf7-ac8b-d8f6c3d3c70a/',\n",
       " 'uuid': '9324dbb0-e061-4cf7-ac8b-d8f6c3d3c70a',\n",
       " 'edocs': [],\n",
       " 'tags': [],\n",
       " 'notes': [],\n",
       " 'workflow_object': 'http://localhost:8000/api/workflowobject/a97837c5-02cb-4552-8127-c5224f57f481/',\n",
       " 'workflow_description': 'Perovskite Demo: Dispense Solvent',\n",
       " 'parent_object_type': 'action',\n",
       " 'parent_object_description': 'Perovskite Demo: Dispense Solvent: Solvent -> Plate: 96 Well Plate well#: A4',\n",
       " 'parent_path': None,\n",
       " 'conditional_val': None,\n",
       " 'conditional_value': None,\n",
       " 'status_description': None,\n",
       " 'add_date': '2021-05-18T18:36:50.323131Z',\n",
       " 'mod_date': '2021-05-18T18:36:50.323131Z',\n",
       " 'workflow': 'http://localhost:8000/api/workflow/ad1d32a9-e49e-4e45-b927-3446ca1329ef/',\n",
       " 'parent': 'http://localhost:8000/api/workflowstep/75006f77-bfcb-45b8-9b27-81b41dea9c78/',\n",
       " 'status': None}"
      ]
     },
     "execution_count": 27,
     "metadata": {},
     "output_type": "execute_result"
    }
   ],
   "source": [
    "dispense_solvent_wf = perovskite_demo['workflow'][3] # pull out a workflow\n",
    "example_steps = dispense_solvent_wf['step'][4]     # pull out some steps\n",
    "example_steps"
   ]
  },
  {
   "cell_type": "code",
   "execution_count": null,
   "id": "2b650cab-6b7e-4be6-b88d-30374968c9a5",
   "metadata": {},
   "outputs": [],
   "source": []
  },
  {
   "cell_type": "markdown",
   "id": "4d767ea5-ae79-4182-8838-ccdc0dc93783",
   "metadata": {},
   "source": [
    "## Creating a new workflow from a template\n",
    "\n",
    "If I want create an instance experiment from a template I: "
   ]
  },
  {
   "cell_type": "code",
   "execution_count": 28,
   "id": "b3a34151-e92e-4c9f-bc4d-08f3c335fa93",
   "metadata": {
    "tags": []
   },
   "outputs": [
    {
     "name": "stdout",
     "output_type": "stream",
     "text": [
      "<Response [200]>\n",
      "GET: OK\n"
     ]
    }
   ],
   "source": [
    "editable_template = get_data(\n",
    "    # template endpoint  /        template ID      / create an instance of this template \n",
    "    f'experimenttemplate/{perovskite_demo[\"uuid\"]}/create'\n",
    ")"
   ]
  },
  {
   "cell_type": "code",
   "execution_count": 29,
   "id": "bd7b5c1e-76d7-416b-a143-19aaa5b46bc2",
   "metadata": {
    "scrolled": true,
    "tags": []
   },
   "outputs": [
    {
     "data": {
      "text/plain": [
       "{'experiment_name': '',\n",
       " 'material_parameters': [{'material_name': 'Neat GBL',\n",
       "   'value': 'http://localhost:8000/api/inventorymaterial/afff158e-6875-4dfb-a265-d89579d4752b/'},\n",
       "  {'material_name': 'Lead Diiodide',\n",
       "   'value': 'http://localhost:8000/api/inventorymaterial/6a2d3dc2-ada4-4864-b54c-74863782ce08/'},\n",
       "  {'material_name': 'Ethylammonium Iodide',\n",
       "   'value': 'http://localhost:8000/api/inventorymaterial/d0951677-ab50-4728-bd53-532e01c27c05/'},\n",
       "  {'material_name': 'Plate: 96 Well',\n",
       "   'value': 'http://localhost:8000/api/inventorymaterial/98afab9d-2091-45f3-8067-b3d2f2a8e2af/'},\n",
       "  {'material_name': 'Stock FAH',\n",
       "   'value': 'http://localhost:8000/api/inventorymaterial/e5e47800-96df-4f18-af04-99814faab4ac/'},\n",
       "  {'material_name': 'Tube: 5mL',\n",
       "   'value': 'http://localhost:8000/api/inventorymaterial/d47fae6f-485d-4d4d-a985-d3c81cba78ea/'},\n",
       "  {'material_name': 'Tube: 5mL',\n",
       "   'value': 'http://localhost:8000/api/inventorymaterial/d47fae6f-485d-4d4d-a985-d3c81cba78ea/'}],\n",
       " 'experiment_parameters_1': [{'object_description': 'Perovskite Demo: Add Solvent to Stock B',\n",
       "   'parameter_def_description': 'volume',\n",
       "   'value': {'value': 0.0, 'unit': 'mL', 'type': 'num'}},\n",
       "  {'object_description': 'Perovskite Demo: Add Organic to Stock B',\n",
       "   'parameter_def_description': 'mass',\n",
       "   'value': {'value': 0.0, 'unit': 'mg', 'type': 'num'}},\n",
       "  {'object_description': 'Perovskite Demo: Add Solvent to Stock A',\n",
       "   'parameter_def_description': 'volume',\n",
       "   'value': {'value': 0.0, 'unit': 'mL', 'type': 'num'}},\n",
       "  {'object_description': 'Perovskite Demo: Add Organic to Stock A',\n",
       "   'parameter_def_description': 'mass',\n",
       "   'value': {'value': 0.0, 'unit': 'mg', 'type': 'num'}},\n",
       "  {'object_description': 'Perovskite Demo: Add Inorganic to Stock A',\n",
       "   'parameter_def_description': 'mass',\n",
       "   'value': {'value': 0.0, 'unit': 'mg', 'type': 'num'}},\n",
       "  {'object_description': 'Perovskite Demo: Heat',\n",
       "   'parameter_def_description': 'duration',\n",
       "   'value': {'value': 0.0, 'unit': 'mins', 'type': 'num'}},\n",
       "  {'object_description': 'Perovskite Demo: Heat',\n",
       "   'parameter_def_description': 'temperature',\n",
       "   'value': {'value': 0.0, 'unit': 'degC', 'type': 'num'}},\n",
       "  {'object_description': 'Perovskite Demo: Preheat Plate',\n",
       "   'parameter_def_description': 'temperature',\n",
       "   'value': {'value': 0.0, 'unit': 'degC', 'type': 'num'}},\n",
       "  {'object_description': 'Perovskite Demo: Heat Stir 1',\n",
       "   'parameter_def_description': 'duration',\n",
       "   'value': {'value': 0.0, 'unit': 'mins', 'type': 'num'}},\n",
       "  {'object_description': 'Perovskite Demo: Heat Stir 1',\n",
       "   'parameter_def_description': 'temperature',\n",
       "   'value': {'value': 0.0, 'unit': 'degC', 'type': 'num'}},\n",
       "  {'object_description': 'Perovskite Demo: Heat Stir 1',\n",
       "   'parameter_def_description': 'speed',\n",
       "   'value': {'value': 0.0, 'unit': 'rpm', 'type': 'num'}},\n",
       "  {'object_description': 'Perovskite Demo: Heat Stir 2',\n",
       "   'parameter_def_description': 'duration',\n",
       "   'value': {'value': 0.0, 'unit': 'mins', 'type': 'num'}},\n",
       "  {'object_description': 'Perovskite Demo: Heat Stir 2',\n",
       "   'parameter_def_description': 'temperature',\n",
       "   'value': {'value': 0.0, 'unit': 'degC', 'type': 'num'}},\n",
       "  {'object_description': 'Perovskite Demo: Heat Stir 2',\n",
       "   'parameter_def_description': 'speed',\n",
       "   'value': {'value': 0.0, 'unit': 'rpm', 'type': 'num'}}],\n",
       " 'experiment_parameters_2': [],\n",
       " 'experiment_parameters_3': [{'object_description': 'Perovskite Demo: Dispense Solvent',\n",
       "   'parameter_def_description': 'Sample Solvent Volume',\n",
       "   'value': {'value': [0,\n",
       "     0,\n",
       "     0,\n",
       "     0,\n",
       "     0,\n",
       "     0,\n",
       "     0,\n",
       "     0,\n",
       "     0,\n",
       "     0,\n",
       "     0,\n",
       "     0,\n",
       "     0,\n",
       "     0,\n",
       "     0,\n",
       "     0,\n",
       "     0,\n",
       "     0,\n",
       "     0,\n",
       "     0,\n",
       "     0,\n",
       "     0,\n",
       "     0,\n",
       "     0,\n",
       "     0,\n",
       "     0,\n",
       "     0,\n",
       "     0,\n",
       "     0,\n",
       "     0,\n",
       "     0,\n",
       "     0,\n",
       "     0,\n",
       "     0,\n",
       "     0,\n",
       "     0,\n",
       "     0,\n",
       "     0,\n",
       "     0,\n",
       "     0,\n",
       "     0,\n",
       "     0,\n",
       "     0,\n",
       "     0,\n",
       "     0,\n",
       "     0,\n",
       "     0,\n",
       "     0,\n",
       "     0,\n",
       "     0,\n",
       "     0,\n",
       "     0,\n",
       "     0,\n",
       "     0,\n",
       "     0,\n",
       "     0,\n",
       "     0,\n",
       "     0,\n",
       "     0,\n",
       "     0,\n",
       "     0,\n",
       "     0,\n",
       "     0,\n",
       "     0,\n",
       "     0,\n",
       "     0,\n",
       "     0,\n",
       "     0,\n",
       "     0,\n",
       "     0,\n",
       "     0,\n",
       "     0,\n",
       "     0,\n",
       "     0,\n",
       "     0,\n",
       "     0,\n",
       "     0,\n",
       "     0,\n",
       "     0,\n",
       "     0,\n",
       "     0,\n",
       "     0,\n",
       "     0,\n",
       "     0,\n",
       "     0,\n",
       "     0,\n",
       "     0,\n",
       "     0,\n",
       "     0,\n",
       "     0,\n",
       "     0,\n",
       "     0,\n",
       "     0,\n",
       "     0,\n",
       "     0,\n",
       "     0],\n",
       "    'unit': 'mL',\n",
       "    'type': 'array_num'}},\n",
       "  {'object_description': 'Dispense Acid Vol 1',\n",
       "   'parameter_def_description': 'Sample Acid Volume 1',\n",
       "   'value': {'value': [0,\n",
       "     0,\n",
       "     0,\n",
       "     0,\n",
       "     0,\n",
       "     0,\n",
       "     0,\n",
       "     0,\n",
       "     0,\n",
       "     0,\n",
       "     0,\n",
       "     0,\n",
       "     0,\n",
       "     0,\n",
       "     0,\n",
       "     0,\n",
       "     0,\n",
       "     0,\n",
       "     0,\n",
       "     0,\n",
       "     0,\n",
       "     0,\n",
       "     0,\n",
       "     0,\n",
       "     0,\n",
       "     0,\n",
       "     0,\n",
       "     0,\n",
       "     0,\n",
       "     0,\n",
       "     0,\n",
       "     0,\n",
       "     0,\n",
       "     0,\n",
       "     0,\n",
       "     0,\n",
       "     0,\n",
       "     0,\n",
       "     0,\n",
       "     0,\n",
       "     0,\n",
       "     0,\n",
       "     0,\n",
       "     0,\n",
       "     0,\n",
       "     0,\n",
       "     0,\n",
       "     0,\n",
       "     0,\n",
       "     0,\n",
       "     0,\n",
       "     0,\n",
       "     0,\n",
       "     0,\n",
       "     0,\n",
       "     0,\n",
       "     0,\n",
       "     0,\n",
       "     0,\n",
       "     0,\n",
       "     0,\n",
       "     0,\n",
       "     0,\n",
       "     0,\n",
       "     0,\n",
       "     0,\n",
       "     0,\n",
       "     0,\n",
       "     0,\n",
       "     0,\n",
       "     0,\n",
       "     0,\n",
       "     0,\n",
       "     0,\n",
       "     0,\n",
       "     0,\n",
       "     0,\n",
       "     0,\n",
       "     0,\n",
       "     0,\n",
       "     0,\n",
       "     0,\n",
       "     0,\n",
       "     0,\n",
       "     0,\n",
       "     0,\n",
       "     0,\n",
       "     0,\n",
       "     0,\n",
       "     0,\n",
       "     0,\n",
       "     0,\n",
       "     0,\n",
       "     0,\n",
       "     0,\n",
       "     0],\n",
       "    'unit': 'mL',\n",
       "    'type': 'array_num'}},\n",
       "  {'object_description': 'Dispense Acid Vol 2',\n",
       "   'parameter_def_description': 'Sample Acid Volume 2',\n",
       "   'value': {'value': [0,\n",
       "     0,\n",
       "     0,\n",
       "     0,\n",
       "     0,\n",
       "     0,\n",
       "     0,\n",
       "     0,\n",
       "     0,\n",
       "     0,\n",
       "     0,\n",
       "     0,\n",
       "     0,\n",
       "     0,\n",
       "     0,\n",
       "     0,\n",
       "     0,\n",
       "     0,\n",
       "     0,\n",
       "     0,\n",
       "     0,\n",
       "     0,\n",
       "     0,\n",
       "     0,\n",
       "     0,\n",
       "     0,\n",
       "     0,\n",
       "     0,\n",
       "     0,\n",
       "     0,\n",
       "     0,\n",
       "     0,\n",
       "     0,\n",
       "     0,\n",
       "     0,\n",
       "     0,\n",
       "     0,\n",
       "     0,\n",
       "     0,\n",
       "     0,\n",
       "     0,\n",
       "     0,\n",
       "     0,\n",
       "     0,\n",
       "     0,\n",
       "     0,\n",
       "     0,\n",
       "     0,\n",
       "     0,\n",
       "     0,\n",
       "     0,\n",
       "     0,\n",
       "     0,\n",
       "     0,\n",
       "     0,\n",
       "     0,\n",
       "     0,\n",
       "     0,\n",
       "     0,\n",
       "     0,\n",
       "     0,\n",
       "     0,\n",
       "     0,\n",
       "     0,\n",
       "     0,\n",
       "     0,\n",
       "     0,\n",
       "     0,\n",
       "     0,\n",
       "     0,\n",
       "     0,\n",
       "     0,\n",
       "     0,\n",
       "     0,\n",
       "     0,\n",
       "     0,\n",
       "     0,\n",
       "     0,\n",
       "     0,\n",
       "     0,\n",
       "     0,\n",
       "     0,\n",
       "     0,\n",
       "     0,\n",
       "     0,\n",
       "     0,\n",
       "     0,\n",
       "     0,\n",
       "     0,\n",
       "     0,\n",
       "     0,\n",
       "     0,\n",
       "     0,\n",
       "     0,\n",
       "     0,\n",
       "     0],\n",
       "    'unit': 'mL',\n",
       "    'type': 'array_num'}},\n",
       "  {'object_description': 'Dispense Stock B',\n",
       "   'parameter_def_description': 'Sample Stock B Volume',\n",
       "   'value': {'value': [0,\n",
       "     0,\n",
       "     0,\n",
       "     0,\n",
       "     0,\n",
       "     0,\n",
       "     0,\n",
       "     0,\n",
       "     0,\n",
       "     0,\n",
       "     0,\n",
       "     0,\n",
       "     0,\n",
       "     0,\n",
       "     0,\n",
       "     0,\n",
       "     0,\n",
       "     0,\n",
       "     0,\n",
       "     0,\n",
       "     0,\n",
       "     0,\n",
       "     0,\n",
       "     0,\n",
       "     0,\n",
       "     0,\n",
       "     0,\n",
       "     0,\n",
       "     0,\n",
       "     0,\n",
       "     0,\n",
       "     0,\n",
       "     0,\n",
       "     0,\n",
       "     0,\n",
       "     0,\n",
       "     0,\n",
       "     0,\n",
       "     0,\n",
       "     0,\n",
       "     0,\n",
       "     0,\n",
       "     0,\n",
       "     0,\n",
       "     0,\n",
       "     0,\n",
       "     0,\n",
       "     0,\n",
       "     0,\n",
       "     0,\n",
       "     0,\n",
       "     0,\n",
       "     0,\n",
       "     0,\n",
       "     0,\n",
       "     0,\n",
       "     0,\n",
       "     0,\n",
       "     0,\n",
       "     0,\n",
       "     0,\n",
       "     0,\n",
       "     0,\n",
       "     0,\n",
       "     0,\n",
       "     0,\n",
       "     0,\n",
       "     0,\n",
       "     0,\n",
       "     0,\n",
       "     0,\n",
       "     0,\n",
       "     0,\n",
       "     0,\n",
       "     0,\n",
       "     0,\n",
       "     0,\n",
       "     0,\n",
       "     0,\n",
       "     0,\n",
       "     0,\n",
       "     0,\n",
       "     0,\n",
       "     0,\n",
       "     0,\n",
       "     0,\n",
       "     0,\n",
       "     0,\n",
       "     0,\n",
       "     0,\n",
       "     0,\n",
       "     0,\n",
       "     0,\n",
       "     0,\n",
       "     0,\n",
       "     0],\n",
       "    'unit': 'mL',\n",
       "    'type': 'array_num'}},\n",
       "  {'object_description': 'Dispense Stock A',\n",
       "   'parameter_def_description': 'Sample Stock A Volume',\n",
       "   'value': {'value': [0,\n",
       "     0,\n",
       "     0,\n",
       "     0,\n",
       "     0,\n",
       "     0,\n",
       "     0,\n",
       "     0,\n",
       "     0,\n",
       "     0,\n",
       "     0,\n",
       "     0,\n",
       "     0,\n",
       "     0,\n",
       "     0,\n",
       "     0,\n",
       "     0,\n",
       "     0,\n",
       "     0,\n",
       "     0,\n",
       "     0,\n",
       "     0,\n",
       "     0,\n",
       "     0,\n",
       "     0,\n",
       "     0,\n",
       "     0,\n",
       "     0,\n",
       "     0,\n",
       "     0,\n",
       "     0,\n",
       "     0,\n",
       "     0,\n",
       "     0,\n",
       "     0,\n",
       "     0,\n",
       "     0,\n",
       "     0,\n",
       "     0,\n",
       "     0,\n",
       "     0,\n",
       "     0,\n",
       "     0,\n",
       "     0,\n",
       "     0,\n",
       "     0,\n",
       "     0,\n",
       "     0,\n",
       "     0,\n",
       "     0,\n",
       "     0,\n",
       "     0,\n",
       "     0,\n",
       "     0,\n",
       "     0,\n",
       "     0,\n",
       "     0,\n",
       "     0,\n",
       "     0,\n",
       "     0,\n",
       "     0,\n",
       "     0,\n",
       "     0,\n",
       "     0,\n",
       "     0,\n",
       "     0,\n",
       "     0,\n",
       "     0,\n",
       "     0,\n",
       "     0,\n",
       "     0,\n",
       "     0,\n",
       "     0,\n",
       "     0,\n",
       "     0,\n",
       "     0,\n",
       "     0,\n",
       "     0,\n",
       "     0,\n",
       "     0,\n",
       "     0,\n",
       "     0,\n",
       "     0,\n",
       "     0,\n",
       "     0,\n",
       "     0,\n",
       "     0,\n",
       "     0,\n",
       "     0,\n",
       "     0,\n",
       "     0,\n",
       "     0,\n",
       "     0,\n",
       "     0,\n",
       "     0,\n",
       "     0],\n",
       "    'unit': 'mL',\n",
       "    'type': 'array_num'}}]}"
      ]
     },
     "execution_count": 29,
     "metadata": {},
     "output_type": "execute_result"
    }
   ],
   "source": [
    "editable_template"
   ]
  },
  {
   "cell_type": "code",
   "execution_count": 30,
   "id": "16722a59-81ce-4ce5-ae39-fe391540fcb6",
   "metadata": {},
   "outputs": [],
   "source": [
    "editable_template['experiment_name'] = 'test_perovskite_instance_updated'"
   ]
  },
  {
   "cell_type": "markdown",
   "id": "d392ae87-1ee2-4993-a5e5-b2611d8938aa",
   "metadata": {},
   "source": [
    "Suppose I edit this json then I can post the new template to the server"
   ]
  },
  {
   "cell_type": "code",
   "execution_count": 31,
   "id": "6e2ea0af-65d6-47cd-be0b-36917da05046",
   "metadata": {
    "tags": []
   },
   "outputs": [
    {
     "name": "stdout",
     "output_type": "stream",
     "text": [
      "<Response [200]>\n",
      "POST: OK, returning new resource dict\n",
      "CPU times: user 3.29 ms, sys: 2.3 ms, total: 5.59 ms\n",
      "Wall time: 4.56 s\n"
     ]
    }
   ],
   "source": [
    "%%time\n",
    "resp = post_data(\n",
    "    f'experimenttemplate/{perovskite_demo[\"uuid\"]}/create',\n",
    "    editable_template\n",
    ")"
   ]
  },
  {
   "cell_type": "code",
   "execution_count": 32,
   "id": "611fb506-2631-4fcc-adef-58ebbfea5d3a",
   "metadata": {},
   "outputs": [
    {
     "data": {
      "text/plain": [
       "{'new_experiment_created': 'http://localhost:8000/api/experiment/59c19e0e-fafd-4562-a6af-73b24d7778d4/'}"
      ]
     },
     "execution_count": 32,
     "metadata": {},
     "output_type": "execute_result"
    }
   ],
   "source": [
    "resp"
   ]
  },
  {
   "cell_type": "markdown",
   "id": "2e80c7e7-76f5-443c-9519-7187bc883bac",
   "metadata": {},
   "source": [
    "This experiment then appears in the experiment queue.   \n",
    "\n",
    "http://localhost:8000/experiment_list\n",
    "\n",
    "The experimentalist is notified, can download relevant robot input and upload observed values through forms"
   ]
  },
  {
   "cell_type": "code",
   "execution_count": null,
   "id": "252b03bc-c724-45af-ac40-584b626e782e",
   "metadata": {},
   "outputs": [],
   "source": []
  },
  {
   "cell_type": "markdown",
   "id": "57e5b557-5000-4a3a-aa9f-4da5a84ee0e3",
   "metadata": {},
   "source": [
    "## Getting ML-ready data from the lab"
   ]
  },
  {
   "cell_type": "markdown",
   "id": "2539aca0-d4c5-4d7b-876e-869a76fd37b9",
   "metadata": {},
   "source": [
    "Once the experimentalist finishes their work, we can query the REST API for the results of the requested experiment:"
   ]
  },
  {
   "cell_type": "code",
   "execution_count": 33,
   "id": "8a49471e-5a03-4548-b086-51cb9c583a04",
   "metadata": {},
   "outputs": [
    {
     "name": "stdout",
     "output_type": "stream",
     "text": [
      "<Response [200]>\n",
      "GET: OK\n",
      "CPU times: user 29 ms, sys: 7.9 ms, total: 36.9 ms\n",
      "Wall time: 35.8 s\n"
     ]
    }
   ],
   "source": [
    "%%time\n",
    "new_experiment_json = get_data('experiment/' + resp['new_experiment_created'].split('/')[-2], \n",
    "                                {'expand': 'workflow.step.workflow_object.action.parameter'}) # expanding deeply nested fields is somewhat slow"
   ]
  },
  {
   "cell_type": "code",
   "execution_count": 34,
   "id": "5fa92d39-eb25-4b85-a143-d238906ae5a9",
   "metadata": {},
   "outputs": [],
   "source": [
    "experiment_json = [new_experiment_json]"
   ]
  },
  {
   "cell_type": "markdown",
   "id": "72a00cf2-dbcd-4b7b-b018-85a9f543940c",
   "metadata": {},
   "source": [
    "The above json is quite long, so we won't render it here. Instead, we'll parse it into a pandas Dataframe with the function below."
   ]
  },
  {
   "cell_type": "code",
   "execution_count": 36,
   "id": "de579d3f-dba5-421f-b1c8-15ce897f99e0",
   "metadata": {},
   "outputs": [],
   "source": [
    "def experiment_json_to_df(experiment_json):\n",
    "    result = []\n",
    "    for e in experiment_json: \n",
    "        for workflow in e['workflow']:\n",
    "            if 'Dispense' not in workflow['description']:\n",
    "                    continue\n",
    "            for step in workflow['step']: \n",
    "                action = step['workflow_object']['action']\n",
    "                for parameter in action['parameter']:\n",
    "                    result.append(\n",
    "                        dict(\n",
    "                            experiment_url         = e['url'],\n",
    "                            experiment_id          = e['url'].split('/')[-2],\n",
    "                            action_source          = action['source_material_description'],\n",
    "                            action_dest            = action['destination_material_description'],\n",
    "                            action_parameter       = parameter['parameter_def_description'],\n",
    "                            action_parameter_value = float(parameter['parameter_val_nominal']['value']),\n",
    "                            action_parameter_unit  = parameter['parameter_val_nominal']['unit']\n",
    "                            )\n",
    "                        )\n",
    "    return pd.DataFrame(result)"
   ]
  },
  {
   "cell_type": "code",
   "execution_count": 37,
   "id": "738c445c-0dc2-40bc-ac2a-bab6730095a8",
   "metadata": {},
   "outputs": [],
   "source": [
    "results = experiment_json_to_df(experiment_json)"
   ]
  },
  {
   "cell_type": "code",
   "execution_count": 38,
   "id": "9d334afa-10b4-4659-a4a2-21685f5eaecd",
   "metadata": {},
   "outputs": [
    {
     "data": {
      "text/html": [
       "<div>\n",
       "<style scoped>\n",
       "    .dataframe tbody tr th:only-of-type {\n",
       "        vertical-align: middle;\n",
       "    }\n",
       "\n",
       "    .dataframe tbody tr th {\n",
       "        vertical-align: top;\n",
       "    }\n",
       "\n",
       "    .dataframe thead th {\n",
       "        text-align: right;\n",
       "    }\n",
       "</style>\n",
       "<table border=\"1\" class=\"dataframe\">\n",
       "  <thead>\n",
       "    <tr style=\"text-align: right;\">\n",
       "      <th></th>\n",
       "      <th>experiment_url</th>\n",
       "      <th>experiment_id</th>\n",
       "      <th>action_source</th>\n",
       "      <th>action_dest</th>\n",
       "      <th>action_parameter</th>\n",
       "      <th>action_parameter_value</th>\n",
       "      <th>action_parameter_unit</th>\n",
       "    </tr>\n",
       "  </thead>\n",
       "  <tbody>\n",
       "    <tr>\n",
       "      <th>0</th>\n",
       "      <td>http://localhost:8000/api/experiment/59c19e0e-...</td>\n",
       "      <td>59c19e0e-fafd-4562-a6af-73b24d7778d4</td>\n",
       "      <td>Solvent</td>\n",
       "      <td>Plate: 96 Well Plate well#: E3</td>\n",
       "      <td>volume</td>\n",
       "      <td>0.0</td>\n",
       "      <td>mL</td>\n",
       "    </tr>\n",
       "    <tr>\n",
       "      <th>1</th>\n",
       "      <td>http://localhost:8000/api/experiment/59c19e0e-...</td>\n",
       "      <td>59c19e0e-fafd-4562-a6af-73b24d7778d4</td>\n",
       "      <td>Solvent</td>\n",
       "      <td>Plate: 96 Well Plate well#: H11</td>\n",
       "      <td>volume</td>\n",
       "      <td>0.0</td>\n",
       "      <td>mL</td>\n",
       "    </tr>\n",
       "    <tr>\n",
       "      <th>2</th>\n",
       "      <td>http://localhost:8000/api/experiment/59c19e0e-...</td>\n",
       "      <td>59c19e0e-fafd-4562-a6af-73b24d7778d4</td>\n",
       "      <td>Solvent</td>\n",
       "      <td>Plate: 96 Well Plate well#: D11</td>\n",
       "      <td>volume</td>\n",
       "      <td>0.0</td>\n",
       "      <td>mL</td>\n",
       "    </tr>\n",
       "    <tr>\n",
       "      <th>3</th>\n",
       "      <td>http://localhost:8000/api/experiment/59c19e0e-...</td>\n",
       "      <td>59c19e0e-fafd-4562-a6af-73b24d7778d4</td>\n",
       "      <td>Solvent</td>\n",
       "      <td>Plate: 96 Well Plate well#: C10</td>\n",
       "      <td>volume</td>\n",
       "      <td>0.0</td>\n",
       "      <td>mL</td>\n",
       "    </tr>\n",
       "    <tr>\n",
       "      <th>4</th>\n",
       "      <td>http://localhost:8000/api/experiment/59c19e0e-...</td>\n",
       "      <td>59c19e0e-fafd-4562-a6af-73b24d7778d4</td>\n",
       "      <td>Solvent</td>\n",
       "      <td>Plate: 96 Well Plate well#: E6</td>\n",
       "      <td>volume</td>\n",
       "      <td>0.0</td>\n",
       "      <td>mL</td>\n",
       "    </tr>\n",
       "    <tr>\n",
       "      <th>...</th>\n",
       "      <td>...</td>\n",
       "      <td>...</td>\n",
       "      <td>...</td>\n",
       "      <td>...</td>\n",
       "      <td>...</td>\n",
       "      <td>...</td>\n",
       "      <td>...</td>\n",
       "    </tr>\n",
       "    <tr>\n",
       "      <th>475</th>\n",
       "      <td>http://localhost:8000/api/experiment/59c19e0e-...</td>\n",
       "      <td>59c19e0e-fafd-4562-a6af-73b24d7778d4</td>\n",
       "      <td>Acid</td>\n",
       "      <td>Plate: 96 Well Plate well#: H4</td>\n",
       "      <td>volume</td>\n",
       "      <td>0.0</td>\n",
       "      <td>mL</td>\n",
       "    </tr>\n",
       "    <tr>\n",
       "      <th>476</th>\n",
       "      <td>http://localhost:8000/api/experiment/59c19e0e-...</td>\n",
       "      <td>59c19e0e-fafd-4562-a6af-73b24d7778d4</td>\n",
       "      <td>Acid</td>\n",
       "      <td>Plate: 96 Well Plate well#: G1</td>\n",
       "      <td>volume</td>\n",
       "      <td>0.0</td>\n",
       "      <td>mL</td>\n",
       "    </tr>\n",
       "    <tr>\n",
       "      <th>477</th>\n",
       "      <td>http://localhost:8000/api/experiment/59c19e0e-...</td>\n",
       "      <td>59c19e0e-fafd-4562-a6af-73b24d7778d4</td>\n",
       "      <td>Acid</td>\n",
       "      <td>Plate: 96 Well Plate well#: F9</td>\n",
       "      <td>volume</td>\n",
       "      <td>0.0</td>\n",
       "      <td>mL</td>\n",
       "    </tr>\n",
       "    <tr>\n",
       "      <th>478</th>\n",
       "      <td>http://localhost:8000/api/experiment/59c19e0e-...</td>\n",
       "      <td>59c19e0e-fafd-4562-a6af-73b24d7778d4</td>\n",
       "      <td>Acid</td>\n",
       "      <td>Plate: 96 Well Plate well#: A3</td>\n",
       "      <td>volume</td>\n",
       "      <td>0.0</td>\n",
       "      <td>mL</td>\n",
       "    </tr>\n",
       "    <tr>\n",
       "      <th>479</th>\n",
       "      <td>http://localhost:8000/api/experiment/59c19e0e-...</td>\n",
       "      <td>59c19e0e-fafd-4562-a6af-73b24d7778d4</td>\n",
       "      <td>Acid</td>\n",
       "      <td>Plate: 96 Well Plate well#: G10</td>\n",
       "      <td>volume</td>\n",
       "      <td>0.0</td>\n",
       "      <td>mL</td>\n",
       "    </tr>\n",
       "  </tbody>\n",
       "</table>\n",
       "<p>480 rows × 7 columns</p>\n",
       "</div>"
      ],
      "text/plain": [
       "                                        experiment_url  \\\n",
       "0    http://localhost:8000/api/experiment/59c19e0e-...   \n",
       "1    http://localhost:8000/api/experiment/59c19e0e-...   \n",
       "2    http://localhost:8000/api/experiment/59c19e0e-...   \n",
       "3    http://localhost:8000/api/experiment/59c19e0e-...   \n",
       "4    http://localhost:8000/api/experiment/59c19e0e-...   \n",
       "..                                                 ...   \n",
       "475  http://localhost:8000/api/experiment/59c19e0e-...   \n",
       "476  http://localhost:8000/api/experiment/59c19e0e-...   \n",
       "477  http://localhost:8000/api/experiment/59c19e0e-...   \n",
       "478  http://localhost:8000/api/experiment/59c19e0e-...   \n",
       "479  http://localhost:8000/api/experiment/59c19e0e-...   \n",
       "\n",
       "                            experiment_id action_source  \\\n",
       "0    59c19e0e-fafd-4562-a6af-73b24d7778d4       Solvent   \n",
       "1    59c19e0e-fafd-4562-a6af-73b24d7778d4       Solvent   \n",
       "2    59c19e0e-fafd-4562-a6af-73b24d7778d4       Solvent   \n",
       "3    59c19e0e-fafd-4562-a6af-73b24d7778d4       Solvent   \n",
       "4    59c19e0e-fafd-4562-a6af-73b24d7778d4       Solvent   \n",
       "..                                    ...           ...   \n",
       "475  59c19e0e-fafd-4562-a6af-73b24d7778d4          Acid   \n",
       "476  59c19e0e-fafd-4562-a6af-73b24d7778d4          Acid   \n",
       "477  59c19e0e-fafd-4562-a6af-73b24d7778d4          Acid   \n",
       "478  59c19e0e-fafd-4562-a6af-73b24d7778d4          Acid   \n",
       "479  59c19e0e-fafd-4562-a6af-73b24d7778d4          Acid   \n",
       "\n",
       "                         action_dest action_parameter  action_parameter_value  \\\n",
       "0     Plate: 96 Well Plate well#: E3           volume                     0.0   \n",
       "1    Plate: 96 Well Plate well#: H11           volume                     0.0   \n",
       "2    Plate: 96 Well Plate well#: D11           volume                     0.0   \n",
       "3    Plate: 96 Well Plate well#: C10           volume                     0.0   \n",
       "4     Plate: 96 Well Plate well#: E6           volume                     0.0   \n",
       "..                               ...              ...                     ...   \n",
       "475   Plate: 96 Well Plate well#: H4           volume                     0.0   \n",
       "476   Plate: 96 Well Plate well#: G1           volume                     0.0   \n",
       "477   Plate: 96 Well Plate well#: F9           volume                     0.0   \n",
       "478   Plate: 96 Well Plate well#: A3           volume                     0.0   \n",
       "479  Plate: 96 Well Plate well#: G10           volume                     0.0   \n",
       "\n",
       "    action_parameter_unit  \n",
       "0                      mL  \n",
       "1                      mL  \n",
       "2                      mL  \n",
       "3                      mL  \n",
       "4                      mL  \n",
       "..                    ...  \n",
       "475                    mL  \n",
       "476                    mL  \n",
       "477                    mL  \n",
       "478                    mL  \n",
       "479                    mL  \n",
       "\n",
       "[480 rows x 7 columns]"
      ]
     },
     "execution_count": 38,
     "metadata": {},
     "output_type": "execute_result"
    }
   ],
   "source": [
    "results"
   ]
  },
  {
   "cell_type": "code",
   "execution_count": null,
   "id": "ad3e30b1-33be-40ad-ac5d-783bd9c1659f",
   "metadata": {},
   "outputs": [],
   "source": []
  },
  {
   "cell_type": "markdown",
   "id": "03d3603f-6172-46e1-aa7f-e95928152c22",
   "metadata": {},
   "source": [
    "From here, its just a quick pivot to transform the dataset into a format where each reaction well is a row. This is ideal for ML input. "
   ]
  },
  {
   "cell_type": "code",
   "execution_count": null,
   "id": "533cc87e-a77e-4b0c-9a98-df153b25ac37",
   "metadata": {},
   "outputs": [],
   "source": []
  },
  {
   "cell_type": "code",
   "execution_count": 39,
   "id": "df631062-962a-4687-b991-94ebde477398",
   "metadata": {},
   "outputs": [
    {
     "data": {
      "text/html": [
       "<div>\n",
       "<style scoped>\n",
       "    .dataframe tbody tr th:only-of-type {\n",
       "        vertical-align: middle;\n",
       "    }\n",
       "\n",
       "    .dataframe tbody tr th {\n",
       "        vertical-align: top;\n",
       "    }\n",
       "\n",
       "    .dataframe thead th {\n",
       "        text-align: right;\n",
       "    }\n",
       "</style>\n",
       "<table border=\"1\" class=\"dataframe\">\n",
       "  <thead>\n",
       "    <tr style=\"text-align: right;\">\n",
       "      <th></th>\n",
       "      <th>action_source</th>\n",
       "      <th>Acid</th>\n",
       "      <th>Solvent</th>\n",
       "      <th>Stock A</th>\n",
       "      <th>Stock B</th>\n",
       "    </tr>\n",
       "    <tr>\n",
       "      <th>experiment_id</th>\n",
       "      <th>action_dest</th>\n",
       "      <th></th>\n",
       "      <th></th>\n",
       "      <th></th>\n",
       "      <th></th>\n",
       "    </tr>\n",
       "  </thead>\n",
       "  <tbody>\n",
       "    <tr>\n",
       "      <th rowspan=\"11\" valign=\"top\">59c19e0e-fafd-4562-a6af-73b24d7778d4</th>\n",
       "      <th>Plate: 96 Well Plate well#: A1</th>\n",
       "      <td>0.0</td>\n",
       "      <td>0.0</td>\n",
       "      <td>0.0</td>\n",
       "      <td>0.0</td>\n",
       "    </tr>\n",
       "    <tr>\n",
       "      <th>Plate: 96 Well Plate well#: A10</th>\n",
       "      <td>0.0</td>\n",
       "      <td>0.0</td>\n",
       "      <td>0.0</td>\n",
       "      <td>0.0</td>\n",
       "    </tr>\n",
       "    <tr>\n",
       "      <th>Plate: 96 Well Plate well#: A11</th>\n",
       "      <td>0.0</td>\n",
       "      <td>0.0</td>\n",
       "      <td>0.0</td>\n",
       "      <td>0.0</td>\n",
       "    </tr>\n",
       "    <tr>\n",
       "      <th>Plate: 96 Well Plate well#: A12</th>\n",
       "      <td>0.0</td>\n",
       "      <td>0.0</td>\n",
       "      <td>0.0</td>\n",
       "      <td>0.0</td>\n",
       "    </tr>\n",
       "    <tr>\n",
       "      <th>Plate: 96 Well Plate well#: A2</th>\n",
       "      <td>0.0</td>\n",
       "      <td>0.0</td>\n",
       "      <td>0.0</td>\n",
       "      <td>0.0</td>\n",
       "    </tr>\n",
       "    <tr>\n",
       "      <th>...</th>\n",
       "      <td>...</td>\n",
       "      <td>...</td>\n",
       "      <td>...</td>\n",
       "      <td>...</td>\n",
       "    </tr>\n",
       "    <tr>\n",
       "      <th>Plate: 96 Well Plate well#: H5</th>\n",
       "      <td>0.0</td>\n",
       "      <td>0.0</td>\n",
       "      <td>0.0</td>\n",
       "      <td>0.0</td>\n",
       "    </tr>\n",
       "    <tr>\n",
       "      <th>Plate: 96 Well Plate well#: H6</th>\n",
       "      <td>0.0</td>\n",
       "      <td>0.0</td>\n",
       "      <td>0.0</td>\n",
       "      <td>0.0</td>\n",
       "    </tr>\n",
       "    <tr>\n",
       "      <th>Plate: 96 Well Plate well#: H7</th>\n",
       "      <td>0.0</td>\n",
       "      <td>0.0</td>\n",
       "      <td>0.0</td>\n",
       "      <td>0.0</td>\n",
       "    </tr>\n",
       "    <tr>\n",
       "      <th>Plate: 96 Well Plate well#: H8</th>\n",
       "      <td>0.0</td>\n",
       "      <td>0.0</td>\n",
       "      <td>0.0</td>\n",
       "      <td>0.0</td>\n",
       "    </tr>\n",
       "    <tr>\n",
       "      <th>Plate: 96 Well Plate well#: H9</th>\n",
       "      <td>0.0</td>\n",
       "      <td>0.0</td>\n",
       "      <td>0.0</td>\n",
       "      <td>0.0</td>\n",
       "    </tr>\n",
       "  </tbody>\n",
       "</table>\n",
       "<p>96 rows × 4 columns</p>\n",
       "</div>"
      ],
      "text/plain": [
       "action_source                                                         Acid  \\\n",
       "experiment_id                        action_dest                             \n",
       "59c19e0e-fafd-4562-a6af-73b24d7778d4 Plate: 96 Well Plate well#: A1    0.0   \n",
       "                                     Plate: 96 Well Plate well#: A10   0.0   \n",
       "                                     Plate: 96 Well Plate well#: A11   0.0   \n",
       "                                     Plate: 96 Well Plate well#: A12   0.0   \n",
       "                                     Plate: 96 Well Plate well#: A2    0.0   \n",
       "...                                                                    ...   \n",
       "                                     Plate: 96 Well Plate well#: H5    0.0   \n",
       "                                     Plate: 96 Well Plate well#: H6    0.0   \n",
       "                                     Plate: 96 Well Plate well#: H7    0.0   \n",
       "                                     Plate: 96 Well Plate well#: H8    0.0   \n",
       "                                     Plate: 96 Well Plate well#: H9    0.0   \n",
       "\n",
       "action_source                                                         Solvent  \\\n",
       "experiment_id                        action_dest                                \n",
       "59c19e0e-fafd-4562-a6af-73b24d7778d4 Plate: 96 Well Plate well#: A1       0.0   \n",
       "                                     Plate: 96 Well Plate well#: A10      0.0   \n",
       "                                     Plate: 96 Well Plate well#: A11      0.0   \n",
       "                                     Plate: 96 Well Plate well#: A12      0.0   \n",
       "                                     Plate: 96 Well Plate well#: A2       0.0   \n",
       "...                                                                       ...   \n",
       "                                     Plate: 96 Well Plate well#: H5       0.0   \n",
       "                                     Plate: 96 Well Plate well#: H6       0.0   \n",
       "                                     Plate: 96 Well Plate well#: H7       0.0   \n",
       "                                     Plate: 96 Well Plate well#: H8       0.0   \n",
       "                                     Plate: 96 Well Plate well#: H9       0.0   \n",
       "\n",
       "action_source                                                         Stock A  \\\n",
       "experiment_id                        action_dest                                \n",
       "59c19e0e-fafd-4562-a6af-73b24d7778d4 Plate: 96 Well Plate well#: A1       0.0   \n",
       "                                     Plate: 96 Well Plate well#: A10      0.0   \n",
       "                                     Plate: 96 Well Plate well#: A11      0.0   \n",
       "                                     Plate: 96 Well Plate well#: A12      0.0   \n",
       "                                     Plate: 96 Well Plate well#: A2       0.0   \n",
       "...                                                                       ...   \n",
       "                                     Plate: 96 Well Plate well#: H5       0.0   \n",
       "                                     Plate: 96 Well Plate well#: H6       0.0   \n",
       "                                     Plate: 96 Well Plate well#: H7       0.0   \n",
       "                                     Plate: 96 Well Plate well#: H8       0.0   \n",
       "                                     Plate: 96 Well Plate well#: H9       0.0   \n",
       "\n",
       "action_source                                                         Stock B  \n",
       "experiment_id                        action_dest                               \n",
       "59c19e0e-fafd-4562-a6af-73b24d7778d4 Plate: 96 Well Plate well#: A1       0.0  \n",
       "                                     Plate: 96 Well Plate well#: A10      0.0  \n",
       "                                     Plate: 96 Well Plate well#: A11      0.0  \n",
       "                                     Plate: 96 Well Plate well#: A12      0.0  \n",
       "                                     Plate: 96 Well Plate well#: A2       0.0  \n",
       "...                                                                       ...  \n",
       "                                     Plate: 96 Well Plate well#: H5       0.0  \n",
       "                                     Plate: 96 Well Plate well#: H6       0.0  \n",
       "                                     Plate: 96 Well Plate well#: H7       0.0  \n",
       "                                     Plate: 96 Well Plate well#: H8       0.0  \n",
       "                                     Plate: 96 Well Plate well#: H9       0.0  \n",
       "\n",
       "[96 rows x 4 columns]"
      ]
     },
     "execution_count": 39,
     "metadata": {},
     "output_type": "execute_result"
    }
   ],
   "source": [
    "results = results.pivot_table(index=['experiment_id', 'action_dest'], \n",
    "                             columns=['action_source'], \n",
    "                             values='action_parameter_value')\n",
    "results"
   ]
  },
  {
   "cell_type": "markdown",
   "id": "e8c7c092-d598-4c4c-aa50-f3ea2262c556",
   "metadata": {},
   "source": [
    "Of course, we also want the measured outcomes (human rated crystal scores) for each of these wells. Currently those are accessible through this endpoint:"
   ]
  },
  {
   "cell_type": "code",
   "execution_count": null,
   "id": "866030fd-67ba-411a-a82d-d4dcf8339bb4",
   "metadata": {},
   "outputs": [],
   "source": []
  },
  {
   "cell_type": "code",
   "execution_count": 40,
   "id": "1e16375b-40e5-4d04-aa4e-046954e111fb",
   "metadata": {},
   "outputs": [
    {
     "name": "stdout",
     "output_type": "stream",
     "text": [
      "<Response [200]>\n",
      "GET: OK\n",
      "Found one resource, returning dict\n",
      "<Response [200]>\n",
      "GET: OK\n",
      "Found one resource, returning dict\n"
     ]
    }
   ],
   "source": [
    "crystal_scores = get_data('measure', \n",
    "                          {'measuredef':\n",
    "                                (get_data('measuredef', \n",
    "                                          {'description': 'crystal_score'})['url']\n",
    "                                )\n",
    "                          })                        \n",
    "results['crystal_score'] = crystal_scores['measure_value']['value']"
   ]
  },
  {
   "cell_type": "code",
   "execution_count": 41,
   "id": "a372756a-1cf6-4fc8-8ab8-9bf9be710b3c",
   "metadata": {},
   "outputs": [
    {
     "data": {
      "text/html": [
       "<div>\n",
       "<style scoped>\n",
       "    .dataframe tbody tr th:only-of-type {\n",
       "        vertical-align: middle;\n",
       "    }\n",
       "\n",
       "    .dataframe tbody tr th {\n",
       "        vertical-align: top;\n",
       "    }\n",
       "\n",
       "    .dataframe thead th {\n",
       "        text-align: right;\n",
       "    }\n",
       "</style>\n",
       "<table border=\"1\" class=\"dataframe\">\n",
       "  <thead>\n",
       "    <tr style=\"text-align: right;\">\n",
       "      <th></th>\n",
       "      <th>action_source</th>\n",
       "      <th>Acid</th>\n",
       "      <th>Solvent</th>\n",
       "      <th>Stock A</th>\n",
       "      <th>Stock B</th>\n",
       "      <th>crystal_score</th>\n",
       "    </tr>\n",
       "    <tr>\n",
       "      <th>experiment_id</th>\n",
       "      <th>action_dest</th>\n",
       "      <th></th>\n",
       "      <th></th>\n",
       "      <th></th>\n",
       "      <th></th>\n",
       "      <th></th>\n",
       "    </tr>\n",
       "  </thead>\n",
       "  <tbody>\n",
       "    <tr>\n",
       "      <th rowspan=\"11\" valign=\"top\">59c19e0e-fafd-4562-a6af-73b24d7778d4</th>\n",
       "      <th>Plate: 96 Well Plate well#: A1</th>\n",
       "      <td>0.0</td>\n",
       "      <td>0.0</td>\n",
       "      <td>0.0</td>\n",
       "      <td>0.0</td>\n",
       "      <td>1</td>\n",
       "    </tr>\n",
       "    <tr>\n",
       "      <th>Plate: 96 Well Plate well#: A10</th>\n",
       "      <td>0.0</td>\n",
       "      <td>0.0</td>\n",
       "      <td>0.0</td>\n",
       "      <td>0.0</td>\n",
       "      <td>1</td>\n",
       "    </tr>\n",
       "    <tr>\n",
       "      <th>Plate: 96 Well Plate well#: A11</th>\n",
       "      <td>0.0</td>\n",
       "      <td>0.0</td>\n",
       "      <td>0.0</td>\n",
       "      <td>0.0</td>\n",
       "      <td>1</td>\n",
       "    </tr>\n",
       "    <tr>\n",
       "      <th>Plate: 96 Well Plate well#: A12</th>\n",
       "      <td>0.0</td>\n",
       "      <td>0.0</td>\n",
       "      <td>0.0</td>\n",
       "      <td>0.0</td>\n",
       "      <td>1</td>\n",
       "    </tr>\n",
       "    <tr>\n",
       "      <th>Plate: 96 Well Plate well#: A2</th>\n",
       "      <td>0.0</td>\n",
       "      <td>0.0</td>\n",
       "      <td>0.0</td>\n",
       "      <td>0.0</td>\n",
       "      <td>1</td>\n",
       "    </tr>\n",
       "    <tr>\n",
       "      <th>...</th>\n",
       "      <td>...</td>\n",
       "      <td>...</td>\n",
       "      <td>...</td>\n",
       "      <td>...</td>\n",
       "      <td>...</td>\n",
       "    </tr>\n",
       "    <tr>\n",
       "      <th>Plate: 96 Well Plate well#: H5</th>\n",
       "      <td>0.0</td>\n",
       "      <td>0.0</td>\n",
       "      <td>0.0</td>\n",
       "      <td>0.0</td>\n",
       "      <td>1</td>\n",
       "    </tr>\n",
       "    <tr>\n",
       "      <th>Plate: 96 Well Plate well#: H6</th>\n",
       "      <td>0.0</td>\n",
       "      <td>0.0</td>\n",
       "      <td>0.0</td>\n",
       "      <td>0.0</td>\n",
       "      <td>1</td>\n",
       "    </tr>\n",
       "    <tr>\n",
       "      <th>Plate: 96 Well Plate well#: H7</th>\n",
       "      <td>0.0</td>\n",
       "      <td>0.0</td>\n",
       "      <td>0.0</td>\n",
       "      <td>0.0</td>\n",
       "      <td>1</td>\n",
       "    </tr>\n",
       "    <tr>\n",
       "      <th>Plate: 96 Well Plate well#: H8</th>\n",
       "      <td>0.0</td>\n",
       "      <td>0.0</td>\n",
       "      <td>0.0</td>\n",
       "      <td>0.0</td>\n",
       "      <td>1</td>\n",
       "    </tr>\n",
       "    <tr>\n",
       "      <th>Plate: 96 Well Plate well#: H9</th>\n",
       "      <td>0.0</td>\n",
       "      <td>0.0</td>\n",
       "      <td>0.0</td>\n",
       "      <td>0.0</td>\n",
       "      <td>1</td>\n",
       "    </tr>\n",
       "  </tbody>\n",
       "</table>\n",
       "<p>96 rows × 5 columns</p>\n",
       "</div>"
      ],
      "text/plain": [
       "action_source                                                         Acid  \\\n",
       "experiment_id                        action_dest                             \n",
       "59c19e0e-fafd-4562-a6af-73b24d7778d4 Plate: 96 Well Plate well#: A1    0.0   \n",
       "                                     Plate: 96 Well Plate well#: A10   0.0   \n",
       "                                     Plate: 96 Well Plate well#: A11   0.0   \n",
       "                                     Plate: 96 Well Plate well#: A12   0.0   \n",
       "                                     Plate: 96 Well Plate well#: A2    0.0   \n",
       "...                                                                    ...   \n",
       "                                     Plate: 96 Well Plate well#: H5    0.0   \n",
       "                                     Plate: 96 Well Plate well#: H6    0.0   \n",
       "                                     Plate: 96 Well Plate well#: H7    0.0   \n",
       "                                     Plate: 96 Well Plate well#: H8    0.0   \n",
       "                                     Plate: 96 Well Plate well#: H9    0.0   \n",
       "\n",
       "action_source                                                         Solvent  \\\n",
       "experiment_id                        action_dest                                \n",
       "59c19e0e-fafd-4562-a6af-73b24d7778d4 Plate: 96 Well Plate well#: A1       0.0   \n",
       "                                     Plate: 96 Well Plate well#: A10      0.0   \n",
       "                                     Plate: 96 Well Plate well#: A11      0.0   \n",
       "                                     Plate: 96 Well Plate well#: A12      0.0   \n",
       "                                     Plate: 96 Well Plate well#: A2       0.0   \n",
       "...                                                                       ...   \n",
       "                                     Plate: 96 Well Plate well#: H5       0.0   \n",
       "                                     Plate: 96 Well Plate well#: H6       0.0   \n",
       "                                     Plate: 96 Well Plate well#: H7       0.0   \n",
       "                                     Plate: 96 Well Plate well#: H8       0.0   \n",
       "                                     Plate: 96 Well Plate well#: H9       0.0   \n",
       "\n",
       "action_source                                                         Stock A  \\\n",
       "experiment_id                        action_dest                                \n",
       "59c19e0e-fafd-4562-a6af-73b24d7778d4 Plate: 96 Well Plate well#: A1       0.0   \n",
       "                                     Plate: 96 Well Plate well#: A10      0.0   \n",
       "                                     Plate: 96 Well Plate well#: A11      0.0   \n",
       "                                     Plate: 96 Well Plate well#: A12      0.0   \n",
       "                                     Plate: 96 Well Plate well#: A2       0.0   \n",
       "...                                                                       ...   \n",
       "                                     Plate: 96 Well Plate well#: H5       0.0   \n",
       "                                     Plate: 96 Well Plate well#: H6       0.0   \n",
       "                                     Plate: 96 Well Plate well#: H7       0.0   \n",
       "                                     Plate: 96 Well Plate well#: H8       0.0   \n",
       "                                     Plate: 96 Well Plate well#: H9       0.0   \n",
       "\n",
       "action_source                                                         Stock B  \\\n",
       "experiment_id                        action_dest                                \n",
       "59c19e0e-fafd-4562-a6af-73b24d7778d4 Plate: 96 Well Plate well#: A1       0.0   \n",
       "                                     Plate: 96 Well Plate well#: A10      0.0   \n",
       "                                     Plate: 96 Well Plate well#: A11      0.0   \n",
       "                                     Plate: 96 Well Plate well#: A12      0.0   \n",
       "                                     Plate: 96 Well Plate well#: A2       0.0   \n",
       "...                                                                       ...   \n",
       "                                     Plate: 96 Well Plate well#: H5       0.0   \n",
       "                                     Plate: 96 Well Plate well#: H6       0.0   \n",
       "                                     Plate: 96 Well Plate well#: H7       0.0   \n",
       "                                     Plate: 96 Well Plate well#: H8       0.0   \n",
       "                                     Plate: 96 Well Plate well#: H9       0.0   \n",
       "\n",
       "action_source                                                         crystal_score  \n",
       "experiment_id                        action_dest                                     \n",
       "59c19e0e-fafd-4562-a6af-73b24d7778d4 Plate: 96 Well Plate well#: A1               1  \n",
       "                                     Plate: 96 Well Plate well#: A10              1  \n",
       "                                     Plate: 96 Well Plate well#: A11              1  \n",
       "                                     Plate: 96 Well Plate well#: A12              1  \n",
       "                                     Plate: 96 Well Plate well#: A2               1  \n",
       "...                                                                             ...  \n",
       "                                     Plate: 96 Well Plate well#: H5               1  \n",
       "                                     Plate: 96 Well Plate well#: H6               1  \n",
       "                                     Plate: 96 Well Plate well#: H7               1  \n",
       "                                     Plate: 96 Well Plate well#: H8               1  \n",
       "                                     Plate: 96 Well Plate well#: H9               1  \n",
       "\n",
       "[96 rows x 5 columns]"
      ]
     },
     "execution_count": 41,
     "metadata": {},
     "output_type": "execute_result"
    }
   ],
   "source": [
    "results"
   ]
  },
  {
   "cell_type": "markdown",
   "id": "c0479d79-60a3-4d29-97de-ad0ff3f2e673",
   "metadata": {},
   "source": [
    "Data of this form can be used to train an ML model to predict crystal quality from reaction well contents. \n",
    "\n",
    "In practice we also include descriptions of those contents in the form of material properties, which can be joined in relatively simply. "
   ]
  },
  {
   "cell_type": "code",
   "execution_count": null,
   "id": "06a82e82-2d92-4f23-9651-98ab8c02a447",
   "metadata": {},
   "outputs": [],
   "source": []
  }
 ],
 "metadata": {
  "kernelspec": {
   "display_name": "Python 3",
   "language": "python",
   "name": "python3"
  },
  "language_info": {
   "codemirror_mode": {
    "name": "ipython",
    "version": 3
   },
   "file_extension": ".py",
   "mimetype": "text/x-python",
   "name": "python",
   "nbconvert_exporter": "python",
   "pygments_lexer": "ipython3",
   "version": "3.9.2"
  }
 },
 "nbformat": 4,
 "nbformat_minor": 5
}
